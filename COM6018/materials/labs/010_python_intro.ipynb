{
 "cells": [
  {
   "cell_type": "markdown",
   "id": "24c3f0fb",
   "metadata": {},
   "source": [
    "# 010 Getting Started with Python\n",
    "\n",
    "> COM6018\n",
    "\n",
    "*Copyright &copy; 2023, 2024 Jon Barker, University of Sheffield. All rights reserved*.\n",
    "\n",
    "This notebook contains a number of exercises that will help you get started with Python.  It is not intended to be a comprehensive introduction to Python, but rather a quick introduction to some of the features that you will need for this module.\n",
    "\n",
    "At each stage there is a problem described for which you have to implement a solution in the following code cell. There is then a test cell which will run and check that your solution is correct.  If it is correct, the test cell will print \"Test passed\".  If it is not correct, the test cell will print \"Test failed\" and give you some information about what went wrong.\n",
    "\n"
   ]
  },
  {
   "cell_type": "markdown",
   "id": "0312f2f4",
   "metadata": {},
   "source": [
    "## 1 Processing a list"
   ]
  },
  {
   "cell_type": "markdown",
   "id": "d3e8cf30",
   "metadata": {},
   "source": [
    "### 1.1 Summing a list of numbers\n",
    "\n",
    "Write a function called `sum_list` that takes a list of numbers as an argument and returns the sum of the numbers in the list.  For example:\n",
    "\n",
    "```python\n",
    "sum_list([1, 2, 3, 4, 5])\n",
    "```\n",
    "\n",
    "should return `15`.\n",
    "\n",
    "One approach to this is to use Python's inbuilt `sum` function which takes a list of numbers as an argument and returns the sum of the numbers in the list.  For example:\n",
    "\n",
    "```python\n",
    "def sum_list(numbers):\n",
    "    return sum(numbers)\n",
    "```\n",
    "\n",
    "For this exercise, write your solution from scratch without using the `sum` function but instead using a loop to iterate over the list and add the numbers together.\n",
    "\n",
    "Implement your function in the cell below and then run the following cell to check that it works."
   ]
  },
  {
   "cell_type": "code",
   "id": "5143f7e6",
   "metadata": {
    "ExecuteTime": {
     "end_time": "2024-10-02T08:12:52.367076Z",
     "start_time": "2024-10-02T08:12:52.359470Z"
    }
   },
   "source": [
    "from itertools import product\n",
    "\n",
    "from myst_nb.ext.glue.utils import retrieve_glue_data\n",
    "\n",
    "\n",
    "# WRITE SOLUTION HERE\n",
    "\n",
    "def sum_list(numbers):\n",
    "    return sum(numbers)\n",
    "\n",
    "sum_list([1,2,3,4,5])"
   ],
   "outputs": [
    {
     "data": {
      "text/plain": [
       "15"
      ]
     },
     "execution_count": 2,
     "metadata": {},
     "output_type": "execute_result"
    }
   ],
   "execution_count": 2
  },
  {
   "cell_type": "code",
   "id": "947ff2d3",
   "metadata": {
    "ExecuteTime": {
     "end_time": "2024-10-02T08:12:55.203975Z",
     "start_time": "2024-10-02T08:12:55.201250Z"
    }
   },
   "source": [
    "# TESTS\n",
    "assert sum_list([1, 2, 3, 4, 5]) == 15\n",
    "assert sum_list([-100]) == -100\n",
    "assert sum_list([]) == 0\n",
    "print(\"All tests passed\")"
   ],
   "outputs": [
    {
     "name": "stdout",
     "output_type": "stream",
     "text": [
      "All tests passed\n"
     ]
    }
   ],
   "execution_count": 3
  },
  {
   "cell_type": "markdown",
   "id": "fcc49e55",
   "metadata": {},
   "source": [
    "### 1.2. Product of a list of numbers\n",
    "\n",
    "Write a function called `product_list` that takes a list of numbers as an argument and returns the product of the numbers in the list.  \n",
    "\n",
    "For example:\n",
    "\n",
    "```python\n",
    "product_list([1, 2, 3, 4, 5])\n",
    "```\n",
    "\n",
    "should return `120`."
   ]
  },
  {
   "cell_type": "code",
   "id": "630a7648",
   "metadata": {
    "ExecuteTime": {
     "end_time": "2024-10-02T08:15:59.185666Z",
     "start_time": "2024-10-02T08:15:59.180338Z"
    }
   },
   "source": [
    "# WRITE SOLUTION HERE\n",
    "\n",
    "def product_list(numbers):\n",
    "    result = 1\n",
    "    for x in numbers:\n",
    "        result = result * x\n",
    "    return result\n",
    "\n",
    "product_list([1,2,3,4,5])"
   ],
   "outputs": [
    {
     "data": {
      "text/plain": [
       "120"
      ]
     },
     "execution_count": 7,
     "metadata": {},
     "output_type": "execute_result"
    }
   ],
   "execution_count": 7
  },
  {
   "cell_type": "code",
   "id": "243fd155",
   "metadata": {
    "ExecuteTime": {
     "end_time": "2024-10-02T08:16:01.092341Z",
     "start_time": "2024-10-02T08:16:01.089393Z"
    }
   },
   "source": [
    "# TESTS\n",
    "assert product_list([1, 2, 3, 4, 5]) == 120\n",
    "assert product_list([1, 2, -4, 0, 5]) == 0\n",
    "assert product_list([]) == 1\n",
    "print(\"All tests passed\")"
   ],
   "outputs": [
    {
     "name": "stdout",
     "output_type": "stream",
     "text": [
      "All tests passed\n"
     ]
    }
   ],
   "execution_count": 8
  },
  {
   "cell_type": "markdown",
   "id": "a9138862",
   "metadata": {},
   "source": [
    "### 1.3. Finding all values greater than a threshold\n",
    "\n",
    "Write a Python function called `greater_than` that takes two arguments:\n",
    "\n",
    "\t1.\t`numbers`: a list of numbers.\n",
    "\t2.\t`threshold`: a number.\n",
    "\n",
    "The function should return a new list containing all the numbers from numbers that are greater than the threshold.\n",
    "\n",
    "For example:\n",
    "\n",
    "```python\n",
    "greater_than([1, 2, 3, 4, 5], 3)\n",
    "```\n",
    "\n",
    "should return `[4, 5]`.\n",
    "\n",
    "Implement this function using a 'for' loop. i.e. iterate over the list and add each number that is greater than the threshold to a new list.  You can add a number to a list by using the `append` method.  For example:\n",
    "\n",
    "```python\n",
    "my_list = []\n",
    "my_list.append(1)\n",
    "my_list.append(2)\n",
    "```\n",
    "\n",
    "Implement this solution in the cell below and then run the following cell to check that it works."
   ]
  },
  {
   "cell_type": "code",
   "id": "05f136ac",
   "metadata": {
    "ExecuteTime": {
     "end_time": "2024-10-02T09:03:56.513841Z",
     "start_time": "2024-10-02T09:03:56.510878Z"
    }
   },
   "source": [
    "def greater_than(numbers, num):\n",
    "    x = 0\n",
    "    my_list = [] \n",
    "    while x < len(numbers):\n",
    "        if numbers[x] > num:\n",
    "            my_list.append(numbers[x])\n",
    "        x += 1\n",
    "    return my_list   \n"
   ],
   "outputs": [],
   "execution_count": 55
  },
  {
   "cell_type": "code",
   "id": "1a39fc3b",
   "metadata": {
    "ExecuteTime": {
     "end_time": "2024-10-02T09:03:58.378101Z",
     "start_time": "2024-10-02T09:03:58.375162Z"
    }
   },
   "source": [
    "# TESTS\n",
    "assert greater_than([1, 2, 3, 4, 5], 3) == [4, 5]\n",
    "assert greater_than([1, 2, 3, 4, 5], 5) == []\n",
    "assert greater_than([1, 2, 3, 4, 5], 0) == [1, 2, 3, 4, 5]\n",
    "print(\"All tests passed\")"
   ],
   "outputs": [
    {
     "name": "stdout",
     "output_type": "stream",
     "text": [
      "All tests passed\n"
     ]
    }
   ],
   "execution_count": 56
  },
  {
   "cell_type": "markdown",
   "id": "1925ffc6",
   "metadata": {},
   "source": [
    "Now, implement the `greater_than` function again but this time using a list comprehension rather than an for loop. Check the [tutorial on list comprehensions](https://uos-com-6018.github.io/COM6018/materials/tutorials/015_Further_Python.html) if you are not sure how to do this. Hint, you should be able to write the function with a single line.\n",
    "\n",
    "Call your new function `greater_than_lc`, implement it in the cell below and then run the test cell to check that it works."
   ]
  },
  {
   "cell_type": "code",
   "id": "c004803c",
   "metadata": {
    "ExecuteTime": {
     "end_time": "2024-10-02T09:08:46.933074Z",
     "start_time": "2024-10-02T09:08:46.928380Z"
    }
   },
   "source": [
    "def greater_than_lc(numbers, num):\n",
    "    return [x for x in numbers if x > num] "
   ],
   "outputs": [],
   "execution_count": 62
  },
  {
   "cell_type": "code",
   "id": "54e972b1",
   "metadata": {
    "ExecuteTime": {
     "end_time": "2024-10-02T09:08:48.894399Z",
     "start_time": "2024-10-02T09:08:48.891454Z"
    }
   },
   "source": [
    "# TESTS\n",
    "assert greater_than_lc([1, 2, 3, 4, 5], 3) == [4, 5]\n",
    "assert greater_than_lc([1, 2, 3, 4, 5], 5) == []\n",
    "assert greater_than_lc([1, 2, 3, 4, 5], 0) == [1, 2, 3, 4, 5]\n",
    "print(\"All tests passed\")"
   ],
   "outputs": [
    {
     "name": "stdout",
     "output_type": "stream",
     "text": [
      "All tests passed\n"
     ]
    }
   ],
   "execution_count": 63
  },
  {
   "cell_type": "markdown",
   "id": "b3a936c0",
   "metadata": {},
   "source": [
    "We are now going to compare the speed of the two implementations. We will do this by using a very long list and the special %timeit magic function which is part of the Jupyter notebook environment. The %timeit function will run a piece of code a number of times and report the average time taken.  Run the following cells to see how long it takes to run the two functions on a list of 1000000 numbers.\n"
   ]
  },
  {
   "cell_type": "code",
   "id": "51f0821c",
   "metadata": {
    "ExecuteTime": {
     "end_time": "2024-10-02T09:08:57.959176Z",
     "start_time": "2024-10-02T09:08:57.903714Z"
    }
   },
   "source": [
    "big_list = [x for x in range(1000000)]"
   ],
   "outputs": [],
   "execution_count": 64
  },
  {
   "cell_type": "code",
   "id": "752d8b4f",
   "metadata": {
    "ExecuteTime": {
     "end_time": "2024-10-02T22:13:00.845194Z",
     "start_time": "2024-10-02T22:12:54.577874Z"
    }
   },
   "source": [
    "%timeit greater_than(big_list, 500000)"
   ],
   "outputs": [
    {
     "name": "stdout",
     "output_type": "stream",
     "text": [
      "76.5 ms ± 1.07 ms per loop (mean ± std. dev. of 7 runs, 10 loops each)\n"
     ]
    }
   ],
   "execution_count": 113
  },
  {
   "cell_type": "code",
   "id": "7ec1dc96",
   "metadata": {
    "ExecuteTime": {
     "end_time": "2024-10-02T22:13:12.841809Z",
     "start_time": "2024-10-02T22:13:02.523088Z"
    }
   },
   "source": [
    "%timeit greater_than_lc(big_list, 500000)"
   ],
   "outputs": [
    {
     "name": "stdout",
     "output_type": "stream",
     "text": [
      "12.7 ms ± 126 µs per loop (mean ± std. dev. of 7 runs, 100 loops each)\n"
     ]
    }
   ],
   "execution_count": 114
  },
  {
   "metadata": {
    "ExecuteTime": {
     "end_time": "2024-10-02T22:12:29.247595Z",
     "start_time": "2024-10-02T22:12:28.273768Z"
    }
   },
   "cell_type": "code",
   "source": [
    "import timeit\n",
    "\n",
    "# Example data\n",
    "numbers = list(range(100000))  # A large list of numbers\n",
    "num = 50000\n",
    "\n",
    "# Timing the first function\n",
    "time_first_function = timeit.timeit(\n",
    "    stmt=\"greater_than(numbers, num)\", \n",
    "    setup=\"from __main__ import greater_than, numbers, num\", \n",
    "    number=100\n",
    ")\n",
    "\n",
    "# Timing the second function (list comprehension)\n",
    "time_second_function = timeit.timeit(\n",
    "    stmt=\"greater_than_lc(numbers, num)\", \n",
    "    setup=\"from __main__ import greater_than_lc, numbers, num\", \n",
    "    number=100\n",
    ")\n",
    "\n",
    "print(f\"Time for first function (while loop): {time_first_function}\")\n",
    "print(f\"Time for second function (list comprehension): {time_second_function}\")\n"
   ],
   "id": "74d7fcdf03b3aed2",
   "outputs": [
    {
     "name": "stdout",
     "output_type": "stream",
     "text": [
      "Time for first function (while loop): 0.819994792000216\n",
      "Time for second function (list comprehension): 0.12870904200099176\n"
     ]
    }
   ],
   "execution_count": 112
  },
  {
   "cell_type": "markdown",
   "id": "a6a32219",
   "metadata": {},
   "source": [
    "You should find that the version using the list comprehension is significantly faster than the version using the for loop.  This is because the for loop version is appending each number to the list one element at a time. This is very slow. \n",
    "\n",
    "In other contexts, `for loops` may run at about the same speed as list comprehensions. For example, let's run the above experiment again but this time using a much higher threshold value so that the output list has no items."
   ]
  },
  {
   "cell_type": "code",
   "id": "b32e7dad",
   "metadata": {
    "ExecuteTime": {
     "end_time": "2024-10-02T09:09:33.032390Z",
     "start_time": "2024-10-02T09:09:19.612322Z"
    }
   },
   "source": [
    "%timeit greater_than(big_list, 1000000)\n",
    "%timeit greater_than_lc(big_list, 1000000)"
   ],
   "outputs": [
    {
     "name": "stdout",
     "output_type": "stream",
     "text": [
      "61.6 ms ± 1.16 ms per loop (mean ± std. dev. of 7 runs, 10 loops each)\n",
      "10.3 ms ± 62.3 µs per loop (mean ± std. dev. of 7 runs, 100 loops each)\n"
     ]
    }
   ],
   "execution_count": 67
  },
  {
   "cell_type": "markdown",
   "id": "c8075d7a",
   "metadata": {},
   "source": [
    "Notice that now that there are no items to add to the list, they both run faster but also that the speed difference between the for-loop version and the list comprehension version is much smaller."
   ]
  },
  {
   "cell_type": "markdown",
   "id": "baa870a2",
   "metadata": {},
   "source": [
    "### 1.4 Finding words with more than N characters\n",
    "\n",
    "Write a function called `long_words` that takes a list of words and a threshold value as arguments and returns a list of all the words in the list that have more than N characters. \n",
    "\n",
    "For example:\n",
    "\n",
    "```python\n",
    "long_words(['the', 'quick', 'brown', 'fox', 'jumped', 'over', 'the', 'lazy', 'dog'], 3)\n",
    "```\n",
    "\n",
    "should return `['quick', 'brown', 'jumped', 'over', 'lazy']`."
   ]
  },
  {
   "cell_type": "code",
   "id": "e9d52716",
   "metadata": {
    "ExecuteTime": {
     "end_time": "2024-10-05T20:11:00.717807Z",
     "start_time": "2024-10-05T20:11:00.698395Z"
    }
   },
   "source": [
    "def long_words(wordlist, num):\n",
    "    x = 0\n",
    "    my_list = [] \n",
    "    while x < len(wordlist):\n",
    "        if len(wordlist[x]) > num:\n",
    "            my_list.append(wordlist[x])\n",
    "        x += 1\n",
    "    return my_list"
   ],
   "outputs": [],
   "execution_count": 187
  },
  {
   "cell_type": "code",
   "id": "c25e85e7",
   "metadata": {
    "ExecuteTime": {
     "end_time": "2024-10-05T20:11:03.024041Z",
     "start_time": "2024-10-05T20:11:03.019058Z"
    }
   },
   "source": [
    "# TESTS\n",
    "assert long_words([\"hello\", \"world\", \"this\", \"is\", \"a\", \"test\"], 3) == [\"hello\", \"world\", \"this\", \"test\"]\n",
    "assert long_words([\"hello\", \"world\", \"this\", \"is\", \"a\", \"test\"], 4) == [\"hello\", \"world\"]\n",
    "assert long_words([\"hello\", \"world\", \"this\", \"is\", \"a\", \"test\"], 0) == [\"hello\", \"world\", \"this\", \"is\", \"a\", \"test\"]\n",
    "assert long_words([\"hello\", \"world\", \"this\", \"is\", \"a\", \"test\"], 5) == []\n",
    "assert long_words([], 0) == []\n",
    "print(\"All tests passed\")"
   ],
   "outputs": [
    {
     "name": "stdout",
     "output_type": "stream",
     "text": [
      "All tests passed\n"
     ]
    }
   ],
   "execution_count": 188
  },
  {
   "cell_type": "markdown",
   "id": "fe4f3cd5",
   "metadata": {},
   "source": [
    "## 2 Searching a list"
   ]
  },
  {
   "cell_type": "markdown",
   "id": "5ebb22f6",
   "metadata": {},
   "source": [
    "### 2.1 Finding a specific value in a list\n",
    "\n",
    "Write a function called `find_item` that takes a list of values and an item to search for and returns the index of the first occurrence of the item in the list. The index should count from 0. If the item is not in the list, the function should return -1.  \n",
    "\n",
    "For example:\n",
    "\n",
    "```python\n",
    "find_item([1, 2, 3, 4, 5], 3)\n",
    "```\n",
    "\n",
    "should return `2`.\n"
   ]
  },
  {
   "cell_type": "code",
   "id": "9ffdb2f7",
   "metadata": {
    "ExecuteTime": {
     "end_time": "2024-10-02T09:34:45.519838Z",
     "start_time": "2024-10-02T09:34:45.517262Z"
    }
   },
   "source": [
    "def find_item(number_list,num):\n",
    "    x = 0 \n",
    "    result = -1\n",
    "    while x < len(number_list):\n",
    "        if number_list[x] == num: \n",
    "            result = x\n",
    "        x += 1\n",
    "    return result\n",
    "    \n"
   ],
   "outputs": [],
   "execution_count": 95
  },
  {
   "cell_type": "code",
   "id": "f658fc82",
   "metadata": {
    "ExecuteTime": {
     "end_time": "2024-10-02T09:34:46.665295Z",
     "start_time": "2024-10-02T09:34:46.662516Z"
    }
   },
   "source": [
    "# TESTS\n",
    "assert find_item([1, 2, 3, 4, 5], 3) == 2\n",
    "assert find_item([1, 2, 3, 4, 5], 1) == 0\n",
    "assert find_item([1, 2, 3, 4, 5], 6) == -1\n",
    "assert find_item([], 0) == -1\n",
    "print(\"All tests passed\")"
   ],
   "outputs": [
    {
     "name": "stdout",
     "output_type": "stream",
     "text": [
      "All tests passed\n"
     ]
    }
   ],
   "execution_count": 96
  },
  {
   "cell_type": "markdown",
   "id": "bd606a9d",
   "metadata": {},
   "source": [
    "### 2.2 Finding the maximum value in a list\n",
    "\n",
    "Write a function called `max_item` that takes a list of numbers and returns the maximum value in the list.\n",
    "\n",
    "For example:\n",
    "\n",
    "```python\n",
    "max_item([1, 2, 3, 4, 5])\n",
    "```\n",
    "\n",
    "should return `5`.\n",
    "\n",
    "Your function must not use the inbuilt `max` function.\n",
    "\n",
    "You can assume that the list being passed to the function will always contain at least one item."
   ]
  },
  {
   "cell_type": "code",
   "id": "23b00e2c",
   "metadata": {
    "ExecuteTime": {
     "end_time": "2024-10-02T09:45:57.920518Z",
     "start_time": "2024-10-02T09:45:57.917603Z"
    }
   },
   "source": [
    "# WRITE SOLUTION HERE\n",
    "def max_item(number_list):\n",
    "    max = number_list[0] \n",
    "    x = 0\n",
    "    while x < len(number_list) -1:\n",
    "        if number_list[x+1] > max: \n",
    "            max = number_list[x+1]    \n",
    "        x += 1\n",
    "    return max\n",
    "    "
   ],
   "outputs": [],
   "execution_count": 110
  },
  {
   "cell_type": "code",
   "id": "dc694d68",
   "metadata": {
    "ExecuteTime": {
     "end_time": "2024-10-02T09:45:59.915764Z",
     "start_time": "2024-10-02T09:45:59.912352Z"
    }
   },
   "source": [
    "# TESTS\n",
    "assert max_item([1, 2, 3, 4, 5]) == 5\n",
    "assert max_item([100, 2, 3, 4, 5]) == 100\n",
    "assert max_item([3, 3, 3]) == 3\n",
    "assert max_item([-1, -2, -3, -4, -5]) == -1\n",
    "print(\"All tests passed\")"
   ],
   "outputs": [
    {
     "name": "stdout",
     "output_type": "stream",
     "text": [
      "All tests passed\n"
     ]
    }
   ],
   "execution_count": 111
  },
  {
   "cell_type": "markdown",
   "id": "f4d33b47",
   "metadata": {},
   "source": [
    "### 2.3 Finding the closest value in a list\n",
    "\n",
    "Write a function named `closest_value` that takes a list and a target value and returns the value in the list that is closest to the target value. \n",
    "\n",
    "For example:\n",
    "\n",
    "```python\n",
    "closest_value([1, 2, 3, 4, 5], 3.2)\n",
    "```\n",
    "\n",
    "should return `3`.\n",
    "\n",
    "Again, you can assume that the list being passed to the function will always contain at least one item."
   ]
  },
  {
   "cell_type": "code",
   "id": "b0b96b19",
   "metadata": {
    "ExecuteTime": {
     "end_time": "2024-10-03T16:16:29.329133Z",
     "start_time": "2024-10-03T16:16:29.325608Z"
    }
   },
   "source": [
    "def closest_value(number_list, double):\n",
    "    x = 0\n",
    "    result = 0\n",
    "    final_result = 0\n",
    "    while x < len(number_list)-1 :\n",
    "        ad=abs(double)\n",
    "        result = abs(ad-number_list[x])\n",
    "        print('init result ', result)\n",
    "        print('index : ',x)\n",
    "        if abs(ad-number_list[x+1]) < result: \n",
    "            final_result = number_list[x+1] \n",
    "            print('result in condition : ', result)\n",
    "        elif result == 0:\n",
    "            return number_list[x]\n",
    "        x += 1\n",
    "    return final_result "
   ],
   "outputs": [],
   "execution_count": 181
  },
  {
   "metadata": {
    "ExecuteTime": {
     "end_time": "2024-10-03T16:18:24.969963Z",
     "start_time": "2024-10-03T16:18:24.964876Z"
    }
   },
   "cell_type": "code",
   "source": [
    "# Optimize\n",
    "def closest_value(number_list, target):\n",
    "    # Initialize the closest value with the first element\n",
    "    final_result = number_list[0]\n",
    "    \n",
    "    # Iterate through the entire list\n",
    "    for num in number_list:\n",
    "        # If we find an exact match, return it immediately\n",
    "        if num == target:\n",
    "            return num\n",
    "        # Update final_result if the current number is closer to the target\n",
    "        if abs(num - target) < abs(final_result - target):\n",
    "            final_result = num\n",
    "    \n",
    "    return final_result\n"
   ],
   "id": "b6c12613eb791e09",
   "outputs": [],
   "execution_count": 183
  },
  {
   "metadata": {
    "ExecuteTime": {
     "end_time": "2024-10-03T16:16:20.055757Z",
     "start_time": "2024-10-03T16:16:20.053022Z"
    }
   },
   "cell_type": "code",
   "source": [
    "# Optimize\n",
    "def closest_value(lst, target):\n",
    "    return min(lst, key=lambda x: abs(x - target))\n"
   ],
   "id": "5989980f26d41151",
   "outputs": [],
   "execution_count": 177
  },
  {
   "cell_type": "code",
   "id": "4f274674",
   "metadata": {
    "ExecuteTime": {
     "end_time": "2024-10-03T16:18:27.372790Z",
     "start_time": "2024-10-03T16:18:27.368218Z"
    }
   },
   "source": [
    "# TESTS\n",
    "assert closest_value([1, 2, 3, 4, 5], 3.2) == 3\n",
    "assert closest_value([1, 2, 3, 4, 5], 3.8) == 4\n",
    "assert closest_value([1, 2, 3, 4, 5], -1) == 1\n",
    "assert closest_value([1, 2, 3, 4, 5], 10) == 5\n",
    "print(\"All tests passed\")\n"
   ],
   "outputs": [
    {
     "name": "stdout",
     "output_type": "stream",
     "text": [
      "All tests passed\n"
     ]
    }
   ],
   "execution_count": 184
  },
  {
   "cell_type": "markdown",
   "id": "7ed5be1b",
   "metadata": {},
   "source": [
    "## 3. Applying functions to list values"
   ]
  },
  {
   "cell_type": "markdown",
   "id": "ef5df24b",
   "metadata": {},
   "source": [
    "### 3.1 Squaring a list of numbers\n",
    "\n",
    "Write a function called `square_list` that takes a list of numbers and returns a new list where each number is the square of the corresponding number in the input list.\n",
    "\n",
    "For example:\n",
    "\n",
    "```python\n",
    "square_list([1, 2, 3, 4, 5])\n",
    "```\n",
    "\n",
    "should return `[1, 4, 9, 16, 25]`."
   ]
  },
  {
   "cell_type": "code",
   "id": "6fd18abe",
   "metadata": {
    "ExecuteTime": {
     "end_time": "2024-10-03T16:22:50.316913Z",
     "start_time": "2024-10-03T16:22:50.312130Z"
    }
   },
   "source": [
    "def square_list(number_list):\n",
    "    return list(map(lambda x: x ** 2, number_list))"
   ],
   "outputs": [],
   "execution_count": 185
  },
  {
   "cell_type": "code",
   "id": "0360b272",
   "metadata": {
    "ExecuteTime": {
     "end_time": "2024-10-03T16:22:51.325137Z",
     "start_time": "2024-10-03T16:22:51.321890Z"
    }
   },
   "source": [
    "# TESTS\n",
    "assert square_list([1, 2, 3, 4, 5]) == [1, 4, 9, 16, 25]\n",
    "assert square_list([-1, -2, -3, -4, -5]) == [1, 4, 9, 16, 25]\n",
    "assert square_list([]) == []\n",
    "print(\"All tests passed\")"
   ],
   "outputs": [
    {
     "name": "stdout",
     "output_type": "stream",
     "text": [
      "All tests passed\n"
     ]
    }
   ],
   "execution_count": 186
  },
  {
   "cell_type": "markdown",
   "id": "127f5acd",
   "metadata": {},
   "source": [
    "### 3.2 Applying a function to a list of numbers \n",
    "\n",
    "In Python you can pass functions as arguments to other functions.\n",
    "\n",
    "Write a function called `apply_to_list` that takes a list of numbers and a function as arguments and returns a new list with the function applied to each number in the list.\n",
    "\n",
    "For example:\n",
    "\n",
    "```python\n",
    "def square(x):\n",
    "    return x * x\n",
    "\n",
    "apply_to_list([1, 2, 3, 4, 5], square)\n",
    "```\n",
    "\n",
    "should return `[1, 4, 9, 16, 25]`.\n",
    "\n",
    "For hints, see Section 3 of the tutorial on [Further Python](https://uos-com-6018.github.io/COM6018/materials/tutorials/015_Further_Python.html)."
   ]
  },
  {
   "cell_type": "code",
   "id": "937debdb",
   "metadata": {
    "ExecuteTime": {
     "end_time": "2024-10-05T21:12:15.198644Z",
     "start_time": "2024-10-05T21:12:15.194385Z"
    }
   },
   "source": [
    "def square(x):\n",
    "    return x**2\n",
    "\n",
    "def apply_to_list(number_list, func):\n",
    "    result = []\n",
    "\n",
    "    for x in number_list:\n",
    "        y=0\n",
    "        #print('x : ' + str(x))\n",
    "        result.append(func(x))\n",
    "        #print('result : ' + str(result[y]))\n",
    "        y+=1\n",
    "    return result\n",
    "        \n",
    "    \n",
    "    "
   ],
   "outputs": [],
   "execution_count": 23
  },
  {
   "cell_type": "code",
   "id": "c2063a14",
   "metadata": {
    "ExecuteTime": {
     "end_time": "2024-10-05T21:12:16.735819Z",
     "start_time": "2024-10-05T21:12:16.732470Z"
    }
   },
   "source": [
    "# TESTS\n",
    "def square(x):\n",
    "    return x**2\n",
    "\n",
    "assert apply_to_list([1, 2, 3, 4, 5],  square) == [1, 4, 9, 16, 25]\n",
    "assert apply_to_list([-1, -2, -3, -4, -5],  square) == [1, 4, 9, 16, 25]\n",
    "assert apply_to_list([], square) == []\n",
    "print(\"All tests passed\")\n"
   ],
   "outputs": [
    {
     "name": "stdout",
     "output_type": "stream",
     "text": [
      "All tests passed\n"
     ]
    }
   ],
   "execution_count": 24
  },
  {
   "cell_type": "markdown",
   "id": "210c46dd",
   "metadata": {},
   "source": [
    "### 3.3 Computing numbers in the hailstone sequence \n",
    "\n",
    "Write a function called hailstone that returns the next number in the hailstone sequence for a list of numbers. The hailstone sequence is defined as follows:\n",
    "\n",
    "* If the number is even, divide it by two.\n",
    "* If the number is odd, multiply it by three and add one.\n",
    "\n",
    "Then write a function called hailstone_list that takes a list of numbers and returns a new list with the next number in the hailstone sequence for each number in the list.\n",
    "\n",
    "For example:\n",
    "\n",
    "```python\n",
    "hailstone_list([1, 2, 3, 4, 5])\n",
    "```\n",
    "\n",
    "should return `[4, 1, 10, 2, 16]`.\n",
    "\n"
   ]
  },
  {
   "cell_type": "code",
   "id": "3d87a890",
   "metadata": {
    "ExecuteTime": {
     "end_time": "2024-10-05T22:14:59.730995Z",
     "start_time": "2024-10-05T22:14:59.726326Z"
    }
   },
   "source": [
    "def hailstone_list(number_list):\n",
    "    result = []\n",
    "    for x in number_list:\n",
    "        if x%2==0: \n",
    "            result.append(x//2)\n",
    "            print('result even : ', result)\n",
    "        else:\n",
    "            result.append(x*3+1)\n",
    "            print('result odd: ', result)    \n",
    "    return result       \n",
    "                 "
   ],
   "outputs": [],
   "execution_count": 21
  },
  {
   "cell_type": "code",
   "id": "c169a194",
   "metadata": {
    "ExecuteTime": {
     "end_time": "2024-10-05T21:41:15.870961Z",
     "start_time": "2024-10-05T21:41:15.868082Z"
    }
   },
   "source": [
    "# TESTS\n",
    "assert hailstone_list([1,2,3,4,5,6,7,8,9,10]) == [4,1,10,2,16,3,22,4,28,5]\n",
    "print(\"All tests passed\")"
   ],
   "outputs": [
    {
     "name": "stdout",
     "output_type": "stream",
     "text": [
      "result odd:  [4]\n",
      "result even :  [4, 1]\n",
      "result odd:  [4, 1, 10]\n",
      "result even :  [4, 1, 10, 2]\n",
      "result odd:  [4, 1, 10, 2, 16]\n",
      "result even :  [4, 1, 10, 2, 16, 3]\n",
      "result odd:  [4, 1, 10, 2, 16, 3, 22]\n",
      "result even :  [4, 1, 10, 2, 16, 3, 22, 4]\n",
      "result odd:  [4, 1, 10, 2, 16, 3, 22, 4, 28]\n",
      "result even :  [4, 1, 10, 2, 16, 3, 22, 4, 28, 5]\n",
      "All tests passed\n"
     ]
    }
   ],
   "execution_count": 20
  },
  {
   "cell_type": "markdown",
   "id": "2354ba6f",
   "metadata": {},
   "source": [
    "Now, write a loop that calls the `hailstone_list` function 100 times in a row. Here’s what the loop should do:\n",
    "\n",
    "1.  Use the output of one call as the input for the next:\n",
    "  - In each iteration of the loop, the list returned from the hailstone_list function should be passed as input to the next call of the function.\n",
    "2.\tRepeat this process 100 times:\n",
    " - Keep applying the function, updating the list in each iteration.\n",
    "\n",
    "What do you notice about the numbers in the list as you keep applying the function?\n",
    "\n",
    "Experiment with different starting values and different numbers of iterations. What do you notice?"
   ]
  },
  {
   "cell_type": "code",
   "id": "2817dfa1",
   "metadata": {
    "ExecuteTime": {
     "end_time": "2024-10-06T00:12:11.603345Z",
     "start_time": "2024-10-06T00:12:11.597429Z"
    }
   },
   "source": [
    "def hailstone_list(number_list):\n",
    "    result = []\n",
    "    for x in number_list:\n",
    "        if x % 2 == 0:\n",
    "            result.append(x // 2)\n",
    "            print('result even : ', result)\n",
    "        else:\n",
    "            result.append(x * 3 + 1)\n",
    "            print('result odd: ', result)\n",
    "    return result\n",
    "\n",
    "\n",
    "def hailstones_list_loop(numbers):\n",
    "    for i in range(100):\n",
    "        numbers = hailstone_list(numbers)\n",
    "        print(\"Final result after 100 iterations:\", numbers)   \n",
    "    return numbers\n",
    "\n",
    "numbers = [5]    \n",
    "final = hailstones_list_loop(numbers)\n",
    "print(\"Final Result : \", final)\n",
    "    "
   ],
   "outputs": [
    {
     "name": "stdout",
     "output_type": "stream",
     "text": [
      "result odd:  [16]\n",
      "Final result after 100 iterations: [16]\n",
      "result even :  [8]\n",
      "Final result after 100 iterations: [8]\n",
      "result even :  [4]\n",
      "Final result after 100 iterations: [4]\n",
      "result even :  [2]\n",
      "Final result after 100 iterations: [2]\n",
      "result even :  [1]\n",
      "Final result after 100 iterations: [1]\n",
      "result odd:  [4]\n",
      "Final result after 100 iterations: [4]\n",
      "result even :  [2]\n",
      "Final result after 100 iterations: [2]\n",
      "result even :  [1]\n",
      "Final result after 100 iterations: [1]\n",
      "result odd:  [4]\n",
      "Final result after 100 iterations: [4]\n",
      "result even :  [2]\n",
      "Final result after 100 iterations: [2]\n",
      "result even :  [1]\n",
      "Final result after 100 iterations: [1]\n",
      "result odd:  [4]\n",
      "Final result after 100 iterations: [4]\n",
      "result even :  [2]\n",
      "Final result after 100 iterations: [2]\n",
      "result even :  [1]\n",
      "Final result after 100 iterations: [1]\n",
      "result odd:  [4]\n",
      "Final result after 100 iterations: [4]\n",
      "result even :  [2]\n",
      "Final result after 100 iterations: [2]\n",
      "result even :  [1]\n",
      "Final result after 100 iterations: [1]\n",
      "result odd:  [4]\n",
      "Final result after 100 iterations: [4]\n",
      "result even :  [2]\n",
      "Final result after 100 iterations: [2]\n",
      "result even :  [1]\n",
      "Final result after 100 iterations: [1]\n",
      "result odd:  [4]\n",
      "Final result after 100 iterations: [4]\n",
      "result even :  [2]\n",
      "Final result after 100 iterations: [2]\n",
      "result even :  [1]\n",
      "Final result after 100 iterations: [1]\n",
      "result odd:  [4]\n",
      "Final result after 100 iterations: [4]\n",
      "result even :  [2]\n",
      "Final result after 100 iterations: [2]\n",
      "result even :  [1]\n",
      "Final result after 100 iterations: [1]\n",
      "result odd:  [4]\n",
      "Final result after 100 iterations: [4]\n",
      "result even :  [2]\n",
      "Final result after 100 iterations: [2]\n",
      "result even :  [1]\n",
      "Final result after 100 iterations: [1]\n",
      "result odd:  [4]\n",
      "Final result after 100 iterations: [4]\n",
      "result even :  [2]\n",
      "Final result after 100 iterations: [2]\n",
      "result even :  [1]\n",
      "Final result after 100 iterations: [1]\n",
      "result odd:  [4]\n",
      "Final result after 100 iterations: [4]\n",
      "result even :  [2]\n",
      "Final result after 100 iterations: [2]\n",
      "result even :  [1]\n",
      "Final result after 100 iterations: [1]\n",
      "result odd:  [4]\n",
      "Final result after 100 iterations: [4]\n",
      "result even :  [2]\n",
      "Final result after 100 iterations: [2]\n",
      "result even :  [1]\n",
      "Final result after 100 iterations: [1]\n",
      "result odd:  [4]\n",
      "Final result after 100 iterations: [4]\n",
      "result even :  [2]\n",
      "Final result after 100 iterations: [2]\n",
      "result even :  [1]\n",
      "Final result after 100 iterations: [1]\n",
      "result odd:  [4]\n",
      "Final result after 100 iterations: [4]\n",
      "result even :  [2]\n",
      "Final result after 100 iterations: [2]\n",
      "result even :  [1]\n",
      "Final result after 100 iterations: [1]\n",
      "result odd:  [4]\n",
      "Final result after 100 iterations: [4]\n",
      "result even :  [2]\n",
      "Final result after 100 iterations: [2]\n",
      "result even :  [1]\n",
      "Final result after 100 iterations: [1]\n",
      "result odd:  [4]\n",
      "Final result after 100 iterations: [4]\n",
      "result even :  [2]\n",
      "Final result after 100 iterations: [2]\n",
      "result even :  [1]\n",
      "Final result after 100 iterations: [1]\n",
      "result odd:  [4]\n",
      "Final result after 100 iterations: [4]\n",
      "result even :  [2]\n",
      "Final result after 100 iterations: [2]\n",
      "result even :  [1]\n",
      "Final result after 100 iterations: [1]\n",
      "result odd:  [4]\n",
      "Final result after 100 iterations: [4]\n",
      "result even :  [2]\n",
      "Final result after 100 iterations: [2]\n",
      "result even :  [1]\n",
      "Final result after 100 iterations: [1]\n",
      "result odd:  [4]\n",
      "Final result after 100 iterations: [4]\n",
      "result even :  [2]\n",
      "Final result after 100 iterations: [2]\n",
      "result even :  [1]\n",
      "Final result after 100 iterations: [1]\n",
      "result odd:  [4]\n",
      "Final result after 100 iterations: [4]\n",
      "result even :  [2]\n",
      "Final result after 100 iterations: [2]\n",
      "result even :  [1]\n",
      "Final result after 100 iterations: [1]\n",
      "result odd:  [4]\n",
      "Final result after 100 iterations: [4]\n",
      "result even :  [2]\n",
      "Final result after 100 iterations: [2]\n",
      "result even :  [1]\n",
      "Final result after 100 iterations: [1]\n",
      "result odd:  [4]\n",
      "Final result after 100 iterations: [4]\n",
      "result even :  [2]\n",
      "Final result after 100 iterations: [2]\n",
      "result even :  [1]\n",
      "Final result after 100 iterations: [1]\n",
      "result odd:  [4]\n",
      "Final result after 100 iterations: [4]\n",
      "result even :  [2]\n",
      "Final result after 100 iterations: [2]\n",
      "result even :  [1]\n",
      "Final result after 100 iterations: [1]\n",
      "result odd:  [4]\n",
      "Final result after 100 iterations: [4]\n",
      "result even :  [2]\n",
      "Final result after 100 iterations: [2]\n",
      "result even :  [1]\n",
      "Final result after 100 iterations: [1]\n",
      "result odd:  [4]\n",
      "Final result after 100 iterations: [4]\n",
      "result even :  [2]\n",
      "Final result after 100 iterations: [2]\n",
      "result even :  [1]\n",
      "Final result after 100 iterations: [1]\n",
      "result odd:  [4]\n",
      "Final result after 100 iterations: [4]\n",
      "result even :  [2]\n",
      "Final result after 100 iterations: [2]\n",
      "result even :  [1]\n",
      "Final result after 100 iterations: [1]\n",
      "result odd:  [4]\n",
      "Final result after 100 iterations: [4]\n",
      "result even :  [2]\n",
      "Final result after 100 iterations: [2]\n",
      "result even :  [1]\n",
      "Final result after 100 iterations: [1]\n",
      "result odd:  [4]\n",
      "Final result after 100 iterations: [4]\n",
      "result even :  [2]\n",
      "Final result after 100 iterations: [2]\n",
      "result even :  [1]\n",
      "Final result after 100 iterations: [1]\n",
      "result odd:  [4]\n",
      "Final result after 100 iterations: [4]\n",
      "result even :  [2]\n",
      "Final result after 100 iterations: [2]\n",
      "result even :  [1]\n",
      "Final result after 100 iterations: [1]\n",
      "result odd:  [4]\n",
      "Final result after 100 iterations: [4]\n",
      "result even :  [2]\n",
      "Final result after 100 iterations: [2]\n",
      "result even :  [1]\n",
      "Final result after 100 iterations: [1]\n",
      "result odd:  [4]\n",
      "Final result after 100 iterations: [4]\n",
      "result even :  [2]\n",
      "Final result after 100 iterations: [2]\n",
      "result even :  [1]\n",
      "Final result after 100 iterations: [1]\n",
      "result odd:  [4]\n",
      "Final result after 100 iterations: [4]\n",
      "result even :  [2]\n",
      "Final result after 100 iterations: [2]\n",
      "result even :  [1]\n",
      "Final result after 100 iterations: [1]\n",
      "result odd:  [4]\n",
      "Final result after 100 iterations: [4]\n",
      "result even :  [2]\n",
      "Final result after 100 iterations: [2]\n",
      "Final Result :  [2]\n"
     ]
    }
   ],
   "execution_count": 51
  },
  {
   "metadata": {
    "ExecuteTime": {
     "end_time": "2024-10-06T00:14:00.111678Z",
     "start_time": "2024-10-06T00:14:00.105758Z"
    }
   },
   "cell_type": "code",
   "source": [
    "def hailstone_list(number_list):\n",
    "    result = []\n",
    "    for x in number_list:\n",
    "        if x % 2 == 0: \n",
    "            result.append(x // 2)\n",
    "        else:\n",
    "            result.append(x * 3 + 1)\n",
    "    return result\n",
    "\n",
    "def hailstones_recursive(numbers, iterations):\n",
    "    # Base case: if iterations are 0, return the numbers\n",
    "    if iterations == 0:\n",
    "        return numbers\n",
    "    \n",
    "    # Recursive case: call hailstone_list and reduce the number of iterations\n",
    "    new_numbers = hailstone_list(numbers)\n",
    "    print(f\"Iteration {100 - iterations + 1}: {new_numbers}\")\n",
    "    \n",
    "    # Recursive call with one less iteration\n",
    "    return hailstones_recursive(new_numbers, iterations - 1)\n",
    "\n",
    "# Example usage:\n",
    "initial_list = [5]  # Starting list with number 5\n",
    "iterations = 100    # Number of recursive iterations\n",
    "\n",
    "# Call the recursive function\n",
    "final_result = hailstones_recursive(initial_list, iterations)\n",
    "\n",
    "# Print the final result\n",
    "print(\"Final Result:\", final_result)\n"
   ],
   "id": "90907bb1967f50b",
   "outputs": [
    {
     "name": "stdout",
     "output_type": "stream",
     "text": [
      "Iteration 1: [16]\n",
      "Iteration 2: [8]\n",
      "Iteration 3: [4]\n",
      "Iteration 4: [2]\n",
      "Iteration 5: [1]\n",
      "Iteration 6: [4]\n",
      "Iteration 7: [2]\n",
      "Iteration 8: [1]\n",
      "Iteration 9: [4]\n",
      "Iteration 10: [2]\n",
      "Iteration 11: [1]\n",
      "Iteration 12: [4]\n",
      "Iteration 13: [2]\n",
      "Iteration 14: [1]\n",
      "Iteration 15: [4]\n",
      "Iteration 16: [2]\n",
      "Iteration 17: [1]\n",
      "Iteration 18: [4]\n",
      "Iteration 19: [2]\n",
      "Iteration 20: [1]\n",
      "Iteration 21: [4]\n",
      "Iteration 22: [2]\n",
      "Iteration 23: [1]\n",
      "Iteration 24: [4]\n",
      "Iteration 25: [2]\n",
      "Iteration 26: [1]\n",
      "Iteration 27: [4]\n",
      "Iteration 28: [2]\n",
      "Iteration 29: [1]\n",
      "Iteration 30: [4]\n",
      "Iteration 31: [2]\n",
      "Iteration 32: [1]\n",
      "Iteration 33: [4]\n",
      "Iteration 34: [2]\n",
      "Iteration 35: [1]\n",
      "Iteration 36: [4]\n",
      "Iteration 37: [2]\n",
      "Iteration 38: [1]\n",
      "Iteration 39: [4]\n",
      "Iteration 40: [2]\n",
      "Iteration 41: [1]\n",
      "Iteration 42: [4]\n",
      "Iteration 43: [2]\n",
      "Iteration 44: [1]\n",
      "Iteration 45: [4]\n",
      "Iteration 46: [2]\n",
      "Iteration 47: [1]\n",
      "Iteration 48: [4]\n",
      "Iteration 49: [2]\n",
      "Iteration 50: [1]\n",
      "Iteration 51: [4]\n",
      "Iteration 52: [2]\n",
      "Iteration 53: [1]\n",
      "Iteration 54: [4]\n",
      "Iteration 55: [2]\n",
      "Iteration 56: [1]\n",
      "Iteration 57: [4]\n",
      "Iteration 58: [2]\n",
      "Iteration 59: [1]\n",
      "Iteration 60: [4]\n",
      "Iteration 61: [2]\n",
      "Iteration 62: [1]\n",
      "Iteration 63: [4]\n",
      "Iteration 64: [2]\n",
      "Iteration 65: [1]\n",
      "Iteration 66: [4]\n",
      "Iteration 67: [2]\n",
      "Iteration 68: [1]\n",
      "Iteration 69: [4]\n",
      "Iteration 70: [2]\n",
      "Iteration 71: [1]\n",
      "Iteration 72: [4]\n",
      "Iteration 73: [2]\n",
      "Iteration 74: [1]\n",
      "Iteration 75: [4]\n",
      "Iteration 76: [2]\n",
      "Iteration 77: [1]\n",
      "Iteration 78: [4]\n",
      "Iteration 79: [2]\n",
      "Iteration 80: [1]\n",
      "Iteration 81: [4]\n",
      "Iteration 82: [2]\n",
      "Iteration 83: [1]\n",
      "Iteration 84: [4]\n",
      "Iteration 85: [2]\n",
      "Iteration 86: [1]\n",
      "Iteration 87: [4]\n",
      "Iteration 88: [2]\n",
      "Iteration 89: [1]\n",
      "Iteration 90: [4]\n",
      "Iteration 91: [2]\n",
      "Iteration 92: [1]\n",
      "Iteration 93: [4]\n",
      "Iteration 94: [2]\n",
      "Iteration 95: [1]\n",
      "Iteration 96: [4]\n",
      "Iteration 97: [2]\n",
      "Iteration 98: [1]\n",
      "Iteration 99: [4]\n",
      "Iteration 100: [2]\n",
      "Final Result: [2]\n"
     ]
    }
   ],
   "execution_count": 52
  },
  {
   "cell_type": "markdown",
   "id": "169894ee",
   "metadata": {},
   "source": [
    "## 4. Working with pairs of lists"
   ]
  },
  {
   "cell_type": "markdown",
   "id": "98615289",
   "metadata": {},
   "source": [
    "### 4.1 Counting matching values in a pair of lists\n",
    "\n",
    "Write a function called `count_matches` that takes two lists of numbers as arguments and returns the number of times that the values at the same index in the two lists are equal.  \n",
    "\n",
    "For example:\n",
    "\n",
    "```python\n",
    "count_matches([1, 2, 3, 4, 5], [1, 20, 3, -2, 5])\n",
    "```\n",
    "\n",
    "should return `3` because there are matching values at index 0, 2 and 4. \n",
    "\n",
    "Note, your function should still work if the two lists are of different lengths."
   ]
  },
  {
   "cell_type": "code",
   "id": "ac56320b",
   "metadata": {
    "ExecuteTime": {
     "end_time": "2024-10-06T01:14:51.128679Z",
     "start_time": "2024-10-06T01:14:51.124231Z"
    }
   },
   "source": [
    "def count_matches(list1, list2):\n",
    "    result = 0\n",
    "    if len(list1) == len(list2):\n",
    "        for i in range(len(list1)):\n",
    "            if list1[i] == list2[i]:\n",
    "                result+=1\n",
    "        return result\n",
    "    elif len(list1) > len(list2):\n",
    "        for i in range(len(list2)):\n",
    "            if list1[i] == list2[i]:\n",
    "                result+=1\n",
    "        return result\n",
    "    else:\n",
    "        for i in range(len(list1)):\n",
    "            if list1[i] == list2[i]:\n",
    "                result+=1\n",
    "        return result        \n",
    "    "
   ],
   "outputs": [],
   "execution_count": 55
  },
  {
   "metadata": {
    "ExecuteTime": {
     "end_time": "2024-10-06T16:03:12.093497Z",
     "start_time": "2024-10-06T16:03:12.075387Z"
    }
   },
   "cell_type": "code",
   "outputs": [],
   "execution_count": 166,
   "source": [
    "def count_matches(list1, list2):\n",
    "    result = 0\n",
    "    min_len = min(len(list1), len(list2))  # Find the minimum length of the two lists\n",
    "    for i in range(min_len):\n",
    "        if list1[i] == list2[i]:\n",
    "            result += 1\n",
    "    return result"
   ],
   "id": "e42d35cb944d9936"
  },
  {
   "metadata": {
    "ExecuteTime": {
     "end_time": "2024-10-06T16:03:14.482917Z",
     "start_time": "2024-10-06T16:03:14.480179Z"
    }
   },
   "cell_type": "code",
   "outputs": [
    {
     "name": "stdout",
     "output_type": "stream",
     "text": [
      "All tests passed\n"
     ]
    }
   ],
   "execution_count": 167,
   "source": [
    "# TESTS\n",
    "assert count_matches([1, 2, 3, 4, 5], [1, 2, 3, 4, 5]) == 5\n",
    "assert count_matches([1, 2, 3, 4, 5], [1, 2, 3, 4, 6]) == 4\n",
    "assert count_matches([1, 2, 3, 4, 5], [1, 2, 3]) == 3\n",
    "assert count_matches([1, 2, 30, 4], [1, 2, 3, 4, 5, 6]) == 3\n",
    "assert count_matches([], []) == 0\n",
    "print(\"All tests passed\")"
   ],
   "id": "b486b7f6"
  },
  {
   "metadata": {},
   "cell_type": "markdown",
   "source": [
    "### 4.2 Rotate list values by N\n",
    "\n",
    "Write a function called `rotate_list` that takes a list and returns a list of the same length but with the values in the original list shifted to the right by a given number of places.  The values should rotate around the list, i.e. values that are shifted off the end should reappear at the start.  \n",
    "\n",
    "For example:\n",
    "\n",
    "```python\n",
    "shift_list([1, 2, 3, 4, 5], 2)\n",
    "```\n",
    "\n",
    "should return `[4, 5, 1, 2, 3]`.\n",
    "\n",
    "Note, a negative value for the shift should rotate the values to the left.\n",
    "\n",
    "Hint, this can be written in a couple of lines if you use list slicing. Understanding how -ve values work with list slicing is important for this problem. i.e., understand the meaning of my_list[-1:] and my_list[:-1]."
   ],
   "id": "1e420590"
  },
  {
   "metadata": {
    "ExecuteTime": {
     "end_time": "2024-10-06T16:16:59.299744Z",
     "start_time": "2024-10-06T16:16:59.295931Z"
    }
   },
   "cell_type": "code",
   "outputs": [],
   "execution_count": 182,
   "source": [
    "def rotate_list(list, num):\n",
    "    result = []\n",
    "    if len(list) == num or num ==0:\n",
    "        return list\n",
    "    rotate_num = num % len(list)\n",
    "    print('Rotate number round : ', rotate_num)\n",
    "    if rotate_num > 0:\n",
    "        # Positive number\n",
    "            #List [start : stop : step]\n",
    "            #result.extend(list[ len(list)-1 : len(list)-rotate_num-1  :-1]) \n",
    "        # Rotate the list using slicing\n",
    "        print('rotate_num list 1' , list[-rotate_num:])\n",
    "        print('rotate_num list 2' , list[:-rotate_num])\n",
    "    return list[-rotate_num:] + list[:-rotate_num]\n",
    "\n",
    "    "
   ],
   "id": "2d500be1"
  },
  {
   "metadata": {
    "ExecuteTime": {
     "end_time": "2024-10-06T16:17:01.071026Z",
     "start_time": "2024-10-06T16:17:01.065279Z"
    }
   },
   "cell_type": "code",
   "outputs": [
    {
     "name": "stdout",
     "output_type": "stream",
     "text": [
      "Rotate number round :  1\n",
      "rotate_num list 1 [5]\n",
      "rotate_num list 2 [1, 2, 3, 4]\n",
      "Rotate number round :  2\n",
      "rotate_num list 1 [4, 5]\n",
      "rotate_num list 2 [1, 2, 3]\n",
      "Rotate number round :  2\n",
      "rotate_num list 1 [4, 5]\n",
      "rotate_num list 2 [1, 2, 3]\n",
      "Rotate number round :  4\n",
      "rotate_num list 1 [2, 3, 4, 5]\n",
      "rotate_num list 2 [1]\n",
      "Rotate number round :  4\n",
      "rotate_num list 1 [2, 3, 4, 5]\n",
      "rotate_num list 2 [1]\n",
      "All tests passed\n"
     ]
    }
   ],
   "execution_count": 183,
   "source": [
    "# TESTS\n",
    "assert rotate_list([1, 2, 3, 4, 5], 1) == [5, 1, 2, 3, 4]\n",
    "assert rotate_list([1, 2, 3, 4, 5], 2) == [4, 5, 1, 2, 3]\n",
    "assert rotate_list([1, 2, 3, 4, 5], 7) == [4, 5, 1, 2, 3]\n",
    "assert rotate_list([1, 2, 3, 4, 5], 0) == [1, 2, 3, 4, 5]\n",
    "assert rotate_list([1, 2, 3, 4, 5], 5) == [1, 2, 3, 4, 5]\n",
    "assert rotate_list([1, 2, 3, 4, 5], -1) == [2, 3, 4, 5, 1]\n",
    "assert rotate_list([1, 2, 3, 4, 5], -11) == [2, 3, 4, 5, 1]\n",
    "print(\"All tests passed\")"
   ],
   "id": "962af49e"
  },
  {
   "metadata": {},
   "cell_type": "markdown",
   "source": [
    "### 4.3 Aligning two \n",
    "\n",
    "Write a function called `align_lists` that takes two lists and returns the right shift that should be applied to the second list to best align it with the first list.  The alignment is scored by counting the number of matching values in the two lists.  For example:\n",
    "\n",
    "```python\n",
    "align_lists([1, 2, 3, 4, 5], [2, 0, 4, 5, 1])\n",
    "``` \n",
    "\n",
    "should return `1` because the second list is best aligned when it is shifted one place to the right.\n",
    "\n",
    "Hint, you can use the `rotate_list` and `count_matches` functions you wrote above to help you solve this problem."
   ],
   "id": "683ef0c0"
  },
  {
   "metadata": {
    "ExecuteTime": {
     "end_time": "2024-10-06T16:15:00.903223Z",
     "start_time": "2024-10-06T16:15:00.897372Z"
    }
   },
   "cell_type": "code",
   "outputs": [],
   "execution_count": 179,
   "source": [
    "def align_lists(list1, list2):\n",
    "    count_list = []\n",
    "    if len(list1) == len(list2):\n",
    "        for i in range(len(list1)):\n",
    "            new_list = rotate_list(list2, i)\n",
    "            match_count = count_matches(list1, new_list)\n",
    "            count_list.append(match_count)\n",
    "            print('count list Debug :', count_list)\n",
    "            \n",
    "        x = count_list.index(max(count_list))\n",
    "        print('Best Shift Result : ', x)\n",
    "        return x\n",
    "    else:\n",
    "        print(\"List compare is not equal \")"
   ],
   "id": "82ad224b"
  },
  {
   "metadata": {
    "ExecuteTime": {
     "end_time": "2024-10-06T15:34:56.711067Z",
     "start_time": "2024-10-06T15:34:56.708779Z"
    }
   },
   "cell_type": "code",
   "outputs": [
    {
     "name": "stdout",
     "output_type": "stream",
     "text": [
      "4\n"
     ]
    }
   ],
   "execution_count": 146,
   "source": [
    "jelly_list = [1,2,3,4,5,6,7,8,9,10]\n",
    "x = jelly_list.index(5)\n",
    "print(x)"
   ],
   "id": "8f65a89626b3491f"
  },
  {
   "metadata": {
    "ExecuteTime": {
     "end_time": "2024-10-06T16:15:03.231727Z",
     "start_time": "2024-10-06T16:15:03.228486Z"
    }
   },
   "cell_type": "code",
   "outputs": [
    {
     "name": "stdout",
     "output_type": "stream",
     "text": [
      "count list Debug : [5]\n",
      "Rotate number round :  1\n",
      "rotate_num list 1 [5]\n",
      "rotate_num list 2 [1, 2, 3, 4]\n",
      "count list Debug : [5, 0]\n",
      "Rotate number round :  2\n",
      "rotate_num list 1 [4, 5]\n",
      "rotate_num list 2 [1, 2, 3]\n",
      "count list Debug : [5, 0, 0]\n",
      "Rotate number round :  3\n",
      "rotate_num list 1 [3, 4, 5]\n",
      "rotate_num list 2 [1, 2]\n",
      "count list Debug : [5, 0, 0, 0]\n",
      "Rotate number round :  4\n",
      "rotate_num list 1 [2, 3, 4, 5]\n",
      "rotate_num list 2 [1]\n",
      "count list Debug : [5, 0, 0, 0, 0]\n",
      "Best Shift Result :  0\n",
      "count list Debug : [0]\n",
      "Rotate number round :  1\n",
      "rotate_num list 1 [1]\n",
      "rotate_num list 2 [2, 3, 4, 5]\n",
      "count list Debug : [0, 5]\n",
      "Rotate number round :  2\n",
      "rotate_num list 1 [5, 1]\n",
      "rotate_num list 2 [2, 3, 4]\n",
      "count list Debug : [0, 5, 0]\n",
      "Rotate number round :  3\n",
      "rotate_num list 1 [4, 5, 1]\n",
      "rotate_num list 2 [2, 3]\n",
      "count list Debug : [0, 5, 0, 0]\n",
      "Rotate number round :  4\n",
      "rotate_num list 1 [3, 4, 5, 1]\n",
      "rotate_num list 2 [2]\n",
      "count list Debug : [0, 5, 0, 0, 0]\n",
      "Best Shift Result :  1\n",
      "count list Debug : [0]\n",
      "Rotate number round :  1\n",
      "rotate_num list 1 [5]\n",
      "rotate_num list 2 [1, 2, 3, 4]\n",
      "count list Debug : [0, 0]\n",
      "Rotate number round :  2\n",
      "rotate_num list 1 [4, 5]\n",
      "rotate_num list 2 [1, 2, 3]\n",
      "count list Debug : [0, 0, 0]\n",
      "Rotate number round :  3\n",
      "rotate_num list 1 [3, 4, 5]\n",
      "rotate_num list 2 [1, 2]\n",
      "count list Debug : [0, 0, 0, 0]\n",
      "Rotate number round :  4\n",
      "rotate_num list 1 [2, 3, 4, 5]\n",
      "rotate_num list 2 [1]\n",
      "count list Debug : [0, 0, 0, 0, 5]\n",
      "Best Shift Result :  4\n",
      "count list Debug : [0]\n",
      "Rotate number round :  1\n",
      "rotate_num list 1 [1]\n",
      "rotate_num list 2 [2, 0, 4, 5]\n",
      "count list Debug : [0, 4]\n",
      "Rotate number round :  2\n",
      "rotate_num list 1 [5, 1]\n",
      "rotate_num list 2 [2, 0, 4]\n",
      "count list Debug : [0, 4, 0]\n",
      "Rotate number round :  3\n",
      "rotate_num list 1 [4, 5, 1]\n",
      "rotate_num list 2 [2, 0]\n",
      "count list Debug : [0, 4, 0, 0]\n",
      "Rotate number round :  4\n",
      "rotate_num list 1 [0, 4, 5, 1]\n",
      "rotate_num list 2 [2]\n",
      "count list Debug : [0, 4, 0, 0, 0]\n",
      "Best Shift Result :  1\n",
      "All tests passed\n"
     ]
    }
   ],
   "execution_count": 180,
   "source": [
    "# TESTS\n",
    "assert align_lists([1, 2, 3, 4, 5], [1, 2, 3, 4, 5]) == 0\n",
    "assert align_lists([1, 2, 3, 4, 5], [2, 3, 4, 5, 1]) == 1\n",
    "assert align_lists([2, 3, 4, 5, 1], [1, 2, 3, 4, 5]) == 4\n",
    "assert align_lists([1, 2, 3, 4, 5], [2, 0, 4, 5, 1]) == 1\n",
    "print(\"All tests passed\")\n"
   ],
   "id": "2863a723"
  },
  {
   "metadata": {},
   "cell_type": "markdown",
   "source": [
    "#### DNA sequence alignment demo\n",
    "\n",
    "If you have written the functions correctly, the following gene sequence alignment demo should work. \n",
    "\n",
    "DNA sequences can be represented by sequences of the symbols A, C, G and T representing the four `bases` that appear in DNA. The demo imagines that you have two snippets of DNA and wish to compare them by seeing how many matching bases they have. However, the two sequences are not aligned, i.e. the snippets don't start at exactly the same position in the DNA sequence. The demo will align the sequences by shifting one of them to the right and then score the alignment by counting the number of matching bases. The alignment with the highest score is the best alignment and is used to compute the similarity between the two sequences, i.e. the percentage of bases that match.\n",
    "\n",
    "\n",
    "\n",
    "❗ Note how the demo is passing strings to functions that expect lists. This works because in Python strings are represented as lists of characters. A string can be used in any place that expects a list.\n"
   ],
   "id": "f5a141ba"
  },
  {
   "metadata": {
    "ExecuteTime": {
     "end_time": "2024-10-06T16:59:49.183377Z",
     "start_time": "2024-10-06T16:59:49.176056Z"
    }
   },
   "cell_type": "code",
   "outputs": [
    {
     "name": "stdout",
     "output_type": "stream",
     "text": [
      "count list Debug : [20]\n",
      "Rotate number round :  1\n",
      "rotate_num list 1 G\n",
      "rotate_num list 2 GGGTAAAAAAGGGCACTTAACCCTTCAGATGACGACCCTGCGTGAGCTGCCGCCAGAAGAGCGTCCGGCAGCTGGTGCG\n",
      "count list Debug : [20, 18]\n",
      "Rotate number round :  2\n",
      "rotate_num list 1 GG\n",
      "rotate_num list 2 GGGTAAAAAAGGGCACTTAACCCTTCAGATGACGACCCTGCGTGAGCTGCCGCCAGAAGAGCGTCCGGCAGCTGGTGC\n",
      "count list Debug : [20, 18, 16]\n",
      "Rotate number round :  3\n",
      "rotate_num list 1 CGG\n",
      "rotate_num list 2 GGGTAAAAAAGGGCACTTAACCCTTCAGATGACGACCCTGCGTGAGCTGCCGCCAGAAGAGCGTCCGGCAGCTGGTG\n",
      "count list Debug : [20, 18, 16, 20]\n",
      "Rotate number round :  4\n",
      "rotate_num list 1 GCGG\n",
      "rotate_num list 2 GGGTAAAAAAGGGCACTTAACCCTTCAGATGACGACCCTGCGTGAGCTGCCGCCAGAAGAGCGTCCGGCAGCTGGT\n",
      "count list Debug : [20, 18, 16, 20, 25]\n",
      "Rotate number round :  5\n",
      "rotate_num list 1 TGCGG\n",
      "rotate_num list 2 GGGTAAAAAAGGGCACTTAACCCTTCAGATGACGACCCTGCGTGAGCTGCCGCCAGAAGAGCGTCCGGCAGCTGG\n",
      "count list Debug : [20, 18, 16, 20, 25, 17]\n",
      "Rotate number round :  6\n",
      "rotate_num list 1 GTGCGG\n",
      "rotate_num list 2 GGGTAAAAAAGGGCACTTAACCCTTCAGATGACGACCCTGCGTGAGCTGCCGCCAGAAGAGCGTCCGGCAGCTG\n",
      "count list Debug : [20, 18, 16, 20, 25, 17, 25]\n",
      "Rotate number round :  7\n",
      "rotate_num list 1 GGTGCGG\n",
      "rotate_num list 2 GGGTAAAAAAGGGCACTTAACCCTTCAGATGACGACCCTGCGTGAGCTGCCGCCAGAAGAGCGTCCGGCAGCT\n",
      "count list Debug : [20, 18, 16, 20, 25, 17, 25, 71]\n",
      "Rotate number round :  8\n",
      "rotate_num list 1 TGGTGCGG\n",
      "rotate_num list 2 GGGTAAAAAAGGGCACTTAACCCTTCAGATGACGACCCTGCGTGAGCTGCCGCCAGAAGAGCGTCCGGCAGC\n",
      "count list Debug : [20, 18, 16, 20, 25, 17, 25, 71, 28]\n",
      "Rotate number round :  9\n",
      "rotate_num list 1 CTGGTGCGG\n",
      "rotate_num list 2 GGGTAAAAAAGGGCACTTAACCCTTCAGATGACGACCCTGCGTGAGCTGCCGCCAGAAGAGCGTCCGGCAG\n",
      "count list Debug : [20, 18, 16, 20, 25, 17, 25, 71, 28, 19]\n",
      "Rotate number round :  10\n",
      "rotate_num list 1 GCTGGTGCGG\n",
      "rotate_num list 2 GGGTAAAAAAGGGCACTTAACCCTTCAGATGACGACCCTGCGTGAGCTGCCGCCAGAAGAGCGTCCGGCA\n",
      "count list Debug : [20, 18, 16, 20, 25, 17, 25, 71, 28, 19, 28]\n",
      "Rotate number round :  11\n",
      "rotate_num list 1 AGCTGGTGCGG\n",
      "rotate_num list 2 GGGTAAAAAAGGGCACTTAACCCTTCAGATGACGACCCTGCGTGAGCTGCCGCCAGAAGAGCGTCCGGC\n",
      "count list Debug : [20, 18, 16, 20, 25, 17, 25, 71, 28, 19, 28, 22]\n",
      "Rotate number round :  12\n",
      "rotate_num list 1 CAGCTGGTGCGG\n",
      "rotate_num list 2 GGGTAAAAAAGGGCACTTAACCCTTCAGATGACGACCCTGCGTGAGCTGCCGCCAGAAGAGCGTCCGG\n",
      "count list Debug : [20, 18, 16, 20, 25, 17, 25, 71, 28, 19, 28, 22, 18]\n",
      "Rotate number round :  13\n",
      "rotate_num list 1 GCAGCTGGTGCGG\n",
      "rotate_num list 2 GGGTAAAAAAGGGCACTTAACCCTTCAGATGACGACCCTGCGTGAGCTGCCGCCAGAAGAGCGTCCG\n",
      "count list Debug : [20, 18, 16, 20, 25, 17, 25, 71, 28, 19, 28, 22, 18, 20]\n",
      "Rotate number round :  14\n",
      "rotate_num list 1 GGCAGCTGGTGCGG\n",
      "rotate_num list 2 GGGTAAAAAAGGGCACTTAACCCTTCAGATGACGACCCTGCGTGAGCTGCCGCCAGAAGAGCGTCC\n",
      "count list Debug : [20, 18, 16, 20, 25, 17, 25, 71, 28, 19, 28, 22, 18, 20, 21]\n",
      "Rotate number round :  15\n",
      "rotate_num list 1 CGGCAGCTGGTGCGG\n",
      "rotate_num list 2 GGGTAAAAAAGGGCACTTAACCCTTCAGATGACGACCCTGCGTGAGCTGCCGCCAGAAGAGCGTC\n",
      "count list Debug : [20, 18, 16, 20, 25, 17, 25, 71, 28, 19, 28, 22, 18, 20, 21, 14]\n",
      "Rotate number round :  16\n",
      "rotate_num list 1 CCGGCAGCTGGTGCGG\n",
      "rotate_num list 2 GGGTAAAAAAGGGCACTTAACCCTTCAGATGACGACCCTGCGTGAGCTGCCGCCAGAAGAGCGT\n",
      "count list Debug : [20, 18, 16, 20, 25, 17, 25, 71, 28, 19, 28, 22, 18, 20, 21, 14, 20]\n",
      "Rotate number round :  17\n",
      "rotate_num list 1 TCCGGCAGCTGGTGCGG\n",
      "rotate_num list 2 GGGTAAAAAAGGGCACTTAACCCTTCAGATGACGACCCTGCGTGAGCTGCCGCCAGAAGAGCG\n",
      "count list Debug : [20, 18, 16, 20, 25, 17, 25, 71, 28, 19, 28, 22, 18, 20, 21, 14, 20, 22]\n",
      "Rotate number round :  18\n",
      "rotate_num list 1 GTCCGGCAGCTGGTGCGG\n",
      "rotate_num list 2 GGGTAAAAAAGGGCACTTAACCCTTCAGATGACGACCCTGCGTGAGCTGCCGCCAGAAGAGC\n",
      "count list Debug : [20, 18, 16, 20, 25, 17, 25, 71, 28, 19, 28, 22, 18, 20, 21, 14, 20, 22, 16]\n",
      "Rotate number round :  19\n",
      "rotate_num list 1 CGTCCGGCAGCTGGTGCGG\n",
      "rotate_num list 2 GGGTAAAAAAGGGCACTTAACCCTTCAGATGACGACCCTGCGTGAGCTGCCGCCAGAAGAG\n",
      "count list Debug : [20, 18, 16, 20, 25, 17, 25, 71, 28, 19, 28, 22, 18, 20, 21, 14, 20, 22, 16, 26]\n",
      "Rotate number round :  20\n",
      "rotate_num list 1 GCGTCCGGCAGCTGGTGCGG\n",
      "rotate_num list 2 GGGTAAAAAAGGGCACTTAACCCTTCAGATGACGACCCTGCGTGAGCTGCCGCCAGAAGA\n",
      "count list Debug : [20, 18, 16, 20, 25, 17, 25, 71, 28, 19, 28, 22, 18, 20, 21, 14, 20, 22, 16, 26, 25]\n",
      "Rotate number round :  21\n",
      "rotate_num list 1 AGCGTCCGGCAGCTGGTGCGG\n",
      "rotate_num list 2 GGGTAAAAAAGGGCACTTAACCCTTCAGATGACGACCCTGCGTGAGCTGCCGCCAGAAG\n",
      "count list Debug : [20, 18, 16, 20, 25, 17, 25, 71, 28, 19, 28, 22, 18, 20, 21, 14, 20, 22, 16, 26, 25, 17]\n",
      "Rotate number round :  22\n",
      "rotate_num list 1 GAGCGTCCGGCAGCTGGTGCGG\n",
      "rotate_num list 2 GGGTAAAAAAGGGCACTTAACCCTTCAGATGACGACCCTGCGTGAGCTGCCGCCAGAA\n",
      "count list Debug : [20, 18, 16, 20, 25, 17, 25, 71, 28, 19, 28, 22, 18, 20, 21, 14, 20, 22, 16, 26, 25, 17, 30]\n",
      "Rotate number round :  23\n",
      "rotate_num list 1 AGAGCGTCCGGCAGCTGGTGCGG\n",
      "rotate_num list 2 GGGTAAAAAAGGGCACTTAACCCTTCAGATGACGACCCTGCGTGAGCTGCCGCCAGA\n",
      "count list Debug : [20, 18, 16, 20, 25, 17, 25, 71, 28, 19, 28, 22, 18, 20, 21, 14, 20, 22, 16, 26, 25, 17, 30, 18]\n",
      "Rotate number round :  24\n",
      "rotate_num list 1 AAGAGCGTCCGGCAGCTGGTGCGG\n",
      "rotate_num list 2 GGGTAAAAAAGGGCACTTAACCCTTCAGATGACGACCCTGCGTGAGCTGCCGCCAG\n",
      "count list Debug : [20, 18, 16, 20, 25, 17, 25, 71, 28, 19, 28, 22, 18, 20, 21, 14, 20, 22, 16, 26, 25, 17, 30, 18, 16]\n",
      "Rotate number round :  25\n",
      "rotate_num list 1 GAAGAGCGTCCGGCAGCTGGTGCGG\n",
      "rotate_num list 2 GGGTAAAAAAGGGCACTTAACCCTTCAGATGACGACCCTGCGTGAGCTGCCGCCA\n",
      "count list Debug : [20, 18, 16, 20, 25, 17, 25, 71, 28, 19, 28, 22, 18, 20, 21, 14, 20, 22, 16, 26, 25, 17, 30, 18, 16, 25]\n",
      "Rotate number round :  26\n",
      "rotate_num list 1 AGAAGAGCGTCCGGCAGCTGGTGCGG\n",
      "rotate_num list 2 GGGTAAAAAAGGGCACTTAACCCTTCAGATGACGACCCTGCGTGAGCTGCCGCC\n",
      "count list Debug : [20, 18, 16, 20, 25, 17, 25, 71, 28, 19, 28, 22, 18, 20, 21, 14, 20, 22, 16, 26, 25, 17, 30, 18, 16, 25, 22]\n",
      "Rotate number round :  27\n",
      "rotate_num list 1 CAGAAGAGCGTCCGGCAGCTGGTGCGG\n",
      "rotate_num list 2 GGGTAAAAAAGGGCACTTAACCCTTCAGATGACGACCCTGCGTGAGCTGCCGC\n",
      "count list Debug : [20, 18, 16, 20, 25, 17, 25, 71, 28, 19, 28, 22, 18, 20, 21, 14, 20, 22, 16, 26, 25, 17, 30, 18, 16, 25, 22, 15]\n",
      "Rotate number round :  28\n",
      "rotate_num list 1 CCAGAAGAGCGTCCGGCAGCTGGTGCGG\n",
      "rotate_num list 2 GGGTAAAAAAGGGCACTTAACCCTTCAGATGACGACCCTGCGTGAGCTGCCG\n",
      "count list Debug : [20, 18, 16, 20, 25, 17, 25, 71, 28, 19, 28, 22, 18, 20, 21, 14, 20, 22, 16, 26, 25, 17, 30, 18, 16, 25, 22, 15, 24]\n",
      "Rotate number round :  29\n",
      "rotate_num list 1 GCCAGAAGAGCGTCCGGCAGCTGGTGCGG\n",
      "rotate_num list 2 GGGTAAAAAAGGGCACTTAACCCTTCAGATGACGACCCTGCGTGAGCTGCC\n",
      "count list Debug : [20, 18, 16, 20, 25, 17, 25, 71, 28, 19, 28, 22, 18, 20, 21, 14, 20, 22, 16, 26, 25, 17, 30, 18, 16, 25, 22, 15, 24, 21]\n",
      "Rotate number round :  30\n",
      "rotate_num list 1 CGCCAGAAGAGCGTCCGGCAGCTGGTGCGG\n",
      "rotate_num list 2 GGGTAAAAAAGGGCACTTAACCCTTCAGATGACGACCCTGCGTGAGCTGC\n",
      "count list Debug : [20, 18, 16, 20, 25, 17, 25, 71, 28, 19, 28, 22, 18, 20, 21, 14, 20, 22, 16, 26, 25, 17, 30, 18, 16, 25, 22, 15, 24, 21, 11]\n",
      "Rotate number round :  31\n",
      "rotate_num list 1 CCGCCAGAAGAGCGTCCGGCAGCTGGTGCGG\n",
      "rotate_num list 2 GGGTAAAAAAGGGCACTTAACCCTTCAGATGACGACCCTGCGTGAGCTG\n",
      "count list Debug : [20, 18, 16, 20, 25, 17, 25, 71, 28, 19, 28, 22, 18, 20, 21, 14, 20, 22, 16, 26, 25, 17, 30, 18, 16, 25, 22, 15, 24, 21, 11, 17]\n",
      "Rotate number round :  32\n",
      "rotate_num list 1 GCCGCCAGAAGAGCGTCCGGCAGCTGGTGCGG\n",
      "rotate_num list 2 GGGTAAAAAAGGGCACTTAACCCTTCAGATGACGACCCTGCGTGAGCT\n",
      "count list Debug : [20, 18, 16, 20, 25, 17, 25, 71, 28, 19, 28, 22, 18, 20, 21, 14, 20, 22, 16, 26, 25, 17, 30, 18, 16, 25, 22, 15, 24, 21, 11, 17, 29]\n",
      "Rotate number round :  33\n",
      "rotate_num list 1 TGCCGCCAGAAGAGCGTCCGGCAGCTGGTGCGG\n",
      "rotate_num list 2 GGGTAAAAAAGGGCACTTAACCCTTCAGATGACGACCCTGCGTGAGC\n",
      "count list Debug : [20, 18, 16, 20, 25, 17, 25, 71, 28, 19, 28, 22, 18, 20, 21, 14, 20, 22, 16, 26, 25, 17, 30, 18, 16, 25, 22, 15, 24, 21, 11, 17, 29, 15]\n",
      "Rotate number round :  34\n",
      "rotate_num list 1 CTGCCGCCAGAAGAGCGTCCGGCAGCTGGTGCGG\n",
      "rotate_num list 2 GGGTAAAAAAGGGCACTTAACCCTTCAGATGACGACCCTGCGTGAG\n",
      "count list Debug : [20, 18, 16, 20, 25, 17, 25, 71, 28, 19, 28, 22, 18, 20, 21, 14, 20, 22, 16, 26, 25, 17, 30, 18, 16, 25, 22, 15, 24, 21, 11, 17, 29, 15, 16]\n",
      "Rotate number round :  35\n",
      "rotate_num list 1 GCTGCCGCCAGAAGAGCGTCCGGCAGCTGGTGCGG\n",
      "rotate_num list 2 GGGTAAAAAAGGGCACTTAACCCTTCAGATGACGACCCTGCGTGA\n",
      "count list Debug : [20, 18, 16, 20, 25, 17, 25, 71, 28, 19, 28, 22, 18, 20, 21, 14, 20, 22, 16, 26, 25, 17, 30, 18, 16, 25, 22, 15, 24, 21, 11, 17, 29, 15, 16, 24]\n",
      "Rotate number round :  36\n",
      "rotate_num list 1 AGCTGCCGCCAGAAGAGCGTCCGGCAGCTGGTGCGG\n",
      "rotate_num list 2 GGGTAAAAAAGGGCACTTAACCCTTCAGATGACGACCCTGCGTG\n",
      "count list Debug : [20, 18, 16, 20, 25, 17, 25, 71, 28, 19, 28, 22, 18, 20, 21, 14, 20, 22, 16, 26, 25, 17, 30, 18, 16, 25, 22, 15, 24, 21, 11, 17, 29, 15, 16, 24, 23]\n",
      "Rotate number round :  37\n",
      "rotate_num list 1 GAGCTGCCGCCAGAAGAGCGTCCGGCAGCTGGTGCGG\n",
      "rotate_num list 2 GGGTAAAAAAGGGCACTTAACCCTTCAGATGACGACCCTGCGT\n",
      "count list Debug : [20, 18, 16, 20, 25, 17, 25, 71, 28, 19, 28, 22, 18, 20, 21, 14, 20, 22, 16, 26, 25, 17, 30, 18, 16, 25, 22, 15, 24, 21, 11, 17, 29, 15, 16, 24, 23, 21]\n",
      "Rotate number round :  38\n",
      "rotate_num list 1 TGAGCTGCCGCCAGAAGAGCGTCCGGCAGCTGGTGCGG\n",
      "rotate_num list 2 GGGTAAAAAAGGGCACTTAACCCTTCAGATGACGACCCTGCG\n",
      "count list Debug : [20, 18, 16, 20, 25, 17, 25, 71, 28, 19, 28, 22, 18, 20, 21, 14, 20, 22, 16, 26, 25, 17, 30, 18, 16, 25, 22, 15, 24, 21, 11, 17, 29, 15, 16, 24, 23, 21, 23]\n",
      "Rotate number round :  39\n",
      "rotate_num list 1 GTGAGCTGCCGCCAGAAGAGCGTCCGGCAGCTGGTGCGG\n",
      "rotate_num list 2 GGGTAAAAAAGGGCACTTAACCCTTCAGATGACGACCCTGC\n",
      "count list Debug : [20, 18, 16, 20, 25, 17, 25, 71, 28, 19, 28, 22, 18, 20, 21, 14, 20, 22, 16, 26, 25, 17, 30, 18, 16, 25, 22, 15, 24, 21, 11, 17, 29, 15, 16, 24, 23, 21, 23, 19]\n",
      "Rotate number round :  40\n",
      "rotate_num list 1 CGTGAGCTGCCGCCAGAAGAGCGTCCGGCAGCTGGTGCGG\n",
      "rotate_num list 2 GGGTAAAAAAGGGCACTTAACCCTTCAGATGACGACCCTG\n",
      "count list Debug : [20, 18, 16, 20, 25, 17, 25, 71, 28, 19, 28, 22, 18, 20, 21, 14, 20, 22, 16, 26, 25, 17, 30, 18, 16, 25, 22, 15, 24, 21, 11, 17, 29, 15, 16, 24, 23, 21, 23, 19, 16]\n",
      "Rotate number round :  41\n",
      "rotate_num list 1 GCGTGAGCTGCCGCCAGAAGAGCGTCCGGCAGCTGGTGCGG\n",
      "rotate_num list 2 GGGTAAAAAAGGGCACTTAACCCTTCAGATGACGACCCT\n",
      "count list Debug : [20, 18, 16, 20, 25, 17, 25, 71, 28, 19, 28, 22, 18, 20, 21, 14, 20, 22, 16, 26, 25, 17, 30, 18, 16, 25, 22, 15, 24, 21, 11, 17, 29, 15, 16, 24, 23, 21, 23, 19, 16, 20]\n",
      "Rotate number round :  42\n",
      "rotate_num list 1 TGCGTGAGCTGCCGCCAGAAGAGCGTCCGGCAGCTGGTGCGG\n",
      "rotate_num list 2 GGGTAAAAAAGGGCACTTAACCCTTCAGATGACGACCC\n",
      "count list Debug : [20, 18, 16, 20, 25, 17, 25, 71, 28, 19, 28, 22, 18, 20, 21, 14, 20, 22, 16, 26, 25, 17, 30, 18, 16, 25, 22, 15, 24, 21, 11, 17, 29, 15, 16, 24, 23, 21, 23, 19, 16, 20, 13]\n",
      "Rotate number round :  43\n",
      "rotate_num list 1 CTGCGTGAGCTGCCGCCAGAAGAGCGTCCGGCAGCTGGTGCGG\n",
      "rotate_num list 2 GGGTAAAAAAGGGCACTTAACCCTTCAGATGACGACC\n",
      "count list Debug : [20, 18, 16, 20, 25, 17, 25, 71, 28, 19, 28, 22, 18, 20, 21, 14, 20, 22, 16, 26, 25, 17, 30, 18, 16, 25, 22, 15, 24, 21, 11, 17, 29, 15, 16, 24, 23, 21, 23, 19, 16, 20, 13, 15]\n",
      "Rotate number round :  44\n",
      "rotate_num list 1 CCTGCGTGAGCTGCCGCCAGAAGAGCGTCCGGCAGCTGGTGCGG\n",
      "rotate_num list 2 GGGTAAAAAAGGGCACTTAACCCTTCAGATGACGAC\n",
      "count list Debug : [20, 18, 16, 20, 25, 17, 25, 71, 28, 19, 28, 22, 18, 20, 21, 14, 20, 22, 16, 26, 25, 17, 30, 18, 16, 25, 22, 15, 24, 21, 11, 17, 29, 15, 16, 24, 23, 21, 23, 19, 16, 20, 13, 15, 19]\n",
      "Rotate number round :  45\n",
      "rotate_num list 1 CCCTGCGTGAGCTGCCGCCAGAAGAGCGTCCGGCAGCTGGTGCGG\n",
      "rotate_num list 2 GGGTAAAAAAGGGCACTTAACCCTTCAGATGACGA\n",
      "count list Debug : [20, 18, 16, 20, 25, 17, 25, 71, 28, 19, 28, 22, 18, 20, 21, 14, 20, 22, 16, 26, 25, 17, 30, 18, 16, 25, 22, 15, 24, 21, 11, 17, 29, 15, 16, 24, 23, 21, 23, 19, 16, 20, 13, 15, 19, 16]\n",
      "Rotate number round :  46\n",
      "rotate_num list 1 ACCCTGCGTGAGCTGCCGCCAGAAGAGCGTCCGGCAGCTGGTGCGG\n",
      "rotate_num list 2 GGGTAAAAAAGGGCACTTAACCCTTCAGATGACG\n",
      "count list Debug : [20, 18, 16, 20, 25, 17, 25, 71, 28, 19, 28, 22, 18, 20, 21, 14, 20, 22, 16, 26, 25, 17, 30, 18, 16, 25, 22, 15, 24, 21, 11, 17, 29, 15, 16, 24, 23, 21, 23, 19, 16, 20, 13, 15, 19, 16, 18]\n",
      "Rotate number round :  47\n",
      "rotate_num list 1 GACCCTGCGTGAGCTGCCGCCAGAAGAGCGTCCGGCAGCTGGTGCGG\n",
      "rotate_num list 2 GGGTAAAAAAGGGCACTTAACCCTTCAGATGAC\n",
      "count list Debug : [20, 18, 16, 20, 25, 17, 25, 71, 28, 19, 28, 22, 18, 20, 21, 14, 20, 22, 16, 26, 25, 17, 30, 18, 16, 25, 22, 15, 24, 21, 11, 17, 29, 15, 16, 24, 23, 21, 23, 19, 16, 20, 13, 15, 19, 16, 18, 25]\n",
      "Rotate number round :  48\n",
      "rotate_num list 1 CGACCCTGCGTGAGCTGCCGCCAGAAGAGCGTCCGGCAGCTGGTGCGG\n",
      "rotate_num list 2 GGGTAAAAAAGGGCACTTAACCCTTCAGATGA\n",
      "count list Debug : [20, 18, 16, 20, 25, 17, 25, 71, 28, 19, 28, 22, 18, 20, 21, 14, 20, 22, 16, 26, 25, 17, 30, 18, 16, 25, 22, 15, 24, 21, 11, 17, 29, 15, 16, 24, 23, 21, 23, 19, 16, 20, 13, 15, 19, 16, 18, 25, 19]\n",
      "Rotate number round :  49\n",
      "rotate_num list 1 ACGACCCTGCGTGAGCTGCCGCCAGAAGAGCGTCCGGCAGCTGGTGCGG\n",
      "rotate_num list 2 GGGTAAAAAAGGGCACTTAACCCTTCAGATG\n",
      "count list Debug : [20, 18, 16, 20, 25, 17, 25, 71, 28, 19, 28, 22, 18, 20, 21, 14, 20, 22, 16, 26, 25, 17, 30, 18, 16, 25, 22, 15, 24, 21, 11, 17, 29, 15, 16, 24, 23, 21, 23, 19, 16, 20, 13, 15, 19, 16, 18, 25, 19, 11]\n",
      "Rotate number round :  50\n",
      "rotate_num list 1 GACGACCCTGCGTGAGCTGCCGCCAGAAGAGCGTCCGGCAGCTGGTGCGG\n",
      "rotate_num list 2 GGGTAAAAAAGGGCACTTAACCCTTCAGAT\n",
      "count list Debug : [20, 18, 16, 20, 25, 17, 25, 71, 28, 19, 28, 22, 18, 20, 21, 14, 20, 22, 16, 26, 25, 17, 30, 18, 16, 25, 22, 15, 24, 21, 11, 17, 29, 15, 16, 24, 23, 21, 23, 19, 16, 20, 13, 15, 19, 16, 18, 25, 19, 11, 26]\n",
      "Rotate number round :  51\n",
      "rotate_num list 1 TGACGACCCTGCGTGAGCTGCCGCCAGAAGAGCGTCCGGCAGCTGGTGCGG\n",
      "rotate_num list 2 GGGTAAAAAAGGGCACTTAACCCTTCAGA\n",
      "count list Debug : [20, 18, 16, 20, 25, 17, 25, 71, 28, 19, 28, 22, 18, 20, 21, 14, 20, 22, 16, 26, 25, 17, 30, 18, 16, 25, 22, 15, 24, 21, 11, 17, 29, 15, 16, 24, 23, 21, 23, 19, 16, 20, 13, 15, 19, 16, 18, 25, 19, 11, 26, 18]\n",
      "Rotate number round :  52\n",
      "rotate_num list 1 ATGACGACCCTGCGTGAGCTGCCGCCAGAAGAGCGTCCGGCAGCTGGTGCGG\n",
      "rotate_num list 2 GGGTAAAAAAGGGCACTTAACCCTTCAG\n",
      "count list Debug : [20, 18, 16, 20, 25, 17, 25, 71, 28, 19, 28, 22, 18, 20, 21, 14, 20, 22, 16, 26, 25, 17, 30, 18, 16, 25, 22, 15, 24, 21, 11, 17, 29, 15, 16, 24, 23, 21, 23, 19, 16, 20, 13, 15, 19, 16, 18, 25, 19, 11, 26, 18, 12]\n",
      "Rotate number round :  53\n",
      "rotate_num list 1 GATGACGACCCTGCGTGAGCTGCCGCCAGAAGAGCGTCCGGCAGCTGGTGCGG\n",
      "rotate_num list 2 GGGTAAAAAAGGGCACTTAACCCTTCA\n",
      "count list Debug : [20, 18, 16, 20, 25, 17, 25, 71, 28, 19, 28, 22, 18, 20, 21, 14, 20, 22, 16, 26, 25, 17, 30, 18, 16, 25, 22, 15, 24, 21, 11, 17, 29, 15, 16, 24, 23, 21, 23, 19, 16, 20, 13, 15, 19, 16, 18, 25, 19, 11, 26, 18, 12, 18]\n",
      "Rotate number round :  54\n",
      "rotate_num list 1 AGATGACGACCCTGCGTGAGCTGCCGCCAGAAGAGCGTCCGGCAGCTGGTGCGG\n",
      "rotate_num list 2 GGGTAAAAAAGGGCACTTAACCCTTC\n",
      "count list Debug : [20, 18, 16, 20, 25, 17, 25, 71, 28, 19, 28, 22, 18, 20, 21, 14, 20, 22, 16, 26, 25, 17, 30, 18, 16, 25, 22, 15, 24, 21, 11, 17, 29, 15, 16, 24, 23, 21, 23, 19, 16, 20, 13, 15, 19, 16, 18, 25, 19, 11, 26, 18, 12, 18, 19]\n",
      "Rotate number round :  55\n",
      "rotate_num list 1 CAGATGACGACCCTGCGTGAGCTGCCGCCAGAAGAGCGTCCGGCAGCTGGTGCGG\n",
      "rotate_num list 2 GGGTAAAAAAGGGCACTTAACCCTT\n",
      "count list Debug : [20, 18, 16, 20, 25, 17, 25, 71, 28, 19, 28, 22, 18, 20, 21, 14, 20, 22, 16, 26, 25, 17, 30, 18, 16, 25, 22, 15, 24, 21, 11, 17, 29, 15, 16, 24, 23, 21, 23, 19, 16, 20, 13, 15, 19, 16, 18, 25, 19, 11, 26, 18, 12, 18, 19, 18]\n",
      "Rotate number round :  56\n",
      "rotate_num list 1 TCAGATGACGACCCTGCGTGAGCTGCCGCCAGAAGAGCGTCCGGCAGCTGGTGCGG\n",
      "rotate_num list 2 GGGTAAAAAAGGGCACTTAACCCT\n",
      "count list Debug : [20, 18, 16, 20, 25, 17, 25, 71, 28, 19, 28, 22, 18, 20, 21, 14, 20, 22, 16, 26, 25, 17, 30, 18, 16, 25, 22, 15, 24, 21, 11, 17, 29, 15, 16, 24, 23, 21, 23, 19, 16, 20, 13, 15, 19, 16, 18, 25, 19, 11, 26, 18, 12, 18, 19, 18, 24]\n",
      "Rotate number round :  57\n",
      "rotate_num list 1 TTCAGATGACGACCCTGCGTGAGCTGCCGCCAGAAGAGCGTCCGGCAGCTGGTGCGG\n",
      "rotate_num list 2 GGGTAAAAAAGGGCACTTAACCC\n",
      "count list Debug : [20, 18, 16, 20, 25, 17, 25, 71, 28, 19, 28, 22, 18, 20, 21, 14, 20, 22, 16, 26, 25, 17, 30, 18, 16, 25, 22, 15, 24, 21, 11, 17, 29, 15, 16, 24, 23, 21, 23, 19, 16, 20, 13, 15, 19, 16, 18, 25, 19, 11, 26, 18, 12, 18, 19, 18, 24, 25]\n",
      "Rotate number round :  58\n",
      "rotate_num list 1 CTTCAGATGACGACCCTGCGTGAGCTGCCGCCAGAAGAGCGTCCGGCAGCTGGTGCGG\n",
      "rotate_num list 2 GGGTAAAAAAGGGCACTTAACC\n",
      "count list Debug : [20, 18, 16, 20, 25, 17, 25, 71, 28, 19, 28, 22, 18, 20, 21, 14, 20, 22, 16, 26, 25, 17, 30, 18, 16, 25, 22, 15, 24, 21, 11, 17, 29, 15, 16, 24, 23, 21, 23, 19, 16, 20, 13, 15, 19, 16, 18, 25, 19, 11, 26, 18, 12, 18, 19, 18, 24, 25, 20]\n",
      "Rotate number round :  59\n",
      "rotate_num list 1 CCTTCAGATGACGACCCTGCGTGAGCTGCCGCCAGAAGAGCGTCCGGCAGCTGGTGCGG\n",
      "rotate_num list 2 GGGTAAAAAAGGGCACTTAAC\n",
      "count list Debug : [20, 18, 16, 20, 25, 17, 25, 71, 28, 19, 28, 22, 18, 20, 21, 14, 20, 22, 16, 26, 25, 17, 30, 18, 16, 25, 22, 15, 24, 21, 11, 17, 29, 15, 16, 24, 23, 21, 23, 19, 16, 20, 13, 15, 19, 16, 18, 25, 19, 11, 26, 18, 12, 18, 19, 18, 24, 25, 20, 28]\n",
      "Rotate number round :  60\n",
      "rotate_num list 1 CCCTTCAGATGACGACCCTGCGTGAGCTGCCGCCAGAAGAGCGTCCGGCAGCTGGTGCGG\n",
      "rotate_num list 2 GGGTAAAAAAGGGCACTTAA\n",
      "count list Debug : [20, 18, 16, 20, 25, 17, 25, 71, 28, 19, 28, 22, 18, 20, 21, 14, 20, 22, 16, 26, 25, 17, 30, 18, 16, 25, 22, 15, 24, 21, 11, 17, 29, 15, 16, 24, 23, 21, 23, 19, 16, 20, 13, 15, 19, 16, 18, 25, 19, 11, 26, 18, 12, 18, 19, 18, 24, 25, 20, 28, 22]\n",
      "Rotate number round :  61\n",
      "rotate_num list 1 ACCCTTCAGATGACGACCCTGCGTGAGCTGCCGCCAGAAGAGCGTCCGGCAGCTGGTGCGG\n",
      "rotate_num list 2 GGGTAAAAAAGGGCACTTA\n",
      "count list Debug : [20, 18, 16, 20, 25, 17, 25, 71, 28, 19, 28, 22, 18, 20, 21, 14, 20, 22, 16, 26, 25, 17, 30, 18, 16, 25, 22, 15, 24, 21, 11, 17, 29, 15, 16, 24, 23, 21, 23, 19, 16, 20, 13, 15, 19, 16, 18, 25, 19, 11, 26, 18, 12, 18, 19, 18, 24, 25, 20, 28, 22, 15]\n",
      "Rotate number round :  62\n",
      "rotate_num list 1 AACCCTTCAGATGACGACCCTGCGTGAGCTGCCGCCAGAAGAGCGTCCGGCAGCTGGTGCGG\n",
      "rotate_num list 2 GGGTAAAAAAGGGCACTT\n",
      "count list Debug : [20, 18, 16, 20, 25, 17, 25, 71, 28, 19, 28, 22, 18, 20, 21, 14, 20, 22, 16, 26, 25, 17, 30, 18, 16, 25, 22, 15, 24, 21, 11, 17, 29, 15, 16, 24, 23, 21, 23, 19, 16, 20, 13, 15, 19, 16, 18, 25, 19, 11, 26, 18, 12, 18, 19, 18, 24, 25, 20, 28, 22, 15, 31]\n",
      "Rotate number round :  63\n",
      "rotate_num list 1 TAACCCTTCAGATGACGACCCTGCGTGAGCTGCCGCCAGAAGAGCGTCCGGCAGCTGGTGCGG\n",
      "rotate_num list 2 GGGTAAAAAAGGGCACT\n",
      "count list Debug : [20, 18, 16, 20, 25, 17, 25, 71, 28, 19, 28, 22, 18, 20, 21, 14, 20, 22, 16, 26, 25, 17, 30, 18, 16, 25, 22, 15, 24, 21, 11, 17, 29, 15, 16, 24, 23, 21, 23, 19, 16, 20, 13, 15, 19, 16, 18, 25, 19, 11, 26, 18, 12, 18, 19, 18, 24, 25, 20, 28, 22, 15, 31, 21]\n",
      "Rotate number round :  64\n",
      "rotate_num list 1 TTAACCCTTCAGATGACGACCCTGCGTGAGCTGCCGCCAGAAGAGCGTCCGGCAGCTGGTGCGG\n",
      "rotate_num list 2 GGGTAAAAAAGGGCAC\n",
      "count list Debug : [20, 18, 16, 20, 25, 17, 25, 71, 28, 19, 28, 22, 18, 20, 21, 14, 20, 22, 16, 26, 25, 17, 30, 18, 16, 25, 22, 15, 24, 21, 11, 17, 29, 15, 16, 24, 23, 21, 23, 19, 16, 20, 13, 15, 19, 16, 18, 25, 19, 11, 26, 18, 12, 18, 19, 18, 24, 25, 20, 28, 22, 15, 31, 21, 15]\n",
      "Rotate number round :  65\n",
      "rotate_num list 1 CTTAACCCTTCAGATGACGACCCTGCGTGAGCTGCCGCCAGAAGAGCGTCCGGCAGCTGGTGCGG\n",
      "rotate_num list 2 GGGTAAAAAAGGGCA\n",
      "count list Debug : [20, 18, 16, 20, 25, 17, 25, 71, 28, 19, 28, 22, 18, 20, 21, 14, 20, 22, 16, 26, 25, 17, 30, 18, 16, 25, 22, 15, 24, 21, 11, 17, 29, 15, 16, 24, 23, 21, 23, 19, 16, 20, 13, 15, 19, 16, 18, 25, 19, 11, 26, 18, 12, 18, 19, 18, 24, 25, 20, 28, 22, 15, 31, 21, 15, 20]\n",
      "Rotate number round :  66\n",
      "rotate_num list 1 ACTTAACCCTTCAGATGACGACCCTGCGTGAGCTGCCGCCAGAAGAGCGTCCGGCAGCTGGTGCGG\n",
      "rotate_num list 2 GGGTAAAAAAGGGC\n",
      "count list Debug : [20, 18, 16, 20, 25, 17, 25, 71, 28, 19, 28, 22, 18, 20, 21, 14, 20, 22, 16, 26, 25, 17, 30, 18, 16, 25, 22, 15, 24, 21, 11, 17, 29, 15, 16, 24, 23, 21, 23, 19, 16, 20, 13, 15, 19, 16, 18, 25, 19, 11, 26, 18, 12, 18, 19, 18, 24, 25, 20, 28, 22, 15, 31, 21, 15, 20, 19]\n",
      "Rotate number round :  67\n",
      "rotate_num list 1 CACTTAACCCTTCAGATGACGACCCTGCGTGAGCTGCCGCCAGAAGAGCGTCCGGCAGCTGGTGCGG\n",
      "rotate_num list 2 GGGTAAAAAAGGG\n",
      "count list Debug : [20, 18, 16, 20, 25, 17, 25, 71, 28, 19, 28, 22, 18, 20, 21, 14, 20, 22, 16, 26, 25, 17, 30, 18, 16, 25, 22, 15, 24, 21, 11, 17, 29, 15, 16, 24, 23, 21, 23, 19, 16, 20, 13, 15, 19, 16, 18, 25, 19, 11, 26, 18, 12, 18, 19, 18, 24, 25, 20, 28, 22, 15, 31, 21, 15, 20, 19, 18]\n",
      "Rotate number round :  68\n",
      "rotate_num list 1 GCACTTAACCCTTCAGATGACGACCCTGCGTGAGCTGCCGCCAGAAGAGCGTCCGGCAGCTGGTGCGG\n",
      "rotate_num list 2 GGGTAAAAAAGG\n",
      "count list Debug : [20, 18, 16, 20, 25, 17, 25, 71, 28, 19, 28, 22, 18, 20, 21, 14, 20, 22, 16, 26, 25, 17, 30, 18, 16, 25, 22, 15, 24, 21, 11, 17, 29, 15, 16, 24, 23, 21, 23, 19, 16, 20, 13, 15, 19, 16, 18, 25, 19, 11, 26, 18, 12, 18, 19, 18, 24, 25, 20, 28, 22, 15, 31, 21, 15, 20, 19, 18, 21]\n",
      "Rotate number round :  69\n",
      "rotate_num list 1 GGCACTTAACCCTTCAGATGACGACCCTGCGTGAGCTGCCGCCAGAAGAGCGTCCGGCAGCTGGTGCGG\n",
      "rotate_num list 2 GGGTAAAAAAG\n",
      "count list Debug : [20, 18, 16, 20, 25, 17, 25, 71, 28, 19, 28, 22, 18, 20, 21, 14, 20, 22, 16, 26, 25, 17, 30, 18, 16, 25, 22, 15, 24, 21, 11, 17, 29, 15, 16, 24, 23, 21, 23, 19, 16, 20, 13, 15, 19, 16, 18, 25, 19, 11, 26, 18, 12, 18, 19, 18, 24, 25, 20, 28, 22, 15, 31, 21, 15, 20, 19, 18, 21, 20]\n",
      "Rotate number round :  70\n",
      "rotate_num list 1 GGGCACTTAACCCTTCAGATGACGACCCTGCGTGAGCTGCCGCCAGAAGAGCGTCCGGCAGCTGGTGCGG\n",
      "rotate_num list 2 GGGTAAAAAA\n",
      "count list Debug : [20, 18, 16, 20, 25, 17, 25, 71, 28, 19, 28, 22, 18, 20, 21, 14, 20, 22, 16, 26, 25, 17, 30, 18, 16, 25, 22, 15, 24, 21, 11, 17, 29, 15, 16, 24, 23, 21, 23, 19, 16, 20, 13, 15, 19, 16, 18, 25, 19, 11, 26, 18, 12, 18, 19, 18, 24, 25, 20, 28, 22, 15, 31, 21, 15, 20, 19, 18, 21, 20, 14]\n",
      "Rotate number round :  71\n",
      "rotate_num list 1 AGGGCACTTAACCCTTCAGATGACGACCCTGCGTGAGCTGCCGCCAGAAGAGCGTCCGGCAGCTGGTGCGG\n",
      "rotate_num list 2 GGGTAAAAA\n",
      "count list Debug : [20, 18, 16, 20, 25, 17, 25, 71, 28, 19, 28, 22, 18, 20, 21, 14, 20, 22, 16, 26, 25, 17, 30, 18, 16, 25, 22, 15, 24, 21, 11, 17, 29, 15, 16, 24, 23, 21, 23, 19, 16, 20, 13, 15, 19, 16, 18, 25, 19, 11, 26, 18, 12, 18, 19, 18, 24, 25, 20, 28, 22, 15, 31, 21, 15, 20, 19, 18, 21, 20, 14, 19]\n",
      "Rotate number round :  72\n",
      "rotate_num list 1 AAGGGCACTTAACCCTTCAGATGACGACCCTGCGTGAGCTGCCGCCAGAAGAGCGTCCGGCAGCTGGTGCGG\n",
      "rotate_num list 2 GGGTAAAA\n",
      "count list Debug : [20, 18, 16, 20, 25, 17, 25, 71, 28, 19, 28, 22, 18, 20, 21, 14, 20, 22, 16, 26, 25, 17, 30, 18, 16, 25, 22, 15, 24, 21, 11, 17, 29, 15, 16, 24, 23, 21, 23, 19, 16, 20, 13, 15, 19, 16, 18, 25, 19, 11, 26, 18, 12, 18, 19, 18, 24, 25, 20, 28, 22, 15, 31, 21, 15, 20, 19, 18, 21, 20, 14, 19, 28]\n",
      "Rotate number round :  73\n",
      "rotate_num list 1 AAAGGGCACTTAACCCTTCAGATGACGACCCTGCGTGAGCTGCCGCCAGAAGAGCGTCCGGCAGCTGGTGCGG\n",
      "rotate_num list 2 GGGTAAA\n",
      "count list Debug : [20, 18, 16, 20, 25, 17, 25, 71, 28, 19, 28, 22, 18, 20, 21, 14, 20, 22, 16, 26, 25, 17, 30, 18, 16, 25, 22, 15, 24, 21, 11, 17, 29, 15, 16, 24, 23, 21, 23, 19, 16, 20, 13, 15, 19, 16, 18, 25, 19, 11, 26, 18, 12, 18, 19, 18, 24, 25, 20, 28, 22, 15, 31, 21, 15, 20, 19, 18, 21, 20, 14, 19, 28, 20]\n",
      "Rotate number round :  74\n",
      "rotate_num list 1 AAAAGGGCACTTAACCCTTCAGATGACGACCCTGCGTGAGCTGCCGCCAGAAGAGCGTCCGGCAGCTGGTGCGG\n",
      "rotate_num list 2 GGGTAA\n",
      "count list Debug : [20, 18, 16, 20, 25, 17, 25, 71, 28, 19, 28, 22, 18, 20, 21, 14, 20, 22, 16, 26, 25, 17, 30, 18, 16, 25, 22, 15, 24, 21, 11, 17, 29, 15, 16, 24, 23, 21, 23, 19, 16, 20, 13, 15, 19, 16, 18, 25, 19, 11, 26, 18, 12, 18, 19, 18, 24, 25, 20, 28, 22, 15, 31, 21, 15, 20, 19, 18, 21, 20, 14, 19, 28, 20, 26]\n",
      "Rotate number round :  75\n",
      "rotate_num list 1 AAAAAGGGCACTTAACCCTTCAGATGACGACCCTGCGTGAGCTGCCGCCAGAAGAGCGTCCGGCAGCTGGTGCGG\n",
      "rotate_num list 2 GGGTA\n",
      "count list Debug : [20, 18, 16, 20, 25, 17, 25, 71, 28, 19, 28, 22, 18, 20, 21, 14, 20, 22, 16, 26, 25, 17, 30, 18, 16, 25, 22, 15, 24, 21, 11, 17, 29, 15, 16, 24, 23, 21, 23, 19, 16, 20, 13, 15, 19, 16, 18, 25, 19, 11, 26, 18, 12, 18, 19, 18, 24, 25, 20, 28, 22, 15, 31, 21, 15, 20, 19, 18, 21, 20, 14, 19, 28, 20, 26, 33]\n",
      "Rotate number round :  76\n",
      "rotate_num list 1 AAAAAAGGGCACTTAACCCTTCAGATGACGACCCTGCGTGAGCTGCCGCCAGAAGAGCGTCCGGCAGCTGGTGCGG\n",
      "rotate_num list 2 GGGT\n",
      "count list Debug : [20, 18, 16, 20, 25, 17, 25, 71, 28, 19, 28, 22, 18, 20, 21, 14, 20, 22, 16, 26, 25, 17, 30, 18, 16, 25, 22, 15, 24, 21, 11, 17, 29, 15, 16, 24, 23, 21, 23, 19, 16, 20, 13, 15, 19, 16, 18, 25, 19, 11, 26, 18, 12, 18, 19, 18, 24, 25, 20, 28, 22, 15, 31, 21, 15, 20, 19, 18, 21, 20, 14, 19, 28, 20, 26, 33, 20]\n",
      "Rotate number round :  77\n",
      "rotate_num list 1 TAAAAAAGGGCACTTAACCCTTCAGATGACGACCCTGCGTGAGCTGCCGCCAGAAGAGCGTCCGGCAGCTGGTGCGG\n",
      "rotate_num list 2 GGG\n",
      "count list Debug : [20, 18, 16, 20, 25, 17, 25, 71, 28, 19, 28, 22, 18, 20, 21, 14, 20, 22, 16, 26, 25, 17, 30, 18, 16, 25, 22, 15, 24, 21, 11, 17, 29, 15, 16, 24, 23, 21, 23, 19, 16, 20, 13, 15, 19, 16, 18, 25, 19, 11, 26, 18, 12, 18, 19, 18, 24, 25, 20, 28, 22, 15, 31, 21, 15, 20, 19, 18, 21, 20, 14, 19, 28, 20, 26, 33, 20, 24]\n",
      "Rotate number round :  78\n",
      "rotate_num list 1 GTAAAAAAGGGCACTTAACCCTTCAGATGACGACCCTGCGTGAGCTGCCGCCAGAAGAGCGTCCGGCAGCTGGTGCGG\n",
      "rotate_num list 2 GG\n",
      "count list Debug : [20, 18, 16, 20, 25, 17, 25, 71, 28, 19, 28, 22, 18, 20, 21, 14, 20, 22, 16, 26, 25, 17, 30, 18, 16, 25, 22, 15, 24, 21, 11, 17, 29, 15, 16, 24, 23, 21, 23, 19, 16, 20, 13, 15, 19, 16, 18, 25, 19, 11, 26, 18, 12, 18, 19, 18, 24, 25, 20, 28, 22, 15, 31, 21, 15, 20, 19, 18, 21, 20, 14, 19, 28, 20, 26, 33, 20, 24, 22]\n",
      "Rotate number round :  79\n",
      "rotate_num list 1 GGTAAAAAAGGGCACTTAACCCTTCAGATGACGACCCTGCGTGAGCTGCCGCCAGAAGAGCGTCCGGCAGCTGGTGCGG\n",
      "rotate_num list 2 G\n",
      "count list Debug : [20, 18, 16, 20, 25, 17, 25, 71, 28, 19, 28, 22, 18, 20, 21, 14, 20, 22, 16, 26, 25, 17, 30, 18, 16, 25, 22, 15, 24, 21, 11, 17, 29, 15, 16, 24, 23, 21, 23, 19, 16, 20, 13, 15, 19, 16, 18, 25, 19, 11, 26, 18, 12, 18, 19, 18, 24, 25, 20, 28, 22, 15, 31, 21, 15, 20, 19, 18, 21, 20, 14, 19, 28, 20, 26, 33, 20, 24, 22, 17]\n",
      "Best Shift Result :  7\n",
      "Rotate number round :  7\n",
      "rotate_num list 1 GGTGCGG\n",
      "rotate_num list 2 GGGTAAAAAAGGGCACTTAACCCTTCAGATGACGACCCTGCGTGAGCTGCCGCCAGAAGAGCGTCCGGCAGCT\n",
      "Original sequences:\n",
      "GAATGCGGGGTAAAAAATGGCACTTAACCCTTCAAATGACGACCCTGCCTGAGCTGCCGCCGGAAGAGCGTCCGGCAGCT\n",
      "GGGTAAAAAAGGGCACTTAACCCTTCAGATGACGACCCTGCGTGAGCTGCCGCCAGAAGAGCGTCCGGCAGCTGGTGCGG\n",
      "These sequences have a match score of 25.0 %\n",
      "\n",
      "\n",
      "After shifting the second sequence 7 positions:\n",
      "GAATGCGGGGTAAAAAATGGCACTTAACCCTTCAAATGACGACCCTGCCTGAGCTGCCGCCGGAAGAGCGTCCGGCAGCT\n",
      "GGTGCGGGGGTAAAAAAGGGCACTTAACCCTTCAGATGACGACCCTGCGTGAGCTGCCGCCAGAAGAGCGTCCGGCAGCT\n",
      "These sequences have a match score of 88.75 %\n"
     ]
    }
   ],
   "execution_count": 184,
   "source": [
    "seq1 = \"GAATGCGGGGTAAAAAATGGCACTTAACCCTTCAAATGACGACCCTGCCTGAGCTGCCGCCGGAAGAGCGTCCGGCAGCT\"\n",
    "seq2 = \"GGGTAAAAAAGGGCACTTAACCCTTCAGATGACGACCCTGCGTGAGCTGCCGCCAGAAGAGCGTCCGGCAGCTGGTGCGG\"\n",
    "\n",
    "match_score = 100*count_matches(seq1, seq2)/len(seq1)\n",
    "shift = align_lists(seq1, seq2)\n",
    "aligned_seq2 = rotate_list(seq2, shift)\n",
    "aligned_match_score = 100*count_matches(seq1, aligned_seq2)/len(seq1)\n",
    "\n",
    "print(\"Original sequences:\")\n",
    "print(seq1)\n",
    "print(seq2)\n",
    "print(\"These sequences have a match score of\", match_score, \"%\")\n",
    "print(\"\\n\")\n",
    "print(\"After shifting the second sequence\", shift, \"positions:\")\n",
    "print(seq1)\n",
    "print(aligned_seq2)\n",
    "print(\"These sequences have a match score of\", aligned_match_score, \"%\")\n"
   ],
   "id": "d2437f88"
  },
  {
   "metadata": {},
   "cell_type": "markdown",
   "source": [
    "### 4.4 Multiplying pairs of values in two lists\n",
    "\n",
    "Write a function called `multiply_lists` that takes two lists of numbers as arguments and returns a new list with the product of the values in the two lists.\n",
    "\n",
    "For example:\n",
    "\n",
    "```python\n",
    "multiply_lists([1, 2, 3, 4, 5], [1, 2, 3, 0, 0])\n",
    "```\n",
    "\n",
    "should return `[1, 4, 9, 0, 0]`.\n",
    "\n",
    "If the lists have unequal lengths the returned list should be the same length as the shorter list."
   ],
   "id": "d2c2fc4b"
  },
  {
   "metadata": {
    "ExecuteTime": {
     "end_time": "2024-10-06T17:06:19.684717Z",
     "start_time": "2024-10-06T17:06:19.677835Z"
    }
   },
   "cell_type": "code",
   "outputs": [],
   "execution_count": 185,
   "source": [
    "def multiply_lists(list1, list2):\n",
    "    result = []\n",
    "    min_list = min(len(list1), len(list2))\n",
    "    for i in range(min_list):\n",
    "        x = list1[i] * list2[i]\n",
    "        result.append(x)\n",
    "    return result    "
   ],
   "id": "64578e50"
  },
  {
   "metadata": {
    "ExecuteTime": {
     "end_time": "2024-10-06T17:06:20.469671Z",
     "start_time": "2024-10-06T17:06:20.466416Z"
    }
   },
   "cell_type": "code",
   "outputs": [
    {
     "name": "stdout",
     "output_type": "stream",
     "text": [
      "All tests passed\n"
     ]
    }
   ],
   "execution_count": 186,
   "source": [
    "# TESTS\n",
    "assert multiply_lists([1, 2, 3, 4, 5], [1, 2, 3, 4, 5]) == [1, 4, 9, 16, 25]\n",
    "assert multiply_lists([1, 2, 3, 4, 5], [2, 2, 2]) == [2, 4, 6]\n",
    "assert multiply_lists([1, 2, 3, 4, 5], [1, 2, 3, 0, 0]) == [1, 4, 9, 0, 0]\n",
    "assert multiply_lists([2, 2, 2], [1, 2, 3, 4, 5]) == [2, 4, 6]\n",
    "assert multiply_lists([1, 2, 3, 4, 5], []) == []\n",
    "print(\"All tests passed\")\n"
   ],
   "id": "c309f255"
  },
  {
   "metadata": {},
   "cell_type": "markdown",
   "source": [
    "### 4.5 Applying a function to pairs of values in two lists\n",
    "\n",
    "Write a function called `apply_to_lists` that takes two lists of numbers and a function as arguments and returns a new list with the function applied to the pairs of values in the two lists.  \n",
    "\n",
    "For example:\n",
    "\n",
    "```python\n",
    "def add(x, y):\n",
    "    return x + y\n",
    "\n",
    "apply_to_lists([1, 2, 3, 4, 5], [1, 2, 3, 0, 0], add)\n",
    "```\n",
    "\n",
    "should return `[2, 4, 6, 4, 5]`."
   ],
   "id": "be0c4591"
  },
  {
   "metadata": {
    "ExecuteTime": {
     "end_time": "2024-10-06T22:06:10.557746Z",
     "start_time": "2024-10-06T22:06:10.542221Z"
    }
   },
   "cell_type": "code",
   "source": [
    "def apply_to_lists(list1, list2, func):\n",
    "    result = []\n",
    "    for i in range(len(list1)):\n",
    "        x = func(list1[i],list2[i])\n",
    "        result.append(x)\n",
    "    return result\n",
    "        "
   ],
   "id": "5baf5e7e",
   "outputs": [],
   "execution_count": 189
  },
  {
   "metadata": {
    "ExecuteTime": {
     "end_time": "2024-10-06T22:07:52.109711Z",
     "start_time": "2024-10-06T22:07:52.104827Z"
    }
   },
   "cell_type": "code",
   "source": [
    "x = lambda a, b, c : a + b + c\n",
    "print(x(5, 6, 2))"
   ],
   "id": "f4aa0f6ef9dad36c",
   "outputs": [
    {
     "name": "stdout",
     "output_type": "stream",
     "text": [
      "13\n"
     ]
    }
   ],
   "execution_count": 193
  },
  {
   "metadata": {
    "ExecuteTime": {
     "end_time": "2024-10-06T22:06:20.232565Z",
     "start_time": "2024-10-06T22:06:20.229663Z"
    }
   },
   "cell_type": "code",
   "source": [
    "# TESTS\n",
    "assert apply_to_lists([1, 2, 3, 4, 5], [10, 20, 30, 40, 50], lambda x,y: x*y) == [10, 40, 90, 160, 250]\n",
    "assert apply_to_lists([1, 2, 3, 4, 5], [10, 20, 30, 40, 50], lambda x,y: x+y) == [11, 22, 33, 44, 55]\n",
    "print(\"All tests passed\")   "
   ],
   "id": "8065df07",
   "outputs": [
    {
     "name": "stdout",
     "output_type": "stream",
     "text": [
      "All tests passed\n"
     ]
    }
   ],
   "execution_count": 191
  },
  {
   "cell_type": "markdown",
   "id": "8782e906",
   "metadata": {},
   "source": [
    "The tests above are using `lambda` functions to define the function to be applied. Lambda functions are short functions that are defined inline and are convenient for this kind of problem. You can read about lambda functions [here](https://www.w3schools.com/python/python_lambda.asp) if you are interested. \n",
    "\n",
    "Without using lambda functions, the above example would look like this:\n"
   ]
  },
  {
   "cell_type": "code",
   "id": "b1a8dfff",
   "metadata": {
    "ExecuteTime": {
     "end_time": "2024-10-06T22:06:27.146788Z",
     "start_time": "2024-10-06T22:06:27.143181Z"
    }
   },
   "source": [
    "def add(x, y):\n",
    "    return x + y\n",
    "\n",
    "def multiply(x, y):\n",
    "    return x * y\n",
    "\n",
    "assert apply_to_lists([1, 2, 3, 4, 5], [10, 20, 30, 40, 50], multiply) == [10, 40, 90, 160, 250]\n",
    "assert apply_to_lists([1, 2, 3, 4, 5], [10, 20, 30, 40, 50], add) == [11, 22, 33, 44, 55]\n",
    "print(\"All tests passed\")"
   ],
   "outputs": [
    {
     "name": "stdout",
     "output_type": "stream",
     "text": [
      "All tests passed\n"
     ]
    }
   ],
   "execution_count": 192
  },
  {
   "cell_type": "markdown",
   "id": "b8e2c0fa",
   "metadata": {},
   "source": [
    "## 5. Working with sets"
   ]
  },
  {
   "cell_type": "markdown",
   "id": "49a2c2ae",
   "metadata": {},
   "source": [
    "### 5.1 Counting number of unique values in a list\n",
    "\n",
    "Write a function called `count_unique` that takes a list of numbers and returns the number of unique values in the list.  \n",
    "\n",
    "For example:\n",
    "\n",
    "```python\n",
    "count_unique([1, 2, 3, 4, 5, 1, 2, 3, 4, 5])\n",
    "```\n",
    "\n",
    "should return `5` because there are five unique values in the list.\n",
    "\n",
    "Hint: this problem can be solved trivially with a single line of code if you use a set."
   ]
  },
  {
   "cell_type": "code",
   "id": "1bc8ea75",
   "metadata": {
    "ExecuteTime": {
     "end_time": "2024-10-06T22:38:52.029304Z",
     "start_time": "2024-10-06T22:38:52.026695Z"
    }
   },
   "source": [
    "def count_unique(list):\n",
    "    unique_list = []\n",
    "    for item in list:\n",
    "        if item not in unique_list:\n",
    "            unique_list.append(item)\n",
    "    print(unique_list)   \n",
    "    return len(unique_list)\n",
    "        "
   ],
   "outputs": [],
   "execution_count": 224
  },
  {
   "metadata": {
    "ExecuteTime": {
     "end_time": "2024-10-06T22:32:12.373739Z",
     "start_time": "2024-10-06T22:32:12.370533Z"
    }
   },
   "cell_type": "code",
   "source": [
    "def count_unique(list):\n",
    "    unique_elements = set(list)\n",
    "    count_unique_list = len(unique_elements)\n",
    "    print(\"Original List:\", list)\n",
    "    print(\"Number of Unique Elements:\", count_unique_list)\n",
    "    return count_unique_list"
   ],
   "id": "23f9c271ae934c72",
   "outputs": [],
   "execution_count": 216
  },
  {
   "cell_type": "code",
   "id": "46f4e189",
   "metadata": {
    "ExecuteTime": {
     "end_time": "2024-10-06T22:38:53.721785Z",
     "start_time": "2024-10-06T22:38:53.718872Z"
    }
   },
   "source": [
    "# TESTS\n",
    "assert count_unique([1, 2, 3, 4, 5]) == 5\n",
    "assert count_unique([1, 2, 3, 4, 5, 1, 2, 3]) == 5\n",
    "assert count_unique([1, 2, 3, 4, 5, 1, 2, 3, 1, 2, 3]) == 5\n",
    "assert count_unique([]) == 0\n",
    "print(\"All tests passed\")"
   ],
   "outputs": [
    {
     "name": "stdout",
     "output_type": "stream",
     "text": [
      "[1, 2, 3, 4, 5]\n",
      "[1, 2, 3, 4, 5]\n",
      "[1, 2, 3, 4, 5]\n",
      "[]\n",
      "All tests passed\n"
     ]
    }
   ],
   "execution_count": 225
  },
  {
   "metadata": {},
   "cell_type": "markdown",
   "source": "",
   "id": "6f7f5bb0a7b23eff"
  },
  {
   "cell_type": "markdown",
   "id": "be11782c",
   "metadata": {},
   "source": [
    "### 5.2 Counting number of unique words in a text passage\n",
    "\n",
    "Write a function called `get_unique_words` that takes a string of text and returns the set of unique words in the text. The function should ignore case, i.e. 'The' and 'the' count as the same word and should be returned as 'the'. Also it should ignore any punctuation in the string.  \n",
    "\n",
    "For example:\n",
    "\n",
    "```python\n",
    "count_unique_words('The quick brown fox jumped over the lazy dog.')\n",
    "```\n",
    "\n",
    "should return `{'the', 'quick', 'brown', 'fox', 'jumped', 'over', 'lazy', 'dog'}` because there are eight unique words in the text.\n",
    "\n",
    "Hint: You will want to use the split() function to split the text into words. You will also want to use the lower() function to convert all the words to lower case so that words that differ only in case are counted as the same word. You will also want to use the strip() function to remove punctuation from the words. If you `import string`, you can then use the `string.punctuation` variable to get a string containing all the punctuation characters.\n"
   ]
  },
  {
   "cell_type": "code",
   "id": "2e448ec4",
   "metadata": {
    "ExecuteTime": {
     "end_time": "2024-10-06T23:00:59.334656Z",
     "start_time": "2024-10-06T23:00:59.331016Z"
    }
   },
   "source": [
    "import string \n",
    "\n",
    "def get_unique_words(string1):\n",
    "    unique_words = []\n",
    "    x = string1.lower()\n",
    "    clean_list = x.translate(str.maketrans('', '', string.punctuation))\n",
    "    clean_list = clean_list.split()\n",
    "    print('x : ', x)\n",
    "    print('Result : ', clean_list)\n",
    "    for word in clean_list:\n",
    "        if word not in unique_words:\n",
    "            unique_words.append(word)\n",
    "    return set(unique_words)\n",
    "    \n",
    "    "
   ],
   "outputs": [],
   "execution_count": 35
  },
  {
   "cell_type": "code",
   "id": "6d7f2427",
   "metadata": {
    "ExecuteTime": {
     "end_time": "2024-10-06T23:01:01.430760Z",
     "start_time": "2024-10-06T23:01:01.421Z"
    }
   },
   "source": [
    "# TESTS\n",
    "assert get_unique_words('The quick brown fox jumped over the lazy dog.') == {'the', 'quick', 'brown', 'fox', 'jumped', 'over', 'lazy', 'dog'}\n",
    "assert get_unique_words('The very, very, very large dog barked.') == {'the', 'very', 'large', 'dog', 'barked'}\n",
    "assert get_unique_words('The large dog --- that barked -- was very, very LARGE!') == {'the', 'large', 'dog', 'that', 'barked', 'was', 'very'}\n",
    "assert get_unique_words('... @$! $^&&!! ?? !!') == set() # Empty set\n",
    "assert get_unique_words('0 00 10 10 01 11 11 10') == {'0', '00', '01', '10', '11'}  # Numbers count as words\n",
    "print(\"All tests passed\")"
   ],
   "outputs": [
    {
     "name": "stdout",
     "output_type": "stream",
     "text": [
      "x :  the quick brown fox jumped over the lazy dog.\n",
      "Result :  ['the', 'quick', 'brown', 'fox', 'jumped', 'over', 'the', 'lazy', 'dog']\n",
      "x :  the very, very, very large dog barked.\n",
      "Result :  ['the', 'very', 'very', 'very', 'large', 'dog', 'barked']\n",
      "x :  the large dog --- that barked -- was very, very large!\n",
      "Result :  ['the', 'large', 'dog', 'that', 'barked', 'was', 'very', 'very', 'large']\n",
      "x :  ... @$! $^&&!! ?? !!\n",
      "Result :  []\n",
      "x :  0 00 10 10 01 11 11 10\n",
      "Result :  ['0', '00', '10', '10', '01', '11', '11', '10']\n",
      "All tests passed\n"
     ]
    }
   ],
   "execution_count": 36
  },
  {
   "cell_type": "markdown",
   "id": "7d17a44d",
   "metadata": {},
   "source": [
    " ### 5.3 Finding the set of words that are shared between two text passages\n",
    "\n",
    "Write a function called `shared_words` that takes two strings of text and returns a list of the words that are shared between the two texts. \n",
    "\n",
    "For example:\n",
    "\n",
    "```python\n",
    "shared_words('the quick brown fox jumped over the lazy dog', 'the lazy brown dog sat in the sun')\n",
    "```\n",
    "\n",
    "should return `['the', 'brown', 'dog']` because these are the words that are shared between the two texts."
   ]
  },
  {
   "cell_type": "code",
   "id": "c8f580dc",
   "metadata": {
    "ExecuteTime": {
     "end_time": "2024-10-06T23:07:42.957089Z",
     "start_time": "2024-10-06T23:07:42.946956Z"
    }
   },
   "source": [
    "def shared_words(string1, string2):\n",
    "    str1 = string1.lower()\n",
    "    clean_str1_list = str1.translate(str.maketrans('', '', string.punctuation))\n",
    "    str1_list = clean_str1_list.split()\n",
    "    str1_set = set(str1_list)\n",
    "    print('str1_list : ', str1_list)\n",
    "    \n",
    "    str2 = string2.lower()\n",
    "    clean_str2_list = str2.translate(str.maketrans('', '', string.punctuation))\n",
    "    str2_list = clean_str2_list.split()\n",
    "    str2_set = set(str2_list)\n",
    "    print('str2_list : ', str2_list)\n",
    "    \n",
    "    \n",
    "    common_words = str1_set.intersection(str2_set) \n",
    "    print('common_words : ', common_words)\n",
    "    return set(common_words)\n",
    "    "
   ],
   "outputs": [],
   "execution_count": 42
  },
  {
   "metadata": {},
   "cell_type": "code",
   "outputs": [],
   "execution_count": null,
   "source": [
    "#Optimize version\n",
    "\n",
    "import string\n",
    "\n",
    "def shared_words(string1, string2):\n",
    "    # Helper function to clean and split strings\n",
    "    def clean_and_split(s):\n",
    "        return set(s.lower().translate(str.maketrans('', '', string.punctuation)).split())\n",
    "\n",
    "    # Clean and split both strings\n",
    "    str1_set = clean_and_split(string1)\n",
    "    str2_set = clean_and_split(string2)\n",
    "\n",
    "    # Find common words\n",
    "    common_words = str1_set.intersection(str2_set)\n",
    "    \n",
    "    print('Common words:', common_words)\n",
    "    return common_words"
   ],
   "id": "ad8113ffa6982032"
  },
  {
   "cell_type": "code",
   "id": "a48e4a4a",
   "metadata": {
    "ExecuteTime": {
     "end_time": "2024-10-06T23:07:43.985873Z",
     "start_time": "2024-10-06T23:07:43.983491Z"
    }
   },
   "source": [
    "# TESTS\n",
    "assert shared_words('The quick brown fox jumped over the lazy dog.', 'the lazy brown dog sat in the sun') == {'the', 'lazy', 'brown', 'dog'}\n",
    "assert shared_words('These two strings', 'have no shared words') == set()\n",
    "print(\"All tests passed\")"
   ],
   "outputs": [
    {
     "name": "stdout",
     "output_type": "stream",
     "text": [
      "str1_list :  ['the', 'quick', 'brown', 'fox', 'jumped', 'over', 'the', 'lazy', 'dog']\n",
      "str2_list :  ['the', 'lazy', 'brown', 'dog', 'sat', 'in', 'the', 'sun']\n",
      "common_words :  {'lazy', 'the', 'dog', 'brown'}\n",
      "str1_list :  ['these', 'two', 'strings']\n",
      "str2_list :  ['have', 'no', 'shared', 'words']\n",
      "common_words :  set()\n",
      "All tests passed\n"
     ]
    }
   ],
   "execution_count": 43
  },
  {
   "cell_type": "markdown",
   "id": "6e6d069f",
   "metadata": {},
   "source": [
    "### 5.4 Finding words that occur in one text passage but not another\n",
    "\n",
    "Write a function called `non_shared_words` that takes two strings of text and returns a list of the words that occur in the first text but not the second.  \n",
    "\n",
    "For example:\n",
    "\n",
    "```python\n",
    "non_shared_words('the quick brown fox jumped over the lazy dog', 'the lazy brown dog sat in the sun')\n",
    "```\n",
    "\n",
    "should return `{'quick', 'fox', 'jumped', 'over'}` because these are the words that occur in the first text but not the second."
   ]
  },
  {
   "cell_type": "code",
   "id": "d2e9c583",
   "metadata": {
    "ExecuteTime": {
     "end_time": "2024-10-06T23:24:13.098729Z",
     "start_time": "2024-10-06T23:24:13.096039Z"
    }
   },
   "source": [
    "def non_shared_words(string1, string2):\n",
    "    unique_list = []\n",
    "    def clean_and_split(s):\n",
    "        return set(s.lower().translate(str.maketrans('', '', string.punctuation)).split())\n",
    "\n",
    "    # Clean and split both strings\n",
    "    str1_set = clean_and_split(string1)\n",
    "    str2_set = clean_and_split(string2)\n",
    "\n",
    "    symmetric_diff = str1_set.symmetric_difference(str2_set)\n",
    "    print('symmetric_diff : ', symmetric_diff)\n",
    "\n",
    "    for word in symmetric_diff:\n",
    "        if word in str1_set:\n",
    "            unique_list.append(word)\n",
    "\n",
    "    unique_words = set(unique_list)\n",
    "    print('Unique words in set1 :', unique_words)\n",
    "    \n",
    "    return unique_words\n",
    "   "
   ],
   "outputs": [],
   "execution_count": 63
  },
  {
   "cell_type": "code",
   "id": "48389251",
   "metadata": {
    "ExecuteTime": {
     "end_time": "2024-10-06T23:24:14.228319Z",
     "start_time": "2024-10-06T23:24:14.225603Z"
    }
   },
   "source": [
    "# TESTS\n",
    "assert non_shared_words('the quick brown fox jumped over the lazy dog', 'the lazy brown dog sat in the sun') == {'quick', 'fox', 'jumped', 'over'}\n",
    "assert non_shared_words('1 2 3 4 5 6 7', '4 5 6 7 8 9 10') == {'1', '2', '3'}   \n",
    "assert non_shared_words('4 5 6 7 8 9 10', '1 2 3 4 5 6 7') == {'8', '9', '10'}   \n",
    "assert non_shared_words('1 2 3 4 5', '') == {'1', '2', '3', '4', '5'}\n",
    "assert non_shared_words('1 2 3 4 5', '1 2 3 4 5') == set()\n",
    "print(\"All tests passed\")\n"
   ],
   "outputs": [
    {
     "name": "stdout",
     "output_type": "stream",
     "text": [
      "symmetric_diff :  {'over', 'jumped', 'quick', 'in', 'sat', 'fox', 'sun'}\n",
      "Unique words in set1 : {'jumped', 'quick', 'over', 'fox'}\n",
      "symmetric_diff :  {'1', '10', '8', '9', '3', '2'}\n",
      "Unique words in set1 : {'1', '3', '2'}\n",
      "symmetric_diff :  {'1', '3', '10', '8', '9', '2'}\n",
      "Unique words in set1 : {'8', '9', '10'}\n",
      "symmetric_diff :  {'1', '3', '5', '4', '2'}\n",
      "Unique words in set1 : {'1', '3', '5', '4', '2'}\n",
      "symmetric_diff :  set()\n",
      "Unique words in set1 : set()\n",
      "All tests passed\n"
     ]
    }
   ],
   "execution_count": 64
  },
  {
   "cell_type": "markdown",
   "id": "c476a180",
   "metadata": {},
   "source": [
    "## 6. Working with dictionaries"
   ]
  },
  {
   "cell_type": "markdown",
   "id": "d1558531",
   "metadata": {},
   "source": [
    "### 6.1 Checking if a key is in a dictionary\n",
    "\n",
    "Write a function called `has_key` that takes a dictionary and a key as arguments and returns `True` if the key is in the dictionary and `False` otherwise. \n",
    "\n",
    "For example:\n",
    "\n",
    "```python\n",
    "has_key({'a': 1, 'b': 2, 'c': 3}, 'b')\n",
    "```\n",
    "\n",
    "should return `True` because the key `'b'` is in the dictionary.\n",
    "\n",
    "This is a trivial function that is just a single line of code. This is just an exercise. It wouldn't be useful in a real program."
   ]
  },
  {
   "cell_type": "code",
   "id": "d682aeb6",
   "metadata": {
    "ExecuteTime": {
     "end_time": "2024-10-07T00:14:36.644478Z",
     "start_time": "2024-10-07T00:14:36.636175Z"
    }
   },
   "source": [
    "def has_key(dictionary, key):\n",
    "    print('Dict key : ', dictionary.keys())\n",
    "    if key in dictionary:\n",
    "        return True\n",
    "    else:\n",
    "        return False"
   ],
   "outputs": [],
   "execution_count": 71
  },
  {
   "cell_type": "code",
   "id": "601701d9",
   "metadata": {
    "ExecuteTime": {
     "end_time": "2024-10-07T00:14:38.276189Z",
     "start_time": "2024-10-07T00:14:38.272791Z"
    }
   },
   "source": [
    "# TESTS\n",
    "assert has_key({'a': 1, 'b': 2, 'c': 3}, 'a') == True\n",
    "assert has_key({'a': 1, 'b': 2, 'c': 3}, 'd') == False\n",
    "print(\"All tests passed\")"
   ],
   "outputs": [
    {
     "name": "stdout",
     "output_type": "stream",
     "text": [
      "Dict key :  dict_keys(['a', 'b', 'c'])\n",
      "Dict key :  dict_keys(['a', 'b', 'c'])\n",
      "All tests passed\n"
     ]
    }
   ],
   "execution_count": 72
  },
  {
   "cell_type": "markdown",
   "id": "23fe6fe9",
   "metadata": {},
   "source": [
    "### 6.2 Counting occurrences of values in a list\n",
    "\n",
    "Write a function called `count_occurrences` that takes a list and returns a dictionary that maps each unique value in the list to the number of times it occurs in the list. \n",
    "\n",
    "For example:\n",
    "\n",
    "```python\n",
    "count_occurrences(['a', 'b', 'a', 'c', 'a', 'b', 'a', 'd'])\n",
    "```\n",
    "\n",
    "should return `{'a': 4, 'b': 2, 'c': 1, 'd': 1}` because `'a'` occurs four times, `'b'` occurs twice, `'c'` and `'d'` occur once."
   ]
  },
  {
   "cell_type": "code",
   "id": "91ec7a3b",
   "metadata": {
    "ExecuteTime": {
     "end_time": "2024-10-07T00:18:15.405280Z",
     "start_time": "2024-10-07T00:18:15.400555Z"
    }
   },
   "source": [
    "def count_occurrences(list):\n",
    "    new_dict = {}\n",
    "    for word in list:\n",
    "        count = list.count(word)\n",
    "        #print('Count : ', count)\n",
    "        new_dict[word] = count\n",
    "    print(new_dict)   \n",
    "    return new_dict"
   ],
   "outputs": [],
   "execution_count": 79
  },
  {
   "cell_type": "code",
   "id": "6a706526",
   "metadata": {
    "ExecuteTime": {
     "end_time": "2024-10-07T00:18:16.696168Z",
     "start_time": "2024-10-07T00:18:16.693717Z"
    }
   },
   "source": [
    "# TESTS\n",
    "assert count_occurrences(['a', 'b', 'a', 'c', 'a', 'b', 'a', 'd']) == {'a': 4, 'b': 2, 'c': 1, 'd': 1}\n",
    "assert count_occurrences(['a', 'a', 'a', 'a', 'a']) == {'a': 5}\n",
    "assert count_occurrences(['a'] * 20 + ['b'] * 30 + ['c'] * 40) == {'a': 20, 'b': 30, 'c': 40}\n",
    "print(\"All tests passed\")"
   ],
   "outputs": [
    {
     "name": "stdout",
     "output_type": "stream",
     "text": [
      "{'a': 4, 'b': 2, 'c': 1, 'd': 1}\n",
      "{'a': 5}\n",
      "{'a': 20, 'b': 30, 'c': 40}\n",
      "All tests passed\n"
     ]
    }
   ],
   "execution_count": 80
  },
  {
   "cell_type": "markdown",
   "id": "b6bbd8f2",
   "metadata": {},
   "source": [
    "### 6.3 Implementing a cache\n",
    "\n",
    "Write a function called `cache` that takes a function as an argument and returns a new function that caches the results of the function calls. If the function is called again with the same arguments, the cached result is returned instead of calling the function again. The function should print a message indicating whether the result was returned from the cache or computed. For example:\n",
    "\n",
    "```python\n",
    "\n",
    "def cache(func):\n",
    "    \"\"\"A function that takes a function as an argument and returns a new function that caches the results of the function calls. If the function is called again with the same arguments, the cached result is returned instead of calling the function again.\n",
    "\n",
    "    For example:\n",
    "\n",
    "    >>> def add(x, y):\n",
    "    ...     print('called add')\n",
    "    ...     return x + y\n",
    "    >>> cached_add = cache(add)\n",
    "    >>> cached_add(1, 2)\n",
    "    called function\n",
    "    3\n",
    "    >>> cached_add(1, 2)\n",
    "    retrieved from cache\n",
    "    3\n",
    "    >>> cached_add(2, 3)\n",
    "    called function\n",
    "    5\n",
    "    >>> cached_add(2, 3)\n",
    "    retrieved from cache\n",
    "    5\n",
    "    \"\"\"\n",
    "    pass\n",
    "```\n",
    "\n",
    ":warning: This is a difficult problem. Don't worry if you can't solve it. Some hints: a function can be defined inside a function and returned. Try writing it for a specifically for the 'add' function first. Then try to make it work for any function. If you get stuck just skip and go onto the next problem. Study the solution when it is posted."
   ]
  },
  {
   "cell_type": "code",
   "id": "fd64e8dc",
   "metadata": {
    "ExecuteTime": {
     "end_time": "2024-10-07T00:37:24.747425Z",
     "start_time": "2024-10-07T00:37:24.728154Z"
    }
   },
   "source": [
    "# def cache(func):\n",
    "#     \n",
    "#     dict={}\n",
    "#     key = {x,y}\n",
    "#     if key in dict:\n",
    "#         return dict[key]\n",
    "#     else:\n",
    "#         result = x + y\n",
    "#         dict[key] = result\n",
    "#     print(dict)\n",
    "#     \n",
    "# def add(x,y):\n",
    "#     return x + y\n",
    "# \n",
    "# cached_add=cache(add) \n",
    "#     \n",
    "#     \n",
    "#     \n",
    "#     "
   ],
   "outputs": [
    {
     "ename": "NameError",
     "evalue": "name 'x' is not defined",
     "output_type": "error",
     "traceback": [
      "\u001B[0;31m---------------------------------------------------------------------------\u001B[0m",
      "\u001B[0;31mNameError\u001B[0m                                 Traceback (most recent call last)",
      "Cell \u001B[0;32mIn[91], line 15\u001B[0m\n\u001B[1;32m     12\u001B[0m \u001B[38;5;28;01mdef\u001B[39;00m \u001B[38;5;21madd\u001B[39m(x,y):\n\u001B[1;32m     13\u001B[0m     \u001B[38;5;28;01mreturn\u001B[39;00m x \u001B[38;5;241m+\u001B[39m y\n\u001B[0;32m---> 15\u001B[0m cached_add\u001B[38;5;241m=\u001B[39m\u001B[43mcache\u001B[49m\u001B[43m(\u001B[49m\u001B[43madd\u001B[49m\u001B[43m)\u001B[49m \n",
      "Cell \u001B[0;32mIn[91], line 4\u001B[0m, in \u001B[0;36mcache\u001B[0;34m(func)\u001B[0m\n\u001B[1;32m      2\u001B[0m add_function \u001B[38;5;241m=\u001B[39m func\n\u001B[1;32m      3\u001B[0m \u001B[38;5;28mdict\u001B[39m\u001B[38;5;241m=\u001B[39m{}\n\u001B[0;32m----> 4\u001B[0m key \u001B[38;5;241m=\u001B[39m {\u001B[43mx\u001B[49m,y}\n\u001B[1;32m      5\u001B[0m \u001B[38;5;28;01mif\u001B[39;00m key \u001B[38;5;129;01min\u001B[39;00m \u001B[38;5;28mdict\u001B[39m:\n\u001B[1;32m      6\u001B[0m     \u001B[38;5;28;01mreturn\u001B[39;00m \u001B[38;5;28mdict\u001B[39m[key]\n",
      "\u001B[0;31mNameError\u001B[0m: name 'x' is not defined"
     ]
    }
   ],
   "execution_count": 91
  },
  {
   "metadata": {
    "ExecuteTime": {
     "end_time": "2024-10-07T01:31:36.526156Z",
     "start_time": "2024-10-07T01:31:36.517157Z"
    }
   },
   "cell_type": "code",
   "source": [
    "# SOLUTION\n",
    "def cache(func):\n",
    "    cache = {}\n",
    "    def cached_func(*args):\n",
    "        if args in cache:\n",
    "            print(\"retrieved from cache\")\n",
    "            return cache[args]\n",
    "        else:\n",
    "            print(\"called function\")\n",
    "            result = func(*args)\n",
    "            cache[args] = result\n",
    "            return result\n",
    "    return cached_func"
   ],
   "id": "82041963175a7547",
   "outputs": [],
   "execution_count": 118
  },
  {
   "cell_type": "code",
   "id": "b4055c53",
   "metadata": {
    "ExecuteTime": {
     "end_time": "2024-10-07T01:31:38.414206Z",
     "start_time": "2024-10-07T01:31:38.411928Z"
    }
   },
   "source": [
    "# TESTS\n",
    "cached_add = cache(lambda x, y: x + y)\n",
    "assert cached_add(1, 2) == 3  # will call function\n",
    "assert cached_add(1, 2) == 3  # will retrieve from cache\n",
    "assert cached_add(2, 3) == 5  # will call function\n",
    "assert cached_add(2, 3) == 5  # retrieve from cache\n",
    "print(\"All tests passed\")"
   ],
   "outputs": [
    {
     "name": "stdout",
     "output_type": "stream",
     "text": [
      "called function\n",
      "retrieved from cache\n",
      "called function\n",
      "retrieved from cache\n",
      "All tests passed\n"
     ]
    }
   ],
   "execution_count": 119
  },
  {
   "cell_type": "markdown",
   "id": "e3b4cbf0",
   "metadata": {},
   "source": [
    "### 6.4 Map two lists into a dictionary\n",
    "\n",
    "Write a function called `make_dictionary` that takes two lists of equal length and returns a dictionary that maps the values in the first list to the values in the second list. \n",
    "\n",
    "For example:\n",
    "\n",
    "```python\n",
    "make_dictionary(['a', 'b', 'c'], [1, 2, 3])\n",
    "```\n",
    "\n",
    "should return `{'a': 1, 'b': 2, 'c': 3}`."
   ]
  },
  {
   "cell_type": "code",
   "id": "b573a65e",
   "metadata": {
    "ExecuteTime": {
     "end_time": "2024-10-07T00:41:18.617286Z",
     "start_time": "2024-10-07T00:41:18.611807Z"
    }
   },
   "source": [
    "def make_dictionary(list1, list2):\n",
    "    new_dict = {}\n",
    "    for i in range(len(list1)):\n",
    "        new_dict[list1[i]] = list2[i]\n",
    "        i+=1\n",
    "    print(new_dict)    \n",
    "    return new_dict    "
   ],
   "outputs": [],
   "execution_count": 96
  },
  {
   "cell_type": "code",
   "id": "5aead008",
   "metadata": {
    "ExecuteTime": {
     "end_time": "2024-10-07T00:41:20.829508Z",
     "start_time": "2024-10-07T00:41:20.826806Z"
    }
   },
   "source": [
    "# TESTS\n",
    "assert make_dictionary(['a', 'b', 'c'], [1, 2, 3]) == {'a': 1, 'b': 2, 'c': 3}\n",
    "print(\"All tests passed\")"
   ],
   "outputs": [
    {
     "name": "stdout",
     "output_type": "stream",
     "text": [
      "{'a': 1, 'b': 2, 'c': 3}\n",
      "All tests passed\n"
     ]
    }
   ],
   "execution_count": 97
  },
  {
   "metadata": {},
   "cell_type": "markdown",
   "source": "",
   "id": "28fed703e629f7c8"
  },
  {
   "cell_type": "markdown",
   "id": "d60e7c3a",
   "metadata": {},
   "source": [
    "### 6.5 Merging a pair of dictionaries\n",
    "\n",
    "Write a function that takes a pair of dictionaries for which all the values are numeric and returns a new dictionary that contains the sum of the values for each key. \n",
    "\n",
    "For example:\n",
    "\n",
    "```python\n",
    "merge_dictionaries({'a': 1, 'b': 2, 'c': 3}, {'a': 4, 'b': 5, 'd': 6})\n",
    "```\n",
    "\n",
    "should return `{'a': 5, 'b': 7, 'c': 3, 'd': 6}`.\n"
   ]
  },
  {
   "cell_type": "code",
   "id": "a612f60b",
   "metadata": {
    "ExecuteTime": {
     "end_time": "2024-10-07T01:30:04.929577Z",
     "start_time": "2024-10-07T01:30:04.922965Z"
    }
   },
   "source": [
    "def merge_dictionaries(dict1, dict2):\n",
    "    \n",
    "    dict1_new = dict1.copy()\n",
    "\n",
    "    for key, value in dict2.items():\n",
    "        print('Debug key, value of Dict 2 : ' + str(key) + str(value))\n",
    "        if key in dict1_new:\n",
    "            dict1_new[key] = value + dict1_new.get(key)\n",
    "            print('dict1 New : ', dict1_new)\n",
    "        else:\n",
    "            dict1_new[key] = value\n",
    "    print(dict1_new)\n",
    "    return dict1_new\n",
    "\n",
    "        "
   ],
   "outputs": [],
   "execution_count": 116
  },
  {
   "cell_type": "code",
   "id": "dc65f2c8",
   "metadata": {
    "ExecuteTime": {
     "end_time": "2024-10-07T01:30:06.631048Z",
     "start_time": "2024-10-07T01:30:06.628484Z"
    }
   },
   "source": [
    "# TESTS\n",
    "dict1 = {'a': 1, 'b': 2}\n",
    "dict2 = {'b': 5, 'c': 3}\n",
    "assert merge_dictionaries(dict1, dict2) == {'a': 1, 'b': 7, 'c': 3}\n",
    "assert dict1 == {'a': 1, 'b': 2}  # Make sure original dictionaries are not modified\n",
    "assert dict2 == {'b': 5, 'c': 3}\n",
    "print(\"All tests passed\")"
   ],
   "outputs": [
    {
     "name": "stdout",
     "output_type": "stream",
     "text": [
      "Debug key, value of Dict 2 : b5\n",
      "dict1 New :  {'a': 1, 'b': 7}\n",
      "Debug key, value of Dict 2 : c3\n",
      "{'a': 1, 'b': 7, 'c': 3}\n",
      "All tests passed\n"
     ]
    }
   ],
   "execution_count": 117
  },
  {
   "cell_type": "markdown",
   "id": "f0e54d2a",
   "metadata": {},
   "source": [
    "### 6.6  Merging a list of dictionaries\n",
    "\n",
    "Write a function called `merge_list_of_dictionaries` that takes a list of dictionaries for which all the values are numeric and returns a new dictionary that contains the sum of the values for each key. \n",
    "\n",
    "For example:\n",
    "\n",
    "```python\n",
    "merge_dictionaries([{'a': 1, 'b': 2, 'c': 3}, {'a': 4, 'b': 5, 'd': 6}, {'a': 7, 'c': 8, 'e': 9}])\n",
    "```\n",
    "\n",
    "should return `{'a': 12, 'b': 7, 'c': 11, 'd': 6, 'e': 9}`.\n",
    "\n",
    "You can use your `merge_dictionaries` function from the previous problem to help you solve this problem."
   ]
  },
  {
   "cell_type": "code",
   "id": "051d3c0a",
   "metadata": {
    "ExecuteTime": {
     "end_time": "2024-10-07T01:54:45.943679Z",
     "start_time": "2024-10-07T01:54:45.938485Z"
    }
   },
   "source": [
    "import collections\n",
    "def merge_list_of_dictionaries(list_dict):\n",
    "    merged_dict = {}\n",
    "#sorted_dicts = sorted(list_dict, key=lambda d: list(d.keys())[0] if d else '')\n",
    "\n",
    "    for i in list_dict:\n",
    "        for key, value in i.items():\n",
    "            if key in merged_dict:\n",
    "                merged_dict[key] += value\n",
    "            else:\n",
    "                merged_dict[key] = value   \n",
    "    print('merged dict : ' , merged_dict)            \n",
    "    return merged_dict            \n",
    "            \n",
    "        \n",
    "        "
   ],
   "outputs": [],
   "execution_count": 135
  },
  {
   "cell_type": "code",
   "id": "c7d800bc",
   "metadata": {
    "ExecuteTime": {
     "end_time": "2024-10-07T01:54:47.065240Z",
     "start_time": "2024-10-07T01:54:47.063037Z"
    }
   },
   "source": [
    "# TESTS\n",
    "assert merge_list_of_dictionaries([{'a': 1, 'b': 2, 'c': 3}, {'a': 4, 'b': 5, 'd': 6}, {'a': 7, 'c': 8, 'e': 9}]) == {'a': 12, 'b': 7, 'c': 11, 'd': 6, 'e': 9}\n",
    "print(\"All tests passed\")"
   ],
   "outputs": [
    {
     "name": "stdout",
     "output_type": "stream",
     "text": [
      "merged dict :  {'a': 12, 'b': 7, 'c': 11, 'd': 6, 'e': 9}\n",
      "All tests passed\n"
     ]
    }
   ],
   "execution_count": 136
  },
  {
   "cell_type": "markdown",
   "id": "e73f2851",
   "metadata": {},
   "source": [
    "*Copyright &copy; 2023, 2024 Jon Barker, University of Sheffield. All rights reserved*."
   ]
  }
 ],
 "metadata": {
  "jupytext": {
   "encoding": "# -*- coding: utf-8 -*-",
   "formats": "ipynb,py:percent"
  },
  "kernelspec": {
   "display_name": "Python 3 (ipykernel)",
   "language": "python",
   "name": "python3"
  },
  "language_info": {
   "codemirror_mode": {
    "name": "ipython",
    "version": 3
   },
   "file_extension": ".py",
   "mimetype": "text/x-python",
   "name": "python",
   "nbconvert_exporter": "python",
   "pygments_lexer": "ipython3",
   "version": "3.11.5"
  }
 },
 "nbformat": 4,
 "nbformat_minor": 5
}
