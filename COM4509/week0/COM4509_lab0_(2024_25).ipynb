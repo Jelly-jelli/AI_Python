{
 "cells": [
  {
   "cell_type": "markdown",
   "metadata": {
    "id": "MO2HehZvwPXc"
   },
   "source": [
    "# COM4509/6509 - Lab 0: Introduction to Python, Juypter and Numpy\n",
    "\n",
    "Each week you will have a lab notebook to work through,\n",
    "- It is anticipated that the notebooks will take longer than the hour of the lab. Please finish in your own time.\n",
    "- Feel free to work with your friends on the lab notebooks!\n",
    "\n",
    "This notebook introduces the tools we will be using.\n",
    "\n",
    "## Python and Jupyter\n",
    "\n",
    "You are currently looking at a **jupyter google colab notebook**, that uses python. If you've not coded in python before, you should spend a few hours getting used to it. See the [official python tutorial](https://docs.python.org/3/tutorial/index.html). Jupyter notebooks are an interactive way of coding, making notes, plotting graphs etc. They are useful as a tool for doing exploratory data analysis, but in real projects it is usually necessary to eventually build a python module with proper class structures, etc.\n",
    "\n",
    "## Getting it running on your computer\n",
    "\n",
    "The easiest way to get going with python, jupyter and various libraries useful for machine learning is to install the [anaconda distribution](https://www.anaconda.com/download/success). For more info on getting the jupyter notebook started on your own computer follow the instructions [here](https://jupyter-notebook-beginner-guide.readthedocs.io/en/latest/). You could also use google colabs, although that can be awkward and sometimes easy to lose changes, but only requires a web browser."
   ]
  },
  {
   "cell_type": "markdown",
   "source": [
    "## Intro to python, jupyter notebooks, numpy.\n",
    "\n",
    "We'll be coding in python, using juyter/colab notebooks, like this one.\n",
    "\n",
    "The content is in different 'cells'. Some are text (like this one) and some are code, like the next one:"
   ],
   "metadata": {
    "id": "XQ1ZvwYqyZP8"
   }
  },
  {
   "cell_type": "code",
   "source": [
    "print(\"I'm a \"+\"code\"+\" cell!\")"
   ],
   "metadata": {
    "colab": {
     "base_uri": "https://localhost:8080/"
    },
    "id": "GsGMGJFpxyan",
    "outputId": "6d6c5945-592b-48a5-ef9a-1d98707d04c1",
    "ExecuteTime": {
     "end_time": "2024-10-04T13:13:06.934599Z",
     "start_time": "2024-10-04T13:13:06.928909Z"
    }
   },
   "outputs": [
    {
     "name": "stdout",
     "output_type": "stream",
     "text": [
      "I'm a code cell!\n"
     ]
    }
   ],
   "execution_count": 1
  },
  {
   "cell_type": "code",
   "source": [],
   "metadata": {
    "id": "mmALOsNA8_8W"
   },
   "execution_count": null,
   "outputs": []
  },
  {
   "cell_type": "markdown",
   "source": [
    "You can edit cells by double clicking on them and run the code cells by click the \"Run cell\" arrow (on the left hand side if you mouse over the cell). Try clicking on the run cell arrow in the cell above.\n",
    "\n",
    "**Tip: if you have a code cell selected Ctrl+Enter runs it, and Shift+Enter runs it and moves onto the next cell.**\n",
    "\n",
    "We use libraries when coding, that contain lots of useful tools and functions. A key one for doing machine learning is **numpy**. We can import it like this:"
   ],
   "metadata": {
    "id": "YnWTYJfsyyzK"
   }
  },
  {
   "cell_type": "code",
   "source": [
    "import numpy as np"
   ],
   "metadata": {
    "id": "7MV25VjZzD1Y",
    "ExecuteTime": {
     "end_time": "2024-10-04T13:13:09.641194Z",
     "start_time": "2024-10-04T13:13:09.017212Z"
    }
   },
   "outputs": [],
   "execution_count": 2
  },
  {
   "cell_type": "markdown",
   "source": [
    "We can then use functions from it like this:"
   ],
   "metadata": {
    "id": "g9mmw9imz-e4"
   }
  },
  {
   "cell_type": "code",
   "source": [
    "np.cos(np.pi)"
   ],
   "metadata": {
    "colab": {
     "base_uri": "https://localhost:8080/"
    },
    "id": "vab2u8Lhz9wY",
    "outputId": "cc15aef2-1198-46fb-e687-51ba9da5b22a",
    "ExecuteTime": {
     "end_time": "2024-10-04T13:13:12.851788Z",
     "start_time": "2024-10-04T13:13:12.845942Z"
    }
   },
   "outputs": [
    {
     "data": {
      "text/plain": [
       "np.float64(-1.0)"
      ]
     },
     "execution_count": 3,
     "metadata": {},
     "output_type": "execute_result"
    }
   ],
   "execution_count": 3
  },
  {
   "cell_type": "markdown",
   "source": [
    "## Intro to numpy\n",
    "\n",
    "We can use it to define vectors, matrices, etc...\n",
    "\n",
    "- A vector is a list of numbers\n",
    "- A matrix is a table of numbers\n",
    "\n",
    "For example, we might have a list of the grades of the class:"
   ],
   "metadata": {
    "id": "mXZlI11f0LIl"
   }
  },
  {
   "cell_type": "code",
   "source": [
    "grades = np.array([54,34,57,22,84,93,14,45,75,55,84,51,62,44])"
   ],
   "metadata": {
    "id": "WILqk_OP0K8Y",
    "ExecuteTime": {
     "end_time": "2024-10-04T13:13:21.969576Z",
     "start_time": "2024-10-04T13:13:21.966185Z"
    }
   },
   "outputs": [],
   "execution_count": 4
  },
  {
   "cell_type": "markdown",
   "source": [
    "- this is a vector that's 14 long, and is one dimensional. Let's display it: (the last thing in a cell has its output printed)."
   ],
   "metadata": {
    "id": "l6iz3t210fHS"
   }
  },
  {
   "cell_type": "code",
   "source": [
    "grades"
   ],
   "metadata": {
    "colab": {
     "base_uri": "https://localhost:8080/"
    },
    "id": "hQxgSAGv0HT2",
    "outputId": "e36228c3-842f-401d-b2a2-44ba42424157",
    "ExecuteTime": {
     "end_time": "2024-10-04T13:13:25.425885Z",
     "start_time": "2024-10-04T13:13:25.421351Z"
    }
   },
   "outputs": [
    {
     "data": {
      "text/plain": [
       "array([54, 34, 57, 22, 84, 93, 14, 45, 75, 55, 84, 51, 62, 44])"
      ]
     },
     "execution_count": 5,
     "metadata": {},
     "output_type": "execute_result"
    }
   ],
   "execution_count": 5
  },
  {
   "cell_type": "markdown",
   "source": [
    "We can ask for the 'shape' of this variable:"
   ],
   "metadata": {
    "id": "9cpGuS6603cm"
   }
  },
  {
   "cell_type": "code",
   "source": [
    "grades.shape"
   ],
   "metadata": {
    "colab": {
     "base_uri": "https://localhost:8080/"
    },
    "id": "Uq4dry8x02YU",
    "outputId": "2147c798-6b84-41cb-eaba-ff5960a9e7e2",
    "ExecuteTime": {
     "end_time": "2024-10-04T13:13:32.573726Z",
     "start_time": "2024-10-04T13:13:32.570516Z"
    }
   },
   "outputs": [
    {
     "data": {
      "text/plain": [
       "(14,)"
      ]
     },
     "execution_count": 6,
     "metadata": {},
     "output_type": "execute_result"
    }
   ],
   "execution_count": 6
  },
  {
   "cell_type": "markdown",
   "source": [
    "We can find out what the mean of the grades is:"
   ],
   "metadata": {
    "id": "NvkfNk_m07vq"
   }
  },
  {
   "cell_type": "code",
   "source": [
    "np.mean(grades)"
   ],
   "metadata": {
    "colab": {
     "base_uri": "https://localhost:8080/"
    },
    "id": "u_JRgHtr07ij",
    "outputId": "d0c6d96e-97b7-43c8-f6f0-2854fb4db6e8",
    "ExecuteTime": {
     "end_time": "2024-10-04T13:13:38.047819Z",
     "start_time": "2024-10-04T13:13:38.043536Z"
    }
   },
   "outputs": [
    {
     "data": {
      "text/plain": [
       "np.float64(55.285714285714285)"
      ]
     },
     "execution_count": 7,
     "metadata": {},
     "output_type": "execute_result"
    }
   ],
   "execution_count": 7
  },
  {
   "cell_type": "markdown",
   "source": [
    "### Slice Notation"
   ],
   "metadata": {
    "id": "l8FgVYGmTdL3"
   }
  },
  {
   "cell_type": "markdown",
   "source": [
    "We can get just the first item using:"
   ],
   "metadata": {
    "id": "NP7vjMTm1cf3"
   }
  },
  {
   "cell_type": "code",
   "source": [
    "grades[0]"
   ],
   "metadata": {
    "colab": {
     "base_uri": "https://localhost:8080/"
    },
    "id": "W4WHICpQ1cFG",
    "outputId": "fbf6de3e-e165-4d7c-8cb6-f75363b8d820",
    "ExecuteTime": {
     "end_time": "2024-10-04T13:13:44.606905Z",
     "start_time": "2024-10-04T13:13:44.602751Z"
    }
   },
   "outputs": [
    {
     "data": {
      "text/plain": [
       "np.int64(54)"
      ]
     },
     "execution_count": 8,
     "metadata": {},
     "output_type": "execute_result"
    }
   ],
   "execution_count": 8
  },
  {
   "cell_type": "markdown",
   "source": [
    "Notice that the first item has index ZERO (not one).\n",
    "\n",
    "We can get the last item using -1:"
   ],
   "metadata": {
    "id": "EB0eaSIP1g_V"
   }
  },
  {
   "cell_type": "code",
   "source": [
    "grades[-1]"
   ],
   "metadata": {
    "colab": {
     "base_uri": "https://localhost:8080/"
    },
    "id": "XNx1ekpk1mHK",
    "outputId": "7696a427-1c9c-422f-cfdf-8b36e0894abf",
    "ExecuteTime": {
     "end_time": "2024-10-04T13:13:47.877159Z",
     "start_time": "2024-10-04T13:13:47.872737Z"
    }
   },
   "outputs": [
    {
     "data": {
      "text/plain": [
       "np.int64(44)"
      ]
     },
     "execution_count": 9,
     "metadata": {},
     "output_type": "execute_result"
    }
   ],
   "execution_count": 9
  },
  {
   "cell_type": "markdown",
   "source": [
    "There's useful syntax called slice notation. For example:\n",
    "- if we want the first five items, we use `grades[:5]`\n",
    "- we we want the last three items we use `grades[-3:]`\n",
    "- if we want those at indexes 1,2 and 3: `grades[1:4]` - this is more tricky, have a think about what's going on.\n",
    "- if we want just the ones at 1,3,5,7,9...etc we can use: `grades[[1,3,5,7,9,11,13]]` or we can also tell it how to step through `grades[1::2]` means it steps through two at a time, starting at index 1.\n",
    "- if we want just the odd ones within the first 10, we can use `grades[1:10:2]`."
   ],
   "metadata": {
    "id": "pXnbQvSo1nnK"
   }
  },
  {
   "cell_type": "code",
   "source": "grades[:5]",
   "metadata": {
    "id": "FFGQUcUE14wF",
    "ExecuteTime": {
     "end_time": "2024-10-04T13:14:39.204690Z",
     "start_time": "2024-10-04T13:14:39.198376Z"
    }
   },
   "outputs": [
    {
     "data": {
      "text/plain": [
       "array([54, 34, 57, 22, 84])"
      ]
     },
     "execution_count": 10,
     "metadata": {},
     "output_type": "execute_result"
    }
   ],
   "execution_count": 10
  },
  {
   "metadata": {
    "ExecuteTime": {
     "end_time": "2024-10-04T13:15:00.140587Z",
     "start_time": "2024-10-04T13:15:00.134612Z"
    }
   },
   "cell_type": "code",
   "source": "grades[-3:]",
   "outputs": [
    {
     "data": {
      "text/plain": [
       "array([51, 62, 44])"
      ]
     },
     "execution_count": 11,
     "metadata": {},
     "output_type": "execute_result"
    }
   ],
   "execution_count": 11
  },
  {
   "metadata": {
    "ExecuteTime": {
     "end_time": "2024-10-04T13:16:00.885224Z",
     "start_time": "2024-10-04T13:16:00.878001Z"
    }
   },
   "cell_type": "code",
   "source": "grades[[1,3,5,7,9,11,13]]",
   "outputs": [
    {
     "data": {
      "text/plain": [
       "array([34, 22, 93, 45, 55, 51, 44])"
      ]
     },
     "execution_count": 13,
     "metadata": {},
     "output_type": "execute_result"
    }
   ],
   "execution_count": 13
  },
  {
   "cell_type": "markdown",
   "source": [
    "We have another vector that tells us which students are MSc students."
   ],
   "metadata": {
    "id": "KB9ggioM1CJz"
   }
  },
  {
   "cell_type": "code",
   "source": [
    "#grades = np.array([54,34,57,22,84,93,14,45,75,55,84,51,62,44])\n",
    "msc = np.array([True,False,False,False,True,True,False,False,True,False,True,False,True,False])"
   ],
   "metadata": {
    "id": "L6LKSWyo05_s",
    "ExecuteTime": {
     "end_time": "2024-10-04T13:16:30.979454Z",
     "start_time": "2024-10-04T13:16:30.976800Z"
    }
   },
   "outputs": [],
   "execution_count": 14
  },
  {
   "cell_type": "markdown",
   "source": [
    "We can index the grades array using this array:"
   ],
   "metadata": {
    "id": "luAFujAb1RhM"
   }
  },
  {
   "cell_type": "code",
   "source": [
    "grades[msc]"
   ],
   "metadata": {
    "colab": {
     "base_uri": "https://localhost:8080/"
    },
    "id": "rlUi0NZG1Qsu",
    "outputId": "92bdf3b0-7555-4d23-8d6c-21dc9a21977a",
    "ExecuteTime": {
     "end_time": "2024-10-04T13:16:35.445865Z",
     "start_time": "2024-10-04T13:16:35.441517Z"
    }
   },
   "outputs": [
    {
     "data": {
      "text/plain": [
       "array([54, 84, 93, 75, 84, 62])"
      ]
     },
     "execution_count": 15,
     "metadata": {},
     "output_type": "execute_result"
    }
   ],
   "execution_count": 15
  },
  {
   "cell_type": "markdown",
   "source": [
    "And get the average of these:"
   ],
   "metadata": {
    "id": "LiS2h0Ab2cVk"
   }
  },
  {
   "cell_type": "code",
   "source": [
    "np.mean(grades[msc])"
   ],
   "metadata": {
    "colab": {
     "base_uri": "https://localhost:8080/"
    },
    "id": "37flEZ3H1VAc",
    "outputId": "075b81eb-6bd8-4e91-d937-5416fda5a720",
    "ExecuteTime": {
     "end_time": "2024-10-04T13:16:37.937398Z",
     "start_time": "2024-10-04T13:16:37.933523Z"
    }
   },
   "outputs": [
    {
     "data": {
      "text/plain": [
       "np.float64(75.33333333333333)"
      ]
     },
     "execution_count": 16,
     "metadata": {},
     "output_type": "execute_result"
    }
   ],
   "execution_count": 16
  },
  {
   "cell_type": "markdown",
   "source": [
    "We could put them into a separate variable,"
   ],
   "metadata": {
    "id": "lKW7fRBa2zyV"
   }
  },
  {
   "cell_type": "code",
   "source": [
    "mscgrades = grades[msc]"
   ],
   "metadata": {
    "id": "gqP8oRE-2yHO",
    "ExecuteTime": {
     "end_time": "2024-10-04T13:16:42.302025Z",
     "start_time": "2024-10-04T13:16:42.300158Z"
    }
   },
   "outputs": [],
   "execution_count": 17
  },
  {
   "cell_type": "markdown",
   "source": [
    "What's the average of the other students?"
   ],
   "metadata": {
    "id": "bpOSoyit27T9"
   }
  },
  {
   "cell_type": "code",
   "source": [
    "np.mean(grades[~msc]) # ~ means 'not'"
   ],
   "metadata": {
    "colab": {
     "base_uri": "https://localhost:8080/"
    },
    "id": "2OwRdY1G23IM",
    "outputId": "72f060df-f743-4807-c08c-f8db6c0ab166",
    "ExecuteTime": {
     "end_time": "2024-10-04T13:16:46.473752Z",
     "start_time": "2024-10-04T13:16:46.469936Z"
    }
   },
   "outputs": [
    {
     "data": {
      "text/plain": [
       "np.float64(40.25)"
      ]
     },
     "execution_count": 18,
     "metadata": {},
     "output_type": "execute_result"
    }
   ],
   "execution_count": 18
  },
  {
   "cell_type": "markdown",
   "source": [
    "What proportion of those on the BSc programme are over 40%?\n",
    "We can do a boolean comparison to each element in the vector. This will make a new vector with Trues and Falses in:"
   ],
   "metadata": {
    "id": "pJkm8Ifc3CSd"
   }
  },
  {
   "cell_type": "code",
   "source": [
    "#grades = np.array([54,34,57,22,84,93,14,45,75,55,84,51,62,44])\n",
    "#msc = np.array([True, False, False, False, True, True, False, False, True, False, True, False, True, False])\n",
    "grades[~msc]>40"
   ],
   "metadata": {
    "colab": {
     "base_uri": "https://localhost:8080/"
    },
    "id": "gvuk-XPI3AfV",
    "outputId": "56c04981-b9a0-4384-cf77-ad9e65c929b7",
    "ExecuteTime": {
     "end_time": "2024-10-04T13:18:47.999006Z",
     "start_time": "2024-10-04T13:18:47.987908Z"
    }
   },
   "outputs": [
    {
     "data": {
      "text/plain": [
       "array([False,  True, False, False,  True,  True,  True,  True])"
      ]
     },
     "execution_count": 22,
     "metadata": {},
     "output_type": "execute_result"
    }
   ],
   "execution_count": 22
  },
  {
   "cell_type": "markdown",
   "source": [
    "We are able to ask for the mean of this as it treats 'True' as '1' and 'False' as '0', so the mean will give the proportion that are above 40:"
   ],
   "metadata": {
    "id": "Glqjr6DA3bXc"
   }
  },
  {
   "cell_type": "code",
   "source": [
    "np.mean(grades[~msc]>40)"
   ],
   "metadata": {
    "colab": {
     "base_uri": "https://localhost:8080/"
    },
    "id": "-uae6_Ln3axI",
    "outputId": "12d6de0b-eb10-4bdf-8938-6f9e1e90dde4",
    "ExecuteTime": {
     "end_time": "2024-10-04T13:19:43.142505Z",
     "start_time": "2024-10-04T13:19:43.136876Z"
    }
   },
   "outputs": [
    {
     "data": {
      "text/plain": [
       "np.float64(0.625)"
      ]
     },
     "execution_count": 23,
     "metadata": {},
     "output_type": "execute_result"
    }
   ],
   "execution_count": 23
  },
  {
   "cell_type": "code",
   "source": [
    "attendance = np.array([0.5,0.6,0.4,0.4,0.9,0.9,0.2,0.3,0.8,0.5,0.9,0.5,0.6,0.4])"
   ],
   "metadata": {
    "id": "zuc7MkYJ5tAB",
    "ExecuteTime": {
     "end_time": "2024-10-04T13:19:47.010058Z",
     "start_time": "2024-10-04T13:19:47.007016Z"
    }
   },
   "outputs": [],
   "execution_count": 24
  },
  {
   "cell_type": "markdown",
   "source": [
    "### Matrices?\n",
    "\n",
    "(note: in numpy nowadays we just use `array` for everything, including vectors, matrices and higher-order tensors).\n",
    "\n",
    "We might have a table that has *both* the grade and if they're on the MSc programme, rather than two separate vectors.\n",
    "\n",
    "We can build a matrix from our vectors, using this syntax:"
   ],
   "metadata": {
    "id": "bSEC_Os04Cel"
   }
  },
  {
   "cell_type": "code",
   "source": [
    "import pandas as pd\n",
    "\n",
    "#this means we want to join columns together\n",
    "students = np.c_[grades,msc,attendance] #this means we want to join columns together\n",
    "students #written here to make it print, note that it's converted the boolean Trues/Falses into 1s and 0s - as all the types must be the same in an array.\n",
    "\n",
    "# index and column names\n",
    "row_names = [\"Row_0\", \"Row_1\", \"Row_2\", \"Row_3\", \"Row_4\", \"Row_5\", \"Row_6\", \"Row_7\", \"Row_8\", \"Row_9\", \"Row_10\", \"Row_11\", \"Row_12\", \"Row_13\"]\n",
    "column_names = [\"grades\", \"msc\", \"attendance\"]\n",
    "\n",
    "# Giving names to rows and columns\n",
    "res = pd.DataFrame(students, index=row_names, columns=column_names)\n",
    "print(\"Result:\\n\", res)"
   ],
   "metadata": {
    "colab": {
     "base_uri": "https://localhost:8080/"
    },
    "id": "2xBHPPLf4SsP",
    "outputId": "bec5bfd4-2c47-4aa6-fa24-c9299e202cfe",
    "ExecuteTime": {
     "end_time": "2024-10-04T13:28:31.445852Z",
     "start_time": "2024-10-04T13:28:31.434997Z"
    }
   },
   "outputs": [
    {
     "name": "stdout",
     "output_type": "stream",
     "text": [
      "Result:\n",
      "         grades  msc  attendance\n",
      "Row_0     54.0  1.0         0.5\n",
      "Row_1     34.0  0.0         0.6\n",
      "Row_2     57.0  0.0         0.4\n",
      "Row_3     22.0  0.0         0.4\n",
      "Row_4     84.0  1.0         0.9\n",
      "Row_5     93.0  1.0         0.9\n",
      "Row_6     14.0  0.0         0.2\n",
      "Row_7     45.0  0.0         0.3\n",
      "Row_8     75.0  1.0         0.8\n",
      "Row_9     55.0  0.0         0.5\n",
      "Row_10    84.0  1.0         0.9\n",
      "Row_11    51.0  0.0         0.5\n",
      "Row_12    62.0  1.0         0.6\n",
      "Row_13    44.0  0.0         0.4\n"
     ]
    }
   ],
   "execution_count": 35
  },
  {
   "cell_type": "markdown",
   "source": [
    "What shape is students?"
   ],
   "metadata": {
    "id": "UxbkBZ744Zu0"
   }
  },
  {
   "cell_type": "code",
   "source": [
    "students.shape"
   ],
   "metadata": {
    "colab": {
     "base_uri": "https://localhost:8080/"
    },
    "id": "OWsr1uqT4Yq8",
    "outputId": "c3d8f6a4-8cac-4ba4-949d-261efee7eea4",
    "ExecuteTime": {
     "end_time": "2024-10-04T13:25:35.582880Z",
     "start_time": "2024-10-04T13:25:35.578603Z"
    }
   },
   "outputs": [
    {
     "data": {
      "text/plain": [
       "(14, 3)"
      ]
     },
     "execution_count": 32,
     "metadata": {},
     "output_type": "execute_result"
    }
   ],
   "execution_count": 32
  },
  {
   "cell_type": "markdown",
   "source": [
    "This is in the order mathematicians are used to: Number of rows, Number of columns: So there are 14 rows and 3 columns.\n",
    "\n",
    "We can ask for the grade of student at index=4 down:"
   ],
   "metadata": {
    "id": "tYPigsHr4hDR"
   }
  },
  {
   "cell_type": "code",
   "source": [
    "students[4,0] #this asks for row number 4, column number 0"
   ],
   "metadata": {
    "colab": {
     "base_uri": "https://localhost:8080/"
    },
    "id": "v4-GqlKB5bQk",
    "outputId": "f843f24c-2097-46c9-cebf-c5600736b59c",
    "ExecuteTime": {
     "end_time": "2024-10-04T13:28:35.661687Z",
     "start_time": "2024-10-04T13:28:35.656310Z"
    }
   },
   "outputs": [
    {
     "data": {
      "text/plain": [
       "np.float64(84.0)"
      ]
     },
     "execution_count": 36,
     "metadata": {},
     "output_type": "execute_result"
    }
   ],
   "execution_count": 36
  },
  {
   "cell_type": "markdown",
   "source": [
    "If we want the attendance of students between rows 4 and 8,"
   ],
   "metadata": {
    "id": "P-dRxrov6DRq"
   }
  },
  {
   "cell_type": "code",
   "source": [
    "students[4:9,2] #as it's 4-8 inclusive, we need to ask for 4:9. The '2' tells it that we want column number 2."
   ],
   "metadata": {
    "colab": {
     "base_uri": "https://localhost:8080/"
    },
    "id": "bCB4j-xU6K5D",
    "outputId": "6e0f64b6-b37d-4e76-9041-39f5110e524d",
    "ExecuteTime": {
     "end_time": "2024-10-04T13:28:38.432847Z",
     "start_time": "2024-10-04T13:28:38.428834Z"
    }
   },
   "outputs": [
    {
     "data": {
      "text/plain": [
       "array([0.9, 0.9, 0.2, 0.3, 0.8])"
      ]
     },
     "execution_count": 37,
     "metadata": {},
     "output_type": "execute_result"
    }
   ],
   "execution_count": 37
  },
  {
   "cell_type": "markdown",
   "source": [
    "We've been told that to correct an error, the undergrad students are all going to get an extra 3 marks added. How can we do that?\n",
    "\n",
    "We can pick out the rows that are undergrads like this.\n",
    "\n",
    "1) The students that are undergrads are found at:"
   ],
   "metadata": {
    "id": "t8c_tI3L4n-P"
   }
  },
  {
   "cell_type": "code",
   "source": [
    "students[:,1]==0"
   ],
   "metadata": {
    "colab": {
     "base_uri": "https://localhost:8080/"
    },
    "id": "VjLFCEyI4g0G",
    "outputId": "db78d216-7f2a-4bf7-da5a-423083618687",
    "ExecuteTime": {
     "end_time": "2024-10-04T13:29:26.110217Z",
     "start_time": "2024-10-04T13:29:26.103205Z"
    }
   },
   "outputs": [
    {
     "data": {
      "text/plain": [
       "array([False,  True,  True,  True, False, False,  True,  True, False,\n",
       "        True, False,  True, False,  True])"
      ]
     },
     "execution_count": 38,
     "metadata": {},
     "output_type": "execute_result"
    }
   ],
   "execution_count": 38
  },
  {
   "cell_type": "markdown",
   "source": [
    "2) So we can pick the grades out:"
   ],
   "metadata": {
    "id": "u1haYUew3pQ-"
   }
  },
  {
   "cell_type": "code",
   "source": [
    "students[students[:,1]==0,0] = students[students[:,1]==0,0] + 3 #this will change the students table\n",
    "\n",
    "print(students)\n",
    "students.shape\n",
    "## !!! If you run this cell repeatedly you'll add 3 repeatedly!!"
   ],
   "metadata": {
    "id": "sSRv1B-A3n7J",
    "ExecuteTime": {
     "end_time": "2024-10-04T13:31:01.395532Z",
     "start_time": "2024-10-04T13:31:01.390194Z"
    }
   },
   "outputs": [
    {
     "name": "stdout",
     "output_type": "stream",
     "text": [
      "[[54.   1.   0.5]\n",
      " [58.   0.   0.6]\n",
      " [81.   0.   0.4]\n",
      " [46.   0.   0.4]\n",
      " [84.   1.   0.9]\n",
      " [93.   1.   0.9]\n",
      " [38.   0.   0.2]\n",
      " [69.   0.   0.3]\n",
      " [75.   1.   0.8]\n",
      " [79.   0.   0.5]\n",
      " [84.   1.   0.9]\n",
      " [75.   0.   0.5]\n",
      " [62.   1.   0.6]\n",
      " [68.   0.   0.4]]\n"
     ]
    },
    {
     "data": {
      "text/plain": [
       "(14, 3)"
      ]
     },
     "execution_count": 46,
     "metadata": {},
     "output_type": "execute_result"
    }
   ],
   "execution_count": 46
  },
  {
   "cell_type": "markdown",
   "source": [
    "The above illustrates an important lesson for coding notebooks: Try to make a new variable, rather than update old ones. It would have been better to have written something like,\n",
    "\n",
    "```\n",
    "corrected_students = students.copy()\n",
    "corrected_students[students[:,1]==0,0] = students[students[:,1]==0,0] + 3\n",
    "```\n",
    "\n",
    "### Numpy array 'copy' vs 'view'\n",
    "\n",
    "This also reveals a key issue in python (and other modern languages), the variable `students` is effectively a pointer (a 'view') to the memory containing the table of numbers, if we hadn't used `.copy()` the `corrected_students` array would 'point' to the *same table of numbers*. You can see this if you run,\n",
    "```\n",
    "a = np.array([1,2,3])\n",
    "b = a\n",
    "b[:] = b[:] * 100\n",
    "print(a)\n",
    "```\n",
    "Looking inside `a` you'll find that the values have all been scaled by 100.\n",
    "\n",
    "Although this is a bit confusing, it's good to just be aware of, as it's a common cause of errors for students new to python! To learn more have a quick read of [Copies and Views](https://numpy.org/doc/stable/user/basics.copies.html)."
   ],
   "metadata": {
    "id": "gku4zOf1Itai"
   }
  },
  {
   "cell_type": "markdown",
   "source": [
    "## Using numpy to get probabilities!\n",
    "\n",
    "Time to revisit some of the lecture info...\n",
    "\n",
    "- what is the probability of a student having a grade over 60? The estimator is simply the proportion of students that do:"
   ],
   "metadata": {
    "id": "segitQFG6orM"
   }
  },
  {
   "cell_type": "code",
   "source": [
    "np.mean(students[:,0]>60)"
   ],
   "metadata": {
    "colab": {
     "base_uri": "https://localhost:8080/"
    },
    "id": "Xdcldp-x6nmV",
    "outputId": "d2e5f639-0164-4fc2-cfb9-e5afa728105d",
    "ExecuteTime": {
     "end_time": "2024-10-04T13:31:39.383452Z",
     "start_time": "2024-10-04T13:31:39.362081Z"
    }
   },
   "outputs": [
    {
     "data": {
      "text/plain": [
       "np.float64(0.7142857142857143)"
      ]
     },
     "execution_count": 47,
     "metadata": {},
     "output_type": "execute_result"
    }
   ],
   "execution_count": 47
  },
  {
   "cell_type": "markdown",
   "source": [
    "- What is the probability of a student attending more that 0.65 of the lectures?"
   ],
   "metadata": {
    "id": "4RrdojIz60iV"
   }
  },
  {
   "cell_type": "code",
   "source": [
    "np.mean(students[:,2]>0.65)"
   ],
   "metadata": {
    "colab": {
     "base_uri": "https://localhost:8080/"
    },
    "id": "6WVYLPdF60Ak",
    "outputId": "36480f5e-b49f-40ab-a756-aa4b4aaf1f7d",
    "ExecuteTime": {
     "end_time": "2024-10-04T13:31:43.967049Z",
     "start_time": "2024-10-04T13:31:43.963935Z"
    }
   },
   "outputs": [
    {
     "data": {
      "text/plain": [
       "np.float64(0.2857142857142857)"
      ]
     },
     "execution_count": 48,
     "metadata": {},
     "output_type": "execute_result"
    }
   ],
   "execution_count": 48
  },
  {
   "cell_type": "markdown",
   "source": [
    "What's the probability of a student getting a grade over 60 AND attending more than 0.65 of the lectures?"
   ],
   "metadata": {
    "id": "J7cni2Y168mp"
   }
  },
  {
   "cell_type": "code",
   "source": [
    "np.mean((students[:,0]>60) & (students[:,2]>0.55))"
   ],
   "metadata": {
    "colab": {
     "base_uri": "https://localhost:8080/"
    },
    "id": "8QBf1NXo7BcC",
    "outputId": "c11eaa65-ffaf-463a-b89a-0f1fd4da7ea9"
   },
   "execution_count": null,
   "outputs": [
    {
     "output_type": "execute_result",
     "data": {
      "text/plain": [
       "0.35714285714285715"
      ]
     },
     "metadata": {},
     "execution_count": 28
    }
   ]
  },
  {
   "cell_type": "markdown",
   "source": [
    "Oh, let's stop and just look at what we did there...\n",
    "\n",
    "The first part `(students[:,0]>60)` generates a boolean vector of those with a mark over 40:"
   ],
   "metadata": {
    "id": "NLT3Ryoh7GJU"
   }
  },
  {
   "cell_type": "code",
   "source": [
    "students[:,0]>60"
   ],
   "metadata": {
    "colab": {
     "base_uri": "https://localhost:8080/"
    },
    "id": "uK7-D5Fi7O00",
    "outputId": "23fe978b-88e5-4305-aede-59c2e2486035"
   },
   "execution_count": null,
   "outputs": [
    {
     "output_type": "execute_result",
     "data": {
      "text/plain": [
       "array([False, False, False, False,  True,  True, False, False,  True,\n",
       "       False,  True, False,  True, False])"
      ]
     },
     "metadata": {},
     "execution_count": 29
    }
   ]
  },
  {
   "cell_type": "markdown",
   "source": [
    "The second part `students[:,2]>0.65` does the same for those who attended lots:"
   ],
   "metadata": {
    "id": "voNkYv3Q7RAr"
   }
  },
  {
   "cell_type": "code",
   "source": [
    "students[:,2]>0.65"
   ],
   "metadata": {
    "colab": {
     "base_uri": "https://localhost:8080/"
    },
    "id": "5eZGakmE7V6v",
    "outputId": "8cc3eb74-9e01-41a8-f487-c7c1215e4d6c"
   },
   "execution_count": null,
   "outputs": [
    {
     "output_type": "execute_result",
     "data": {
      "text/plain": [
       "array([False, False, False, False,  True,  True, False, False,  True,\n",
       "       False,  True, False, False, False])"
      ]
     },
     "metadata": {},
     "execution_count": 30
    }
   ]
  },
  {
   "cell_type": "markdown",
   "source": [
    "We can use the `&` operator to make a new boolean vector from these two, with True when both of the others are true.\n",
    "\n",
    "**Tip: The brackets are often necessary to ensure that we get the correct order of precedence.**"
   ],
   "metadata": {
    "id": "WB8xyNAM7BSZ"
   }
  },
  {
   "cell_type": "code",
   "source": [
    "(students[:,0]>60) & (students[:,2]>0.65)"
   ],
   "metadata": {
    "colab": {
     "base_uri": "https://localhost:8080/"
    },
    "id": "yLxsfRiU7kKj",
    "outputId": "8ed3e34f-8bd2-4129-d956-1895246946e1"
   },
   "execution_count": null,
   "outputs": [
    {
     "output_type": "execute_result",
     "data": {
      "text/plain": [
       "array([False, False, False, False,  True,  True, False, False,  True,\n",
       "       False,  True, False, False, False])"
      ]
     },
     "metadata": {},
     "execution_count": 31
    }
   ]
  },
  {
   "cell_type": "markdown",
   "source": [
    "So, does it seem likely that these are independent? Let's check:"
   ],
   "metadata": {
    "id": "Kp7iC6u87uhy"
   }
  },
  {
   "cell_type": "code",
   "source": [
    "np.mean(students[:,0]>60) * np.mean(students[:,2]>0.55)"
   ],
   "metadata": {
    "colab": {
     "base_uri": "https://localhost:8080/"
    },
    "id": "gSXJWGBz7uWG",
    "outputId": "2c2dd440-dd45-4fd1-95f5-42efc108dd42"
   },
   "execution_count": null,
   "outputs": [
    {
     "output_type": "execute_result",
     "data": {
      "text/plain": [
       "0.15306122448979592"
      ]
     },
     "metadata": {},
     "execution_count": 32
    }
   ]
  },
  {
   "cell_type": "markdown",
   "source": [
    "0.15 is much smaller than 0.36, so it seems like they are not independent.\n",
    "\n",
    "This doesn't mean that it is causal! It might just be that good students do the worksheets, read the text book and go to lectures.\n",
    "\n",
    "If we knew if they had done the worksheet, it might be that the grade and lecture attendance are independent GIVEN whether they had done the worksheet."
   ],
   "metadata": {
    "id": "il3eay8C8cn3"
   }
  },
  {
   "cell_type": "markdown",
   "source": [
    "## Next\n",
    "\n",
    "Now you've got the hang of python and numpy we can start on the lab notebook itself!"
   ],
   "metadata": {
    "id": "bzz8zfvFUeiH"
   }
  }
 ],
 "metadata": {
  "kernelspec": {
   "display_name": "Python 3",
   "language": "python",
   "name": "python3"
  },
  "language_info": {
   "codemirror_mode": {
    "name": "ipython",
    "version": 3
   },
   "file_extension": ".py",
   "mimetype": "text/x-python",
   "name": "python",
   "nbconvert_exporter": "python",
   "pygments_lexer": "ipython3",
   "version": "3.8.3"
  },
  "colab": {
   "provenance": [],
   "toc_visible": true
  }
 },
 "nbformat": 4,
 "nbformat_minor": 0
}
