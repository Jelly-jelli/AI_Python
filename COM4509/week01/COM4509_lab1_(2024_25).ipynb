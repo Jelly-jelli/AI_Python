{
 "cells": [
  {
   "cell_type": "markdown",
   "metadata": {
    "id": "MO2HehZvwPXc"
   },
   "source": [
    "# COM4509/6509 - Lab 1: Probability"
   ]
  },
  {
   "cell_type": "markdown",
   "source": [
    "## Introduction to the Dataset\n",
    "\n",
    "For this exercise we'll use the [Diabetes Health Indicators Dataset](https://www.kaggle.com/datasets/alexteboul/diabetes-health-indicators-dataset): 253,680 Americans were called to ask about some of their health-related behaviours (eating fruit etc), and some health outcomes (have they diabetes, etc)."
   ],
   "metadata": {
    "id": "cEnUQlwz9j8n"
   }
  },
  {
   "cell_type": "markdown",
   "metadata": {
    "id": "PVNE1RvTwPXi"
   },
   "source": [
    "We first need to import various modules we'll use, download the dataset and open it, including [pandas](https://pandas.pydata.org), a data analysis and manipulation library, for looking at this data."
   ]
  },
  {
   "cell_type": "code",
   "metadata": {
    "id": "bJPKRyAHwPXl",
    "ExecuteTime": {
     "end_time": "2024-11-01T13:11:21.852856Z",
     "start_time": "2024-11-01T13:11:21.364724Z"
    }
   },
   "source": [
    "from itertools import count\n",
    "\n",
    "import pandas as pd   #useful for data access and manipulation\n",
    "import urllib.request #used to download the dataset\n",
    "import matplotlib.pyplot as plt #useful for plotting\n",
    "#ensure our plots appear in the notebook:\n",
    "%matplotlib inline\n",
    "import numpy as np    #numpy is useful for matrix/array/tensor manipulation"
   ],
   "outputs": [],
   "execution_count": 1
  },
  {
   "cell_type": "markdown",
   "metadata": {
    "id": "OsLxYtdbwPXn"
   },
   "source": [
    "Now download and open the dataset:"
   ]
  },
  {
   "cell_type": "code",
   "metadata": {
    "id": "VwubPcGCwPXo",
    "ExecuteTime": {
     "end_time": "2024-11-01T13:14:19.592191Z",
     "start_time": "2024-11-01T13:14:11.172846Z"
    }
   },
   "source": [
    "urllib.request.urlretrieve('https://drive.google.com/u/0/uc?id=1dprY31miDsQSZZwMkOfHoqkH4TQ8gV2W&export=download', './diabetes.csv')\n",
    "df = pd.read_csv('diabetes.csv')"
   ],
   "outputs": [],
   "execution_count": 2
  },
  {
   "cell_type": "markdown",
   "metadata": {
    "id": "MY-8VpDbwPXp"
   },
   "source": [
    "We can look at the content: It is a large table, containing 253680 rows (each row is a person) and 22 columns:"
   ]
  },
  {
   "cell_type": "code",
   "metadata": {
    "id": "d5DDqGyFwPXr",
    "ExecuteTime": {
     "end_time": "2024-10-04T13:33:33.875248Z",
     "start_time": "2024-10-04T13:33:33.869873Z"
    }
   },
   "source": [
    "print(\"The columns in the dataset:\")\n",
    "print(df.columns)"
   ],
   "outputs": [
    {
     "name": "stdout",
     "output_type": "stream",
     "text": [
      "The columns in the dataset:\n",
      "Index(['Unnamed: 0', 'Diabetes_012', 'HighBP', 'HighChol', 'CholCheck', 'BMI',\n",
      "       'Smoker', 'Stroke', 'HeartDiseaseorAttack', 'PhysActivity', 'Fruits',\n",
      "       'Veggies', 'HvyAlcoholConsump', 'AnyHealthcare', 'NoDocbcCost',\n",
      "       'GenHlth', 'MentHlth', 'PhysHlth', 'DiffWalk', 'Sex', 'Age',\n",
      "       'Education', 'Income'],\n",
      "      dtype='object')\n"
     ]
    }
   ],
   "execution_count": 4
  },
  {
   "cell_type": "markdown",
   "metadata": {
    "id": "RSoCZQMewPXs"
   },
   "source": [
    "The dataframe itself:"
   ]
  },
  {
   "cell_type": "code",
   "metadata": {
    "id": "Oi4QTfTxwPXs",
    "ExecuteTime": {
     "end_time": "2024-10-04T13:33:39.710113Z",
     "start_time": "2024-10-04T13:33:39.661496Z"
    }
   },
   "source": [
    "df"
   ],
   "outputs": [
    {
     "data": {
      "text/plain": [
       "        Unnamed: 0  Diabetes_012  HighBP  HighChol  CholCheck   BMI  Smoker  \\\n",
       "0                0           0.0     1.0       1.0        1.0  40.0     1.0   \n",
       "1                1           0.0     0.0       0.0        0.0  25.0     1.0   \n",
       "2                2           0.0     1.0       1.0        1.0  28.0     0.0   \n",
       "3                3           0.0     1.0       0.0        1.0  27.0     0.0   \n",
       "4                4           0.0     1.0       1.0        1.0  24.0     0.0   \n",
       "...            ...           ...     ...       ...        ...   ...     ...   \n",
       "253675      253675           0.0     1.0       1.0        1.0  45.0     0.0   \n",
       "253676      253676           2.0     1.0       1.0        1.0  18.0     0.0   \n",
       "253677      253677           0.0     0.0       0.0        1.0  28.0     0.0   \n",
       "253678      253678           0.0     1.0       0.0        1.0  23.0     0.0   \n",
       "253679      253679           2.0     1.0       1.0        1.0  25.0     0.0   \n",
       "\n",
       "        Stroke  HeartDiseaseorAttack  PhysActivity  ...  AnyHealthcare  \\\n",
       "0          0.0                   0.0           0.0  ...            1.0   \n",
       "1          0.0                   0.0           1.0  ...            0.0   \n",
       "2          0.0                   0.0           0.0  ...            1.0   \n",
       "3          0.0                   0.0           1.0  ...            1.0   \n",
       "4          0.0                   0.0           1.0  ...            1.0   \n",
       "...        ...                   ...           ...  ...            ...   \n",
       "253675     0.0                   0.0           0.0  ...            1.0   \n",
       "253676     0.0                   0.0           0.0  ...            1.0   \n",
       "253677     0.0                   0.0           1.0  ...            1.0   \n",
       "253678     0.0                   0.0           0.0  ...            1.0   \n",
       "253679     0.0                   1.0           1.0  ...            1.0   \n",
       "\n",
       "        NoDocbcCost  GenHlth  MentHlth  PhysHlth  DiffWalk  Sex   Age  \\\n",
       "0               0.0      5.0      18.0      15.0       1.0  0.0  62.0   \n",
       "1               1.0      3.0       0.0       0.0       0.0  0.0  52.0   \n",
       "2               1.0      5.0      30.0      30.0       1.0  0.0  62.0   \n",
       "3               0.0      2.0       0.0       0.0       0.0  0.0  72.0   \n",
       "4               0.0      2.0       3.0       0.0       0.0  0.0  72.0   \n",
       "...             ...      ...       ...       ...       ...  ...   ...   \n",
       "253675          0.0      3.0       0.0       5.0       0.0  1.0  42.0   \n",
       "253676          0.0      4.0       0.0       0.0       1.0  0.0  72.0   \n",
       "253677          0.0      1.0       0.0       0.0       0.0  0.0  27.0   \n",
       "253678          0.0      3.0       0.0       0.0       0.0  1.0  52.0   \n",
       "253679          0.0      2.0       0.0       0.0       0.0  0.0  62.0   \n",
       "\n",
       "        Education  Income  \n",
       "0             4.0     3.0  \n",
       "1             6.0     1.0  \n",
       "2             4.0     8.0  \n",
       "3             3.0     6.0  \n",
       "4             5.0     4.0  \n",
       "...           ...     ...  \n",
       "253675        6.0     7.0  \n",
       "253676        2.0     4.0  \n",
       "253677        5.0     2.0  \n",
       "253678        5.0     1.0  \n",
       "253679        6.0     2.0  \n",
       "\n",
       "[253680 rows x 23 columns]"
      ],
      "text/html": [
       "<div>\n",
       "<style scoped>\n",
       "    .dataframe tbody tr th:only-of-type {\n",
       "        vertical-align: middle;\n",
       "    }\n",
       "\n",
       "    .dataframe tbody tr th {\n",
       "        vertical-align: top;\n",
       "    }\n",
       "\n",
       "    .dataframe thead th {\n",
       "        text-align: right;\n",
       "    }\n",
       "</style>\n",
       "<table border=\"1\" class=\"dataframe\">\n",
       "  <thead>\n",
       "    <tr style=\"text-align: right;\">\n",
       "      <th></th>\n",
       "      <th>Unnamed: 0</th>\n",
       "      <th>Diabetes_012</th>\n",
       "      <th>HighBP</th>\n",
       "      <th>HighChol</th>\n",
       "      <th>CholCheck</th>\n",
       "      <th>BMI</th>\n",
       "      <th>Smoker</th>\n",
       "      <th>Stroke</th>\n",
       "      <th>HeartDiseaseorAttack</th>\n",
       "      <th>PhysActivity</th>\n",
       "      <th>...</th>\n",
       "      <th>AnyHealthcare</th>\n",
       "      <th>NoDocbcCost</th>\n",
       "      <th>GenHlth</th>\n",
       "      <th>MentHlth</th>\n",
       "      <th>PhysHlth</th>\n",
       "      <th>DiffWalk</th>\n",
       "      <th>Sex</th>\n",
       "      <th>Age</th>\n",
       "      <th>Education</th>\n",
       "      <th>Income</th>\n",
       "    </tr>\n",
       "  </thead>\n",
       "  <tbody>\n",
       "    <tr>\n",
       "      <th>0</th>\n",
       "      <td>0</td>\n",
       "      <td>0.0</td>\n",
       "      <td>1.0</td>\n",
       "      <td>1.0</td>\n",
       "      <td>1.0</td>\n",
       "      <td>40.0</td>\n",
       "      <td>1.0</td>\n",
       "      <td>0.0</td>\n",
       "      <td>0.0</td>\n",
       "      <td>0.0</td>\n",
       "      <td>...</td>\n",
       "      <td>1.0</td>\n",
       "      <td>0.0</td>\n",
       "      <td>5.0</td>\n",
       "      <td>18.0</td>\n",
       "      <td>15.0</td>\n",
       "      <td>1.0</td>\n",
       "      <td>0.0</td>\n",
       "      <td>62.0</td>\n",
       "      <td>4.0</td>\n",
       "      <td>3.0</td>\n",
       "    </tr>\n",
       "    <tr>\n",
       "      <th>1</th>\n",
       "      <td>1</td>\n",
       "      <td>0.0</td>\n",
       "      <td>0.0</td>\n",
       "      <td>0.0</td>\n",
       "      <td>0.0</td>\n",
       "      <td>25.0</td>\n",
       "      <td>1.0</td>\n",
       "      <td>0.0</td>\n",
       "      <td>0.0</td>\n",
       "      <td>1.0</td>\n",
       "      <td>...</td>\n",
       "      <td>0.0</td>\n",
       "      <td>1.0</td>\n",
       "      <td>3.0</td>\n",
       "      <td>0.0</td>\n",
       "      <td>0.0</td>\n",
       "      <td>0.0</td>\n",
       "      <td>0.0</td>\n",
       "      <td>52.0</td>\n",
       "      <td>6.0</td>\n",
       "      <td>1.0</td>\n",
       "    </tr>\n",
       "    <tr>\n",
       "      <th>2</th>\n",
       "      <td>2</td>\n",
       "      <td>0.0</td>\n",
       "      <td>1.0</td>\n",
       "      <td>1.0</td>\n",
       "      <td>1.0</td>\n",
       "      <td>28.0</td>\n",
       "      <td>0.0</td>\n",
       "      <td>0.0</td>\n",
       "      <td>0.0</td>\n",
       "      <td>0.0</td>\n",
       "      <td>...</td>\n",
       "      <td>1.0</td>\n",
       "      <td>1.0</td>\n",
       "      <td>5.0</td>\n",
       "      <td>30.0</td>\n",
       "      <td>30.0</td>\n",
       "      <td>1.0</td>\n",
       "      <td>0.0</td>\n",
       "      <td>62.0</td>\n",
       "      <td>4.0</td>\n",
       "      <td>8.0</td>\n",
       "    </tr>\n",
       "    <tr>\n",
       "      <th>3</th>\n",
       "      <td>3</td>\n",
       "      <td>0.0</td>\n",
       "      <td>1.0</td>\n",
       "      <td>0.0</td>\n",
       "      <td>1.0</td>\n",
       "      <td>27.0</td>\n",
       "      <td>0.0</td>\n",
       "      <td>0.0</td>\n",
       "      <td>0.0</td>\n",
       "      <td>1.0</td>\n",
       "      <td>...</td>\n",
       "      <td>1.0</td>\n",
       "      <td>0.0</td>\n",
       "      <td>2.0</td>\n",
       "      <td>0.0</td>\n",
       "      <td>0.0</td>\n",
       "      <td>0.0</td>\n",
       "      <td>0.0</td>\n",
       "      <td>72.0</td>\n",
       "      <td>3.0</td>\n",
       "      <td>6.0</td>\n",
       "    </tr>\n",
       "    <tr>\n",
       "      <th>4</th>\n",
       "      <td>4</td>\n",
       "      <td>0.0</td>\n",
       "      <td>1.0</td>\n",
       "      <td>1.0</td>\n",
       "      <td>1.0</td>\n",
       "      <td>24.0</td>\n",
       "      <td>0.0</td>\n",
       "      <td>0.0</td>\n",
       "      <td>0.0</td>\n",
       "      <td>1.0</td>\n",
       "      <td>...</td>\n",
       "      <td>1.0</td>\n",
       "      <td>0.0</td>\n",
       "      <td>2.0</td>\n",
       "      <td>3.0</td>\n",
       "      <td>0.0</td>\n",
       "      <td>0.0</td>\n",
       "      <td>0.0</td>\n",
       "      <td>72.0</td>\n",
       "      <td>5.0</td>\n",
       "      <td>4.0</td>\n",
       "    </tr>\n",
       "    <tr>\n",
       "      <th>...</th>\n",
       "      <td>...</td>\n",
       "      <td>...</td>\n",
       "      <td>...</td>\n",
       "      <td>...</td>\n",
       "      <td>...</td>\n",
       "      <td>...</td>\n",
       "      <td>...</td>\n",
       "      <td>...</td>\n",
       "      <td>...</td>\n",
       "      <td>...</td>\n",
       "      <td>...</td>\n",
       "      <td>...</td>\n",
       "      <td>...</td>\n",
       "      <td>...</td>\n",
       "      <td>...</td>\n",
       "      <td>...</td>\n",
       "      <td>...</td>\n",
       "      <td>...</td>\n",
       "      <td>...</td>\n",
       "      <td>...</td>\n",
       "      <td>...</td>\n",
       "    </tr>\n",
       "    <tr>\n",
       "      <th>253675</th>\n",
       "      <td>253675</td>\n",
       "      <td>0.0</td>\n",
       "      <td>1.0</td>\n",
       "      <td>1.0</td>\n",
       "      <td>1.0</td>\n",
       "      <td>45.0</td>\n",
       "      <td>0.0</td>\n",
       "      <td>0.0</td>\n",
       "      <td>0.0</td>\n",
       "      <td>0.0</td>\n",
       "      <td>...</td>\n",
       "      <td>1.0</td>\n",
       "      <td>0.0</td>\n",
       "      <td>3.0</td>\n",
       "      <td>0.0</td>\n",
       "      <td>5.0</td>\n",
       "      <td>0.0</td>\n",
       "      <td>1.0</td>\n",
       "      <td>42.0</td>\n",
       "      <td>6.0</td>\n",
       "      <td>7.0</td>\n",
       "    </tr>\n",
       "    <tr>\n",
       "      <th>253676</th>\n",
       "      <td>253676</td>\n",
       "      <td>2.0</td>\n",
       "      <td>1.0</td>\n",
       "      <td>1.0</td>\n",
       "      <td>1.0</td>\n",
       "      <td>18.0</td>\n",
       "      <td>0.0</td>\n",
       "      <td>0.0</td>\n",
       "      <td>0.0</td>\n",
       "      <td>0.0</td>\n",
       "      <td>...</td>\n",
       "      <td>1.0</td>\n",
       "      <td>0.0</td>\n",
       "      <td>4.0</td>\n",
       "      <td>0.0</td>\n",
       "      <td>0.0</td>\n",
       "      <td>1.0</td>\n",
       "      <td>0.0</td>\n",
       "      <td>72.0</td>\n",
       "      <td>2.0</td>\n",
       "      <td>4.0</td>\n",
       "    </tr>\n",
       "    <tr>\n",
       "      <th>253677</th>\n",
       "      <td>253677</td>\n",
       "      <td>0.0</td>\n",
       "      <td>0.0</td>\n",
       "      <td>0.0</td>\n",
       "      <td>1.0</td>\n",
       "      <td>28.0</td>\n",
       "      <td>0.0</td>\n",
       "      <td>0.0</td>\n",
       "      <td>0.0</td>\n",
       "      <td>1.0</td>\n",
       "      <td>...</td>\n",
       "      <td>1.0</td>\n",
       "      <td>0.0</td>\n",
       "      <td>1.0</td>\n",
       "      <td>0.0</td>\n",
       "      <td>0.0</td>\n",
       "      <td>0.0</td>\n",
       "      <td>0.0</td>\n",
       "      <td>27.0</td>\n",
       "      <td>5.0</td>\n",
       "      <td>2.0</td>\n",
       "    </tr>\n",
       "    <tr>\n",
       "      <th>253678</th>\n",
       "      <td>253678</td>\n",
       "      <td>0.0</td>\n",
       "      <td>1.0</td>\n",
       "      <td>0.0</td>\n",
       "      <td>1.0</td>\n",
       "      <td>23.0</td>\n",
       "      <td>0.0</td>\n",
       "      <td>0.0</td>\n",
       "      <td>0.0</td>\n",
       "      <td>0.0</td>\n",
       "      <td>...</td>\n",
       "      <td>1.0</td>\n",
       "      <td>0.0</td>\n",
       "      <td>3.0</td>\n",
       "      <td>0.0</td>\n",
       "      <td>0.0</td>\n",
       "      <td>0.0</td>\n",
       "      <td>1.0</td>\n",
       "      <td>52.0</td>\n",
       "      <td>5.0</td>\n",
       "      <td>1.0</td>\n",
       "    </tr>\n",
       "    <tr>\n",
       "      <th>253679</th>\n",
       "      <td>253679</td>\n",
       "      <td>2.0</td>\n",
       "      <td>1.0</td>\n",
       "      <td>1.0</td>\n",
       "      <td>1.0</td>\n",
       "      <td>25.0</td>\n",
       "      <td>0.0</td>\n",
       "      <td>0.0</td>\n",
       "      <td>1.0</td>\n",
       "      <td>1.0</td>\n",
       "      <td>...</td>\n",
       "      <td>1.0</td>\n",
       "      <td>0.0</td>\n",
       "      <td>2.0</td>\n",
       "      <td>0.0</td>\n",
       "      <td>0.0</td>\n",
       "      <td>0.0</td>\n",
       "      <td>0.0</td>\n",
       "      <td>62.0</td>\n",
       "      <td>6.0</td>\n",
       "      <td>2.0</td>\n",
       "    </tr>\n",
       "  </tbody>\n",
       "</table>\n",
       "<p>253680 rows × 23 columns</p>\n",
       "</div>"
      ]
     },
     "execution_count": 5,
     "metadata": {},
     "output_type": "execute_result"
    }
   ],
   "execution_count": 5
  },
  {
   "cell_type": "markdown",
   "metadata": {
    "id": "u03AHON_wPXt"
   },
   "source": [
    "To get summary statistics about all these, use the .describe() method of the dataframe:"
   ]
  },
  {
   "cell_type": "code",
   "metadata": {
    "id": "przwihQuwPXv",
    "ExecuteTime": {
     "end_time": "2024-10-04T13:33:47.188240Z",
     "start_time": "2024-10-04T13:33:47.037206Z"
    }
   },
   "source": [
    "df.describe()"
   ],
   "outputs": [
    {
     "data": {
      "text/plain": [
       "          Unnamed: 0   Diabetes_012         HighBP       HighChol  \\\n",
       "count  253680.000000  253680.000000  253680.000000  253680.000000   \n",
       "mean   126839.500000       0.296921       0.429001       0.424121   \n",
       "std     73231.252481       0.698160       0.494934       0.494210   \n",
       "min         0.000000       0.000000       0.000000       0.000000   \n",
       "25%     63419.750000       0.000000       0.000000       0.000000   \n",
       "50%    126839.500000       0.000000       0.000000       0.000000   \n",
       "75%    190259.250000       0.000000       1.000000       1.000000   \n",
       "max    253679.000000       2.000000       1.000000       1.000000   \n",
       "\n",
       "           CholCheck            BMI         Smoker         Stroke  \\\n",
       "count  253680.000000  253680.000000  253680.000000  253680.000000   \n",
       "mean        0.962670      28.382364       0.443169       0.040571   \n",
       "std         0.189571       6.608694       0.496761       0.197294   \n",
       "min         0.000000      12.000000       0.000000       0.000000   \n",
       "25%         1.000000      24.000000       0.000000       0.000000   \n",
       "50%         1.000000      27.000000       0.000000       0.000000   \n",
       "75%         1.000000      31.000000       1.000000       0.000000   \n",
       "max         1.000000      98.000000       1.000000       1.000000   \n",
       "\n",
       "       HeartDiseaseorAttack   PhysActivity  ...  AnyHealthcare    NoDocbcCost  \\\n",
       "count         253680.000000  253680.000000  ...  253680.000000  253680.000000   \n",
       "mean               0.094186       0.756544  ...       0.951053       0.084177   \n",
       "std                0.292087       0.429169  ...       0.215759       0.277654   \n",
       "min                0.000000       0.000000  ...       0.000000       0.000000   \n",
       "25%                0.000000       1.000000  ...       1.000000       0.000000   \n",
       "50%                0.000000       1.000000  ...       1.000000       0.000000   \n",
       "75%                0.000000       1.000000  ...       1.000000       0.000000   \n",
       "max                1.000000       1.000000  ...       1.000000       1.000000   \n",
       "\n",
       "             GenHlth       MentHlth       PhysHlth       DiffWalk  \\\n",
       "count  253680.000000  253680.000000  253680.000000  253680.000000   \n",
       "mean        2.511392       3.184772       4.242081       0.168224   \n",
       "std         1.068477       7.412847       8.717951       0.374066   \n",
       "min         1.000000       0.000000       0.000000       0.000000   \n",
       "25%         2.000000       0.000000       0.000000       0.000000   \n",
       "50%         2.000000       0.000000       0.000000       0.000000   \n",
       "75%         3.000000       2.000000       3.000000       0.000000   \n",
       "max         5.000000      30.000000      30.000000       1.000000   \n",
       "\n",
       "                 Sex            Age      Education         Income  \n",
       "count  253680.000000  253680.000000  253680.000000  253680.000000  \n",
       "mean        0.440342      57.138127       5.050434       6.053875  \n",
       "std         0.496429      15.323466       0.985774       2.071148  \n",
       "min         0.000000      21.000000       1.000000       1.000000  \n",
       "25%         0.000000      47.000000       4.000000       5.000000  \n",
       "50%         0.000000      57.000000       5.000000       7.000000  \n",
       "75%         1.000000      67.000000       6.000000       8.000000  \n",
       "max         1.000000      82.000000       6.000000       8.000000  \n",
       "\n",
       "[8 rows x 23 columns]"
      ],
      "text/html": [
       "<div>\n",
       "<style scoped>\n",
       "    .dataframe tbody tr th:only-of-type {\n",
       "        vertical-align: middle;\n",
       "    }\n",
       "\n",
       "    .dataframe tbody tr th {\n",
       "        vertical-align: top;\n",
       "    }\n",
       "\n",
       "    .dataframe thead th {\n",
       "        text-align: right;\n",
       "    }\n",
       "</style>\n",
       "<table border=\"1\" class=\"dataframe\">\n",
       "  <thead>\n",
       "    <tr style=\"text-align: right;\">\n",
       "      <th></th>\n",
       "      <th>Unnamed: 0</th>\n",
       "      <th>Diabetes_012</th>\n",
       "      <th>HighBP</th>\n",
       "      <th>HighChol</th>\n",
       "      <th>CholCheck</th>\n",
       "      <th>BMI</th>\n",
       "      <th>Smoker</th>\n",
       "      <th>Stroke</th>\n",
       "      <th>HeartDiseaseorAttack</th>\n",
       "      <th>PhysActivity</th>\n",
       "      <th>...</th>\n",
       "      <th>AnyHealthcare</th>\n",
       "      <th>NoDocbcCost</th>\n",
       "      <th>GenHlth</th>\n",
       "      <th>MentHlth</th>\n",
       "      <th>PhysHlth</th>\n",
       "      <th>DiffWalk</th>\n",
       "      <th>Sex</th>\n",
       "      <th>Age</th>\n",
       "      <th>Education</th>\n",
       "      <th>Income</th>\n",
       "    </tr>\n",
       "  </thead>\n",
       "  <tbody>\n",
       "    <tr>\n",
       "      <th>count</th>\n",
       "      <td>253680.000000</td>\n",
       "      <td>253680.000000</td>\n",
       "      <td>253680.000000</td>\n",
       "      <td>253680.000000</td>\n",
       "      <td>253680.000000</td>\n",
       "      <td>253680.000000</td>\n",
       "      <td>253680.000000</td>\n",
       "      <td>253680.000000</td>\n",
       "      <td>253680.000000</td>\n",
       "      <td>253680.000000</td>\n",
       "      <td>...</td>\n",
       "      <td>253680.000000</td>\n",
       "      <td>253680.000000</td>\n",
       "      <td>253680.000000</td>\n",
       "      <td>253680.000000</td>\n",
       "      <td>253680.000000</td>\n",
       "      <td>253680.000000</td>\n",
       "      <td>253680.000000</td>\n",
       "      <td>253680.000000</td>\n",
       "      <td>253680.000000</td>\n",
       "      <td>253680.000000</td>\n",
       "    </tr>\n",
       "    <tr>\n",
       "      <th>mean</th>\n",
       "      <td>126839.500000</td>\n",
       "      <td>0.296921</td>\n",
       "      <td>0.429001</td>\n",
       "      <td>0.424121</td>\n",
       "      <td>0.962670</td>\n",
       "      <td>28.382364</td>\n",
       "      <td>0.443169</td>\n",
       "      <td>0.040571</td>\n",
       "      <td>0.094186</td>\n",
       "      <td>0.756544</td>\n",
       "      <td>...</td>\n",
       "      <td>0.951053</td>\n",
       "      <td>0.084177</td>\n",
       "      <td>2.511392</td>\n",
       "      <td>3.184772</td>\n",
       "      <td>4.242081</td>\n",
       "      <td>0.168224</td>\n",
       "      <td>0.440342</td>\n",
       "      <td>57.138127</td>\n",
       "      <td>5.050434</td>\n",
       "      <td>6.053875</td>\n",
       "    </tr>\n",
       "    <tr>\n",
       "      <th>std</th>\n",
       "      <td>73231.252481</td>\n",
       "      <td>0.698160</td>\n",
       "      <td>0.494934</td>\n",
       "      <td>0.494210</td>\n",
       "      <td>0.189571</td>\n",
       "      <td>6.608694</td>\n",
       "      <td>0.496761</td>\n",
       "      <td>0.197294</td>\n",
       "      <td>0.292087</td>\n",
       "      <td>0.429169</td>\n",
       "      <td>...</td>\n",
       "      <td>0.215759</td>\n",
       "      <td>0.277654</td>\n",
       "      <td>1.068477</td>\n",
       "      <td>7.412847</td>\n",
       "      <td>8.717951</td>\n",
       "      <td>0.374066</td>\n",
       "      <td>0.496429</td>\n",
       "      <td>15.323466</td>\n",
       "      <td>0.985774</td>\n",
       "      <td>2.071148</td>\n",
       "    </tr>\n",
       "    <tr>\n",
       "      <th>min</th>\n",
       "      <td>0.000000</td>\n",
       "      <td>0.000000</td>\n",
       "      <td>0.000000</td>\n",
       "      <td>0.000000</td>\n",
       "      <td>0.000000</td>\n",
       "      <td>12.000000</td>\n",
       "      <td>0.000000</td>\n",
       "      <td>0.000000</td>\n",
       "      <td>0.000000</td>\n",
       "      <td>0.000000</td>\n",
       "      <td>...</td>\n",
       "      <td>0.000000</td>\n",
       "      <td>0.000000</td>\n",
       "      <td>1.000000</td>\n",
       "      <td>0.000000</td>\n",
       "      <td>0.000000</td>\n",
       "      <td>0.000000</td>\n",
       "      <td>0.000000</td>\n",
       "      <td>21.000000</td>\n",
       "      <td>1.000000</td>\n",
       "      <td>1.000000</td>\n",
       "    </tr>\n",
       "    <tr>\n",
       "      <th>25%</th>\n",
       "      <td>63419.750000</td>\n",
       "      <td>0.000000</td>\n",
       "      <td>0.000000</td>\n",
       "      <td>0.000000</td>\n",
       "      <td>1.000000</td>\n",
       "      <td>24.000000</td>\n",
       "      <td>0.000000</td>\n",
       "      <td>0.000000</td>\n",
       "      <td>0.000000</td>\n",
       "      <td>1.000000</td>\n",
       "      <td>...</td>\n",
       "      <td>1.000000</td>\n",
       "      <td>0.000000</td>\n",
       "      <td>2.000000</td>\n",
       "      <td>0.000000</td>\n",
       "      <td>0.000000</td>\n",
       "      <td>0.000000</td>\n",
       "      <td>0.000000</td>\n",
       "      <td>47.000000</td>\n",
       "      <td>4.000000</td>\n",
       "      <td>5.000000</td>\n",
       "    </tr>\n",
       "    <tr>\n",
       "      <th>50%</th>\n",
       "      <td>126839.500000</td>\n",
       "      <td>0.000000</td>\n",
       "      <td>0.000000</td>\n",
       "      <td>0.000000</td>\n",
       "      <td>1.000000</td>\n",
       "      <td>27.000000</td>\n",
       "      <td>0.000000</td>\n",
       "      <td>0.000000</td>\n",
       "      <td>0.000000</td>\n",
       "      <td>1.000000</td>\n",
       "      <td>...</td>\n",
       "      <td>1.000000</td>\n",
       "      <td>0.000000</td>\n",
       "      <td>2.000000</td>\n",
       "      <td>0.000000</td>\n",
       "      <td>0.000000</td>\n",
       "      <td>0.000000</td>\n",
       "      <td>0.000000</td>\n",
       "      <td>57.000000</td>\n",
       "      <td>5.000000</td>\n",
       "      <td>7.000000</td>\n",
       "    </tr>\n",
       "    <tr>\n",
       "      <th>75%</th>\n",
       "      <td>190259.250000</td>\n",
       "      <td>0.000000</td>\n",
       "      <td>1.000000</td>\n",
       "      <td>1.000000</td>\n",
       "      <td>1.000000</td>\n",
       "      <td>31.000000</td>\n",
       "      <td>1.000000</td>\n",
       "      <td>0.000000</td>\n",
       "      <td>0.000000</td>\n",
       "      <td>1.000000</td>\n",
       "      <td>...</td>\n",
       "      <td>1.000000</td>\n",
       "      <td>0.000000</td>\n",
       "      <td>3.000000</td>\n",
       "      <td>2.000000</td>\n",
       "      <td>3.000000</td>\n",
       "      <td>0.000000</td>\n",
       "      <td>1.000000</td>\n",
       "      <td>67.000000</td>\n",
       "      <td>6.000000</td>\n",
       "      <td>8.000000</td>\n",
       "    </tr>\n",
       "    <tr>\n",
       "      <th>max</th>\n",
       "      <td>253679.000000</td>\n",
       "      <td>2.000000</td>\n",
       "      <td>1.000000</td>\n",
       "      <td>1.000000</td>\n",
       "      <td>1.000000</td>\n",
       "      <td>98.000000</td>\n",
       "      <td>1.000000</td>\n",
       "      <td>1.000000</td>\n",
       "      <td>1.000000</td>\n",
       "      <td>1.000000</td>\n",
       "      <td>...</td>\n",
       "      <td>1.000000</td>\n",
       "      <td>1.000000</td>\n",
       "      <td>5.000000</td>\n",
       "      <td>30.000000</td>\n",
       "      <td>30.000000</td>\n",
       "      <td>1.000000</td>\n",
       "      <td>1.000000</td>\n",
       "      <td>82.000000</td>\n",
       "      <td>6.000000</td>\n",
       "      <td>8.000000</td>\n",
       "    </tr>\n",
       "  </tbody>\n",
       "</table>\n",
       "<p>8 rows × 23 columns</p>\n",
       "</div>"
      ]
     },
     "execution_count": 6,
     "metadata": {},
     "output_type": "execute_result"
    }
   ],
   "execution_count": 6
  },
  {
   "cell_type": "markdown",
   "metadata": {
    "id": "mpTPOvq5wPXw"
   },
   "source": [
    "## Probabilities\n",
    "\n",
    "We can estimate probabilities from this sample of the population.\n",
    "\n",
    "Probabilities can be defined as the limit between the ratio of the number of positive outcomes (e.g. heads, if flipping a coin) and the number of trials:\n",
    "\n",
    "$$P(Y = y) = \\lim_{N \\rightarrow \\infty} \\frac{n_y}{N}$$\n",
    "\n",
    "If you only have a finite number of samples, we can assume that the ratio is still approximately correct for now:\n",
    "\n",
    "$$P(Y = y) \\approx \\frac{n_y}{N}$$\n",
    "\n",
    "### Using the dataset to find some probabilities\n",
    "\n",
    "What is the probability a person in this dataset is under 50?\n",
    "\n",
    "As with numpy arrays, we can do a boolean operation on all of them to get a boolean array of which items the condition is true for:"
   ]
  },
  {
   "cell_type": "code",
   "source": [
    "df['Age']<50"
   ],
   "metadata": {
    "id": "wLCquWFO-PDe",
    "ExecuteTime": {
     "end_time": "2024-10-04T13:34:37.395428Z",
     "start_time": "2024-10-04T13:34:37.382686Z"
    }
   },
   "outputs": [
    {
     "data": {
      "text/plain": [
       "0         False\n",
       "1         False\n",
       "2         False\n",
       "3         False\n",
       "4         False\n",
       "          ...  \n",
       "253675     True\n",
       "253676    False\n",
       "253677     True\n",
       "253678    False\n",
       "253679    False\n",
       "Name: Age, Length: 253680, dtype: bool"
      ]
     },
     "execution_count": 7,
     "metadata": {},
     "output_type": "execute_result"
    }
   ],
   "execution_count": 7
  },
  {
   "cell_type": "markdown",
   "source": [
    "If we ask for the mean, it will give us the proportion that are true:"
   ],
   "metadata": {
    "id": "hk8SgsC4-VFv"
   }
  },
  {
   "cell_type": "code",
   "metadata": {
    "id": "slTpDgigwPXy",
    "ExecuteTime": {
     "end_time": "2024-10-11T12:31:04.665239Z",
     "start_time": "2024-10-11T12:31:04.658910Z"
    }
   },
   "source": [
    "P_AgeLessThan50 = np.mean(df['Age']<50) #we can use the mean as the comparison returns a boolean with False being treated as a zero, and a True as a one.\n",
    "print(\"%0.1f%% of people in the dataset are <50 years old\" % (100*P_AgeLessThan50))"
   ],
   "outputs": [
    {
     "name": "stdout",
     "output_type": "stream",
     "text": [
      "29.3% of people in the dataset are <50 years old\n"
     ]
    }
   ],
   "execution_count": 22
  },
  {
   "cell_type": "markdown",
   "metadata": {
    "id": "LXDq50DLwPXy"
   },
   "source": [
    "What is the probability a person in the dataset is under 50 AND regularly eats vegatables? (JOINT PROBABILITY)"
   ]
  },
  {
   "cell_type": "code",
   "metadata": {
    "id": "ptjNIxmdwPXy",
    "ExecuteTime": {
     "end_time": "2024-10-11T12:31:10.909398Z",
     "start_time": "2024-10-11T12:31:10.905616Z"
    }
   },
   "source": [
    "P_AgeLessThan50andVeg = np.mean((df['Age']<50) & (df['Veggies']))\n",
    "print(P_AgeLessThan50andVeg)\n",
    "print(\"%0.1f%% of people in the dataset are <50 years old AND eat vegetables.\" % (100*P_AgeLessThan50andVeg))"
   ],
   "outputs": [
    {
     "name": "stdout",
     "output_type": "stream",
     "text": [
      "0.23927388836329233\n",
      "23.9% of people in the dataset are <50 years old AND eat vegetables.\n"
     ]
    }
   ],
   "execution_count": 23
  },
  {
   "cell_type": "markdown",
   "metadata": {
    "id": "KUGgou_gwPXz"
   },
   "source": [
    "### Product Rule\n",
    "\n",
    "What is the probability that they eat vegetables GIVEN they are under 50.\n",
    "\n",
    "The product rule for probability we learnt was:\n",
    "\n",
    "$$P(A,B) = P(A|B) P(B)$$\n",
    "\n",
    "If we rearrange it we can find the conditional probability (please make sure you understand this step):\n",
    "\n",
    "$$\\frac{P(Veg=true, Age<50)}{P(Age<50)} = P(Veg=true\\;|\\;Age<50)$$\n",
    "\n",
    "This is a conditional probability. Let's work it out:"
   ]
  },
  {
   "cell_type": "code",
   "metadata": {
    "id": "QN7jXEKCwPX0",
    "ExecuteTime": {
     "end_time": "2024-10-11T12:31:50.604896Z",
     "start_time": "2024-10-11T12:31:50.599359Z"
    }
   },
   "source": [
    "#P(Veg|lt50) = P(Veg, lt50) / P(lt50)\n",
    "print(\"Probability of eating vegetables GIVEN they are under 50: %0.1f%%\" % (100*P_AgeLessThan50andVeg/P_AgeLessThan50))"
   ],
   "outputs": [
    {
     "name": "stdout",
     "output_type": "stream",
     "text": [
      "Probability of eating vegetables GIVEN they are under 50: 81.8%\n"
     ]
    }
   ],
   "execution_count": 24
  },
  {
   "cell_type": "markdown",
   "metadata": {
    "id": "wDw_DOQiwPX1"
   },
   "source": [
    "We can check this a different way, by picking out those who are under 50, and the looking at the proportion of those who eat vegetables:"
   ]
  },
  {
   "cell_type": "code",
   "metadata": {
    "id": "-6_FwEeHwPX1",
    "ExecuteTime": {
     "end_time": "2024-10-11T12:31:52.861691Z",
     "start_time": "2024-10-11T12:31:52.854246Z"
    }
   },
   "source": [
    "dfAgeLessThan50 = df[df['Age']<50] #makes a new dataframe with just those under 50.\n",
    "\n",
    "#of this dataframe, the proportion who eat veg:\n",
    "print(\"Probability of eating vegetables GIVEN they are under 50: %0.1f%%\" % (100*np.mean(dfAgeLessThan50['Veggies'])))"
   ],
   "outputs": [
    {
     "name": "stdout",
     "output_type": "stream",
     "text": [
      "Probability of eating vegetables GIVEN they are under 50: 81.8%\n"
     ]
    }
   ],
   "execution_count": 25
  },
  {
   "cell_type": "markdown",
   "metadata": {
    "id": "xN3gxHFtwPX2"
   },
   "source": [
    "### Exercise 1: Fruit, Vegetables and Indepence\n",
    "\n",
    "We can get if someone eats fruit regularly using `df['Fruits']==1` and if they eat veg regularly using `df['Veggies']==1`. Compute:\n",
    "\n",
    "- a. the probability of eating fruit regularly.\n",
    "- b. the probability of eating vegetables regularly.\n",
    "- c. the probability of eating both fruit AND vegetables regularly.\n",
    "- d. does it seem like they are independent or not?"
   ]
  },
  {
   "metadata": {
    "ExecuteTime": {
     "end_time": "2024-10-11T12:45:01.851119Z",
     "start_time": "2024-10-11T12:45:01.844192Z"
    }
   },
   "cell_type": "code",
   "source": [
    "eating_fruits = df['Fruits']==1\n",
    "#print(eating_fruits)\n",
    "#print(eating_fruits.count())\n",
    "eating_vegtables = df['Veggies']==1\n",
    "#eating_vegtables_df = df.loc[(df['Veggies']==1)]\n",
    "#eating_vegtables_df.count()\n",
    "P_EatFruitsANDEatVeggie = 100*np.mean((df['Fruits']==1) & (df['Veggies']==1))\n",
    "#print(P_EatFruitsANDEatVeggie)\n",
    "P_fruits = 100*np.mean(df['Veggies']==1)\n",
    "P_Veggie = 100*np.mean(df['Fruits']==1)\n",
    "multiply_a_and_b = 100*(np.mean(df['Veggies']==1))*(np.mean(df['Fruits']==1))\n",
    "print('Multiply A * B : ' , multiply_a_and_b)\n",
    "\n",
    "print ('a. the probability of eating fruit regularly : %0.2f%% ' % P_fruits )\n",
    "print ('b. the probability of eating vegetables regularly : %0.2f%%' % P_Veggie)\n",
    "print ('c. the probability of eating both fruit AND vegetables regularly : %0.2f%%' % P_EatFruitsANDEatVeggie )\n",
    "print ('Does it seem like they are independent or not ? \\n Ans : Yes it does seem like they are independent because Probability is not related to next calculation ')\n",
    "print('ANS From solution sheet :The product of P(V)P(F) equals 51.4% while the latter equals 56.3%. A higher proportion of the sample eat BOTH fruit and vegetables than we would expect were the two activities to be independent ')\n",
    "#result = P_EatFruitsANDEatVeggie/(P_fruits)*(P_Veggie)\n",
    "#print(result)"
   ],
   "outputs": [
    {
     "name": "stdout",
     "output_type": "stream",
     "text": [
      "Multiply A * B :  51.46477409454929\n",
      "a. the probability of eating fruit regularly : 81.14% \n",
      "b. the probability of eating vegetables regularly : 63.43%\n",
      "c. the probability of eating both fruit AND vegetables regularly : 56.26%\n",
      "Does it seem like they are independent or not ? \n",
      " Ans : Yes it does seem like they are independent because Probability is not related to next calculation \n",
      "ANS From solution sheet :The product of P(V)P(F) equals 51.4% while the latter equals 56.3%. A higher proportion of the sample eat BOTH fruit and vegetables than we would expect were the two activities to be independent \n"
     ]
    }
   ],
   "execution_count": 41
  },
  {
   "cell_type": "markdown",
   "metadata": {
    "id": "ZuOfwrn7wPX2"
   },
   "source": [
    "---\n",
    "Answer here.\n",
    "\n",
    "---"
   ]
  },
  {
   "cell_type": "markdown",
   "metadata": {
    "id": "L9bV4kvfwPX3"
   },
   "source": [
    "### Exercise 2: Diabetes\n",
    "\n",
    "We can find the proportion of the participants that have diabetes.\n",
    "\n",
    "The diabetes column is:\n",
    "\n",
    "- 0 = no diabetes\n",
    "- 1 = prediabetes\n",
    "- 2 = diabetes\n",
    "\n",
    "So we can write:"
   ]
  },
  {
   "cell_type": "code",
   "metadata": {
    "id": "xPxsC_ZGwPX3",
    "ExecuteTime": {
     "end_time": "2024-10-11T12:28:59.501865Z",
     "start_time": "2024-10-11T12:28:59.452733Z"
    }
   },
   "source": [
    "P_diabetes = np.mean(df['Diabetes_012']==2)\n",
    "print(\"Probability of diabetes (in this cohort): %0.1f%%\" % (100*np.mean(P_diabetes)))"
   ],
   "outputs": [
    {
     "name": "stdout",
     "output_type": "stream",
     "text": [
      "Probability of diabetes (in this cohort): 13.9%\n"
     ]
    }
   ],
   "execution_count": 20
  },
  {
   "cell_type": "markdown",
   "metadata": {
    "id": "hH71ps87wPX4"
   },
   "source": [
    "- a. What proportion of those who eat fruit AND vegetables have diabetes?"
   ]
  },
  {
   "cell_type": "markdown",
   "source": [
    "---"
   ],
   "metadata": {
    "id": "Y96BEzTjUhfD"
   }
  },
  {
   "cell_type": "code",
   "metadata": {
    "id": "89XWE4vfwPX4",
    "ExecuteTime": {
     "end_time": "2024-10-07T20:38:04.064140Z",
     "start_time": "2024-10-07T20:38:04.054550Z"
    }
   },
   "source": "#a. What proportion of those who eat fruit AND vegetables have diabetes? ",
   "outputs": [
    {
     "name": "stdout",
     "output_type": "stream",
     "text": [
      "a. What proportion of those who eat fruit AND vegetables have diabetes? 6.84% \n"
     ]
    }
   ],
   "execution_count": 50
  },
  {
   "metadata": {
    "ExecuteTime": {
     "end_time": "2024-10-11T12:46:16.312098Z",
     "start_time": "2024-10-11T12:46:16.288859Z"
    }
   },
   "cell_type": "code",
   "source": [
    "#Answer:\n",
    "dfVegAndFruit = df[(df['Veggies']==1) & (df['Fruits']==1)]\n",
    "P_diabetesGivenVegAndFruit = np.mean(dfVegAndFruit['Diabetes_012']==2)\n",
    "print(\"Probability of diabetes GIVEN they eat fruit AND vegetables (in this cohort): %0.1f%%\" % (100*np.mean(P_diabetesGivenVegAndFruit)))"
   ],
   "outputs": [
    {
     "name": "stdout",
     "output_type": "stream",
     "text": [
      "Probability of diabetes GIVEN they eat fruit AND vegetables (in this cohort): 12.2%\n"
     ]
    }
   ],
   "execution_count": 42
  },
  {
   "cell_type": "markdown",
   "source": [
    "---"
   ],
   "metadata": {
    "id": "DDzWZHNQUieF"
   }
  },
  {
   "cell_type": "markdown",
   "metadata": {
    "id": "UldPNLzuwPX5"
   },
   "source": [
    "- b. A smaller proportion of those who eat fruit and vegetables have diabetes, can we say from this that eating fruit and vegetables can reduce the risk of diabetes?"
   ]
  },
  {
   "cell_type": "markdown",
   "source": [
    "---\n",
    "\n",
    "Answer here.\n",
    "\n",
    "---"
   ],
   "metadata": {
    "id": "VcpCjfRXT5xR"
   }
  },
  {
   "cell_type": "markdown",
   "metadata": {
    "id": "p6AgzQJMwPX6"
   },
   "source": [
    "### Exercise 3: Plotting\n",
    "\n",
    "One of the columns is the BMI (body mass index) of the participants. Let's plot it in a histogram."
   ]
  },
  {
   "cell_type": "code",
   "metadata": {
    "id": "hiyGWsQMwPX6",
    "ExecuteTime": {
     "end_time": "2024-10-07T20:38:18.284077Z",
     "start_time": "2024-10-07T20:38:17.921631Z"
    }
   },
   "source": [
    "#it can be useful, for data that has both high counts and low, to switch to a log axis.\n",
    "#we can do this with the hist method by adding the log=True parameter (Try turning it on / off)\n",
    "plt.hist(df['BMI'],20)#,log=True);\n",
    "plt.grid()\n",
    "plt.xlabel('BMI')\n",
    "plt.ylabel('Frequency')\n"
   ],
   "outputs": [
    {
     "data": {
      "text/plain": [
       "Text(0, 0.5, 'Frequency')"
      ]
     },
     "execution_count": 51,
     "metadata": {},
     "output_type": "execute_result"
    },
    {
     "data": {
      "text/plain": [
       "<Figure size 640x480 with 1 Axes>"
      ],
      "image/png": "[encoded data removed]"
     },
     "metadata": {},
     "output_type": "display_data"
    }
   ],
   "execution_count": 51
  },
  {
   "metadata": {
    "ExecuteTime": {
     "end_time": "2024-10-07T20:38:57.787905Z",
     "start_time": "2024-10-07T20:38:57.710764Z"
    }
   },
   "cell_type": "code",
   "source": [
    "#it can be useful, for data that has both high counts and low, to switch to a log axis.\n",
    "#we can do this with the hist method by adding the log=True parameter (Try turning it on / off)\n",
    "plt.hist(df['BMI'],30)#,log=True);\n",
    "plt.grid()\n",
    "plt.xlabel('BMI')\n",
    "plt.ylabel('Frequency')\n",
    "\n",
    "print(' Is this a normal distribution? Why/why not? /n I think its inot normal distribution , its right-skewed has tail extending to the right.  ')\n",
    "\n",
    "\n"
   ],
   "outputs": [
    {
     "data": {
      "text/plain": [
       "Text(0, 0.5, 'Frequency')"
      ]
     },
     "execution_count": 52,
     "metadata": {},
     "output_type": "execute_result"
    },
    {
     "data": {
      "text/plain": [
       "<Figure size 640x480 with 1 Axes>"
      ],
      "image/png": "[encoded data removed]"
     },
     "metadata": {},
     "output_type": "display_data"
    }
   ],
   "execution_count": 52
  },
  {
   "cell_type": "markdown",
   "metadata": {
    "id": "vBIZAwvBwPX7"
   },
   "source": [
    "Exercise:\n",
    "    \n",
    "- a. The second parameter in the call to the `plt.hist` function selects the number of bins. Change it to 30 to get more detail.\n",
    "- b. Is this a normal distribution? Why/why not?"
   ]
  },
  {
   "cell_type": "markdown",
   "source": [
    "---\n",
    "\n",
    "Answer to b here.\n",
    "\n",
    "---"
   ],
   "metadata": {
    "id": "7vJCdynYUvDa"
   }
  },
  {
   "metadata": {
    "ExecuteTime": {
     "end_time": "2024-10-07T21:02:37.374156Z",
     "start_time": "2024-10-07T21:02:37.354888Z"
    }
   },
   "cell_type": "code",
   "source": [
    "print(' b. Is this a normal distribution? Why/why not? \\n  ANS : I think it is  not normal distribution , its right-skewed has tail extending to the right.  ')\n",
    "# Width of each bin is = (max value of data – min value of data) / total number of bins \n"
   ],
   "outputs": [
    {
     "name": "stdout",
     "output_type": "stream",
     "text": [
      " b. Is this a normal distribution? Why/why not? \n",
      "  ANS : I think it is  not normal distribution , its right-skewed has tail extending to the right.  \n"
     ]
    }
   ],
   "execution_count": 57
  },
  {
   "cell_type": "markdown",
   "metadata": {
    "id": "JKsXTVU6wPX8"
   },
   "source": [
    "Let's look at how BMI and income interact. The 'Income' column is *categorical* (with category 1 meaning less than \\$10k/year; and category 8 means \\$75k/year or more). Full details are in the ['codebook' for the dataset](https://www.cdc.gov/brfss/annual_data/2015/pdf/codebook15_llcp.pdf).\n",
    "\n",
    "So we create two numpy arrays `BMIofLowIncome` and `BMIofHighIncome` containing the BMI values for those two groups. We can then plot them as histograms too. I've plotted the density (as the two groups are different sizes, this makes it easier to compare). A density means the area under both histograms each sum to one."
   ]
  },
  {
   "cell_type": "code",
   "metadata": {
    "id": "fFVsVqeYwPX9",
    "ExecuteTime": {
     "end_time": "2024-10-11T12:51:32.025913Z",
     "start_time": "2024-10-11T12:51:31.851524Z"
    }
   },
   "source": [
    "BMIofLowIncome = df[df['Income']==1]['BMI'].to_numpy()\n",
    "BMIofHighIncome = df[df['Income']==8]['BMI'].to_numpy()\n",
    "plt.hist(BMIofLowIncome,20,density=True,histtype='stepfilled',color='skyblue',ec=\"black\",label=\"Lowest Income\")\n",
    "plt.hist(BMIofHighIncome,20,alpha=0.4,density=True,histtype='stepfilled',color='green',ec=\"black\",label=\"Highest Income\");\n",
    "plt.legend()\n",
    "plt.ylabel('Density')\n",
    "plt.xlabel('BMI')"
   ],
   "outputs": [
    {
     "data": {
      "text/plain": [
       "Text(0.5, 0, 'BMI')"
      ]
     },
     "execution_count": 51,
     "metadata": {},
     "output_type": "execute_result"
    },
    {
     "data": {
      "text/plain": [
       "<Figure size 640x480 with 1 Axes>"
      ],
      "image/png": "[encoded data removed]"
     },
     "metadata": {},
     "output_type": "display_data"
    }
   ],
   "execution_count": 51
  },
  {
   "cell_type": "code",
   "source": [
    "print(\"Mean BMI of high income and low income groups: %0.1f, %0.1f kg/m^2\" % (np.mean(BMIofLowIncome),np.mean(BMIofHighIncome)))\n",
    "print(\"%0.1f%% of people in the high income group are severely obese, while %0.1f%% of people in the low income group are.\" % (100*np.mean(BMIofHighIncome>40),100*np.mean(BMIofLowIncome>40)))"
   ],
   "metadata": {
    "id": "vgRCxEhtVU9e",
    "ExecuteTime": {
     "end_time": "2024-10-11T12:51:33.918583Z",
     "start_time": "2024-10-11T12:51:33.914849Z"
    }
   },
   "outputs": [
    {
     "name": "stdout",
     "output_type": "stream",
     "text": [
      "Mean BMI of high income and low income groups: 29.7, 27.6 kg/m^2\n",
      "2.6% of people in the high income group are severely obese, while 8.9% of people in the low income group are.\n"
     ]
    }
   ],
   "execution_count": 52
  },
  {
   "cell_type": "markdown",
   "metadata": {
    "id": "RlJ5HTeswPX-"
   },
   "source": [
    "Although the mean BMI is only slightly higher in the low income group, the increased variance means far more of those in the low income group have very high BMI values.\n",
    "\n",
    "### Exercise 4: Expectations and Moments\n",
    "\n",
    "We can compute the variance, using `np.var` of the two groups BMIs:"
   ]
  },
  {
   "cell_type": "code",
   "metadata": {
    "id": "ODO_iwDGwPX-",
    "ExecuteTime": {
     "end_time": "2024-10-11T12:51:35.846994Z",
     "start_time": "2024-10-11T12:51:35.843582Z"
    }
   },
   "source": [
    "np.var(BMIofLowIncome)"
   ],
   "outputs": [
    {
     "data": {
      "text/plain": [
       "np.float64(66.6496538943384)"
      ]
     },
     "execution_count": 53,
     "metadata": {},
     "output_type": "execute_result"
    }
   ],
   "execution_count": 53
  },
  {
   "cell_type": "code",
   "metadata": {
    "id": "4-5dJ2ClwPX-",
    "ExecuteTime": {
     "end_time": "2024-10-07T21:40:52.765819Z",
     "start_time": "2024-10-07T21:40:52.673260Z"
    }
   },
   "source": [
    "np.var(BMIofHighIncome)"
   ],
   "outputs": [
    {
     "data": {
      "text/plain": [
       "np.float64(34.86457316522133)"
      ]
     },
     "execution_count": 62,
     "metadata": {},
     "output_type": "execute_result"
    }
   ],
   "execution_count": 62
  },
  {
   "cell_type": "markdown",
   "metadata": {
    "id": "IpDc33o-wPX-"
   },
   "source": [
    "- a. Can you compute the variance without using the `np.var` or `np.mean` functions? Instead think about how we computed the appropriate expectations. You might find `np.sum(x)` useful (this sums over a list or array) and `len(x)` which will give you the length of an array or list, x."
   ]
  },
  {
   "cell_type": "markdown",
   "source": [
    "---"
   ],
   "metadata": {
    "id": "-jrTL-4QWXz1"
   }
  },
  {
   "cell_type": "code",
   "metadata": {
    "id": "Jt2HLQqXwPX-",
    "ExecuteTime": {
     "end_time": "2024-10-11T12:51:37.488023Z",
     "start_time": "2024-10-11T12:51:37.467441Z"
    }
   },
   "source": [
    "# Find mean\n",
    "mean_of_BMI_low_income = np.sum(BMIofLowIncome)/len(BMIofLowIncome)\n",
    "mean_of_BMI_high_income = np.sum(BMIofHighIncome)/len(BMIofHighIncome)\n",
    "print('DEBUG : ' , BMIofHighIncome)\n",
    "print('mean of BMI low income : ' , mean_of_BMI_low_income)\n",
    "print('mean of BMI high income : ' , mean_of_BMI_high_income)\n",
    "\n",
    "low_list=[]\n",
    "type(BMIofHighIncome)\n",
    "for x in BMIofLowIncome:\n",
    "    low_list.append((x-mean_of_BMI_low_income)**2)\n",
    "var_low = np.sum(low_list)/len(BMIofLowIncome)\n",
    "print('var_low : ', var_low )\n",
    "\n",
    "\n",
    "\n",
    "high_list=[]\n",
    "type(BMIofHighIncome)\n",
    "for x in BMIofHighIncome:\n",
    "    high_list.append((x-mean_of_BMI_high_income)**2)\n",
    "var_high = np.sum(high_list)/len(BMIofHighIncome)\n",
    "print('var_high : ', var_high )\n"
   ],
   "outputs": [
    {
     "name": "stdout",
     "output_type": "stream",
     "text": [
      "DEBUG :  [28. 25. 25. ... 32. 25. 42.]\n",
      "mean of BMI low income :  29.69809397614922\n",
      "mean of BMI high income :  27.571942247054267\n",
      "var_low :  66.6496538943384\n",
      "var_high :  34.86457316522133\n"
     ]
    }
   ],
   "execution_count": 54
  },
  {
   "cell_type": "markdown",
   "source": [
    "---"
   ],
   "metadata": {
    "id": "vaLsKUsGWY29"
   }
  },
  {
   "cell_type": "markdown",
   "metadata": {
    "id": "1Fec4OS6wPX_"
   },
   "source": [
    "- b. The next moment, after the mean and variance is the skewness of a distribution. It is computed by $$\\tilde{\\mu}_3 = E\\Big[\\Big(\\frac{X-\\mu}{\\sigma}\\Big)^3 \\Big]$$\n",
    "can you compute this?"
   ]
  },
  {
   "cell_type": "markdown",
   "source": [
    "---"
   ],
   "metadata": {
    "id": "oJUfABKMWxO1"
   }
  },
  {
   "cell_type": "code",
   "metadata": {
    "id": "mgJha2bewPX_",
    "ExecuteTime": {
     "end_time": "2024-10-11T12:52:11.223632Z",
     "start_time": "2024-10-11T12:52:11.199014Z"
    }
   },
   "source": [
    "#Answer here.\n",
    "low_list=[]\n",
    "high_list=[]\n",
    "\n",
    "standard_deviation_low = np.std(BMIofLowIncome)\n",
    "print('standard_deviation_low : ', standard_deviation_low)\n",
    "for x in BMIofLowIncome:\n",
    "    low_list.append(((x-mean_of_BMI_low_income)/standard_deviation_low)**3)\n",
    "skewness_low = np.sum(low_list)\n",
    "print('skewness_low : ', skewness_low)\n",
    "    \n",
    "standard_deviation_high = np.std(BMIofHighIncome)\n",
    "print('standard_deviation_high : ', standard_deviation_high)\n",
    "for x in BMIofHighIncome:\n",
    "    low_list.append(((x-mean_of_BMI_high_income)/standard_deviation_high)**3)\n",
    "skewness_high = np.sum(high_list)\n",
    "print('skewness_high : ', skewness_high)\n"
   ],
   "outputs": [
    {
     "name": "stdout",
     "output_type": "stream",
     "text": [
      "standard_deviation_low :  8.163923927520296\n",
      "skewness_low :  16797.837569148185\n",
      "standard_deviation_high :  5.904623033286827\n",
      "skewness_high :  0.0\n"
     ]
    }
   ],
   "execution_count": 55
  },
  {
   "metadata": {
    "ExecuteTime": {
     "end_time": "2024-10-11T12:52:15.725462Z",
     "start_time": "2024-10-11T12:52:15.705560Z"
    }
   },
   "cell_type": "code",
   "source": [
    "#Answer\n",
    "print(np.sum(((BMIofLowIncome-np.mean(BMIofLowIncome))/np.std(BMIofLowIncome))**3)/len(BMIofLowIncome))\n",
    "\n",
    "#the library function to compute skew is in scipy.stats\n",
    "from scipy.stats import skew\n",
    "skew(BMIofLowIncome),skew(BMIofHighIncome) #equals 1.71 and 2.52\n",
    "#so the high income group is more skewed.\n",
    "\n",
    "#Feel free to read up on kurtosis (the 4th moment)\n",
    "#np.sum(((BMIofLowIncome-np.mean(BMIofLowIncome))/np.std(BMIofLowIncome))**4)/len(BMIofLowIncome)"
   ],
   "outputs": [
    {
     "name": "stdout",
     "output_type": "stream",
     "text": [
      "1.7121432646160621\n"
     ]
    },
    {
     "ename": "ModuleNotFoundError",
     "evalue": "No module named 'scipy'",
     "output_type": "error",
     "traceback": [
      "\u001B[0;31m---------------------------------------------------------------------------\u001B[0m",
      "\u001B[0;31mModuleNotFoundError\u001B[0m                       Traceback (most recent call last)",
      "Cell \u001B[0;32mIn[56], line 5\u001B[0m\n\u001B[1;32m      2\u001B[0m \u001B[38;5;28mprint\u001B[39m(np\u001B[38;5;241m.\u001B[39msum(((BMIofLowIncome\u001B[38;5;241m-\u001B[39mnp\u001B[38;5;241m.\u001B[39mmean(BMIofLowIncome))\u001B[38;5;241m/\u001B[39mnp\u001B[38;5;241m.\u001B[39mstd(BMIofLowIncome))\u001B[38;5;241m*\u001B[39m\u001B[38;5;241m*\u001B[39m\u001B[38;5;241m3\u001B[39m)\u001B[38;5;241m/\u001B[39m\u001B[38;5;28mlen\u001B[39m(BMIofLowIncome))\n\u001B[1;32m      4\u001B[0m \u001B[38;5;66;03m#the library function to compute skew is in scipy.stats\u001B[39;00m\n\u001B[0;32m----> 5\u001B[0m \u001B[38;5;28;01mfrom\u001B[39;00m \u001B[38;5;21;01mscipy\u001B[39;00m\u001B[38;5;21;01m.\u001B[39;00m\u001B[38;5;21;01mstats\u001B[39;00m \u001B[38;5;28;01mimport\u001B[39;00m skew\n\u001B[1;32m      6\u001B[0m skew(BMIofLowIncome),skew(BMIofHighIncome) \u001B[38;5;66;03m#equals 1.71 and 2.52\u001B[39;00m\n\u001B[1;32m      7\u001B[0m \u001B[38;5;66;03m#so the high income group is more skewed.\u001B[39;00m\n\u001B[1;32m      8\u001B[0m \n\u001B[1;32m      9\u001B[0m \u001B[38;5;66;03m#Feel free to read up on kurtosis (the 4th moment)\u001B[39;00m\n\u001B[1;32m     10\u001B[0m \u001B[38;5;66;03m#np.sum(((BMIofLowIncome-np.mean(BMIofLowIncome))/np.std(BMIofLowIncome))**4)/len(BMIofLowIncome)\u001B[39;00m\n",
      "\u001B[0;31mModuleNotFoundError\u001B[0m: No module named 'scipy'"
     ]
    }
   ],
   "execution_count": 56
  },
  {
   "cell_type": "markdown",
   "source": [
    "---"
   ],
   "metadata": {
    "id": "PcjqVoJoWyA2"
   }
  },
  {
   "cell_type": "markdown",
   "metadata": {
    "id": "wgHVkqDJwPYA"
   },
   "source": [
    "# Naive Bayes\n",
    "\n",
    "The health centre wants to do a blood test on those most at risk of developing diabetes. e.g. if the probability of having diabetes is more than 20\\%.\n",
    "\n",
    "A new patient arrives, who has a BMI of 40. What's the chance that they have diabetes?\n",
    "\n",
    "$$P(Diabetes = true \\; |\\; BMI = 40)$$\n",
    "\n",
    "Remember that the dataframe has a 'Diabetes_012' column (0=no diabetes, 1=pre-diabetic, 2=diabetic). So the proportion of the dataset who are diabetic is:\n"
   ]
  },
  {
   "cell_type": "code",
   "metadata": {
    "id": "_89ragEuwPYB",
    "ExecuteTime": {
     "end_time": "2024-10-08T02:55:39.200761Z",
     "start_time": "2024-10-08T02:55:39.196698Z"
    }
   },
   "source": "np.mean(df['Diabetes_012']==2)\n",
   "outputs": [
    {
     "data": {
      "text/plain": [
       "np.float64(0.13933301797540207)"
      ]
     },
     "execution_count": 5,
     "metadata": {},
     "output_type": "execute_result"
    }
   ],
   "execution_count": 5
  },
  {
   "cell_type": "markdown",
   "metadata": {
    "id": "GmgovwrjwPYB"
   },
   "source": [
    "Note that the dataset is **not a representative sample**, so really we wouldn't necessarily want to use it for doing this sort of inference, but we'll continue, as an illustration!\n",
    "\n",
    "For our patient we can just look at the proportion of those with BMI=40 who have diabetes:"
   ]
  },
  {
   "cell_type": "code",
   "metadata": {
    "id": "qRENA7mywPYB",
    "ExecuteTime": {
     "end_time": "2024-10-07T23:57:23.628117Z",
     "start_time": "2024-10-07T23:57:23.505095Z"
    }
   },
   "source": [
    "#Here I create a temporary dataframe with those of a BMI of 40 using `df['BMI']==40]`.\n",
    "#I then test each value of the Diabetes_012 column, and find the average number that have\n",
    "#this equal to 2. This givens me the proportion.\n",
    "\n",
    "dfBMI40 = df[df['BMI']==40] #make a new dataframe with just those with a BMI of 40.\n",
    "np.mean(dfBMI40['Diabetes_012']==2) #find the proportion of this subset with diabetes"
   ],
   "outputs": [
    {
     "data": {
      "text/plain": [
       "np.float64(0.32063773250664307)"
      ]
     },
     "execution_count": 79,
     "metadata": {},
     "output_type": "execute_result"
    }
   ],
   "execution_count": 79
  },
  {
   "cell_type": "markdown",
   "metadata": {
    "id": "CUf0LfRQwPYC"
   },
   "source": [
    "So they fall into our 'high risk' category, as 32% of those with a BMI=40 in the dataset have diabetes."
   ]
  },
  {
   "cell_type": "code",
   "metadata": {
    "id": "Uv-YLKLxwPYC",
    "ExecuteTime": {
     "end_time": "2024-10-07T23:58:11.309749Z",
     "start_time": "2024-10-07T23:58:11.268052Z"
    }
   },
   "source": [
    "#note that, due to the categorical nature of the age the ages are just at these\n",
    "#discrete points:\n",
    "np.unique(df['Age'])"
   ],
   "outputs": [
    {
     "data": {
      "text/plain": [
       "array([21., 27., 32., 37., 42., 47., 52., 57., 62., 67., 72., 77., 82.])"
      ]
     },
     "execution_count": 80,
     "metadata": {},
     "output_type": "execute_result"
    }
   ],
   "execution_count": 80
  },
  {
   "cell_type": "markdown",
   "metadata": {
    "id": "7WjwOFBlwPYC"
   },
   "source": [
    "## The curse of dimensionality\n",
    "\n",
    "Supposing we also know they are in the age 21 category, and smoke...\n",
    "\n",
    "We can again make a dataframe containing just those who:\n",
    "- have a BMI = 40\n",
    "- are in the age = 21 category\n",
    "- and smoke,"
   ]
  },
  {
   "cell_type": "code",
   "metadata": {
    "id": "aTmeRKqjwPYD",
    "ExecuteTime": {
     "end_time": "2024-10-07T23:58:27.511521Z",
     "start_time": "2024-10-07T23:58:27.470463Z"
    }
   },
   "source": [
    "#Here I create a temporary dataframe containing those who have a BMI of 40, are in the\n",
    "#Age=21 category AND smoke, using `df[(df['BMI']==40) & (df['Age']==21) & (df['Smoker']==1)]`\n",
    "dfBMI40Age21Smoke = df[(df['BMI']==40) & (df['Age']==21) & (df['Smoker']==1)]\n",
    "np.mean(dfBMI40Age21Smoke['Diabetes_012']==2)"
   ],
   "outputs": [
    {
     "data": {
      "text/plain": [
       "np.float64(0.0)"
      ]
     },
     "execution_count": 81,
     "metadata": {},
     "output_type": "execute_result"
    }
   ],
   "execution_count": 81
  },
  {
   "cell_type": "markdown",
   "metadata": {
    "id": "DpR3W_F6wPYE"
   },
   "source": [
    "Great, 0% chance!!\n",
    "But there's something a bit wrong about this analyis..."
   ]
  },
  {
   "cell_type": "code",
   "metadata": {
    "id": "_ga7McPrwPYF",
    "ExecuteTime": {
     "end_time": "2024-10-07T23:59:18.766920Z",
     "start_time": "2024-10-07T23:59:18.732945Z"
    }
   },
   "source": [
    "len(dfBMI40Age21Smoke)"
   ],
   "outputs": [
    {
     "data": {
      "text/plain": [
       "6"
      ]
     },
     "execution_count": 82,
     "metadata": {},
     "output_type": "execute_result"
    }
   ],
   "execution_count": 82
  },
  {
   "cell_type": "markdown",
   "metadata": {
    "id": "yvGbTMTvwPYG"
   },
   "source": [
    "There are only 6 people in the dataset with a BMI of 40, who are in the 21 years old category, who smoke.\n",
    "\n",
    "We can display this whole set:"
   ]
  },
  {
   "cell_type": "code",
   "metadata": {
    "id": "_HdHrT0uwPYG",
    "ExecuteTime": {
     "end_time": "2024-10-07T23:59:28.317399Z",
     "start_time": "2024-10-07T23:59:28.299519Z"
    }
   },
   "source": [
    "dfBMI40Age21Smoke"
   ],
   "outputs": [
    {
     "data": {
      "text/plain": [
       "        Unnamed: 0  Diabetes_012  HighBP  HighChol  CholCheck   BMI  Smoker  \\\n",
       "58186        58186           0.0     0.0       0.0        1.0  40.0     1.0   \n",
       "109921      109921           0.0     0.0       0.0        1.0  40.0     1.0   \n",
       "126529      126529           0.0     1.0       1.0        1.0  40.0     1.0   \n",
       "240700      240700           0.0     1.0       0.0        1.0  40.0     1.0   \n",
       "241084      241084           0.0     1.0       0.0        1.0  40.0     1.0   \n",
       "252523      252523           0.0     0.0       1.0        1.0  40.0     1.0   \n",
       "\n",
       "        Stroke  HeartDiseaseorAttack  PhysActivity  ...  AnyHealthcare  \\\n",
       "58186      0.0                   0.0           1.0  ...            1.0   \n",
       "109921     0.0                   0.0           1.0  ...            1.0   \n",
       "126529     0.0                   0.0           1.0  ...            1.0   \n",
       "240700     0.0                   0.0           1.0  ...            1.0   \n",
       "241084     0.0                   0.0           1.0  ...            1.0   \n",
       "252523     0.0                   0.0           1.0  ...            1.0   \n",
       "\n",
       "        NoDocbcCost  GenHlth  MentHlth  PhysHlth  DiffWalk  Sex   Age  \\\n",
       "58186           0.0      2.0      11.0       0.0       0.0  1.0  21.0   \n",
       "109921          0.0      1.0       0.0       0.0       0.0  0.0  21.0   \n",
       "126529          0.0      3.0      20.0       0.0       0.0  1.0  21.0   \n",
       "240700          0.0      2.0      30.0       0.0       0.0  0.0  21.0   \n",
       "241084          0.0      3.0       2.0       0.0       0.0  1.0  21.0   \n",
       "252523          0.0      5.0       0.0      20.0       0.0  0.0  21.0   \n",
       "\n",
       "        Education  Income  \n",
       "58186         4.0     8.0  \n",
       "109921        5.0     8.0  \n",
       "126529        5.0     7.0  \n",
       "240700        4.0     2.0  \n",
       "241084        4.0     3.0  \n",
       "252523        5.0     2.0  \n",
       "\n",
       "[6 rows x 23 columns]"
      ],
      "text/html": [
       "<div>\n",
       "<style scoped>\n",
       "    .dataframe tbody tr th:only-of-type {\n",
       "        vertical-align: middle;\n",
       "    }\n",
       "\n",
       "    .dataframe tbody tr th {\n",
       "        vertical-align: top;\n",
       "    }\n",
       "\n",
       "    .dataframe thead th {\n",
       "        text-align: right;\n",
       "    }\n",
       "</style>\n",
       "<table border=\"1\" class=\"dataframe\">\n",
       "  <thead>\n",
       "    <tr style=\"text-align: right;\">\n",
       "      <th></th>\n",
       "      <th>Unnamed: 0</th>\n",
       "      <th>Diabetes_012</th>\n",
       "      <th>HighBP</th>\n",
       "      <th>HighChol</th>\n",
       "      <th>CholCheck</th>\n",
       "      <th>BMI</th>\n",
       "      <th>Smoker</th>\n",
       "      <th>Stroke</th>\n",
       "      <th>HeartDiseaseorAttack</th>\n",
       "      <th>PhysActivity</th>\n",
       "      <th>...</th>\n",
       "      <th>AnyHealthcare</th>\n",
       "      <th>NoDocbcCost</th>\n",
       "      <th>GenHlth</th>\n",
       "      <th>MentHlth</th>\n",
       "      <th>PhysHlth</th>\n",
       "      <th>DiffWalk</th>\n",
       "      <th>Sex</th>\n",
       "      <th>Age</th>\n",
       "      <th>Education</th>\n",
       "      <th>Income</th>\n",
       "    </tr>\n",
       "  </thead>\n",
       "  <tbody>\n",
       "    <tr>\n",
       "      <th>58186</th>\n",
       "      <td>58186</td>\n",
       "      <td>0.0</td>\n",
       "      <td>0.0</td>\n",
       "      <td>0.0</td>\n",
       "      <td>1.0</td>\n",
       "      <td>40.0</td>\n",
       "      <td>1.0</td>\n",
       "      <td>0.0</td>\n",
       "      <td>0.0</td>\n",
       "      <td>1.0</td>\n",
       "      <td>...</td>\n",
       "      <td>1.0</td>\n",
       "      <td>0.0</td>\n",
       "      <td>2.0</td>\n",
       "      <td>11.0</td>\n",
       "      <td>0.0</td>\n",
       "      <td>0.0</td>\n",
       "      <td>1.0</td>\n",
       "      <td>21.0</td>\n",
       "      <td>4.0</td>\n",
       "      <td>8.0</td>\n",
       "    </tr>\n",
       "    <tr>\n",
       "      <th>109921</th>\n",
       "      <td>109921</td>\n",
       "      <td>0.0</td>\n",
       "      <td>0.0</td>\n",
       "      <td>0.0</td>\n",
       "      <td>1.0</td>\n",
       "      <td>40.0</td>\n",
       "      <td>1.0</td>\n",
       "      <td>0.0</td>\n",
       "      <td>0.0</td>\n",
       "      <td>1.0</td>\n",
       "      <td>...</td>\n",
       "      <td>1.0</td>\n",
       "      <td>0.0</td>\n",
       "      <td>1.0</td>\n",
       "      <td>0.0</td>\n",
       "      <td>0.0</td>\n",
       "      <td>0.0</td>\n",
       "      <td>0.0</td>\n",
       "      <td>21.0</td>\n",
       "      <td>5.0</td>\n",
       "      <td>8.0</td>\n",
       "    </tr>\n",
       "    <tr>\n",
       "      <th>126529</th>\n",
       "      <td>126529</td>\n",
       "      <td>0.0</td>\n",
       "      <td>1.0</td>\n",
       "      <td>1.0</td>\n",
       "      <td>1.0</td>\n",
       "      <td>40.0</td>\n",
       "      <td>1.0</td>\n",
       "      <td>0.0</td>\n",
       "      <td>0.0</td>\n",
       "      <td>1.0</td>\n",
       "      <td>...</td>\n",
       "      <td>1.0</td>\n",
       "      <td>0.0</td>\n",
       "      <td>3.0</td>\n",
       "      <td>20.0</td>\n",
       "      <td>0.0</td>\n",
       "      <td>0.0</td>\n",
       "      <td>1.0</td>\n",
       "      <td>21.0</td>\n",
       "      <td>5.0</td>\n",
       "      <td>7.0</td>\n",
       "    </tr>\n",
       "    <tr>\n",
       "      <th>240700</th>\n",
       "      <td>240700</td>\n",
       "      <td>0.0</td>\n",
       "      <td>1.0</td>\n",
       "      <td>0.0</td>\n",
       "      <td>1.0</td>\n",
       "      <td>40.0</td>\n",
       "      <td>1.0</td>\n",
       "      <td>0.0</td>\n",
       "      <td>0.0</td>\n",
       "      <td>1.0</td>\n",
       "      <td>...</td>\n",
       "      <td>1.0</td>\n",
       "      <td>0.0</td>\n",
       "      <td>2.0</td>\n",
       "      <td>30.0</td>\n",
       "      <td>0.0</td>\n",
       "      <td>0.0</td>\n",
       "      <td>0.0</td>\n",
       "      <td>21.0</td>\n",
       "      <td>4.0</td>\n",
       "      <td>2.0</td>\n",
       "    </tr>\n",
       "    <tr>\n",
       "      <th>241084</th>\n",
       "      <td>241084</td>\n",
       "      <td>0.0</td>\n",
       "      <td>1.0</td>\n",
       "      <td>0.0</td>\n",
       "      <td>1.0</td>\n",
       "      <td>40.0</td>\n",
       "      <td>1.0</td>\n",
       "      <td>0.0</td>\n",
       "      <td>0.0</td>\n",
       "      <td>1.0</td>\n",
       "      <td>...</td>\n",
       "      <td>1.0</td>\n",
       "      <td>0.0</td>\n",
       "      <td>3.0</td>\n",
       "      <td>2.0</td>\n",
       "      <td>0.0</td>\n",
       "      <td>0.0</td>\n",
       "      <td>1.0</td>\n",
       "      <td>21.0</td>\n",
       "      <td>4.0</td>\n",
       "      <td>3.0</td>\n",
       "    </tr>\n",
       "    <tr>\n",
       "      <th>252523</th>\n",
       "      <td>252523</td>\n",
       "      <td>0.0</td>\n",
       "      <td>0.0</td>\n",
       "      <td>1.0</td>\n",
       "      <td>1.0</td>\n",
       "      <td>40.0</td>\n",
       "      <td>1.0</td>\n",
       "      <td>0.0</td>\n",
       "      <td>0.0</td>\n",
       "      <td>1.0</td>\n",
       "      <td>...</td>\n",
       "      <td>1.0</td>\n",
       "      <td>0.0</td>\n",
       "      <td>5.0</td>\n",
       "      <td>0.0</td>\n",
       "      <td>20.0</td>\n",
       "      <td>0.0</td>\n",
       "      <td>0.0</td>\n",
       "      <td>21.0</td>\n",
       "      <td>5.0</td>\n",
       "      <td>2.0</td>\n",
       "    </tr>\n",
       "  </tbody>\n",
       "</table>\n",
       "<p>6 rows × 23 columns</p>\n",
       "</div>"
      ]
     },
     "execution_count": 83,
     "metadata": {},
     "output_type": "execute_result"
    }
   ],
   "execution_count": 83
  },
  {
   "cell_type": "markdown",
   "metadata": {
    "id": "UvGywVj9wPYH"
   },
   "source": [
    "### What are we assuming here?\n",
    "\n",
    "When we assumed that we can approximate the probability with the ratio of cases to the total number in that condition, we were assuming that the total number was very large, so we were approximating infinite numbers of samples,\n",
    "\n",
    "$$P(Y = y | Z) \\approx \\frac{n_{y|z}}{N_Z}$$\n",
    "\n",
    "Six is not a large enough sample."
   ]
  },
  {
   "cell_type": "markdown",
   "metadata": {
    "id": "8eUzwlQqwPYH"
   },
   "source": [
    "### Naive Bayes\n",
    "\n",
    "<mark>The Naive Bayes classifier is an approach for making this type of inference by assuming **conditional independence between the features** (given the class).</mark> We've already seen (with the fruit and veg above) that this assumption probably is invalid, but it can still give reasonable results.\n",
    "\n",
    "Let's think about this more carefully:\n",
    "\n",
    "We are interested in computing the probability of having diabetes (given some features about the person), i.e.:\n",
    "\n",
    "$P(D=true | x_1, x_2,...,x_n)$.\n",
    "\n",
    "Quoting from the [wikipedia article](https://en.wikipedia.org/wiki/Naive_Bayes_classifier)\n",
    "\n",
    "> The problem with the above formulation is that if the number of features n is large or if a feature can take on a large number of values, then basing such a model on probability tables is infeasible.\n",
    "\n",
    "We've seen this problem with the patient above. Only six rows (out of 253,680) in the database have the same features.\n",
    "\n",
    "### Rewriting with Bayes Rule\n",
    "\n",
    "We can write the above conditional distribution as:\n",
    "\n",
    "$$P(D | x_1, x_2,...,x_n) = \\frac{P(x_1, x_2,...,x_n | D) \\times P(D)}{P(x_1, x_2,...,x_n)}$$\n",
    "\n",
    "We can use the chain rule of probability, to see that we can write the likelihood term as:\n",
    "\n",
    "$$P(x_1, x_2,...,x_n | D) = P(x_1 | x_2,...,x_n, D) \\times P(x_2 | x_3,...,x_n, D) \\times \\;... \\times \\; P(x_{n-1} \\;|\\; x_n, D)$$\n",
    "\n",
    "It's not obvious to see why, so let's go through this step-by-step. We start with our likelihood term telling us the probability of having a BMI of 40, an age of 21 and smoking, given Diabetes = true (or false):\n",
    "\n",
    "$$P(B=40, A=21, S = true | D)$$\n",
    "\n",
    "We can write this using the product rule, as:\n",
    "\n",
    "$$P(B=40 | A=21, S = true, D) \\times P(A = 21, S = true | D)$$\n",
    "\n",
    "We can then apply the same reasoning to the second term (try this yourself).\n",
    "\n",
    "> It's probably worth stopping, writing this down on a bit of paper and thinking about it! This is quite a difficult step, and once you've understood it the rest will be fairly easy.\n",
    ">\n",
    ">  We are using:\n",
    "> $$P(A,B) = P(A|B)\\; P(B)$$\n",
    "> but there's an additional conditional, 'given C' on everything:\n",
    "> $$P(A,B|C) = P(A|B,C)\\; P(B|C)$$\n",
    "\n",
    "The result is that we can write our likelihood as a product of conditional probabilities:\n",
    "\n",
    "$$P(B=40, A=21, S = true | D) \\; \\\\= \\\\ P(B=40 | A=21, S = true, D) \\;\\;\\times\\;\\; P(A=21 | S = true, D) \\;\\;\\times\\;\\; P(S=true | D)$$\n",
    "\n",
    "\n",
    "### The Naive-bit of Naive Bayes\n",
    "\n",
    "> **Reminder: Condition independence.** If two random variables ($X,Y$) are conditionally independent, given a third ($Z$) it means that $P(X|Y,Z) = P(X|Z)$. I.e. (for a given value of Z) the probability of $X$ isn't influenced by the value of $Y$. It is written as $X \\perp \\!\\!\\! \\perp Y | Z$.\n",
    "\n",
    "Naive Bayes: We now make the (conditional) independence assumption in our expression above, that **all the features are conditionally independent (given the diabetes status, D)**.\n",
    "\n",
    "So if our naive-Bayes assumption holds, we can write that:\n",
    "\n",
    "$$P(B=40 \\; | \\; A=21, \\; S = true, \\; D) \\; =\\; P(B=40\\; |\\; D)$$\n",
    "\n",
    "and,\n",
    "\n",
    "$$P(A=21 | S = true, D) = P(A=21 | D)$$\n",
    "\n",
    "Substituting in:\n",
    "\n",
    "$$P(B=40, A=21, S = true | D) \\; =\\; P(B=40 | D) \\; P(A=21 | D) \\; P(S=true | D)$$\n",
    "\n",
    "Please note that this, in general, isn't true. We are saying it's true because we have assumed conditional independence, e.g. that $B \\perp \\!\\!\\! \\perp A | D$, etc."
   ]
  },
  {
   "cell_type": "markdown",
   "metadata": {
    "id": "25tkgwipwPYI"
   },
   "source": [
    "### Why is this useful?\n",
    "\n",
    "The number of people in the dataset who had a BMI=40, were age=21, and smoked was only 6. But lots of individuals had *each* of these characteristics, so we can use these separately:\n",
    "\n",
    "Note that Naive Bayes is often used to compute a ratio between two conditions, but here we'll compute the posterior.\n",
    "\n",
    "$$P(D = true | x_1, x_2,...,x_n) = \\frac{P(x_1, x_2,...,x_n | D = true) P(D = true)}{P(x_1, x_2,...,x_n)}$$\n",
    "\n",
    "To compute the demoninator we marginalise: I.e. we can compute $P(x_1, x_2,...,x_n,D=true)$ and $P(x_1, x_2,...,x_n,D=false)$ and add them up to get $P(x_1, x_2,...,x_n)$.\n",
    "\n",
    "We've already computed the former when we computed the numerator, as it is the joint probability:\n",
    "\n",
    "$$P(x_1, x_2,...,x_n, D = true) = P(x_1, x_2,...,x_n | D = true) P(D = true)$$\n",
    "\n",
    "so we just need to compute,\n",
    "\n",
    "$$P(x_1, x_2,...,x_n, D = false) = P(x_1, x_2,...,x_n | D = false) P(D = false).$$\n",
    "\n",
    "Once we find these, we can add them up:\n",
    "\n",
    "$$P(x_1, x_2,...,x_n) = P(x_1, x_2,...,x_n, D = true) + P(x_1, x_2,...,x_n, D = false)$$"
   ]
  },
  {
   "cell_type": "markdown",
   "metadata": {
    "id": "36BeTjjHwPYJ"
   },
   "source": [
    "### Putting it together...\n",
    "\n",
    "Applying the Naive Bayes (conditional independence assumption) and substituting in our features (to keep it readable I've hidden the values the RVs are equal to). So we assume:\n",
    "\n",
    "$P(B, A, S | D)\\;\\;\\; =\\; P(B | D)\\;\\;\\; P(A | D) \\;\\;\\; P(S | D)\\\\\n",
    "P(B, A, S | \\neg D)\\; =\\; P(B | \\neg D)\\; P(A | \\neg D) \\; P(S | \\neg D)$\n",
    "\n",
    "We can then use these to compute the denominator. Here we're using the above approximations to the likelihoods:\n",
    "\n",
    "$$P(B,A,S) = P(B, A, S | D) P(D) + P(B, A, S| \\neg D)P(\\neg D)$$\n",
    "\n",
    "and finally the posterior we're interested in: (remember that we are now going to be using our approximations, based on our assumptions about independence for these terms).\n",
    "\n",
    "$$P(D | B, A, S) = \\frac{P(B, A, S|D)\\;P(D)}{P(B, A, S)}$$\n"
   ]
  },
  {
   "cell_type": "code",
   "metadata": {
    "id": "JPRkMB6PwPYJ",
    "ExecuteTime": {
     "end_time": "2024-10-08T01:05:49.379595Z",
     "start_time": "2024-10-08T01:05:49.175106Z"
    }
   },
   "source": [
    "#we create two dataframes, one of those with diabetes, and one with those without,\n",
    "dfDiabetes = df[df['Diabetes_012']==2]\n",
    "dfnotDiabetes = df[df['Diabetes_012']<2]\n",
    "\n",
    "PBMI40_givenDiabetesTrue = np.mean(dfDiabetes['BMI']==40)\n",
    "PBMI40_givenDiabetesFalse = np.mean(dfnotDiabetes['BMI']==40)\n",
    "\n",
    "PAge21_givenDiabetesTrue = np.mean(dfDiabetes['Age']==21)\n",
    "PAge21_givenDiabetesFalse = np.mean(dfnotDiabetes['Age']==21)\n",
    "\n",
    "PSmoking_givenDiabetesTrue = np.mean(dfDiabetes['Smoker']==1)\n",
    "PSmoking_givenDiabetesFalse = np.mean(dfnotDiabetes['Smoker']==1)\n",
    "\n",
    "PDiabetesTrue = np.mean(df['Diabetes_012']==2)\n",
    "PDiabetesFalse = np.mean(df['Diabetes_012']<2)"
   ],
   "outputs": [],
   "execution_count": 84
  },
  {
   "cell_type": "code",
   "metadata": {
    "id": "Pe7zekiNwPYK",
    "ExecuteTime": {
     "end_time": "2024-10-08T01:06:50.694582Z",
     "start_time": "2024-10-08T01:06:50.674215Z"
    }
   },
   "source": [
    "#P(BMI=40,Age=21,Smoking=true | Diabetes=true)\n",
    "PallGivenDiabetesTrue = (PBMI40_givenDiabetesTrue * PAge21_givenDiabetesTrue * PSmoking_givenDiabetesTrue * PDiabetesTrue)\n",
    "#P(BMI=40,Age=21,Smoking=true | Diabetes=false)\n",
    "PallGivenDiabetesFalse = (PBMI40_givenDiabetesFalse * PAge21_givenDiabetesFalse * PSmoking_givenDiabetesFalse * PDiabetesFalse)\n",
    "\n",
    "print(\"Probability of diabetes, given BMI=40, Age=21 and Smoker = %0.1f %%\" % (100*(PallGivenDiabetesTrue) / (PallGivenDiabetesTrue + PallGivenDiabetesFalse)))"
   ],
   "outputs": [
    {
     "name": "stdout",
     "output_type": "stream",
     "text": [
      "Probaility of diabetes, given BMI=40, Age=21 and Smoker = 4.6 %\n"
     ]
    }
   ],
   "execution_count": 85
  },
  {
   "cell_type": "markdown",
   "metadata": {
    "id": "PNCuQCjawPYK"
   },
   "source": [
    "### Exercise:\n",
    "\n",
    "- a. What's the probability they have diabetes if they are 62, not a smoker and have a BMI of 20?\n",
    "- b. What's the probability they are over 50 if they have a BMI of 20 and have diabetes and don't smoke? Use both Naive Bayes and compare to the answer computed with the full conditional distribution (without the independence assumption)."
   ]
  },
  {
   "cell_type": "markdown",
   "source": [
    "---"
   ],
   "metadata": {
    "id": "p1ke_BP4mKGt"
   }
  },
  {
   "cell_type": "code",
   "metadata": {
    "id": "mM2iJDAqwPYL",
    "ExecuteTime": {
     "end_time": "2024-10-08T02:40:43.721419Z",
     "start_time": "2024-10-08T02:40:43.643459Z"
    }
   },
   "source": [
    "\n",
    "#we create two dataframes, one of those with diabetes, and one with those without,\n",
    "dfDiabetes = df[df['Diabetes_012'] == 2]\n",
    "dfnotDiabetes = df[df['Diabetes_012'] < 2]\n",
    "\n",
    "\n",
    "PBMI20_givenDiabetesTrue = np.mean(dfDiabetes['BMI'] == 20)\n",
    "PBMI20_givenDiabetesFalse = np.mean(dfnotDiabetes['BMI'] == 20)\n",
    "\n",
    "PAge62_givenDiabetesTrue = np.mean(dfDiabetes['Age'] == 62)\n",
    "PAge62_givenDiabetesFalse = np.mean(dfnotDiabetes['Age'] == 62)\n",
    "\n",
    "PNotSmoking_givenDiabetesTrue = np.mean(dfDiabetes['Smoker'] == 0)\n",
    "PNotSmoking_givenDiabetesFalse = np.mean(dfnotDiabetes['Smoker'] == 0)\n",
    "\n",
    "#P(BMI=20,Age=62,Smoking=false | Diabetes=true)\n",
    "PallGivenDiabetesTrue = (PBMI20_givenDiabetesTrue * PNotSmoking_givenDiabetesTrue * PDiabetesTrue)\n",
    "#P(BMI=20,Age=62,Smoking=false | Diabetes=false)\n",
    "PallGivenDiabetesFalse = (PBMI20_givenDiabetesFalse *PNotSmoking_givenDiabetesFalse * PDiabetesFalse)\n",
    "\n",
    "print('a. Probability of diabetes, given BMI=20, Age=62 and Smoker = false = %0.2f %%' % (100 * PallGivenDiabetesTrue / PallGivenDiabetesTrue + PallGivenDiabetesFalse))\n"
   ],
   "outputs": [
    {
     "name": "stdout",
     "output_type": "stream",
     "text": [
      "        Unnamed: 0  Diabetes_012  HighBP  HighChol  CholCheck   BMI  Smoker  \\\n",
      "8                8           2.0     1.0       1.0        1.0  30.0     1.0   \n",
      "10              10           2.0     0.0       0.0        1.0  25.0     1.0   \n",
      "13              13           2.0     1.0       1.0        1.0  28.0     0.0   \n",
      "17              17           2.0     0.0       0.0        1.0  23.0     1.0   \n",
      "23              23           2.0     1.0       0.0        1.0  27.0     0.0   \n",
      "...            ...           ...     ...       ...        ...   ...     ...   \n",
      "253659      253659           2.0     0.0       1.0        1.0  37.0     0.0   \n",
      "253668      253668           2.0     0.0       1.0        1.0  29.0     1.0   \n",
      "253670      253670           2.0     1.0       1.0        1.0  25.0     0.0   \n",
      "253676      253676           2.0     1.0       1.0        1.0  18.0     0.0   \n",
      "253679      253679           2.0     1.0       1.0        1.0  25.0     0.0   \n",
      "\n",
      "        Stroke  HeartDiseaseorAttack  PhysActivity  ...  AnyHealthcare  \\\n",
      "8          0.0                   1.0           0.0  ...            1.0   \n",
      "10         0.0                   0.0           1.0  ...            1.0   \n",
      "13         0.0                   0.0           0.0  ...            1.0   \n",
      "17         0.0                   0.0           1.0  ...            1.0   \n",
      "23         0.0                   0.0           1.0  ...            1.0   \n",
      "...        ...                   ...           ...  ...            ...   \n",
      "253659     0.0                   0.0           0.0  ...            1.0   \n",
      "253668     0.0                   1.0           0.0  ...            1.0   \n",
      "253670     0.0                   1.0           0.0  ...            1.0   \n",
      "253676     0.0                   0.0           0.0  ...            1.0   \n",
      "253679     0.0                   1.0           1.0  ...            1.0   \n",
      "\n",
      "        NoDocbcCost  GenHlth  MentHlth  PhysHlth  DiffWalk  Sex   Age  \\\n",
      "8               0.0      5.0      30.0      30.0       1.0  0.0  62.0   \n",
      "10              0.0      3.0       0.0       0.0       0.0  1.0  82.0   \n",
      "13              0.0      4.0       0.0       0.0       1.0  0.0  72.0   \n",
      "17              0.0      2.0       0.0       0.0       0.0  1.0  52.0   \n",
      "23              0.0      1.0       0.0       0.0       0.0  0.0  82.0   \n",
      "...             ...      ...       ...       ...       ...  ...   ...   \n",
      "253659          0.0      4.0       0.0       0.0       0.0  0.0  47.0   \n",
      "253668          0.0      2.0       0.0       0.0       1.0  1.0  67.0   \n",
      "253670          0.0      5.0      15.0       0.0       1.0  0.0  82.0   \n",
      "253676          0.0      4.0       0.0       0.0       1.0  0.0  72.0   \n",
      "253679          0.0      2.0       0.0       0.0       0.0  0.0  62.0   \n",
      "\n",
      "        Education  Income  \n",
      "8             5.0     1.0  \n",
      "10            6.0     8.0  \n",
      "13            4.0     6.0  \n",
      "17            5.0     6.0  \n",
      "23            5.0     4.0  \n",
      "...           ...     ...  \n",
      "253659        4.0     1.0  \n",
      "253668        3.0     6.0  \n",
      "253670        6.0     4.0  \n",
      "253676        2.0     4.0  \n",
      "253679        6.0     2.0  \n",
      "\n",
      "[35346 rows x 23 columns]\n",
      "a. Probability of diabetes, given BMI=20, Age=62 and Smoker = false = 100.01 %\n"
     ]
    }
   ],
   "execution_count": 121
  },
  {
   "metadata": {
    "ExecuteTime": {
     "end_time": "2024-10-08T03:01:53.492806Z",
     "start_time": "2024-10-08T03:01:53.409881Z"
    }
   },
   "cell_type": "code",
   "source": [
    "\n",
    "#b. What's the probability they are over 50 if they have a BMI of 20 and have diabetes and don't smoke? Use both Naive Bayes and compare to the answer computed with the full conditional distribution (without the independence assumption).\n",
    "#P(Age over 50 | BMI=20, Diabetes = true, Smoking=false)\n",
    "\n",
    "#dfBMI40Age21Smoke = df[(df['BMI']==40) & (df['Age']==21) & (df['Smoker']==1)]\n",
    "\n",
    "PAge_more_than_50 = np.mean(df['Age'] > 50)\n",
    "print(PAge_more_than_50)\n",
    "print(df['Age'].isna().sum())\n",
    "\n",
    "dfnotDiabetes = df[df['Diabetes_012'] < 2]\n",
    "print(dfnotDiabetes)\n",
    "\n",
    "print(df['Age'].dtype)  # Check the type of the 'Age' column\n",
    "print(df['Diabetes_012'].dtype)  # Check the type of the 'Diabetes_012' column\n",
    "\n",
    "# Check for unique values in the Age column\n",
    "print(df['Age'].unique())\n",
    "\n",
    "\n",
    "try:\n",
    "    dfAge_more_than_50 = df[df['Age'] > 50]\n",
    "    print(dfAge_more_than_50)\n",
    "    PBMI20_givenAgeMore50 = np.mean(dfAge_more_than_50['BMI'] == 20)\n",
    "    PDiabetesTrue_givenAgeMore50 = np.mean(dfAge_more_than_50['Diabetes_012'] == 2)\n",
    "    PNon_smoke_givenAgeMore50 = np.mean(dfAge_more_than_50['Smoker'] ==0)\n",
    "    PBMI20_diabetes_Non_smoke = df[(df['BMI'] == 20) & (df['Diabetes_012'] == 2) & (df['Smoker']==0)]\n",
    "    print('debug ' + PBMI20_diabetes_Non_smoke)\n",
    "    P_result = (PAge_more_than_50*PBMI20_givenAgeMore50*PDiabetesTrue_givenAgeMore50*PNon_smoke_givenAgeMore50)/PBMI20_diabetes_Non_smoke\n",
    "    print('Result 1 : %0.2f %%' % (100 * P_result))\n",
    "except Exception as e:\n",
    "    print(\"Error during filtering:\", e)\n",
    "    print(\"DataFrame state:\")\n",
    "    print(df.head())\n",
    "\n",
    "#df['Age'] = pd.to_numeric(df['Age'], errors='coerce') \n",
    "#dfAge_more_than_50 = df[df['Age'] > 50]\n",
    "#print('DF Age:' + dfAge_more_than_50)\n",
    "\n",
    "    #PBMI20_givenAgeMore50 = np.mean(dfAge_more_than_50['BMI'] == 20)\n",
    "    #PDiabetesTrue_givenAgeMore50 = np.mean(dfAge_more_than_50['Diabetes_012'] == 2)\n",
    "    #PNon_smoke_givenAgeMore50 = np.mean(dfAge_more_than_50['Smoker'] ==0)\n",
    "    #PBMI20_diabetes_Non_smoke = df[(df['BMI'] == 20) & (df['Diabetes_012'] == 2) & (df['Smoker']==0)]\n",
    "    #print('debug ' + PBMI20_diabetes_Non_smoke)\n",
    "\n",
    "    #P_result = (PAge_more_than_50*PBMI20_givenAgeMore50*PDiabetesTrue_givenAgeMore50*PNon_smoke_givenAgeMore50)/PBMI20_diabetes_Non_smoke\n",
    "#print('Result 1 : %0.2f %%' % (100 * P_result))"
   ],
   "outputs": [
    {
     "name": "stdout",
     "output_type": "stream",
     "text": [
      "0.7074266792809839\n",
      "0\n",
      "        Unnamed: 0  Diabetes_012  HighBP  HighChol  CholCheck   BMI  Smoker  \\\n",
      "0                0           0.0     1.0       1.0        1.0  40.0     1.0   \n",
      "1                1           0.0     0.0       0.0        0.0  25.0     1.0   \n",
      "2                2           0.0     1.0       1.0        1.0  28.0     0.0   \n",
      "3                3           0.0     1.0       0.0        1.0  27.0     0.0   \n",
      "4                4           0.0     1.0       1.0        1.0  24.0     0.0   \n",
      "...            ...           ...     ...       ...        ...   ...     ...   \n",
      "253673      253673           0.0     1.0       0.0        1.0  42.0     0.0   \n",
      "253674      253674           0.0     0.0       0.0        1.0  27.0     0.0   \n",
      "253675      253675           0.0     1.0       1.0        1.0  45.0     0.0   \n",
      "253677      253677           0.0     0.0       0.0        1.0  28.0     0.0   \n",
      "253678      253678           0.0     1.0       0.0        1.0  23.0     0.0   \n",
      "\n",
      "        Stroke  HeartDiseaseorAttack  PhysActivity  ...  AnyHealthcare  \\\n",
      "0          0.0                   0.0           0.0  ...            1.0   \n",
      "1          0.0                   0.0           1.0  ...            0.0   \n",
      "2          0.0                   0.0           0.0  ...            1.0   \n",
      "3          0.0                   0.0           1.0  ...            1.0   \n",
      "4          0.0                   0.0           1.0  ...            1.0   \n",
      "...        ...                   ...           ...  ...            ...   \n",
      "253673     0.0                   0.0           1.0  ...            1.0   \n",
      "253674     0.0                   0.0           0.0  ...            1.0   \n",
      "253675     0.0                   0.0           0.0  ...            1.0   \n",
      "253677     0.0                   0.0           1.0  ...            1.0   \n",
      "253678     0.0                   0.0           0.0  ...            1.0   \n",
      "\n",
      "        NoDocbcCost  GenHlth  MentHlth  PhysHlth  DiffWalk  Sex   Age  \\\n",
      "0               0.0      5.0      18.0      15.0       1.0  0.0  62.0   \n",
      "1               1.0      3.0       0.0       0.0       0.0  0.0  52.0   \n",
      "2               1.0      5.0      30.0      30.0       1.0  0.0  62.0   \n",
      "3               0.0      2.0       0.0       0.0       0.0  0.0  72.0   \n",
      "4               0.0      2.0       3.0       0.0       0.0  0.0  72.0   \n",
      "...             ...      ...       ...       ...       ...  ...   ...   \n",
      "253673          0.0      3.0      14.0       4.0       0.0  1.0  32.0   \n",
      "253674          0.0      1.0       0.0       0.0       0.0  0.0  32.0   \n",
      "253675          0.0      3.0       0.0       5.0       0.0  1.0  42.0   \n",
      "253677          0.0      1.0       0.0       0.0       0.0  0.0  27.0   \n",
      "253678          0.0      3.0       0.0       0.0       0.0  1.0  52.0   \n",
      "\n",
      "        Education  Income  \n",
      "0             4.0     3.0  \n",
      "1             6.0     1.0  \n",
      "2             4.0     8.0  \n",
      "3             3.0     6.0  \n",
      "4             5.0     4.0  \n",
      "...           ...     ...  \n",
      "253673        6.0     8.0  \n",
      "253674        6.0     5.0  \n",
      "253675        6.0     7.0  \n",
      "253677        5.0     2.0  \n",
      "253678        5.0     1.0  \n",
      "\n",
      "[218334 rows x 23 columns]\n",
      "float64\n",
      "float64\n",
      "[62. 52. 72. 67. 57. 82. 37. 47. 27. 77. 42. 21. 32.]\n",
      "        Unnamed: 0  Diabetes_012  HighBP  HighChol  CholCheck   BMI  Smoker  \\\n",
      "0                0           0.0     1.0       1.0        1.0  40.0     1.0   \n",
      "1                1           0.0     0.0       0.0        0.0  25.0     1.0   \n",
      "2                2           0.0     1.0       1.0        1.0  28.0     0.0   \n",
      "3                3           0.0     1.0       0.0        1.0  27.0     0.0   \n",
      "4                4           0.0     1.0       1.0        1.0  24.0     0.0   \n",
      "...            ...           ...     ...       ...        ...   ...     ...   \n",
      "253671      253671           0.0     1.0       1.0        1.0  23.0     0.0   \n",
      "253672      253672           0.0     1.0       0.0        1.0  30.0     1.0   \n",
      "253676      253676           2.0     1.0       1.0        1.0  18.0     0.0   \n",
      "253678      253678           0.0     1.0       0.0        1.0  23.0     0.0   \n",
      "253679      253679           2.0     1.0       1.0        1.0  25.0     0.0   \n",
      "\n",
      "        Stroke  HeartDiseaseorAttack  PhysActivity  ...  AnyHealthcare  \\\n",
      "0          0.0                   0.0           0.0  ...            1.0   \n",
      "1          0.0                   0.0           1.0  ...            0.0   \n",
      "2          0.0                   0.0           0.0  ...            1.0   \n",
      "3          0.0                   0.0           1.0  ...            1.0   \n",
      "4          0.0                   0.0           1.0  ...            1.0   \n",
      "...        ...                   ...           ...  ...            ...   \n",
      "253671     1.0                   1.0           0.0  ...            1.0   \n",
      "253672     0.0                   1.0           1.0  ...            1.0   \n",
      "253676     0.0                   0.0           0.0  ...            1.0   \n",
      "253678     0.0                   0.0           0.0  ...            1.0   \n",
      "253679     0.0                   1.0           1.0  ...            1.0   \n",
      "\n",
      "        NoDocbcCost  GenHlth  MentHlth  PhysHlth  DiffWalk  Sex   Age  \\\n",
      "0               0.0      5.0      18.0      15.0       1.0  0.0  62.0   \n",
      "1               1.0      3.0       0.0       0.0       0.0  0.0  52.0   \n",
      "2               1.0      5.0      30.0      30.0       1.0  0.0  62.0   \n",
      "3               0.0      2.0       0.0       0.0       0.0  0.0  72.0   \n",
      "4               0.0      2.0       3.0       0.0       0.0  0.0  72.0   \n",
      "...             ...      ...       ...       ...       ...  ...   ...   \n",
      "253671          1.0      4.0       0.0       5.0       0.0  1.0  57.0   \n",
      "253672          0.0      3.0       0.0       0.0       0.0  1.0  77.0   \n",
      "253676          0.0      4.0       0.0       0.0       1.0  0.0  72.0   \n",
      "253678          0.0      3.0       0.0       0.0       0.0  1.0  52.0   \n",
      "253679          0.0      2.0       0.0       0.0       0.0  0.0  62.0   \n",
      "\n",
      "        Education  Income  \n",
      "0             4.0     3.0  \n",
      "1             6.0     1.0  \n",
      "2             4.0     8.0  \n",
      "3             3.0     6.0  \n",
      "4             5.0     4.0  \n",
      "...           ...     ...  \n",
      "253671        3.0     2.0  \n",
      "253672        2.0     1.0  \n",
      "253676        2.0     4.0  \n",
      "253678        5.0     1.0  \n",
      "253679        6.0     2.0  \n",
      "\n",
      "[179460 rows x 23 columns]\n",
      "Error during filtering: ufunc 'add' did not contain a loop with signature matching types (dtype('<U6'), dtype('int64')) -> None\n",
      "DataFrame state:\n",
      "   Unnamed: 0  Diabetes_012  HighBP  HighChol  CholCheck   BMI  Smoker  \\\n",
      "0           0           0.0     1.0       1.0        1.0  40.0     1.0   \n",
      "1           1           0.0     0.0       0.0        0.0  25.0     1.0   \n",
      "2           2           0.0     1.0       1.0        1.0  28.0     0.0   \n",
      "3           3           0.0     1.0       0.0        1.0  27.0     0.0   \n",
      "4           4           0.0     1.0       1.0        1.0  24.0     0.0   \n",
      "\n",
      "   Stroke  HeartDiseaseorAttack  PhysActivity  ...  AnyHealthcare  \\\n",
      "0     0.0                   0.0           0.0  ...            1.0   \n",
      "1     0.0                   0.0           1.0  ...            0.0   \n",
      "2     0.0                   0.0           0.0  ...            1.0   \n",
      "3     0.0                   0.0           1.0  ...            1.0   \n",
      "4     0.0                   0.0           1.0  ...            1.0   \n",
      "\n",
      "   NoDocbcCost  GenHlth  MentHlth  PhysHlth  DiffWalk  Sex   Age  Education  \\\n",
      "0          0.0      5.0      18.0      15.0       1.0  0.0  62.0        4.0   \n",
      "1          1.0      3.0       0.0       0.0       0.0  0.0  52.0        6.0   \n",
      "2          1.0      5.0      30.0      30.0       1.0  0.0  62.0        4.0   \n",
      "3          0.0      2.0       0.0       0.0       0.0  0.0  72.0        3.0   \n",
      "4          0.0      2.0       3.0       0.0       0.0  0.0  72.0        5.0   \n",
      "\n",
      "   Income  \n",
      "0     3.0  \n",
      "1     1.0  \n",
      "2     8.0  \n",
      "3     6.0  \n",
      "4     4.0  \n",
      "\n",
      "[5 rows x 23 columns]\n"
     ]
    }
   ],
   "execution_count": 18
  },
  {
   "metadata": {
    "ExecuteTime": {
     "end_time": "2024-10-08T02:39:13.507688Z",
     "start_time": "2024-10-08T02:39:13.496116Z"
    }
   },
   "cell_type": "code",
   "source": [
    "#b. Full Conditional Distribution\n",
    "PAge_more_than_50 = np.mean(df['Age'] > 50)\n",
    "print(PAge_more_than_50)\n",
    "\n",
    "PBMI20 = np.mean(df['BMI']==20)\n",
    "print(PBMI20)\n",
    "\n",
    "PDiabetesTrue = np.mean(df['Diabetes_012']==2)\n",
    "print(PDiabetesTrue)\n",
    "\n",
    "PNon_smoke = np.mean(df['Smoker']==0)\n",
    "print(PNon_smoke)\n",
    "\n",
    "PAll_BMI_Diabetes_Non_smoke = PBMI20*PDiabetesTrue*PNon_smoke\n",
    "print(PAll_BMI_Diabetes_Non_smoke)\n",
    "\n",
    "P_result = (PAge_more_than_50*PBMI20*PDiabetesTrue*PNon_smoke)/PAll_BMI_Diabetes_Non_smoke\n",
    "print('Result 2 : %0.2f %%' % (100 * P_result))"
   ],
   "outputs": [
    {
     "name": "stdout",
     "output_type": "stream",
     "text": [
      "0.7074266792809839\n",
      "0.024940870387890255\n",
      "0.13933301797540207\n",
      "0.5568314411857458\n",
      "0.0019350375588368187\n",
      "Result 2 : 70.74 %\n"
     ]
    }
   ],
   "execution_count": 120
  },
  {
   "metadata": {
    "ExecuteTime": {
     "end_time": "2024-10-10T07:03:21.861231Z",
     "start_time": "2024-10-10T07:03:21.711841Z"
    }
   },
   "cell_type": "code",
   "source": [
    "#Answers:\n",
    "#Part a:\n",
    "dfD = df[df['Diabetes_012']==2]\n",
    "dfnotD = df[df['Diabetes_012']==0]\n",
    "\n",
    "PB20_givenDtrue = np.mean(dfD['BMI']==20)\n",
    "PB20_givenDfalse = np.mean(dfnotD['BMI']==20)\n",
    "\n",
    "PA62_givenDtrue = np.mean(dfD['Age']==62)\n",
    "PA62_givenDfalse = np.mean(dfnotD['Age']==62)\n",
    "\n",
    "PnotS_givenDtrue = np.mean(dfD['Smoker']==0)\n",
    "PnotS_givenDfalse = np.mean(dfnotD['Smoker']==0)\n",
    "\n",
    "PDtrue = np.mean(df['Diabetes_012']==2)\n",
    "PDfalse = np.mean(df['Diabetes_012']==0)\n",
    "\n",
    "PallDtrue = PB20_givenDtrue * PA62_givenDtrue * PnotS_givenDtrue * PDtrue\n",
    "PallDfalse = PB20_givenDfalse * PA62_givenDfalse * PnotS_givenDfalse * PDfalse\n",
    "\n",
    "print(\"[Naive Bayes] Probability of Diabetes, given BMI=20 and not Smoker, and Ages=52: = %0.1f %%\" % (100*(PallDtrue) / (PallDtrue + PallDfalse)))\n",
    "\n",
    "#Part b:\n",
    "PB20_givenOtrue = np.mean(df[df['Age']>50]['BMI']==20)\n",
    "PB20_givenOfalse = np.mean(df[df['Age']<=50]['BMI']==20)\n",
    "\n",
    "PnotS_givenOtrue = np.mean(df[df['Age']>50]['Smoker']==0)\n",
    "PnotS_givenOfalse = np.mean(df[df['Age']<=50]['Smoker']==0)\n",
    "\n",
    "PD_givenOtrue = np.mean(df[df['Age']>50]['Diabetes_012']==2)\n",
    "PD_givenOfalse = np.mean(df[df['Age']<=50]['Diabetes_012']==2)\n",
    "\n",
    "POtrue = np.mean(df['Age']>50)\n",
    "POfalse = np.mean(df['Age']<=50)\n",
    "\n",
    "PallOtrue = (PB20_givenOtrue * PnotS_givenOtrue * PD_givenOtrue * POtrue)\n",
    "PallOfalse = (PB20_givenOfalse * PnotS_givenOfalse * PD_givenOfalse * POfalse)\n",
    "\n",
    "print(\"[Naive Bayes] Probability of over 50, given BMI=20 and not Smoker, and diabetes = %0.1f %%\" % (100*(PallOtrue) / (PallOtrue + PallOfalse)))\n",
    "\n",
    "#doing it with full joint distribution:\n",
    "#we've got 115 rows, not really enough to infer over, but anyway...\n",
    "print(\"Number of entries: %d\" % len(df[(df['Smoker']==0) & (df['BMI']==20) * (df['Diabetes_012']==2)]))\n",
    "print(\"[Full]        Probability of over 50, given BMI=20 and not Smoker, and diabetes = %0.1f %%\" % (100*np.mean(df[(df['Smoker']==0) & (df['BMI']==20) * (df['Diabetes_012']==2)]['Age']>50)));"
   ],
   "outputs": [
    {
     "name": "stdout",
     "output_type": "stream",
     "text": [
      "[Naive Bayes] Probability of Diabetes, given BMI=20 and not Smoker, and Ages=52: = 4.2 %\n",
      "[Naive Bayes] Probability of over 50, given BMI=20 and not Smoker, and diabetes = 82.1 %\n",
      "Number of entries: 115\n",
      "[Full]        Probability of over 50, given BMI=20 and not Smoker, and diabetes = 92.2 %\n"
     ]
    }
   ],
   "execution_count": 19
  },
  {
   "metadata": {
    "ExecuteTime": {
     "end_time": "2024-10-08T01:15:12.685960Z",
     "start_time": "2024-10-08T01:15:12.675503Z"
    }
   },
   "cell_type": "code",
   "source": "print(df['Smoker'].head(30))",
   "outputs": [
    {
     "name": "stdout",
     "output_type": "stream",
     "text": [
      "0     1.0\n",
      "1     1.0\n",
      "2     0.0\n",
      "3     0.0\n",
      "4     0.0\n",
      "5     1.0\n",
      "6     1.0\n",
      "7     1.0\n",
      "8     1.0\n",
      "9     0.0\n",
      "10    1.0\n",
      "11    1.0\n",
      "12    1.0\n",
      "13    0.0\n",
      "14    1.0\n",
      "15    0.0\n",
      "16    0.0\n",
      "17    1.0\n",
      "18    0.0\n",
      "19    0.0\n",
      "20    0.0\n",
      "21    1.0\n",
      "22    1.0\n",
      "23    0.0\n",
      "24    1.0\n",
      "25    0.0\n",
      "26    1.0\n",
      "27    1.0\n",
      "28    1.0\n",
      "29    1.0\n",
      "Name: Smoker, dtype: float64\n"
     ]
    }
   ],
   "execution_count": 91
  },
  {
   "cell_type": "markdown",
   "source": [
    "---"
   ],
   "metadata": {
    "id": "xrBUmyL0mNAE"
   }
  },
  {
   "cell_type": "markdown",
   "metadata": {
    "id": "fyQJsg1UwPYM"
   },
   "source": [
    "### Related topics\n",
    "\n",
    "- If you play with Naive Bayes you might find situations where no rows in the training set have that feature value. A simple approach to handling that is simply to 'add one' to all the frequencies. This is [Laplace Smoothing](https://en.wikipedia.org/wiki/Additive_smoothing) (and is the equivalent to adding a prior).\n",
    "- Naive Bayes can be considered as a (simple) Bayesian belief network:\n",
    "\n",
    "<img width=300 src=\"https://www.researchgate.net/publication/283161090/figure/fig1/AS:648613512364033@1531652920537/A-typical-Naive-Bayes-network-diagram.png\" />\n",
    "\n",
    "<small><small>A Naive Bayes Network, from <i>Ibrahim et al. (2015). doi: 10.1016/j.procs.2015.09.194.</i></small></small>\n",
    "\n",
    "A more complex network can be constructed, with some conditional dependencies added between features using edges. [Wikipedia article on Bayesian networks](https://en.wikipedia.org/wiki/Bayesian_network).\n",
    "\n",
    "### Summary\n",
    "\n",
    "With a handful of basic tools (the product rule, marginalisation, etc) we are able to perform really useful inference about important questions."
   ]
  },
  {
   "cell_type": "markdown",
   "metadata": {
    "id": "rFQsZfPywPYN"
   },
   "source": [
    "# Notes for other lecturers on data prep\n",
    "\n",
    "The original ages were stored using a [14 category age](https://www.icpsr.umich.edu/web/NAHDAP/studies/34085/datasets/0001/variables/AGEG5YR?archive=NAHDAP). So I converted these to years (using the centre of each category) and saved as a new file:\n",
    "\n",
    "```\n",
    "newdf = df[df['Age']!=99]\n",
    "newdf['Age'] = newdf['Age']*5+17\n",
    "newdf.loc[newdf['Age']==22,'Age']=21\n",
    "newdf.to_csv('diabetes2.csv')\n",
    "```"
   ]
  },
  {
   "cell_type": "code",
   "source": [],
   "metadata": {
    "id": "tNlwFcVTKOzZ"
   },
   "execution_count": null,
   "outputs": []
  }
 ],
 "metadata": {
  "kernelspec": {
   "display_name": "Python 3",
   "language": "python",
   "name": "python3"
  },
  "language_info": {
   "codemirror_mode": {
    "name": "ipython",
    "version": 3
   },
   "file_extension": ".py",
   "mimetype": "text/x-python",
   "name": "python",
   "nbconvert_exporter": "python",
   "pygments_lexer": "ipython3",
   "version": "3.8.3"
  },
  "colab": {
   "provenance": [],
   "collapsed_sections": [
    "8eUzwlQqwPYH",
    "25tkgwipwPYI",
    "fyQJsg1UwPYM"
   ],
   "toc_visible": true
  }
 },
 "nbformat": 4,
 "nbformat_minor": 0
}
