{
 "cells": [
  {
   "cell_type": "markdown",
   "metadata": {
    "id": "L4VOHmTdzhKy"
   },
   "source": [
    "# Lab 5.2: An Introduction to PyTorch\n",
    "\n",
    "**Sources**: This lab is based on the PyTorch introduction lab by Juan-José Giraldo, Mauricio A Álvarez and Haiping Lu.\n",
    "\n",
    "**Note**: Try to answer the questions when you first see them rather than coming back after going through the rest."
   ]
  },
  {
   "cell_type": "markdown",
   "metadata": {
    "id": "q8BMpW6mz_Ww"
   },
   "source": [
    "In this Notebook, we look at the torch library in Python that allows automatic differentiation. PyTorch will be used to implement different neural network models later on.\n",
    "\n",
    "**Suggested reading**: \n",
    "* What is PyTorch from [PyTorch tutorial](https://pytorch.org/tutorials/beginner/blitz/tensor_tutorial.html#sphx-glr-beginner-blitz-tensor-tutorial-py)\n",
    "\n",
    "**Assumptions** : basic python programming and [Anaconda](https://anaconda.org/) installed.\n"
   ]
  },
  {
   "cell_type": "markdown",
   "metadata": {
    "id": "iN469ueikhEt"
   },
   "source": [
    "## PyTorch Installation and Basics\n",
    "\n",
    "If you are running on Google Colab then PyTorch will already be installed but you may need to install it on your own machines. There are different options on the PyTorch homepage for downloading it including conda and pip. Here we will describe how to install it using conda."
   ]
  },
  {
   "cell_type": "markdown",
   "metadata": {
    "id": "MNRar0bwjSQJ"
   },
   "source": [
    "\n",
    "\n",
    "### Install-1: direct installation (e.g., on your own machine with full installation right)\n",
    "\n",
    "**Install [PyTorch](https://github.com/pytorch/pytorch) via [Anaconda](https://anaconda.org/)**\n",
    "`conda install -c pytorch pytorch`\n",
    "\n",
    " When you are asked whether to proceed, say `y`\n",
    "\n",
    "**Install [torchvision](https://github.com/pytorch/vision)**\n",
    "`conda install -c pytorch torchvision`\n",
    "\n",
    " When you are asked whether to proceed, say `y`\n",
    "\n",
    "### Install-2: Set up Anaconda Python environment (e.g., on a university desktop)\n",
    "\n",
    "On a university desktop, you may not have permission to install new packages on the main environment of Anaconda. Please follow the instructions below to set up a new environment. This is also recommended if you have different python projects running that may require different environments.\n",
    "\n",
    "Open a command line terminal.\n",
    "\n",
    "**Create a new conda environment with Python 3.8**<br>\n",
    "`conda create -n mlai python=3.8 anaconda`\n",
    "\n",
    "**Activate the conda environment `mlai`** (see [conda documentation](https://docs.conda.io/projects/conda/en/latest/user-guide/getting-started.html#managing-environments))<br>\n",
    "\n",
    "For conda 4.6 and later versions: `conda activate mlai`\n",
    "\n",
    "For conda versions prior to 4.6<br>\n",
    "`activate mlai` (Windows)<br>\n",
    "`source activate mlai` (Mac/Linux)<br><br>\n",
    "You will see `(mlai)` on the left indciating your environment\n",
    "\n",
    "**Install Pytorch and Torchvision** (non-CUDA/GPU version for simplicity)<br>\n",
    "`conda install pytorch torchvision cpuonly -c pytorch`<br>\n",
    "If you have GPU, install the GPU version with command at [here](https://pytorch.org/)\n",
    "\n",
    "**Start Jupyter notebook server**: `jupyter notebook`"
   ]
  },
  {
   "cell_type": "markdown",
   "metadata": {
    "id": "iPh2hTI7z_W0"
   },
   "source": [
    "## Tensors\n",
    "A tensor generalises the concept of vectors and matrices to an arbitrary number of dimensions. Another name for the same concept is multidimensional arrays. The dimensionality of a tensor is the number of indexes used to refer to scalar values within the tensor. The cell below shows an example initialising a Tensor uniformly for 1D, 2D and 3D:"
   ]
  },
  {
   "cell_type": "code",
   "metadata": {
    "id": "NQQba8NOz_W0",
    "ExecuteTime": {
     "end_time": "2024-11-08T14:37:50.282816Z",
     "start_time": "2024-11-08T14:37:50.275919Z"
    }
   },
   "source": [
    "# We first import the torch library that comes with the Anaconda distribution\n",
    "import torch \n",
    "# Tensor 1D presents 1 index\n",
    "y = torch.rand([2])\n",
    "print('Tensor 1D presents one index','with shape', y.shape,':\\n',y) #get specific size with .shape\n",
    "# Tensor 2D presents 2 indexes\n",
    "y = torch.rand([2,3])\n",
    "print('\\nTensor 2D presents two indexes','with shape',y.shape,':\\n',y)\n",
    "#Tensor 3D presents 3 indexes\n",
    "y = torch.rand([5,2,3])\n",
    "print('\\nTensor 3D presents three indexes','with shape',y.shape,':\\n',y)"
   ],
   "outputs": [
    {
     "name": "stdout",
     "output_type": "stream",
     "text": [
      "Tensor 1D presents one index with shape torch.Size([2]) :\n",
      " tensor([0.1953, 0.8615])\n",
      "\n",
      "Tensor 2D presents two indexes with shape torch.Size([2, 3]) :\n",
      " tensor([[4.8850e-02, 1.2034e-01, 7.1931e-01],\n",
      "        [1.5116e-01, 9.6343e-01, 3.1418e-04]])\n",
      "\n",
      "Tensor 3D presents three indexes with shape torch.Size([5, 2, 3]) :\n",
      " tensor([[[0.7422, 0.4080, 0.0885],\n",
      "         [0.4490, 0.8160, 0.9972]],\n",
      "\n",
      "        [[0.7986, 0.0524, 0.7635],\n",
      "         [0.4398, 0.1688, 0.6449]],\n",
      "\n",
      "        [[0.8268, 0.0685, 0.7311],\n",
      "         [0.3339, 0.4794, 0.2739]],\n",
      "\n",
      "        [[0.4282, 0.9191, 0.7203],\n",
      "         [0.9002, 0.9195, 0.7612]],\n",
      "\n",
      "        [[0.2984, 0.9470, 0.0988],\n",
      "         [0.2995, 0.5953, 0.1672]]])\n"
     ]
    }
   ],
   "execution_count": 24
  },
  {
   "cell_type": "code",
   "metadata": {
    "id": "p8nrfOuYz_W2",
    "ExecuteTime": {
     "end_time": "2024-11-08T14:34:42.195734Z",
     "start_time": "2024-11-08T14:34:42.191426Z"
    }
   },
   "source": [
    "# Create a tensor with specific values\n",
    "x = torch.tensor([4.0,5.0], dtype=torch.float32)\n",
    "y = torch.tensor([2.0,3.0], dtype=torch.float32)\n",
    "\n",
    "# Tensor multiplication (point-wise multiplication)\n",
    "print(x*y)\n",
    "\n",
    "# Tensor matrix multiplication\n",
    "# Like numpy the @ symbol is defined as operating the matrix multiplication\n",
    "# We should get the same output as if we call the matmul function\n",
    "print('Using @:', x @ y)\n",
    "print('Torch.matmul: ', torch.matmul(x, y))\n",
    "\n",
    "# But wait, these are vectors so how can we do a matmul. Well Pytorch \n",
    "# defaults to using the dot product when you call a matmul on vectors.\n",
    "# That's why we are getting a scalar from\n",
    "print('Torch.dot: ', torch.dot(x, y))\n",
    "\n",
    "# If we define a 2D matrix instead then it will return a vector\n",
    "A = torch.tensor([[1.0, 2.0], [3.0, 4.0]], dtype=torch.float32)\n",
    "print(A @ y)"
   ],
   "outputs": [
    {
     "name": "stdout",
     "output_type": "stream",
     "text": [
      "tensor([ 8., 15.])\n",
      "Using @: tensor(23.)\n",
      "Torch.matmul:  tensor(23.)\n",
      "Torch.dot:  tensor(23.)\n",
      "tensor([ 8., 18.])\n"
     ]
    }
   ],
   "execution_count": 21
  },
  {
   "cell_type": "markdown",
   "metadata": {
    "id": "8PL4CJkNz_W2"
   },
   "source": [
    "### Initialise a tensor with torch.zeros or torch.ones "
   ]
  },
  {
   "cell_type": "code",
   "metadata": {
    "id": "YCAK6EMVz_W2",
    "ExecuteTime": {
     "end_time": "2024-11-08T14:34:44.611072Z",
     "start_time": "2024-11-08T14:34:44.604353Z"
    }
   },
   "source": [
    "x_zeros = torch.zeros(size=[3,4])\n",
    "print('x_zeros:',x_zeros,'with shape',x_zeros.shape,'\\n')\n",
    "x_ones = torch.ones(size=[2,6])\n",
    "print('x_ones:',x_ones,'with shape',x_ones.shape)"
   ],
   "outputs": [
    {
     "name": "stdout",
     "output_type": "stream",
     "text": [
      "x_zeros: tensor([[0., 0., 0., 0.],\n",
      "        [0., 0., 0., 0.],\n",
      "        [0., 0., 0., 0.]]) with shape torch.Size([3, 4]) \n",
      "\n",
      "x_ones: tensor([[1., 1., 1., 1., 1., 1.],\n",
      "        [1., 1., 1., 1., 1., 1.]]) with shape torch.Size([2, 6])\n"
     ]
    }
   ],
   "execution_count": 22
  },
  {
   "cell_type": "markdown",
   "metadata": {
    "id": "y_SrHNPvz_W3"
   },
   "source": [
    "### Reshape a tensor using .view"
   ]
  },
  {
   "cell_type": "code",
   "metadata": {
    "id": "ysAIYtdSz_W3",
    "ExecuteTime": {
     "end_time": "2024-11-08T14:34:46.745025Z",
     "start_time": "2024-11-08T14:34:46.732744Z"
    }
   },
   "source": [
    "y = torch.ones([3,2])\n",
    "y_reshaped = y.view(6,1)  # in contrast to the common numpy library, we use .view instead of .reshape\n",
    "print(y_reshaped)"
   ],
   "outputs": [
    {
     "name": "stdout",
     "output_type": "stream",
     "text": [
      "tensor([[1.],\n",
      "        [1.],\n",
      "        [1.],\n",
      "        [1.],\n",
      "        [1.],\n",
      "        [1.]])\n"
     ]
    }
   ],
   "execution_count": 23
  },
  {
   "cell_type": "markdown",
   "metadata": {
    "id": "JQFHsAS9z_W4"
   },
   "source": [
    "## Numpy interoperability \n",
    "\n",
    "PyTorch tensors can be converted efficiently to NumPy arrays and vice versa. By doing so, you can leverage the huge swath of functionality in the wider Python ecosystem that has built up around the NumPy array type."
   ]
  },
  {
   "cell_type": "code",
   "metadata": {
    "id": "7D03E18Fz_W5",
    "ExecuteTime": {
     "end_time": "2024-11-08T13:52:28.605870Z",
     "start_time": "2024-11-08T13:52:28.597489Z"
    }
   },
   "source": [
    "# Tensor_torch to tensor Numpy\n",
    "Tensor_torch = torch.ones(3,4)\n",
    "Tensor_numpy = Tensor_torch.numpy() #Returns a NumPy multidim. array of the right size, shape and numerical type.\n",
    "print('Array in numpy form with shape', Tensor_numpy.shape,':\\n',Tensor_numpy, type(Tensor_numpy))\n",
    "\n",
    "# Tensor Numpy to Tensor_torch\n",
    "import numpy as np\n",
    "Tensor_np = np.random.randn(5,8)    \n",
    "Tensor_numpy_to_torch = torch.from_numpy(Tensor_np)\n",
    "print('\\nArray from Numpy to Torch with shape', Tensor_numpy_to_torch.shape,':\\n',Tensor_numpy_to_torch)"
   ],
   "outputs": [
    {
     "name": "stdout",
     "output_type": "stream",
     "text": [
      "Array in numpy form with shape (3, 4) :\n",
      " [[1. 1. 1. 1.]\n",
      " [1. 1. 1. 1.]\n",
      " [1. 1. 1. 1.]] <class 'numpy.ndarray'>\n",
      "\n",
      "Array from Numpy to Torch with shape torch.Size([5, 8]) :\n",
      " tensor([[-0.0797, -0.7932,  1.0387,  0.0757,  0.2101,  0.1149, -1.3329, -0.0188],\n",
      "        [ 0.4187, -0.7249,  1.0331,  0.3841,  0.5832,  1.8500,  0.8665,  1.7129],\n",
      "        [ 1.2308,  0.1967, -1.8170,  0.2413, -1.5926,  1.5866, -0.4867,  0.0288],\n",
      "        [ 1.4488,  0.9729,  0.1536, -1.1897,  2.0185, -0.6600, -1.0183,  0.7835],\n",
      "        [ 0.1226, -0.1430,  0.4806, -0.5670,  0.7416,  0.4147,  0.9983,  0.7901]],\n",
      "       dtype=torch.float64)\n"
     ]
    }
   ],
   "execution_count": 5
  },
  {
   "cell_type": "markdown",
   "metadata": {
    "id": "vkikNgox6EAt"
   },
   "source": [
    "### Loading a .csv dataset\n",
    "\n",
    "We can take advantage of the interoperability between Numpy and PyTorch by loading a .csv data as a numpy array and transforming it to a Torch Tensor using `torch.from_numpy(dataset_np)`. "
   ]
  },
  {
   "cell_type": "code",
   "metadata": {
    "id": "drOP3P5T6EAu",
    "ExecuteTime": {
     "end_time": "2024-11-08T13:52:32.499451Z",
     "start_time": "2024-11-08T13:52:31.683964Z"
    }
   },
   "source": [
    "# This cell is simply to download the winequality-red.csv dataset from its root url\n",
    "import urllib.request\n",
    "urllib.request.urlretrieve('https://archive.ics.uci.edu/ml/machine-learning-databases/wine-quality/winequality-red.csv', './winequality-red.csv')"
   ],
   "outputs": [
    {
     "data": {
      "text/plain": [
       "('./winequality-red.csv', <http.client.HTTPMessage at 0x1039abeb0>)"
      ]
     },
     "execution_count": 6,
     "metadata": {},
     "output_type": "execute_result"
    }
   ],
   "execution_count": 6
  },
  {
   "cell_type": "code",
   "metadata": {
    "id": "Ht1dFZqZ6EAu",
    "ExecuteTime": {
     "end_time": "2024-11-08T13:52:34.125068Z",
     "start_time": "2024-11-08T13:52:34.114437Z"
    }
   },
   "source": [
    "import numpy as np\n",
    "#In the line below we avoid the first row (skiprows=1) of .csv file that contains names\n",
    "#the delimeter of data for this dataset is \";\"\n",
    "wine_np = np.loadtxt(\"./winequality-red.csv\", dtype=np.float32, delimiter=\";\", skiprows=1)\n",
    "wine_torch = torch.from_numpy(wine_np)  #We take advantage of the interoperability with numpy\n",
    "wine_torch"
   ],
   "outputs": [
    {
     "data": {
      "text/plain": [
       "tensor([[ 7.4000,  0.7000,  0.0000,  ...,  0.5600,  9.4000,  5.0000],\n",
       "        [ 7.8000,  0.8800,  0.0000,  ...,  0.6800,  9.8000,  5.0000],\n",
       "        [ 7.8000,  0.7600,  0.0400,  ...,  0.6500,  9.8000,  5.0000],\n",
       "        ...,\n",
       "        [ 6.3000,  0.5100,  0.1300,  ...,  0.7500, 11.0000,  6.0000],\n",
       "        [ 5.9000,  0.6450,  0.1200,  ...,  0.7100, 10.2000,  5.0000],\n",
       "        [ 6.0000,  0.3100,  0.4700,  ...,  0.6600, 11.0000,  6.0000]])"
      ]
     },
     "execution_count": 7,
     "metadata": {},
     "output_type": "execute_result"
    }
   ],
   "execution_count": 7
  },
  {
   "cell_type": "markdown",
   "metadata": {
    "id": "ZRCjY4SJz_W5"
   },
   "source": [
    "## Automatic Differentiation\n",
    "\n",
    "\n",
    "\n"
   ]
  },
  {
   "cell_type": "markdown",
   "metadata": {
    "id": "H50MZNoZ2j_g"
   },
   "source": [
    "### Computational Graph"
   ]
  },
  {
   "cell_type": "markdown",
   "metadata": {
    "id": "FlAiWIOH2fWD"
   },
   "source": [
    "\n",
    "A computation graph defines/visualises a sequence of operations to go from input to model output. \n",
    "\n",
    "Consider a linear regression model $\\hat y = Wx + b$, where $x$ is our input, $W$ is a weight matrix, $b$ is a bias, and $\\hat y$ is the predicted output. As a computation graph, this looks like:\n",
    "\n",
    "![Linear Regression Computation Graph](https://imgur.com/IcBhTjS.png)"
   ]
  },
  {
   "cell_type": "markdown",
   "metadata": {
    "id": "IYGyryWA2fWE"
   },
   "source": [
    "PyTorch dynamically build the computational graph, for example\n",
    "\n",
    "![DynamicGraph.gif](https://raw.githubusercontent.com/pytorch/pytorch/master/docs/source/_static/img/dynamic_graph.gif)"
   ]
  },
  {
   "cell_type": "markdown",
   "metadata": {
    "id": "nme0LFPt2Xgi"
   },
   "source": [
    "### Computing gradients with PyTorch\n",
    "PyTorch allows to automatically obtain the gradients of a tensor with respect to a defined function. When creating the tensor, we have to indicate that it requires the gradient computation using the flag `requires_grad`  "
   ]
  },
  {
   "cell_type": "code",
   "metadata": {
    "id": "CP5nqDkUz_W5",
    "ExecuteTime": {
     "end_time": "2024-11-08T13:52:44.386662Z",
     "start_time": "2024-11-08T13:52:44.382236Z"
    }
   },
   "source": [
    "x = torch.rand(3, requires_grad=True)\n",
    "print(x)"
   ],
   "outputs": [
    {
     "name": "stdout",
     "output_type": "stream",
     "text": [
      "tensor([0.6484, 0.6068, 0.4757], requires_grad=True)\n"
     ]
    }
   ],
   "execution_count": 8
  },
  {
   "cell_type": "markdown",
   "metadata": {
    "id": "QtsvySoBz_W5"
   },
   "source": [
    "Notice that now the Tensor shows the flag `requires_grad` as True. We can also activate such a flag in a Tensor already created as follows:"
   ]
  },
  {
   "cell_type": "code",
   "metadata": {
    "id": "K4y2rYtBz_W5",
    "ExecuteTime": {
     "end_time": "2024-11-08T14:33:30.510484Z",
     "start_time": "2024-11-08T14:33:30.505311Z"
    }
   },
   "source": [
    "x = torch.tensor([1.0,2.0,3.0])\n",
    "x.requires_grad_(True)\n",
    "print(x)"
   ],
   "outputs": [
    {
     "name": "stdout",
     "output_type": "stream",
     "text": [
      "tensor([1., 2., 3.], requires_grad=True)\n"
     ]
    }
   ],
   "execution_count": 16
  },
  {
   "cell_type": "markdown",
   "metadata": {
    "id": "lUHe0xMsz_W5"
   },
   "source": [
    "Let us define a function $y=x^2+5$. The function $y$ will not only carry the result of evaluating $x$, but also the gradient function $\\frac{\\partial y}{\\partial x}$ called `grad_fn` in the new tensor $y$"
   ]
  },
  {
   "cell_type": "code",
   "metadata": {
    "id": "4aAApo4wz_W6",
    "ExecuteTime": {
     "end_time": "2024-11-08T14:33:31.840779Z",
     "start_time": "2024-11-08T14:33:31.834954Z"
    }
   },
   "source": [
    "x = torch.tensor([2.0])\n",
    "x.requires_grad_(True)  #indicate we will need the gradients with respecto to this variable\n",
    "y = x**2 + 5\n",
    "print(y)"
   ],
   "outputs": [
    {
     "name": "stdout",
     "output_type": "stream",
     "text": [
      "tensor([9.], grad_fn=<AddBackward0>)\n"
     ]
    }
   ],
   "execution_count": 17
  },
  {
   "cell_type": "markdown",
   "metadata": {
    "id": "2_D6qNkpz_W6"
   },
   "source": [
    "To evaluate the partial derivative $\\frac{\\partial y}{\\partial x}$, we use the `.backward()` function and the result of the gradient evaluation is stored in `x.grad` "
   ]
  },
  {
   "cell_type": "code",
   "metadata": {
    "id": "27DmCoo1z_W6",
    "ExecuteTime": {
     "end_time": "2024-11-08T14:33:34.594537Z",
     "start_time": "2024-11-08T14:33:34.589610Z"
    }
   },
   "source": [
    "y.backward()  #dy/dx\n",
    "print('PyTorch gradient:', x.grad)\n",
    "\n",
    "#L et us compare with the analytical gradient of y = x**2+5\n",
    "with torch.no_grad():    #this is to only use the tensor value without its gradient information\n",
    "    dy_dx = 2*x  #analytical gradient\n",
    "print('Analytical gradient:',dy_dx)"
   ],
   "outputs": [
    {
     "name": "stdout",
     "output_type": "stream",
     "text": [
      "PyTorch gradient: tensor([4.])\n",
      "Analytical gradient: tensor([4.])\n"
     ]
    }
   ],
   "execution_count": 18
  },
  {
   "cell_type": "markdown",
   "metadata": {
    "id": "0leR-HQ9z_W6"
   },
   "source": [
    "If we evaluate a vector $\\mathbf{w}=[w_1, \\ldots, w_D]^{\\top}$, to compute another vector $\\mathbf{g}=[g_1, \\ldots, g_D]^{\\top}$ with elements $g_i=w_i^2+5$, then we obtain a vector $\\mathbf{g}$ that contains each evaluation of the function. If we want to obtain the gradient w.r.t $\\mathbf{w}$ by using \"g.backward()\", we have to bypass a vector of size equal to w.shape to the function, i.e., \"g.backward(vect)\". "
   ]
  },
  {
   "cell_type": "code",
   "metadata": {
    "id": "Kq0gOpWQz_W6",
    "ExecuteTime": {
     "end_time": "2024-11-08T13:52:51.935585Z",
     "start_time": "2024-11-08T13:52:51.706184Z"
    }
   },
   "source": [
    "w = torch.tensor([1.0,2.0,3.0])\n",
    "w.requires_grad_(True)\n",
    "\n",
    "g = w**2+5\n",
    "# Below, the values [1.0,1.0,1.0] are multiplied by the gradient g.backward(vect)\n",
    "# of course using the ones does not modify the value of the gradient\n",
    "vect = torch.tensor([1.0,1.0,1.0],dtype=torch.float32) \n",
    "g.backward(vect)\n",
    "print(w.grad)"
   ],
   "outputs": [
    {
     "name": "stdout",
     "output_type": "stream",
     "text": [
      "tensor([2., 4., 6.])\n"
     ]
    }
   ],
   "execution_count": 12
  },
  {
   "cell_type": "markdown",
   "metadata": {
    "id": "_rKR2RSUz_W6"
   },
   "source": [
    "On the other hand, when accessing the gradients in a for loop, PyTorch acummulates the gradients at each\n",
    "iteration. In order to avoid this behaviour, we have to use the function .grad.zero_() also at each iteration. See in the example below what happens when commenting and uncommenting the line \"w.grad.zero_()\":"
   ]
  },
  {
   "cell_type": "code",
   "metadata": {
    "id": "OiM1uyI2z_W6",
    "ExecuteTime": {
     "end_time": "2024-11-08T13:52:54.401781Z",
     "start_time": "2024-11-08T13:52:54.396933Z"
    }
   },
   "source": [
    "#Pytorch uses a cumulative process for the gradients\n",
    "w = torch.tensor([1.0,2.0,3.0])\n",
    "w.requires_grad_(True)\n",
    "\n",
    "for i in range(3):\n",
    "    g = w**2+5\n",
    "    g.backward(torch.ones_like(w))\n",
    "    print(w.grad)\n",
    "    w.grad.zero_()    #this line avoids the acummulation of the gradients uncomment it to see its effect"
   ],
   "outputs": [
    {
     "name": "stdout",
     "output_type": "stream",
     "text": [
      "tensor([2., 4., 6.])\n",
      "tensor([2., 4., 6.])\n",
      "tensor([2., 4., 6.])\n"
     ]
    }
   ],
   "execution_count": 14
  },
  {
   "cell_type": "markdown",
   "metadata": {
    "id": "LKlCuj_2z_W6"
   },
   "source": [
    "###  Question 5\n",
    "\n",
    "Verify that the gradients provided by PyTorch coincide with the *analytical* gradients of the function $f(x) = \\exp \\big(-x^2-2x- \\sin (x) \\big)$ w.r.t $x$."
   ]
  },
  {
   "cell_type": "code",
   "execution_count": null,
   "metadata": {
    "id": "oCP2QuM0z_W6"
   },
   "outputs": [],
   "source": [
    "# Provide your answer here"
   ]
  },
  {
   "cell_type": "markdown",
   "metadata": {
    "id": "lwmRWh2Nz_W6"
   },
   "source": [
    "## Linear Regression Basic Example\n",
    "\n",
    "We now provide a very simple example of linear regression with one input dimension, $y=wx+b$, and illustrate how we use PyTorch to optimise the parameters of the model"
   ]
  },
  {
   "cell_type": "code",
   "execution_count": null,
   "metadata": {
    "id": "KLDogtq_z_W6"
   },
   "outputs": [],
   "source": [
    "Ndata = 100 \n",
    "x = torch.rand(Ndata)\n",
    "true_w = 1.5\n",
    "true_bias = 1.0\n",
    "# We generate the dataset from the actual model but adding some noise\n",
    "y = true_w*x + true_bias + 0.05*torch.randn(Ndata)\n",
    "# We make sure to set the requires_grad flag to True for both paratemers\n",
    "w = torch.tensor(0.0,dtype=torch.float32,requires_grad=True)\n",
    "bias = torch.tensor(0.0,dtype=torch.float32,requires_grad=True)"
   ]
  },
  {
   "cell_type": "markdown",
   "metadata": {
    "id": "uBIk1NkVz_W6"
   },
   "source": [
    "We now define two useful functions, the prediction function and the objective function"
   ]
  },
  {
   "cell_type": "code",
   "execution_count": null,
   "metadata": {
    "id": "qZckGejAz_W7"
   },
   "outputs": [],
   "source": [
    "def model_prediction(x,w,bias):\n",
    "    return w*x + bias\n",
    "\n",
    "def loss_function(y,y_pred):\n",
    "    return ((y_pred-y)**2).mean()  #Mean Squared Error (MSE)"
   ]
  },
  {
   "cell_type": "markdown",
   "metadata": {
    "id": "2YoeQFv2z_W7"
   },
   "source": [
    "And we use coordinate descent to estimate the parameters of the model\n",
    "\n",
    "\\begin{align*}\n",
    "    w_{k+1} = w_k - \\eta \\frac{dE}{dw}\\\\ \n",
    "    b_{k+1} = b_k - \\eta \\frac{dE}{db}\\\\ \n",
    "\\end{align*}\n",
    "\n",
    "We know that there is a closed form solution for $w$ and $b$ through the normal equation. The example is for illustrative purposes."
   ]
  },
  {
   "cell_type": "code",
   "execution_count": null,
   "metadata": {
    "id": "NW6VXrP5z_W7"
   },
   "outputs": [],
   "source": [
    "Max_Niter = 500\n",
    "step_size = 0.1\n",
    "for Niter in range(Max_Niter):\n",
    "    # Evaluate the prediction and the loss\n",
    "    y_approx = model_prediction(x,w,bias)\n",
    "    my_loss = loss_function(y,y_approx)\n",
    "    \n",
    "    # The function .backward() has to be called in order to load the grads in w.grad\n",
    "    # Notice that here it is not necessary to bypass a vector since loss_function is a scalar function\n",
    "    my_loss.backward()  \n",
    "        \n",
    "    with torch.no_grad():        # this line avoids the gradient update while allowing to change the value of w\n",
    "        w -= step_size*w.grad    # it is necessary to avoid the grad update while modifying the variable\n",
    "        bias -= step_size*bias.grad\n",
    "    \n",
    "    # Make the zero gradient to avoid acummulation\n",
    "    w.grad.zero_()\n",
    "    bias.grad.zero_()\n",
    "    \n",
    "    # We print the loss, and the parameters values every 50 iterations\n",
    "    if Niter%50==0:\n",
    "        print(f'Iteration = {Niter+1}, Loss = {my_loss:.8f}, w = {w:.3f}, bias = {bias:.3f}')        \n",
    "\n",
    "print(f'Iteration = {Niter+1}, Loss = {my_loss:.8f}, w = {w:.3f}, bias = {bias:.3f}')    \n",
    "    "
   ]
  },
  {
   "cell_type": "markdown",
   "metadata": {
    "id": "eimR43ldz_W7"
   },
   "source": [
    "We finally plot the result"
   ]
  },
  {
   "cell_type": "code",
   "execution_count": null,
   "metadata": {
    "id": "YA_ReAZ1z_W7"
   },
   "outputs": [],
   "source": [
    "import matplotlib.pyplot as plt\n",
    "%matplotlib inline\n",
    "plt.plot(x,y,'x')\n",
    "xtest = torch.linspace(0,1,10)\n",
    "with torch.no_grad():\n",
    "    y_pred = model_prediction(xtest,w,bias)\n",
    "plt.plot(xtest,y_pred)"
   ]
  },
  {
   "cell_type": "markdown",
   "metadata": {
    "id": "JFHJ9G9kz_W7"
   },
   "source": [
    "## Revisiting linear regression for the Rented Bike Dataset of lab notebook 2\n",
    "\n",
    "We will implement a linear regression for the Rented Bike dataset previously used in Lab. 2. We will use the same data preparation through `sklearn.preprocessing`: the OneHotEncoder() that allows to transform a categorical variable to a one-hot encoding representation, and StandardScaler() performs feature scaling by standardisation."
   ]
  },
  {
   "cell_type": "code",
   "execution_count": null,
   "metadata": {
    "id": "QBx9ibs2z_W7"
   },
   "outputs": [],
   "source": [
    "import urllib.request\n",
    "urllib.request.urlretrieve('https://archive.ics.uci.edu/ml/machine-learning-databases/00560/SeoulBikeData.csv', './SeoulBikeData.csv')"
   ]
  },
  {
   "cell_type": "markdown",
   "metadata": {
    "id": "_UafDKSSz_W7"
   },
   "source": [
    "The following code was borrowed from Lab Notebook 2. You can go back to that Notebook for details."
   ]
  },
  {
   "cell_type": "code",
   "execution_count": null,
   "metadata": {
    "id": "1tkuqKWrz_W7"
   },
   "outputs": [],
   "source": [
    "import pandas as pd \n",
    "\n",
    "bike_sharing_data = pd.read_csv('SeoulBikeData.csv', encoding= 'unicode_escape')\n",
    "bike_sharing_data = bike_sharing_data.drop('Date', axis=1)\n",
    "\n",
    "for col in ['Rented Bike Count', 'Hour', 'Humidity(%)', 'Visibility (10m)']:\n",
    "    bike_sharing_data[col] = bike_sharing_data[col].astype('float64')\n",
    "\n",
    "attributes_cat = ['Seasons', 'Holiday', 'Functioning Day']\n",
    "attributes_num = ['Hour', 'Temperature(°C)', 'Humidity(%)', 'Wind speed (m/s)', 'Visibility (10m)', \\\n",
    "                  'Dew point temperature(°C)', 'Solar Radiation (MJ/m2)', 'Rainfall(mm)', 'Snowfall (cm)']\n",
    "\n",
    "# We split our dataset for Training and Testing\n",
    "\n",
    "from sklearn.model_selection import train_test_split\n",
    "bs_train_set, bs_test_set = train_test_split(bike_sharing_data, test_size=0.15, random_state=42)\n",
    "from sklearn.preprocessing import OneHotEncoder\n",
    "from sklearn.preprocessing import StandardScaler\n",
    "from sklearn.compose import ColumnTransformer\n",
    "\n",
    "full_transform = ColumnTransformer([\n",
    "    (\"num\", StandardScaler(), attributes_num),\n",
    "    (\"cat\", OneHotEncoder(), attributes_cat),\n",
    "])\n",
    "\n",
    "# We separate the features from the labels\n",
    "\n",
    "bs_train_set_attributes = bs_train_set.drop('Rented Bike Count', axis=1)\n",
    "bs_test_set_attributes = bs_test_set.drop('Rented Bike Count', axis=1)\n",
    "bs_train_set_labels = bs_train_set['Rented Bike Count']\n",
    "bs_test_set_labels = bs_test_set['Rented Bike Count']"
   ]
  },
  {
   "cell_type": "markdown",
   "metadata": {
    "id": "U0-0gzstz_W8"
   },
   "source": [
    "We now use the function `torch.from_numpy()` to transform the data previously prepared, into a Torch Tensor. We make sure to add a column of ones to the attributes (remember that $x_0=1$) both in the train and test sets."
   ]
  },
  {
   "cell_type": "code",
   "execution_count": null,
   "metadata": {
    "id": "Em34qsL0z_W8"
   },
   "outputs": [],
   "source": [
    "# We apply the preprocessing transformation over the features of the training data\n",
    "\n",
    "bs_train_set_attributes_prepared = full_transform.fit_transform(bs_train_set_attributes)\n",
    "bs_test_set_attributes_prepared = full_transform.transform(bs_test_set_attributes)\n",
    "\n",
    "Train_torch = torch.from_numpy(bs_train_set_attributes_prepared)\n",
    "\n",
    "# The line below adds a feature vector of ones in order to allow the bias weight\n",
    "# to be represented in a unique weight vector.\n",
    "\n",
    "Train_torch = torch.cat((torch.ones([Train_torch.shape[0],1],dtype=torch.float64),Train_torch), 1)  \n",
    "Test_torch = torch.from_numpy(bs_test_set_attributes_prepared)\n",
    "\n",
    "# The line below adds a feature vector of ones in order to allow the bias weight\n",
    "# to be represented in a unique weight vector.\n",
    "\n",
    "Test_torch = torch.cat((torch.ones([Test_torch.shape[0],1],dtype=torch.float64),Test_torch), 1)\n",
    "Train_Label_torch = torch.from_numpy(bs_train_set_labels.values)\n",
    "\n",
    "Test_Label_torch = torch.from_numpy(bs_test_set_labels.values)"
   ]
  },
  {
   "cell_type": "markdown",
   "metadata": {
    "id": "gvYWEBRSz_W8"
   },
   "source": [
    "We create a vector of weights $\\mathbf{w}$ with the corresponding flag for the gradient and two functions, one for prediction and one for the loss function."
   ]
  },
  {
   "cell_type": "code",
   "execution_count": null,
   "metadata": {
    "id": "H624k8B5z_W8"
   },
   "outputs": [],
   "source": [
    "# We create the vector of weights to be optimised in the linear regression model\n",
    "dim = Train_torch.shape[1]\n",
    "w = torch.randn([dim,1],dtype=torch.float64)  # vector of weight w is a vector Dim x 1\n",
    "w.requires_grad_(True)\n",
    "\n",
    "# We create the model prediction which consists on an inner product X'w, where X is a design matrix of N x Dim\n",
    "def model_prediction_lr(x,w):\n",
    "    return torch.matmul(x,w)\n",
    "\n",
    "def loss_function_lr(y,y_pred):\n",
    "    return ((y_pred-y)**2).mean()  # Mean Squared Error (MSE)"
   ]
  },
  {
   "cell_type": "markdown",
   "metadata": {
    "id": "srsktpBGz_W8"
   },
   "source": [
    "We finally use gradient descent to find the optimal value for $\\mathbf{w}$\n",
    "$$\n",
    "\\mathbf{w}_{k+1} = \\mathbf{w}_k - \\eta \\frac{dE(\\mathbf{w})}{d\\mathbf{w}}\n",
    "$$\n"
   ]
  },
  {
   "cell_type": "code",
   "execution_count": null,
   "metadata": {
    "id": "NebAfOuMz_W8",
    "scrolled": false
   },
   "outputs": [],
   "source": [
    "# Training the model with Gradient Descent\n",
    "\n",
    "Max_Niter = 50 # If you have many iterations, this process can take some time\n",
    "step_size = 0.001\n",
    "for Niter in range(Max_Niter):\n",
    "    y_approx = model_prediction_lr(Train_torch,w)\n",
    "    my_loss = loss_function_lr(Train_Label_torch,y_approx)\n",
    "    \n",
    "    # The function .backward() has to be called in order to load the grads in w.grad\n",
    "    # Notice that here it is not necessary to bypass a vector since loss_function is a scalar function\n",
    "    \n",
    "    my_loss.backward()  \n",
    "        \n",
    "    with torch.no_grad():    # this line avoids the gradient update while allowing to change the value of w\n",
    "        w -= step_size*w.grad    # it is necessary to avoid the grad update while modifying the variable\n",
    "        \n",
    "    # print(w.grad)\n",
    "    # Make the zero gradient to avoid acummulation\n",
    "    w.grad.zero_()\n",
    "    \n",
    "    if Niter%20==0 or Niter == Max_Niter-1:\n",
    "        print(f'Iteration = {Niter+1}, Loss = {my_loss:.8f}')\n",
    "        #print('Weights vector:\\n', w)"
   ]
  },
  {
   "cell_type": "markdown",
   "metadata": {
    "id": "wF7CGwxCz_W8"
   },
   "source": [
    "We finally provide the RMSE for the test set"
   ]
  },
  {
   "cell_type": "code",
   "execution_count": null,
   "metadata": {
    "id": "3nIpOJSUz_W8"
   },
   "outputs": [],
   "source": [
    "# RMSE over the test set\n",
    "\n",
    "y_pred_test = model_prediction_lr(Test_torch,w)\n",
    "MSE_test = loss_function_lr(Test_Label_torch,y_pred_test)\n",
    "print('The Root Mean Squared Error over the test set is:', np.sqrt(MSE_test.detach().numpy()))"
   ]
  },
  {
   "cell_type": "markdown",
   "metadata": {
    "id": "0SZfsny293ZX"
   },
   "source": [
    "## Using torch.nn and torch.optim\n",
    "\n",
    "In the above sections we have performed a lot of the training steps by hand but PyTorch provides many useful implementations of these steps. In this section, we will use the torch.nn and torch.optim parts to simplify the training."
   ]
  },
  {
   "cell_type": "markdown",
   "metadata": {
    "id": "WXH8hrCz_Cti"
   },
   "source": [
    "### torch.nn\n",
    "Let's start with the nn part of the library. This implements many building blocks for neural networks and graphs. This includes linear layers and non-linear activation functions. We will start to use more of this next time but this will hopefully get you started with it. \n"
   ]
  },
  {
   "cell_type": "code",
   "execution_count": null,
   "metadata": {
    "id": "Yg4KMn6zAIAD"
   },
   "outputs": [],
   "source": [
    "from torch import nn"
   ]
  },
  {
   "cell_type": "markdown",
   "metadata": {
    "id": "gel7c3pkAiLB"
   },
   "source": [
    "\n",
    "First let's have a look at a linear layer. This is simply the operation that we have been performing with $\\mathbf{w} \\mathbf{x}$ i.e it is a linear combination of the weight parameters and the inputs. The [nn.Linear](https://pytorch.org/docs/stable/generated/torch.nn.Linear.html#torch.nn.Linear) class will set up and apply this operation for us. Internally it holds weights and bias parameters that we will learn in linear regression. Let's test it out with a simple 2 inputs and 1 output."
   ]
  },
  {
   "cell_type": "code",
   "execution_count": null,
   "metadata": {
    "id": "byUGMoS3-wkH"
   },
   "outputs": [],
   "source": [
    "# The weights and biases will be initialised randomly, so let's fix the seed to get the same values.\n",
    "torch.manual_seed(12345)\n",
    "\n",
    "# Create an instance of a Linear layer (setting the bias to be included)\n",
    "lin = nn.Linear( in_features = 2, out_features = 1, bias=True)\n",
    "\n",
    "print(\"The initial weights are:\\n\", lin.weight)\n",
    "print(\"The initial bias is:\\n\", lin.bias)\n",
    "# Note that when we print these it tells us that it is a Parameter. This a special type indicator that will be used for training.\n",
    "\n",
    "#Let's test it out. It has an () operator that will apply the operation to the input.\n",
    "input = torch.rand([2])\n",
    "print(\"Input values are:\\n\", input)\n",
    "print(\"The result of the linear layer is:\\n\", lin(input))\n",
    "\n",
    "# Calculate the result for your self, is it correct?"
   ]
  },
  {
   "cell_type": "markdown",
   "metadata": {
    "id": "wJ_vyHC3CbeG"
   },
   "source": [
    "### torch.nn.functional\n",
    "\n",
    "nn.Linear allowed us to implement the linear summation but we can also use the [nn.functional](https://pytorch.org/docs/stable/nn.functional.html) library. Again there are many options here but let's just consider replacing our loss function with one implemented by PyTorch. Earlier we used the mean squared error so we can do the same here. Note that it is also implemented as a class in torch.nn but this gives us the direction function.\n",
    "\n",
    "\n"
   ]
  },
  {
   "cell_type": "code",
   "execution_count": null,
   "metadata": {
    "id": "1HCVysClDoAo"
   },
   "outputs": [],
   "source": [
    "import torch.nn.functional as F\n",
    "\n",
    "loss_func = F.mse_loss\n",
    "\n",
    "#Let's try it out\n",
    "predictions = torch.rand([3])\n",
    "targets = torch.rand([3])\n",
    "\n",
    "print(predictions)\n",
    "print(targets)\n",
    "print(\"PyTorch loss function:\", loss_func(predictions, targets))\n",
    "print(\"Our earlier loss function:\", loss_function_lr(predictions, targets))\n"
   ]
  },
  {
   "cell_type": "markdown",
   "metadata": {
    "id": "GJvRebc5FGbS"
   },
   "source": [
    "## torch.optim\n",
    "\n",
    "When we have many parameters (weights, biases, etc) it can be tricky keeping track of them individually. The [torch.optim](https://pytorch.org/docs/stable/optim.html) library helps with this by automatically applying our gradient descent weight updates. There is also a variety of update tools available, for example Adam is a widely used learning rule. We will use the stochastic gradient descent (SGD) as earlier. "
   ]
  },
  {
   "cell_type": "code",
   "execution_count": null,
   "metadata": {
    "id": "dhvJSbQ8Fnsg"
   },
   "outputs": [],
   "source": [
    "from torch import optim\n",
    "\n",
    "# When we initialise the SGD class we need to tell it what parameters we want to update and the learning rate.\n",
    "# Here we will just use the linear layer from above and step_size from before.\n",
    "opt = optim.SGD(lin.parameters(), lr = step_size)\n",
    "\n",
    "# Since the parameters are linked to the optimiser we can use that to zero them all out\n",
    "opt.zero_grad()\n",
    "\n",
    "# So now if we use our linear layer as a model to accumulate the gradients\n",
    "targets = torch.rand([1])\n",
    "predictions = lin(input)\n",
    "loss = loss_func(predictions, targets)\n",
    "loss.backward()\n",
    "\n",
    "print(\"Our gradients are:\", lin.weight.grad)\n",
    "\n",
    "# Now when we want to update the parameters we can just call\n",
    "opt.step()\n",
    "\n",
    "print('Our updated weights are:\\n', lin.weight)\n",
    "print('Our updated bias is:\\n', lin.bias)\n",
    "\n",
    "# And remember to zero the gradients to stop multiple steps building up (unless that's what you want, see batches)\n",
    "opt.zero_grad()\n",
    "\n",
    "\n"
   ]
  },
  {
   "cell_type": "markdown",
   "metadata": {
    "id": "yeiOTAXjIjDH"
   },
   "source": [
    "## Putting them together\n",
    "Let's now use this new functionality to simplify our training routine from earlier."
   ]
  },
  {
   "cell_type": "code",
   "execution_count": null,
   "metadata": {
    "id": "Al9rmk_qItlT"
   },
   "outputs": [],
   "source": [
    "# Training the model with Gradient Descent\n",
    "\n",
    "Max_Niter = 50 # If you have many iterations, this process can take some time\n",
    "step_size = 0.001\n",
    "\n",
    "# Create a linear model with the correct number of input features\n",
    "# Here we will turn the bias off since we didn't have it before\n",
    "# By default, Linear will be float32 (single precision) dtype but our training\n",
    "# data is float64 (double) so we will need to initialise it correctly.\n",
    "model = nn.Linear(in_features = dim, out_features = 1, bias=False, dtype=Train_torch.dtype)\n",
    "\n",
    "# Set up our optimiser, linked to the model parameters and step size.\n",
    "opt = optim.SGD(model.parameters(), lr=step_size)\n",
    "\n",
    "# nn.Linear is giving us an output which has a shape (number_of_samples, 1) but our labels are 1d.\n",
    "# To stop errors lets reshape our label array.\n",
    "Train_Label_torch = Train_Label_torch.reshape((-1,1))\n",
    "print(Train_Label_torch.shape)\n",
    "\n",
    "for Niter in range(Max_Niter):\n",
    "    y_approx = model(Train_torch)\n",
    "    my_loss = loss_func(y_approx, Train_Label_torch)\n",
    "    \n",
    "    my_loss.backward()  \n",
    "\n",
    "    opt.step()\n",
    "    opt.zero_grad()\n",
    "        \n",
    "    if Niter%20==0 or Niter == Max_Niter-1:\n",
    "        print(f'Iteration = {Niter+1}, Loss = {my_loss:.8f}')\n",
    "        #print('Weights vector:\\n', w)"
   ]
  },
  {
   "cell_type": "markdown",
   "metadata": {
    "id": "NxW1OFBBLqas"
   },
   "source": [
    "Try changing the number of max iterations (epochs) to see how low you can get the loss. While it is performing the same operations as before this will set us up for more complicated models."
   ]
  },
  {
   "cell_type": "markdown",
   "metadata": {
    "id": "vxDaDNTV6iUY"
   },
   "source": [
    "---\n",
    "## Logistic regression with PyTorch\n",
    "\n",
    "Now that we are more familiar let's try implementing logistic regression using PyTorch rather than Scikit-Learn. The implementation is very similar to linear regression but we need to modify our model and loss function. \n",
    "\n",
    "For converting the output of the linear layer to a probability you will need to use the [logistic sigmoid](https://pytorch.org/docs/stable/generated/torch.nn.functional.sigmoid.html#torch.nn.functional.sigmoid).\n",
    "Instead of the mse_loss, the logistic regression uses the negative log likelihood. Another name for this is [binary cross entropy loss](https://pytorch.org/docs/stable/generated/torch.nn.functional.binary_cross_entropy.html#torch.nn.functional.binary_cross_entropy). "
   ]
  },
  {
   "cell_type": "markdown",
   "metadata": {
    "id": "xnziE3VK2-Ug"
   },
   "source": [
    "\n",
    "\n",
    "### Question 6\n",
    "\n",
    "Implement logistic regression using PyTorch (the `torch.nn.`) and apply it to the synthetic 2D data in part A (or a real dataset if you want it to be more challenging) for classification. You may also vary the synthetic data to observe performance variation. Check out [**reproducibility** in PyTorch](https://pytorch.org/docs/stable/notes/randomness.html)."
   ]
  },
  {
   "cell_type": "code",
   "execution_count": null,
   "metadata": {
    "id": "8fXUbooBz_W9"
   },
   "outputs": [],
   "source": [
    "# Provide your answer here"
   ]
  },
  {
   "cell_type": "markdown",
   "metadata": {
    "id": "FfOsQQOtzhLD"
   },
   "source": [
    "## Additional ideas to explore\n",
    "\n",
    "* Change the [loss function](https://pytorch.org/docs/stable/nn.html#loss-functions) to different choices and compare the results.  \n",
    "* Formulate another regression problem and solve it using `torch.nn`\n",
    "* Compare the `torch.nn` solution against the closed-form solution\n",
    "* Explore any other variations that you can think of to learn more\n",
    "* Explore more advanced examples at the [PyKale library](https://github.com/pykale/pykale/tree/master/examples) "
   ]
  }
 ],
 "metadata": {
  "colab": {
   "collapsed_sections": [
    "VPg8_wtXzhK5",
    "dKcuPWT_zhK6",
    "iN469ueikhEt",
    "iPh2hTI7z_W0",
    "JQFHsAS9z_W4",
    "vkikNgox6EAt",
    "H50MZNoZ2j_g",
    "LKlCuj_2z_W6",
    "lwmRWh2Nz_W6"
   ],
   "provenance": []
  },
  "kernelspec": {
   "display_name": "pytorch",
   "language": "python",
   "name": "python3"
  },
  "language_info": {
   "codemirror_mode": {
    "name": "ipython",
    "version": 3
   },
   "file_extension": ".py",
   "mimetype": "text/x-python",
   "name": "python",
   "nbconvert_exporter": "python",
   "pygments_lexer": "ipython3",
   "version": "3.9.7"
  }
 },
 "nbformat": 4,
 "nbformat_minor": 0
}
