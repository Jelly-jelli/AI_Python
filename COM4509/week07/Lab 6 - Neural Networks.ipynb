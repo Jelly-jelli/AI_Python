{
 "cells": [
  {
   "cell_type": "markdown",
   "metadata": {},
   "source": [
    "# Lab 6: Neural Networks using PyTorch\n",
    "\n",
    "This lab will implement the neural network structures that were introduced in the lecture. It will review some of the background to neural networks and convolutional operations while testing it out some benchmark datasets. \n",
    "\n",
    "**Objectives of this lab**\n",
    "1. Review the theory of neural networks and convolutions.\n",
    "2. Implement gradient descent training routines for neural network models.\n",
    "3. Use PyTorch features for managing data and optimising parameters.\n",
    "4. Test the performance of neural network models on benchmark datasets.\n",
    "5. Analyse the architecture of the models to understand what the weights represent."
   ]
  },
  {
   "cell_type": "markdown",
   "metadata": {},
   "source": [
    "## 1. Review of Autograd: Automatic Differentiation\n",
    "\n",
    "In the previous lab, we briefly covered **Tensor** and **Computational Graph**. We have actually used **Autograd** already. Here, we learn the basics below, a condensed and modified version of the original [PyTorch tutorial on Autograd](https://pytorch.org/tutorials/beginner/blitz/autograd_tutorial.html#sphx-glr-beginner-blitz-autograd-tutorial-py)\n",
    "\n",
    "#### Why differentiation is important? \n",
    "\n",
    "This is because it is a key procedure in **optimisation** to find the optimial solution of a loss function. The process of learning/training aims to minimise a predefined loss.\n",
    "\n",
    "#### How automatic differentiation is done in PyTorch?\n",
    "The PyTorch ``autograd`` package makes differentiation (almost) transparent to you by providing automatic differentiation for all operations on Tensors, unless you do not want it (to save time and space). \n",
    "\n",
    "A ``torch.Tensor`` type variable has an attribute ``.requires_grad``. Setting this attribute ``True`` tracks (but not computes yet) all operations on it. After we define the forward pass, and hence the *computational graph*, we call ``.backward()`` and all the gradients will be computed automatically and accumulated into the ``.grad`` attribute. \n",
    "\n",
    "This is made possible by the [**chain rule of differentiation**](https://en.wikipedia.org/wiki/Chain_rule).\n",
    "\n",
    "#### How to stop automatic differentiation (e.g., because it is not needed)\n",
    "Calling method ``.detach()`` of a tensor will detach it from the computation history. We can also wrap the code block in ``with torch.no_grad():`` so all tensors in the block do not track the gradients, e.g., in the test/evaluation stage. "
   ]
  },
  {
   "cell_type": "markdown",
   "metadata": {},
   "source": [
    "---\n",
    "### Question 1\n",
    "\n",
    "What is the benefit of stopping automatic differentiation when it is not needed?\n",
    "\n",
    "**Answer**: \n",
    "\n",
    "---"
   ]
  },
  {
   "metadata": {},
   "cell_type": "code",
   "outputs": [],
   "execution_count": null,
   "source": "# Reduce computation overhead , Memory usage"
  },
  {
   "cell_type": "markdown",
   "metadata": {},
   "source": [
    "#### Function\n",
    "\n",
    "``Tensor``s are connected by ``Function``s to build an acyclic *computational graph* to encode a complete history of computation. The ``.grad_fn`` attribute of a tensor references a ``Function`` created\n",
    "the ``Tensor``, i.e., this ``Tensor`` is the output of its ``.grad_fn`` in the computational graph.\n",
    "\n",
    "Learn more about autograd by referring to the [documentation on autograd](https://pytorch.org/docs/stable/autograd.html)"
   ]
  },
  {
   "cell_type": "markdown",
   "metadata": {},
   "source": [
    "## 2. Artificial Neurons and Full Connected Neural Networks\n",
    "\n",
    "As we discussed in the lecture, a simple model of a biological neuron is one where it takes a weighted sum of all it's inputs before transforming it via a non-linear activation function. Historically, this activation function was a step function or more commonly the logistic sigmoid function. In this way, the logistic regression model we saw last week is effectively a single neuron. Mathematically it is defined as\n",
    "$$ y_i = f \\left( b_i + \\sum_{j=1}^M W_{ij} x_j \\right) $$\n",
    "where $y_i$ is the value of neuron $i$, $f()$ is the non-linear activation function (e.g sigmoid), $W_{ij}$ is the weight connecting input $x_j$ to neuron $y_i$ and $b_i$ is the bias value for neuron $i$ (this could also be written as $W_{i0}$ but here we use $b$ to align with the PyTorch implementation which separates it out).\n",
    "This can be written in a vector form as\n",
    "$$ \\mathbf{y} = f \\left( \\mathbf{b} + W \\mathbf{x} \\right) $$\n",
    "This is the case where we have a single input vector, libraries like PyTorch typically process a batch (or mini-batch) of inputs at the same time. In this case if $\\mathbf{x}$ is a 2d array shaped (Batch size, Input size) then this operation can be written as\n",
    "$$ \\mathbf{y} = f \\left( \\mathbf{b} + \\mathbf{x} W^T \\right) $$\n",
    "where now $\\mathbf{y}$ is also a 2d array but with a shape (Batch size, Number of neurons). We have to transpose $W$ so that the shapes of the arrays are correct while mathematically to operation is the same. Note that we also need to broadcast the bias vector to each sample output in the batch.\n",
    "\n",
    "In PyTorch the weighted sum is known as a fully connected **linear** layer (see the documentation [here](https://pytorch.org/docs/stable/generated/torch.nn.Linear.html)). PyTorch has a submodule of the library called ``torch.nn`` that contains implementations of various common neural network operations that make building neural network models easy. You started using these in Lab 6 but let's look at chaining them together to create neural networks.\n",
    "\n",
    "A single layer of neurons are similar to what we have seen for linear and logistic regression. While these work for some situations, they are only linear models so when it comes to predicting classes or outputs which have complex non-linear relations of the inputs then we need to expand our models. We have already discussed using basis functions and design matrices to modify our input to include a non-linear basis. In artificial neural networks, we rely on connecting layers of neurons to discover these complex feature representations for us. So if we have a non-linear task that we want to solve we can instead create a stack of neuron layers, this is a specific form of neural networks known as a **feedforward neural network** (FFNN). In a FFNN the neurons only propagate information in one direction with no communication within layers. A 2 layer FFNN can be described as:\n",
    "$$ \n",
    "\\mathbf{h} = f_{(1)} \\left( \\mathbf{x} W^T_{(1)} \\right) \\\\\n",
    "\\mathbf{y} = f_{(2)} \\left( \\mathbf{h} W^T_{(2)} \\right)\n",
    "$$ \n",
    "where $\\mathbf{h}$ are the values of the neurons in the intermediate layer, usually known as a hidden layer. $\\mathbf{y}$ is the values of the neurons in the final layer, which are usually known as the output neurons. When we are training the network we will usually be guiding these outputs towards a particular target. In this case we have 2 activation functions and 2 weight matrices which are describing the connection between the input and hidden layer, and then between the hidden layer and output layer.\n",
    "\n",
    "Let's look at implementing this using PyTorch. We will use a simple example where we have an input size of 3, 4 neurons in the hidden layer and 1 output neuron."
   ]
  },
  {
   "cell_type": "code",
   "metadata": {
    "ExecuteTime": {
     "end_time": "2024-11-15T14:24:38.958007Z",
     "start_time": "2024-11-15T14:24:36.253147Z"
    }
   },
   "source": [
    "import torch\n",
    "from torch import nn\n",
    "import matplotlib.pyplot as plt\n",
    "\n",
    "\n",
    "# Input vector \n",
    "x = torch.Tensor([1.0, 2.0, 3.0])\n",
    "\n",
    "# Using torch.nn we can create objects that will perform the neural network operations\n",
    "# For the fully connected layer we must specify the size of the input and how many hidden neurons we want.\n",
    "# PyTorch will randomly initialise the weights for us.\n",
    "fc1 = nn.Linear(in_features=3, out_features=4, bias=True )\n",
    "f_act1 = nn.Sigmoid()\n",
    "\n",
    "# Now we can apply both operations to the input to give the values of the hidden layer.\n",
    "h = f_act1( fc1(x))\n",
    "print(\"h is \", h)\n",
    "\n",
    "# We can find the values of the weights and bias from the Linear class object\n",
    "print(\"The fc1 weights are \", fc1.weight)\n",
    "print(\"The fc1 biases area \", fc1.bias)\n",
    "\n",
    "# Now we can define the second (output) layer\n",
    "fc2 = nn.Linear(in_features=4, out_features=1, bias=True)\n",
    "f_act2 = nn.Sigmoid()\n",
    "\n",
    "# Applying the second layer to the hidden layer\n",
    "y = f_act2( fc2(h))\n",
    "\n",
    "# So the output of our neural network is\n",
    "print(\"y is \", y.item())\n"
   ],
   "outputs": [
    {
     "name": "stdout",
     "output_type": "stream",
     "text": [
      "h is  tensor([0.4010, 0.3244, 0.2787, 0.4794], grad_fn=<SigmoidBackward0>)\n",
      "The fc1 weights are  Parameter containing:\n",
      "tensor([[-0.1176, -0.5334,  0.3704],\n",
      "        [ 0.1283,  0.0293, -0.2780],\n",
      "        [-0.2695,  0.2980, -0.4862],\n",
      "        [-0.1848, -0.1079, -0.0319]], requires_grad=True)\n",
      "The fc1 biases area  Parameter containing:\n",
      "tensor([-0.3282, -0.0869,  0.1812,  0.4137], requires_grad=True)\n",
      "y is  0.6170722246170044\n"
     ]
    }
   ],
   "execution_count": 1
  },
  {
   "cell_type": "markdown",
   "metadata": {},
   "source": [
    "For neural networks PyTorch also provides a wrapper to contain all these layers in a single object, known as a `nn.Sequential`. So instead of creating the 4 objects above, we can create a single model as follows:"
   ]
  },
  {
   "cell_type": "code",
   "metadata": {
    "ExecuteTime": {
     "end_time": "2024-11-15T14:26:54.771880Z",
     "start_time": "2024-11-15T14:26:54.746899Z"
    }
   },
   "source": [
    "model = nn.Sequential(\n",
    "    nn.Linear(in_features=3, out_features=4, bias=True ), \n",
    "    nn.Sigmoid(),\n",
    "    nn.Linear(in_features=4, out_features=1, bias=True),\n",
    "    nn.Sigmoid()\n",
    ")\n",
    "\n",
    "# We can get some information about the model by printing it\n",
    "print(model)\n",
    "\n",
    "# And we can apply it but simply providing the input. The Sequential class will automatically feed to output of one layer into the next\n",
    "y = model(x)\n",
    "\n",
    "print(\"y is \", y.item())"
   ],
   "outputs": [
    {
     "name": "stdout",
     "output_type": "stream",
     "text": [
      "Sequential(\n",
      "  (0): Linear(in_features=3, out_features=4, bias=True)\n",
      "  (1): Sigmoid()\n",
      "  (2): Linear(in_features=4, out_features=1, bias=True)\n",
      "  (3): Sigmoid()\n",
      ")\n",
      "y is  0.46701768040657043\n"
     ]
    }
   ],
   "execution_count": 2
  },
  {
   "cell_type": "code",
   "execution_count": 3,
   "metadata": {},
   "outputs": [
    {
     "name": "stdout",
     "output_type": "stream",
     "text": [
      "Model layer 1 is:  Sigmoid()\n",
      "The weights for the first linear layer are:  Parameter containing:\n",
      "tensor([[-0.0180, -0.3750, -0.5567],\n",
      "        [ 0.1986,  0.0207, -0.4778],\n",
      "        [ 0.3231, -0.4420,  0.4854],\n",
      "        [ 0.5683, -0.0726,  0.4135]], requires_grad=True)\n",
      "Parameter containing:\n",
      "tensor([[-0.0180, -0.3750, -0.5567],\n",
      "        [ 0.1986,  0.0207, -0.4778],\n",
      "        [ 0.3231, -0.4420,  0.4854],\n",
      "        [ 0.5683, -0.0726,  0.4135]], requires_grad=True)\n",
      "Parameter containing:\n",
      "tensor([ 0.4206, -0.0778,  0.1716, -0.5020], requires_grad=True)\n",
      "Parameter containing:\n",
      "tensor([[ 0.4963,  0.3205, -0.3458,  0.2727]], requires_grad=True)\n",
      "Parameter containing:\n",
      "tensor([0.2233], requires_grad=True)\n"
     ]
    }
   ],
   "source": [
    "\n",
    "# Layers in the Sequential model can also be accessed via an index, so model[i] will return layer i\n",
    "print('Model layer 1 is: ', model[1])\n",
    "\n",
    "# We can then directly access the weights and biases from the linear layers if we want\n",
    "print('The weights for the first linear layer are: ', model[0].weight)\n",
    "\n",
    "# The sequential model also automatically registers the relevant parameters of each layer\n",
    "# and provides an iterator to access all the parameters of the model. This used when we\n",
    "# want to tell a PyTorch optimiser which parameters to update.  \n",
    "for p in model.parameters():\n",
    "    print(p)"
   ]
  },
  {
   "cell_type": "markdown",
   "metadata": {},
   "source": [
    "## 3. Image Classification Using Neural Networks\n",
    "\n",
    "We will now look at the application of these neural network models to an image classification task. We will use the digits dataset from Scikit-Learn based around small images of handwritten digits. Scikit-learn provides a function to download and import the necessary data into a numpy array. We will also use the Scikit-Learn train_test_split function to separate the data into a training and testing component. \n",
    "\n",
    "When we load the data it may not be normalised. **You should write in a minmax normalisation step into the following code.**\n",
    "\n"
   ]
  },
  {
   "cell_type": "code",
   "execution_count": 4,
   "metadata": {},
   "outputs": [
    {
     "name": "stdout",
     "output_type": "stream",
     "text": [
      "The digits.data values are in the range 0.0 to 16.0.\n",
      "The norm data values are in the range 0.0 to 16.0.\n",
      "1400 397\n"
     ]
    }
   ],
   "source": [
    "from sklearn.datasets import load_digits\n",
    "from sklearn.model_selection import train_test_split\n",
    "import numpy as np\n",
    "\n",
    "# load_digits() will return a bunch object containing the data and targets as well as some information about the targets.\n",
    "digits = load_digits()\n",
    "\n",
    "print(f'The digits.data values are in the range {digits.data.min()} to {digits.data.max()}.')\n",
    "\n",
    "# Apply the Minmax normalisation here\n",
    "norm_data = digits.data\n",
    "\n",
    "print(f'The norm data values are in the range {norm_data.min()} to {norm_data.max()}.')\n",
    "\n",
    "#train_test_split will randomly split the data into the specified sizes. \n",
    "# Here we will specify the size of the training set (so that we have a convenient size)\n",
    "x_train, x_test, y_train, y_test = train_test_split( norm_data, digits.target, train_size=1400)\n",
    "\n",
    "print(len(x_train), len(x_test))\n"
   ]
  },
  {
   "cell_type": "markdown",
   "metadata": {},
   "source": [
    "When using the fully connected `nn.Linear` layers it is expecting the input to be in the form of a single array **per sample**. When we are processing images we will need to flatten them from a 2d or 3d image shape to 1d. The `digits.data` array has already flattened the images for us, the original image is 8 by 8 pixels which is reshaped into a 64 length array."
   ]
  },
  {
   "cell_type": "code",
   "execution_count": 5,
   "metadata": {},
   "outputs": [
    {
     "name": "stdout",
     "output_type": "stream",
     "text": [
      "There is 1400 training samples, each of length 64.\n",
      "Here is an image with a 9.\n"
     ]
    },
    {
     "data": {
      "image/png": "[encoded data removed]",
      "text/plain": [
       "<Figure size 640x480 with 1 Axes>"
      ]
     },
     "metadata": {},
     "output_type": "display_data"
    }
   ],
   "source": [
    "print(f'There is {x_train.shape[0]} training samples, each of length {x_train.shape[1]}.')\n",
    "\n",
    "id = 3\n",
    "print(f'Here is an image with a {y_train[id]}.')\n",
    "plt.imshow(x_train[id].reshape((8,8)), cmap='Greys')\n",
    "plt.show()"
   ]
  },
  {
   "cell_type": "markdown",
   "metadata": {},
   "source": [
    "We can now test using the `nn.Sequential` neural network to make predictions on these images. First we will need to convert the numpy arrays into PyTorch Tensors. Later on the loss function will expect the true output to be in the format of the class label with a long datatype. The y_train array already contains the class labels (as opposed to a one hot encoding) and so we just need to use the `.long()` internal tensor function to convert it."
   ]
  },
  {
   "cell_type": "code",
   "execution_count": 6,
   "metadata": {},
   "outputs": [],
   "source": [
    "x_train_t = torch.Tensor(x_train)\n",
    "y_train_t = torch.Tensor(y_train).long()\n",
    "\n",
    "x_test_t = torch.Tensor(x_test)\n",
    "y_test_t = torch.Tensor(y_test).long()"
   ]
  },
  {
   "cell_type": "markdown",
   "metadata": {},
   "source": [
    "Now we can create a model that has the correct number of inputs and outputs. Remember, when we are training these classifiers we generally use a `one-hot` encoded target. You can interpret this as the posterior probabilities (i.e the probability that input $x$ belongs to to class $i$) so each element of the output array will be related to $P(\\mathrm{class}=i | \\mathbf{x})$ and to make a classification we will need to find the predicted output that has the largest value. In this example we will look at using the Cross Entropy Loss (CEL) function for training our model. It is defined as \n",
    "$$ L = - \\sum_{n=1}^N \\sum_{i=1}^{C} t_{ni} \\log(p_{ni}) $$\n",
    "where $t_{ni}$ is the one-hot encoded target of sample $n$ and $p_{ni}$ is the predicted output probability of class $i$ of sample $n$. $N$ is the total number of samples and $C$ the number of classes (i.e. outputs). Compared to the mean-squared error, where we use the squared magnitude of the difference between the predictions and targets, this is measuring the difference in the probability distributions of our target and predictions. It is specifically expecting the prediction to be in terms of a probability and one of the best ways to convert a multi-class output into a probability is to use the **softmax** operation.This converts an array into a normalised probability by applying the following operation\n",
    "$$ p_{ni} = \\frac{\\exp(y_{ni})}{\\sum_j \\exp({y_{nj}})} ,$$\n",
    "where $n$ is for a sample and $i$ indicates the output index of the network. The division here computes the total 'probability' and normalises it. By using softmax and Cross-Entropy Loss we change the output range that our neural network is being trained to learn. For mean squared error we would want our outputs to be usually in the range 0 to 1, or -1 to 1, but now we can see from the softmax operation to maximise the probability of one class over the others we will want the outputs to be +$\\infty$ for the correct output and $-\\infty$ for the others. This wider range can help during the training.\n",
    "\n",
    "In PyTorch, the cross entropy loss function will automatically apply the softmax to a network output so when we create the network we leave the final layer as a linear layer rather than applying an activation function. We still need an activation function for the hidden layer.\n",
    "\n",
    "Now we will move to defining a simple neural network model with one hidden layer."
   ]
  },
  {
   "cell_type": "code",
   "execution_count": 7,
   "metadata": {},
   "outputs": [],
   "source": [
    "# The input size for our neural network is the number of features in our data\n",
    "feature_size = x_train_t.shape[-1]\n",
    "\n",
    "# The output size will have to match the number of classes we are aiming to predict\n",
    "output_size = len(np.unique(digits.target))\n",
    "\n",
    "# The size of the hidden layer is now defined by us. Usually the bigger the hidden\n",
    "# layer the better the model performs.\n",
    "hidden_size = 10\n",
    "\n",
    "# Using the torch Sequential model we will now create a neural network model with\n",
    "# one hidden layer. We will specify that the biases are used as well.\n",
    "digits_model = nn.Sequential(\n",
    "    nn.Linear(in_features=feature_size, out_features=hidden_size, bias=True),\n",
    "    nn.Sigmoid(),\n",
    "    nn.Linear(in_features=hidden_size, out_features=output_size, bias=True)\n",
    ")\n",
    "\n",
    "# The sequential model allows us to access each layer through an index.\n",
    "# Here I will extract the weight matrix from the first linear layer for \n",
    "# a comparison later. Detach removes it from gradient calculation and \n",
    "# clone will create a copy.\n",
    "untrained_weights = digits_model[0].weight.detach().clone()"
   ]
  },
  {
   "cell_type": "markdown",
   "metadata": {},
   "source": [
    "The model is untrained at the moment but we input our data to see what it predicts initially. Note that in this case we can pass the **entire** training matrix at once to the model. The PyTorch Linear layers are expecting the input data to be in the shape of `(number_of_samples, input_features)` and it will return a tensor that will be `(number_of_samples, output_features)`. The Linear layer will only operate on the final dimension of the data and so can actually work on inputs that have more dimensions. By passing the entire dataset it will process all the predictions at once.\n",
    "\n",
    "Remember, the output of the model is how strong the model considers that input to belonging to that class. Since we haven't directly applied the softmax in the model it is not a probability but it is related. The common choice is to predict the class that is the index of the largest output. We can do this with `argmax`. "
   ]
  },
  {
   "cell_type": "code",
   "execution_count": 8,
   "metadata": {},
   "outputs": [
    {
     "name": "stdout",
     "output_type": "stream",
     "text": [
      "The network outputs are  tensor([-0.5097,  0.0673,  0.0378, -0.5047,  0.4462,  0.6027, -0.4048, -0.2472,\n",
      "        -0.5770,  0.2867], grad_fn=<SelectBackward0>)\n",
      "The predicted class will be 5\n",
      "The true class is 5\n"
     ]
    }
   ],
   "source": [
    "# Testing the model on the training data\n",
    "predictions = digits_model(x_train_t)\n",
    "\n",
    "print( 'The network outputs are ', predictions[0])\n",
    "print( f'The predicted class will be {torch.argmax(predictions[0]).item()}')\n",
    "print( f'The true class is {y_train_t[0]}')"
   ]
  },
  {
   "cell_type": "markdown",
   "metadata": {},
   "source": [
    "We can see our prediction is far from correct, but this is to be expected as it is an untrained model at this stage. \n",
    "\n",
    "Since the output of the model is an array of the predictions for all the samples, we can pass this array to the `argmax` and specify to do this operation only on a specific axis. For example `argmax(x, axis=1)` will find the indices of the maximums but only in axis 1. For our data, this means we can use it to get the per sample argmax to predict our class labels.\n",
    "\n",
    "### Question 2\n",
    "\n",
    "Using the predictions, implement a function to calculate the accuracy (i.e number of correctly predicted labels out of the whole training set). How good is your model? Is it what you expected?"
   ]
  },
  {
   "cell_type": "code",
   "execution_count": 9,
   "metadata": {},
   "outputs": [
    {
     "name": "stdout",
     "output_type": "stream",
     "text": [
      "1.0\n"
     ]
    }
   ],
   "source": [
    "def accuracy(predictions, labels):\n",
    "    return 1.0\n",
    "\n",
    "print(accuracy(predictions, y_train_t))"
   ]
  },
  {
   "cell_type": "markdown",
   "metadata": {},
   "source": [
    "### Question 3\n",
    "\n",
    "We have a working model, so we now need to train it using gradient descent. Complete the training routine below to make predictions based on the training data, compute the loss and then update the weights using an optimiser. You can look at the routines in Lab 5 as a reference.\n",
    "\n",
    "Store the loss and accuracy at every epoch (iteration) and then plot these at the end. Has the training converged in the specified number of iterations?\n",
    "\n",
    "**Beware** since your model was defined in previous cell, everytime that you re-run the training cell it will continue from the current version of the model. This is good if you want to refine the training but not if you want to start from the beginning. If you want to start from the initial model you will need to define it at the beginning of the training.\n"
   ]
  },
  {
   "cell_type": "code",
   "execution_count": null,
   "metadata": {},
   "outputs": [
    {
     "name": "stdout",
     "output_type": "stream",
     "text": [
      "epoch:     0, loss: 0.000, accuracy: 0.000\n",
      "epoch:    10, loss: 0.000, accuracy: 0.000\n",
      "epoch:    20, loss: 0.000, accuracy: 0.000\n",
      "epoch:    30, loss: 0.000, accuracy: 0.000\n",
      "epoch:    40, loss: 0.000, accuracy: 0.000\n"
     ]
    }
   ],
   "source": [
    "from torch import optim\n",
    "\n",
    "Max_Niter = 50\n",
    "step_size = 0.01\n",
    "\n",
    "# I have provided the loss function and an optimiser to use\n",
    "loss_func = torch.nn.CrossEntropyLoss()\n",
    "\n",
    "# We need to register the parameters with the optimiser\n",
    "opt = optim.SGD(digits_model.parameters(), lr = step_size)\n",
    "\n",
    "loss_data = torch.zeros(Max_Niter)\n",
    "acc_data = torch.zeros(Max_Niter)\n",
    "\n",
    "# Epoch (iteration) loop to repeatedly process the data then update the weights\n",
    "for i in range(Max_Niter):\n",
    "\n",
    "    # Before starting the predictions we should zero the gradients. \n",
    "    # Are you sure why this is the case?\n",
    "    opt.zero_grad()\n",
    "\n",
    "    # Now the main 'forward' phase of the model\n",
    "    #predictions = \n",
    "    #loss = \n",
    "\n",
    "    # A section to print out the progress and for the 'backward' phase with applying the optimiser\n",
    "    # Uncomment and complete the training\n",
    "    # REMEMBER use torch.no_grad to avoid calculating gradients\n",
    "    with torch.no_grad():\n",
    "        #acc_data[i] =\n",
    "        #loss_data[i] = \n",
    "        if (i % 10 == 0): print( f'epoch: {i:5d}, loss: {loss_data[i].item():.3f}, accuracy: {acc_data[i].item():.3f}')\n",
    "\n",
    "        #Compute the gradients and step the optimiser\n"
   ]
  },
  {
   "cell_type": "code",
   "execution_count": 11,
   "metadata": {},
   "outputs": [],
   "source": [
    "# Plot the training loss and accuracy over the epoch (iterations)"
   ]
  },
  {
   "cell_type": "markdown",
   "metadata": {},
   "source": [
    "### Question 4\n",
    "\n",
    "When you are happy with the performance of the model on the training data, calculate the loss and accuracy on the test data. This was stored in the `x_test_t` and `y_test_t` tensors defined above. How do these values compare to the values on the training data?"
   ]
  },
  {
   "cell_type": "code",
   "execution_count": 12,
   "metadata": {},
   "outputs": [],
   "source": [
    "# test_accuracy ="
   ]
  },
  {
   "cell_type": "markdown",
   "metadata": {},
   "source": [
    "### Analysing the weights\n",
    "\n",
    "Now that the weights should be trained, they will start to learn combined features within in the inputs. This is easier to visualise in the first layer as it is directly connected to the input data. The code below will plot your trained weights compared to the untrained ones. They initially start off as random but we should be able to make out some features. Whilst they are stored as a row in the weight matrix we can visualise them as a 2d image by reshaping them. What features can you make out?"
   ]
  },
  {
   "cell_type": "code",
   "execution_count": 13,
   "metadata": {},
   "outputs": [
    {
     "data": {
      "image/png": "[encoded data removed]",
      "text/plain": [
       "<Figure size 1000x300 with 20 Axes>"
      ]
     },
     "metadata": {},
     "output_type": "display_data"
    }
   ],
   "source": [
    "fig, axs = plt.subplots(nrows=2, ncols=hidden_size,  sharex=True, sharey=True, )\n",
    "fig.set_size_inches(10, 3)\n",
    "\n",
    "axs[0,hidden_size//2].set_title(f'Untrained weights')\n",
    "for j in range(hidden_size):\n",
    "    axs[0,j].set_yticks([])\n",
    "    axs[0,j].set_xticks([])\n",
    "    axs[0,j].imshow(untrained_weights[j].reshape((8,8)))\n",
    "plt.plot()\n",
    "\n",
    "axs[1,hidden_size//2].set_title('Trained weights')\n",
    "for j in range(hidden_size):\n",
    "    axs[1,j].set_yticks([])\n",
    "    axs[1,j].set_xticks([]) \n",
    "    axs[1,j].imshow(digits_model[0].weight.detach()[j].reshape((8,8)))\n",
    "\n",
    "plt.show()"
   ]
  },
  {
   "cell_type": "markdown",
   "metadata": {},
   "source": [
    "### Question 5\n",
    "\n",
    "Try experimenting with the neural network model that we defined above and applying the training routine to it. For example you can increase the size of the hidden layer or even add in another hidden layer. This is a fairly simple data set so you will find that you do not need a very large model. You could also try some different activation functions or other layers such as [Batch Normalisation](https://pytorch.org/docs/stable/generated/torch.nn.BatchNorm1d.html#torch.nn.BatchNorm1d).\n",
    "\n",
    "How does the accuracy on the test set compare to the model with only 1 hidden layer before? What conclusions can you draw about this classification task? Can it be solved by a simple model?\n",
    "\n",
    "When you have trained it, try to plot the weights of the first layer as I have done in the cell above. Have the features changed? Try making it a one layer model, again how does it compare to these models."
   ]
  },
  {
   "cell_type": "code",
   "execution_count": 14,
   "metadata": {},
   "outputs": [],
   "source": [
    "digits_model2 = nn.Sequential(\n",
    "    #implement your model here\n",
    ")\n",
    "\n",
    "# Apply your training routine. You might find it useful to define the training as a function that you can call repeatedly."
   ]
  },
  {
   "cell_type": "markdown",
   "metadata": {},
   "source": [
    "### Section summary\n",
    "\n",
    "This has shown how to implement a multi-layer neural network using the PyTorch library. We have used the `nn.Sequential` class to bring together multiple layers which are applied one after the other to a given input. Through training the network we can classify the test data relatively well and this can be improved using bigger hidden layers or more layers. \n",
    "\n",
    "You can find some more information about using PyTorch [here](https://pytorch.org/tutorials/beginner/basics/buildmodel_tutorial.html) and [here](https://pytorch.org/tutorials/beginner/nn_tutorial.html)."
   ]
  },
  {
   "cell_type": "markdown",
   "metadata": {},
   "source": [
    "## 4. Convolutional Neural Networks "
   ]
  },
  {
   "cell_type": "markdown",
   "metadata": {},
   "source": [
    "\n",
    "**Suggested reading**: \n",
    "* [Convolutional neural network - Wikipedia](https://en.wikipedia.org/wiki/Convolutional_neural_network)\n",
    "* [Feature/representation learning - Wikipedia](https://en.wikipedia.org/wiki/Feature_learning)"
   ]
  },
  {
   "cell_type": "markdown",
   "metadata": {},
   "source": [
    "### Introduction\n",
    "\n",
    "The fast rising of [deep learning](https://en.wikipedia.org/wiki/Deep_learning) starts on 30 September 2012, when a convolutional neural network (CNN) called [AlexNet](https://en.wikipedia.org/wiki/AlexNet) achieved a top-5 error of 15.3% in the ImageNet 2012 Challenge, more than **10.8 percentage** points lower than that of the runner up. This is considered a breakthrough and has grabbed the attention of increasing number of researchers, practioners, and the general public. Since then, deep learning has penetrated to many research and application areas. AlexNet contained **eight layers**. A sketch of it is given below to show how it combines convolution layers with fully connected (dense) ones to perform classification.\n",
    "\n",
    "![Alexnet](https://upload.wikimedia.org/wikipedia/commons/a/a9/AlexNet_Original_block_diagram.svg)\n",
    "\n",
    "In 2015, it was outperformed by a very deep CNN with **over 100 layers** from Microsoft in the ImageNet 2015 contest. It will be interesting to take a look at the image classification task and a CNN that can do the job well.\n",
    "\n"
   ]
  },
  {
   "cell_type": "markdown",
   "metadata": {},
   "source": [
    "### Architecture of a Convolutional Neural Network (CNN)"
   ]
  },
  {
   "cell_type": "markdown",
   "metadata": {},
   "source": [
    "A typical CNN architecture can be seen here. Each layer has a set of convolution filters, also known as kernels. Each filter is shared across the outputs of the layer, a more intuitive way is to consider that the filter is 'scanning' across the image and the resulting output is what we call a feature map. Essentially this means a map of where each of the features the filters are finding are present in the input image. This means that the output of the convolution is also image-like data. The layers process in turn to build up lower level features into complex high level features.\n",
    "\n",
    "![Typical CNN architecture](https://upload.wikimedia.org/wikipedia/commons/6/63/Typical_cnn.png)\n",
    "\n",
    "Let us look at the convolution operation in detail."
   ]
  },
  {
   "cell_type": "markdown",
   "metadata": {},
   "source": [
    "### Convolution layer - with a shared kernel/filter\n",
    "\n",
    "THe convolution operation is still performing a weighted sum but in a more structure manner.\n",
    "\n",
    "<center>\n",
    "<img src=\"https://www.cs.toronto.edu/~lczhang/360/lec/w04/imgs/math_kernel.png\" width=\"100px\" style=\"margin:0; display:inline\">\n",
    "<img src=\"https://www.cs.toronto.edu/~lczhang/360/lec/w04/imgs/math_conv.png\" width=\"300px\" style=\"margin:0; display:inline\">\n",
    "</center>\n",
    "\n",
    "The light blue grid (middle) is the *input* that we are given, e.g., a 5 pixel by 5 pixel greyscale image. The grey grid (left) is a **convolutional kernel/filter** of size $3 \\times 3$, containing the *parameters* of this neural network layer.\n",
    "\n",
    "To compute the output, we superimpose the kernel on a region of the image. \n",
    "Let's start at the top left, in the dark blue region. The small numbers in the\n",
    "bottom right corner of each grid element corresponds to the number in the kernel.\n",
    "To compute the output at the corresponding location (top left), we \"dot\" the\n",
    "pixel intensities in the square region with the kernel. That is, we perform\n",
    "the computation:"
   ]
  },
  {
   "cell_type": "code",
   "execution_count": 15,
   "metadata": {},
   "outputs": [
    {
     "data": {
      "text/plain": [
       "12"
      ]
     },
     "execution_count": 15,
     "metadata": {},
     "output_type": "execute_result"
    }
   ],
   "source": [
    "(3 * 0 + 3 * 1 + 2 * 2) + (0 * 2 + 0 * 2 + 1 * 0) + (3 * 0 + 1 * 1 + 2 * 2)"
   ]
  },
  {
   "cell_type": "markdown",
   "metadata": {},
   "source": [
    "The green grid (right) contains the *output* of this convolution layer.\n",
    "This output is also called an **output feature map**. The terms **feature**,\n",
    "and **activation** are interchangable. The output value on the top left\n",
    "of the green grid is consistent with the value we obtained by hand in Python.\n",
    "\n",
    "To compute the next activation value (say, one to the right of the previous output),\n",
    "we will shfit the superimposed kernel over by one pixel:\n",
    "\n",
    "<img src=\"https://www.cs.toronto.edu/~lczhang/360/lec/w04/imgs/math_conv2.png\" width=\"300px\">\n",
    "\n",
    "The dark blue region is moved to the right by one pixel. We again dot\n",
    "the pixel intensities in this region with the kernel to get another 12, and continues to get 17, ..."
   ]
  },
  {
   "cell_type": "markdown",
   "metadata": {},
   "source": [
    "### Question 6\n",
    "\n",
    "Show how we get the value 19 in cell (1,2) of the output above (middle right cell).\n",
    "\n",
    "**Answer**: \n",
    "\n",
    "---"
   ]
  },
  {
   "cell_type": "markdown",
   "metadata": {},
   "source": [
    "**Note the shrinking output**: Here, we did not use **zero padding** (at the edges) so the output of this layers is reduced by 1 on all sides. If the kernel size is $k=2m+1$, the output will be reduced by $m$ on all sides so the width and height will be both reduced by $2m$.\n",
    "\n",
    "#### Convolutions with Multiple Input/Output Channels\n",
    "\n",
    "For a colour image, the kernel will be a **3-dimensional tensor**. This kernel will move through the input features just like before, and we \"dot\" the pixel intensities with the kernel at each region, exactly like before. This \"size of the 3rd (colour) dimension\" is called the **number of input channels** or **number of input feature maps**.\n",
    "\n",
    "We also want to detect multiple features, e.g., both horizontal edges and vertical edges. We would want to learn **many** convolutional filters on the same input. That is,\n",
    "we would want to make the same computation above using different kernels, like this:\n",
    "\n",
    "<img src=\"https://upload.wikimedia.org/wikipedia/commons/6/68/Conv_layer.png\" width=\"200px\">\n",
    "\n",
    "Each circle on the right of the image represents the output of a different kernel dotted\n",
    "with the highlighted region on the right. So, the output feature is also a 3-dimensional tensor.\n",
    "The size of the new dimension\n",
    "is called the **number of output channels** or **number of output feature maps**.\n",
    "In the picture above, there are 5 output channels.\n",
    "\n",
    "The `conv2D` layer expects as input a tensor in the format \"NCHW\", meaning that the dimensions of the tensor should follow the order:\n",
    "\n",
    "* batch size\n",
    "* channel\n",
    "* height\n",
    "* width\n",
    "\n",
    "Let us create a convolutional layer using `nn.Conv2d`:"
   ]
  },
  {
   "cell_type": "code",
   "execution_count": 16,
   "metadata": {},
   "outputs": [],
   "source": [
    "myconv1 = nn.Conv2d(in_channels=3,  # number of input channels\n",
    "                 out_channels=7, # number of output channels\n",
    "                 kernel_size=5)  # size of the kernel, "
   ]
  },
  {
   "cell_type": "code",
   "execution_count": 17,
   "metadata": {},
   "outputs": [
    {
     "data": {
      "text/plain": [
       "torch.Size([32, 7, 124, 124])"
      ]
     },
     "execution_count": 17,
     "metadata": {},
     "output_type": "execute_result"
    }
   ],
   "source": [
    "#Emulate a batch of 32 colour images, each of size 128x128, like this:\n",
    "x = torch.randn(32, 3, 128, 128)\n",
    "y = myconv1(x)\n",
    "y.shape"
   ]
  },
  {
   "cell_type": "markdown",
   "metadata": {},
   "source": [
    "The output tensor is also in the \"NCHW\" format. We still have 32 images, and 7 channels\n",
    "(consistent with `out_channels` of `conv`), and of size 124x124. If we added the appropriate\n",
    "padding to `conv`, namely `padding` = $m$ (the kernel_size: $2m+1$), then our output width and height should be consistent with the input width and height:"
   ]
  },
  {
   "cell_type": "code",
   "execution_count": 18,
   "metadata": {},
   "outputs": [
    {
     "data": {
      "text/plain": [
       "torch.Size([32, 7, 128, 128])"
      ]
     },
     "execution_count": 18,
     "metadata": {},
     "output_type": "execute_result"
    }
   ],
   "source": [
    "myconv2 = nn.Conv2d(in_channels=3,\n",
    "                  out_channels=7,\n",
    "                  kernel_size=5,\n",
    "                  padding=2)\n",
    "\n",
    "x = torch.randn(32, 3, 128, 128)\n",
    "y = myconv2(x)\n",
    "y.shape"
   ]
  },
  {
   "cell_type": "markdown",
   "metadata": {},
   "source": [
    "#### The parameters of `Conv2d`"
   ]
  },
  {
   "cell_type": "code",
   "execution_count": 19,
   "metadata": {},
   "outputs": [
    {
     "name": "stdout",
     "output_type": "stream",
     "text": [
      "len(conv_params): 2\n",
      "Filters: torch.Size([7, 3, 5, 5])\n",
      "Biases: torch.Size([7])\n"
     ]
    }
   ],
   "source": [
    "conv_params = list(myconv2.parameters())\n",
    "print(\"len(conv_params):\", len(conv_params))\n",
    "print(\"Filters:\", conv_params[0].shape)  #7 filters, each of size 3 x 5 x 5\n",
    "print(\"Biases:\", conv_params[1].shape)"
   ]
  },
  {
   "cell_type": "markdown",
   "metadata": {},
   "source": [
    "### Pooling Layers - Subsampling\n",
    "\n",
    "A pooling layer can be created like this: \n",
    "<img src=\"https://upload.wikimedia.org/wikipedia/commons/e/e9/Max_pooling.png\" width=\"300px\">"
   ]
  },
  {
   "cell_type": "code",
   "execution_count": 20,
   "metadata": {},
   "outputs": [
    {
     "data": {
      "text/plain": [
       "torch.Size([32, 7, 64, 64])"
      ]
     },
     "execution_count": 20,
     "metadata": {},
     "output_type": "execute_result"
    }
   ],
   "source": [
    "mypool = nn.MaxPool2d(kernel_size=2, stride=2)\n",
    "y = myconv2(x)\n",
    "z = mypool(y)\n",
    "z.shape"
   ]
  },
  {
   "cell_type": "markdown",
   "metadata": {},
   "source": [
    "Usually, the kernel size and the stride length will be equal so each pixel is pooled only once. \n",
    "The pooling layer has **no trainable parameters**:"
   ]
  },
  {
   "cell_type": "code",
   "execution_count": 21,
   "metadata": {},
   "outputs": [
    {
     "data": {
      "text/plain": [
       "[]"
      ]
     },
     "execution_count": 21,
     "metadata": {},
     "output_type": "execute_result"
    }
   ],
   "source": [
    "list(mypool.parameters())"
   ]
  },
  {
   "cell_type": "markdown",
   "metadata": {},
   "source": [
    "In Lab 5, we did not define a class for our linear regression NN. Here we do so and define a CNN class consisting of several layers as defined below."
   ]
  },
  {
   "cell_type": "code",
   "execution_count": 22,
   "metadata": {},
   "outputs": [],
   "source": [
    "myCNN = nn.Sequential(\n",
    "            nn.Conv2d(in_channels=1, out_channels=6,  kernel_size=3),     \n",
    "            nn.ReLU(),\n",
    "            nn.Conv2d(in_channels=6, out_channels=16, kernel_size=3),\n",
    "            nn.ReLU(),\n",
    "            nn.Flatten(),  # This will flatten our 16,4,4 internal representation into a vector\n",
    "            nn.Linear(in_features= 16 * 4 * 4, out_features=50),\n",
    "            nn.ReLU(),\n",
    "            nn.Linear(in_features=50, out_features=10)\n",
    ")"
   ]
  },
  {
   "cell_type": "markdown",
   "metadata": {},
   "source": [
    "`ReLu()` is the [rectified linear unit](https://en.wikipedia.org/wiki/Rectifier_(neural_networks)), a popular **activation function** that performs a *nonlinear* transformation/mapping of an input variable (element-wise operation). `Conv2d()` defines a convolution layer, as shown below where blue maps indicate inputs, and cyan maps indicate outputs.\n",
    "\n",
    "<table>\n",
    "    <tr>\n",
    "    <td  style=\"text-align: left\"> Convolution with no padding, no strides.      <img src=\"https://raw.githubusercontent.com/vdumoulin/conv_arithmetic/master/gif/no_padding_no_strides.gif\" alt=\"Drawing\" style=\"width: 250px;\"/> </td>\n",
    "</tr>\n",
    "</table>\n",
    "\n",
    "More convolution layers are illustrated nicely at [Convolution arithmetic](https://github.com/vdumoulin/conv_arithmetic). \n",
    "\n",
    "\n",
    "This network `myCNN` defined above has **two** convolutional layers: `conv1` and `conv2`.\n",
    "\n",
    "- The first convolutional layer `conv1` requires an input with 3 channels,\n",
    "  outputs **6 channels**, and has a kernel size of `3x3`. We are not adding any zero-padding.\n",
    "- The second convolutional layer `conv2` requires an input with **6 channels** (note this **MUST match the output channel number of the previous layer**),  outputs 16 channels, and has a kernel size of (again) `3x3`. We are not adding any zero-padding.\n",
    "\n",
    "In the model, we see that the convolution operations are always followed by the usual ReLU activation function.\n",
    "Because we are not adding any zero padding, we end up with `16 * 4 * 4` hidden units\n",
    "after the second convolutional layer (`16` matches the output channel number of `conv2`, `4 * 4` is based on the input dimension being reduced as described below). These units are then passed to two fully-connected layers, with the usual ReLU activation in between.\n",
    "\n",
    "Notice that the number of channels **grew** in later convolutional layers! However, without padding\n",
    "the number of hidden units in each layer will be reduced because of the convolution operation.\n",
    "We can calculate the size of the output dimensions using\n",
    "$$ O = \\frac{N - F + 2P}{S} + 1 $$\n",
    "where $N$ is the height or width of the input, F is the filter/kernel size, P is the padding and S is the stride.\n",
    "We are not using padding or strides yet so the image will be slightly reduced. Typically we will want to reduce the feature map\n",
    "size whilst increasing \n",
    "\n",
    "* Initial Image Size: $1 \\times 8 \\times 8 $\n",
    "* After `conv1`: $6 \\times 6 \\times 6$ (reduction of 1 per side) \n",
    "* After `conv2`: $16 \\times 4 \\times 4$ (reduction of 1 per side) \n",
    "* After `fc1`: $64$\n",
    "* After `fc2`: $10$ (**= number of classes**)"
   ]
  },
  {
   "cell_type": "markdown",
   "metadata": {},
   "source": [
    "### Question 7\n",
    "\n",
    "If the input image size is $3 \\times 64 \\times 64 $, can we use the same CNN defined above? \n",
    "\n",
    "If yes, show the feature sizes after each operation as above. If no, how shall we modify the network architecture to process such $3 \\times 64 \\times 64 $ images?\n",
    "\n",
    "**Answer**: \n",
    "\n",
    "---"
   ]
  },
  {
   "cell_type": "markdown",
   "metadata": {},
   "source": [
    "#### Inspect the NN architecture\n",
    "\n",
    "Now let's take a look at the CNN model. "
   ]
  },
  {
   "cell_type": "code",
   "execution_count": 23,
   "metadata": {},
   "outputs": [
    {
     "name": "stdout",
     "output_type": "stream",
     "text": [
      "Sequential(\n",
      "  (0): Conv2d(1, 6, kernel_size=(3, 3), stride=(1, 1))\n",
      "  (1): ReLU()\n",
      "  (2): Conv2d(6, 16, kernel_size=(3, 3), stride=(1, 1))\n",
      "  (3): ReLU()\n",
      "  (4): Flatten(start_dim=1, end_dim=-1)\n",
      "  (5): Linear(in_features=256, out_features=50, bias=True)\n",
      "  (6): ReLU()\n",
      "  (7): Linear(in_features=50, out_features=10, bias=True)\n",
      ")\n"
     ]
    }
   ],
   "source": [
    "print(myCNN)"
   ]
  },
  {
   "cell_type": "markdown",
   "metadata": {},
   "source": [
    "Let us check the (randomly initialised) parameters of this NN. Below, we check the first 2D convolution. "
   ]
  },
  {
   "cell_type": "code",
   "execution_count": 24,
   "metadata": {},
   "outputs": [
    {
     "name": "stdout",
     "output_type": "stream",
     "text": [
      "8\n",
      "torch.Size([6, 1, 3, 3])\n",
      "torch.Size([6])\n",
      "Parameter containing:\n",
      "tensor([-0.0600, -0.1785,  0.0090, -0.1645,  0.2135, -0.3111],\n",
      "       requires_grad=True)\n"
     ]
    }
   ],
   "source": [
    "params = list(myCNN.parameters())\n",
    "print(len(params))\n",
    "print(params[0].size())  # First Conv2d's .weight\n",
    "print(params[1].size())  # First Conv2d's .bias\n",
    "print(params[1])"
   ]
  },
  {
   "cell_type": "markdown",
   "metadata": {},
   "source": [
    "### Question 8\n",
    "\n",
    "From the above, we can see the length of `params` is 8, i.e. there are 8 sets of parameters. Set 0 is for the weights of `conv1`. Set 1 is the bias of `conv1`. What are the remaining 6 sets for?\n",
    "\n",
    "**Answer**: \n",
    "\n",
    "---"
   ]
  },
  {
   "cell_type": "markdown",
   "metadata": {},
   "source": [
    "To learn more about these functions, refer to the [`torch.nn` documentation](https://pytorch.org/docs/stable/nn.html) (search for the function, e.g., search for `torch.nn.ReLu` and you will find its documentation [here](https://pytorch.org/docs/stable/nn.html?highlight=relu#torch.nn.ReLU)."
   ]
  },
  {
   "cell_type": "markdown",
   "metadata": {},
   "source": [
    "### Optimisation, Training and Testing\n",
    "\n",
    "Hopefully you now have a clearer picture of what the convolution layers are doing. We have defined a model so now we can apply it to the digits data as before.\n",
    "In our earlier training we used all the training data before updating the weights. Splitting the training set into batches can allow for faster updates and quicker convergence. To do this we will use some more features from PyTorch - `Datasets` and `DataLoaders`. The datasets are useful wrappers for the tensors but the DataLoader is important for providing batches for the training loop.\n",
    "\n",
    "`torch.utils.data.DataLoader` combines a dataset and a sampler, and provides an iterable over the given dataset. See [API here](https://pytorch.org/docs/stable/data.html#torch.utils.data.DataLoader)\n",
    "\n",
    "**Batching**\n",
    "\n",
    "We want to use more than one images at one time. That way, we can compute the *average* loss across a **mini-batch** of $n$ *multiple* images, and take a step to optimize the *average* loss. The average loss across multiple training inputs is going to be **less \"noisy\"** than the loss for a single input, and is less likely to provide \"bad information\" because of a \"bad\" input. The number $n$ is called the **batch size**.\n",
    "\n",
    "The actual batch size that we choose depends on many things. We want our batch\n",
    "size to be large enough to not be too \"noisy\", but not so large as to make each\n",
    "iteration too expensive to run.\n",
    "\n",
    "People often choose batch sizes of the form $n=2^k$ so that it is easy to half or double the batch size. \n",
    "\n",
    "**Epoch**\n",
    "\n",
    "The way `DataLoader` works is that it randomly groups the training data into **mini-batches**\n",
    "with the appropriate batch size. Each data point belongs to only one mini-batch. When there\n",
    "are no more mini-batches left, the loop terminates.\n",
    "\n",
    "In general, we may wish to train the network for longer. We may wish to use each training data\n",
    "point more than once. In other words, we may wish to train a neural network for more than\n",
    "**one epoch**. An **epoch** is a measure of the number of times all training data is used\n",
    "once to update the parameters. "
   ]
  },
  {
   "cell_type": "code",
   "execution_count": 25,
   "metadata": {},
   "outputs": [
    {
     "data": {
      "image/png": "[encoded data removed]",
      "text/plain": [
       "<Figure size 1000x300 with 10 Axes>"
      ]
     },
     "metadata": {},
     "output_type": "display_data"
    }
   ],
   "source": [
    "from torch.utils.data import TensorDataset, DataLoader\n",
    "\n",
    "# Convert our 'flattened' images back to 2d but also including the colour channel\n",
    "x_train_t = x_train_t.reshape((-1, 1, 8, 8))\n",
    "x_test_t  = x_test_t.reshape((-1, 1, 8, 8))\n",
    "\n",
    "# From the base tensors we can combine the input and targets into a TensorDataset\n",
    "digits_train_set = TensorDataset(x_train_t, y_train_t)\n",
    "\n",
    "# The DataLoader will select a batch of samples from the dataset to present to the model\n",
    "# Shuffle=True will give a different grouping of samples each time.\n",
    "digits_train_dl = DataLoader(digits_train_set, batch_size=10, shuffle=True)\n",
    "\n",
    "# We will wrap the test set as well but since we are not training using it we can\n",
    "# return the whole dataset at once. \n",
    "digits_test_set = TensorDataset(x_train_t, y_train_t)\n",
    "digits_test_dl = DataLoader(digits_train_set, batch_size=len(digits_test_set), shuffle=True)\n",
    "\n",
    "\n",
    "# Plot a single batch, the DataLoader is iterable, so we can use iter() and next() to\n",
    "# extract data from it.\n",
    "images, labels = next(iter(digits_train_dl))\n",
    "fig, axs = plt.subplots(2, 5, sharex=True, sharey=True)\n",
    "fig.set_size_inches(10, 3)\n",
    "for i in range(2):\n",
    "    for j in range(5):\n",
    "        axs[i,j].set_xticks([])\n",
    "        axs[i,j].set_yticks([])\n",
    "        axs[i,j].imshow(images[i*2 + j, 0], cmap='Greys')\n",
    "\n",
    "plt.show()"
   ]
  },
  {
   "cell_type": "markdown",
   "metadata": {},
   "source": [
    "#### Training the network\n",
    "\n",
    "Training the CNN model happens in the same way as for the fully connected model before but now we have an inner loop that iterates over the batches. We want to make predictions, calculate the loss and optimise at each iteration of the batch (dataloader) but we only want to take statistics over the full training data. Below is a skeleton code to do this, using your version from the fully connected network before, update the following code to train the `myCNN` model."
   ]
  },
  {
   "cell_type": "code",
   "execution_count": 33,
   "metadata": {},
   "outputs": [
    {
     "name": "stdout",
     "output_type": "stream",
     "text": [
      "epoch:     0, loss: 0.000, accuracy: 0.000\n",
      "epoch:    10, loss: 0.000, accuracy: 0.000\n",
      "epoch:    20, loss: 0.000, accuracy: 0.000\n",
      "epoch:    30, loss: 0.000, accuracy: 0.000\n",
      "epoch:    40, loss: 0.000, accuracy: 0.000\n",
      "Finished Training!\n"
     ]
    }
   ],
   "source": [
    "Max_Niter = 50\n",
    "step_size = 0.01\n",
    "\n",
    "loss_func = torch.nn.CrossEntropyLoss()\n",
    "opt = optim.SGD(myCNN.parameters(), lr = step_size)\n",
    "\n",
    "loss_data = torch.zeros(Max_Niter)\n",
    "acc_data = torch.zeros(Max_Niter)\n",
    "\n",
    "# Epoch (iteration) loop to repeatedly process the data then update the weights\n",
    "for i in range(Max_Niter):\n",
    "    \n",
    "    for j, (images, labels) in enumerate(digits_train_dl):\n",
    "        opt.zero_grad()\n",
    "\n",
    "        # 'forward' phase of the model\n",
    "        #predictions = ...\n",
    "        #loss = ...\n",
    "\n",
    "        # Now that we are doing batches we need to accumulate the loss and accuracy\n",
    "        #acc_data[i] +=\n",
    "        #loss_data[i] += loss.item()\n",
    "\n",
    "        # 'backward' phase: compute gradients then step optimiser\n",
    "\n",
    "    with torch.no_grad():\n",
    "        if (i % 10 == 0): \n",
    "            print( f'epoch: {i:5d}, loss: {loss_data[i].item():.3f}, accuracy: {acc_data[i].item():.3f}')\n",
    "\n",
    "print('Finished Training!')"
   ]
  },
  {
   "cell_type": "markdown",
   "metadata": {},
   "source": [
    "Take a look at how `autograd` keeps track of the gradients for back propagation."
   ]
  },
  {
   "cell_type": "code",
   "execution_count": 34,
   "metadata": {},
   "outputs": [
    {
     "name": "stdout",
     "output_type": "stream",
     "text": [
      "<NllLossBackward0 object at 0x165dd83d0>\n",
      "<LogSoftmaxBackward0 object at 0x165dd84c0>\n"
     ]
    }
   ],
   "source": [
    "print(loss.grad_fn)\n",
    "print(loss.grad_fn.next_functions[0][0])"
   ]
  },
  {
   "cell_type": "markdown",
   "metadata": {},
   "source": [
    "#### Saving our trained model\n",
    "\n",
    "When we have a model that is fully optimised we will want to store it for future use. We can do this using the `torch.save` function below"
   ]
  },
  {
   "cell_type": "code",
   "execution_count": 35,
   "metadata": {},
   "outputs": [],
   "source": [
    "PATH = 'digits_CNN.pth'\n",
    "torch.save(myCNN.state_dict(), PATH)"
   ]
  },
  {
   "cell_type": "markdown",
   "metadata": {},
   "source": [
    "See [here](https://pytorch.org/docs/stable/notes/serialization.html)\n",
    "for more details on saving PyTorch models.\n",
    "\n",
    "#### Loading a saved model\n",
    "\n",
    "If we have a saved model we will probably want to load it again for further testing. The code below will do that for us."
   ]
  },
  {
   "cell_type": "code",
   "execution_count": 36,
   "metadata": {},
   "outputs": [
    {
     "data": {
      "text/plain": [
       "<All keys matched successfully>"
      ]
     },
     "execution_count": 36,
     "metadata": {},
     "output_type": "execute_result"
    }
   ],
   "source": [
    "# First we need a structure that we can load the model parameters into.\n",
    "# We do have the myCNN() defined above but we can create a new Sequential model\n",
    "# then load the parameters into that. The model has to match the size.\n",
    "loadCNN = nn.Sequential(\n",
    "            nn.Conv2d(in_channels=1, out_channels=6,  kernel_size=3),     \n",
    "            nn.ReLU(),\n",
    "            nn.Conv2d(in_channels=6, out_channels=16, kernel_size=3),\n",
    "            nn.ReLU(),\n",
    "            nn.Flatten(),  # This will flatten our 16,4,4 internal representation into a vector\n",
    "            nn.Linear(in_features= 16 * 4 * 4, out_features=50),\n",
    "            nn.ReLU(),\n",
    "            nn.Linear(in_features=50, out_features=10)\n",
    ")\n",
    "\n",
    "loadCNN.load_state_dict(torch.load(PATH))"
   ]
  },
  {
   "cell_type": "markdown",
   "metadata": {},
   "source": [
    "#### Test performance\n",
    "Let us look at how the network performs on the test set. Uncomment and fill in the code to compute the accuracy using the testloader below. We might have used a batchsize for the test loader so we might need to accumulate the test accuracy over batches. I sepecifed it to have only 1 batch so it should work without."
   ]
  },
  {
   "cell_type": "code",
   "execution_count": 30,
   "metadata": {},
   "outputs": [
    {
     "name": "stdout",
     "output_type": "stream",
     "text": [
      "Test accuracy = 0.0\n"
     ]
    }
   ],
   "source": [
    "test_acc = 0.0\n",
    "#for images, labels in digits_test_dl:\n",
    "    #predictions = ...\n",
    "    #test_acc = ...\n",
    "print(f'Test accuracy = {test_acc}')"
   ]
  },
  {
   "cell_type": "markdown",
   "metadata": {},
   "source": [
    "### Question 9\n",
    "\n",
    "What is the **chance level** accuracy (i.e. if the model randomly picked one of the 10 classes independent of the input)? How good is your CNN accuracy compared to the chance level?\n",
    "\n",
    "**Answer**: "
   ]
  },
  {
   "cell_type": "markdown",
   "metadata": {},
   "source": [
    "---"
   ]
  },
  {
   "cell_type": "markdown",
   "metadata": {},
   "source": [
    "If your network works better than chance, it seems like to have learnt something.\n",
    "\n",
    "It can be useful to analyse whether the model achieves better performance on certain classes than others. Adapt your test accuracy code from above so that it calculates the accuracy for each class separately."
   ]
  },
  {
   "cell_type": "code",
   "execution_count": 31,
   "metadata": {},
   "outputs": [
    {
     "ename": "IndentationError",
     "evalue": "expected an indented block after 'for' statement on line 5 (1047834529.py, line 8)",
     "output_type": "error",
     "traceback": [
      "\u001B[0;36m  Cell \u001B[0;32mIn[31], line 8\u001B[0;36m\u001B[0m\n\u001B[0;31m    for i in range(10):\u001B[0m\n\u001B[0m                       ^\u001B[0m\n\u001B[0;31mIndentationError\u001B[0m\u001B[0;31m:\u001B[0m expected an indented block after 'for' statement on line 5\n"
     ]
    }
   ],
   "source": [
    "class_correct = np.zeros(10)\n",
    "class_total = np.zeros(10)\n",
    "\n",
    "with torch.no_grad():\n",
    "    for images, labels in digits_test_dl:\n",
    "        \n",
    "\n",
    "for i in range(10):\n",
    "    print('Accuracy of %5s : %2d %%' % (classes[i], 100 * class_correct[i] / class_total[i]))"
   ]
  },
  {
   "cell_type": "markdown",
   "metadata": {},
   "source": [
    "You might find the model does better on some classes than others. Try adjusting your model to see if you can improve performance. Try to plot out the convolutional filters from this model similar to how we plotted the weights for the linear network before. The filters are already 2d so they won't need reshaping!"
   ]
  },
  {
   "cell_type": "markdown",
   "metadata": {},
   "source": [
    "## 5. Applying a CNN to a more complex dataset\n",
    "\n",
    "To finish, we will explore using the a CNN model on a dataset that is harder to classify than the digits. The [CIFAR10 dataset](https://www.cs.toronto.edu/~kriz/cifar.html) has ten classes: ‘airplane’, ‘automobile’, ‘bird’, ‘cat’, ‘deer’, ‘dog’, ‘frog’, ‘horse’, ‘ship’, ‘truck’. The images in CIFAR-10 are of size 3x32x32, i.e. 3-channel color images of 32x32 pixels in size.\n",
    "\n",
    "**Loading and normalizing CIFAR10**\n",
    "\n",
    "The output of torchvision datasets (after loading) are PILImage images of range [0, 1]. \n",
    "\n",
    "Check out the `torchvision.transforms` API for [here](https://pytorch.org/docs/stable/torchvision/transforms.html) (search for `ToTensor` and `Normalize`).\n",
    "\n",
    "`transforms.ToTensor()` Convert a `PIL` Image or `numpy.ndarray` (H x W x C) in the range [0, 255]  to torch.FloatTensor of shape (C x H x W) in the range [0.0, 1.0].\n",
    "\n",
    "`transforms.Normalize` normalizes a tensor image with mean and standard deviation. Given mean: ($M_1,...,M_n$) and std: ($S_1,..,S_n$) for $n$ channels, this transform will normalize each channel of the input `torch.*Tensor` as `input[channel] = (input[channel] - mean[channel]) / std[channel]`\n",
    "\n",
    "`torch.utils.data.DataLoader` combines a dataset and a sampler, and provides an iterable over the given dataset. See [API here](https://pytorch.org/docs/stable/data.html#torch.utils.data.DataLoader)"
   ]
  },
  {
   "cell_type": "code",
   "execution_count": 39,
   "metadata": {},
   "outputs": [
    {
     "name": "stdout",
     "output_type": "stream",
     "text": [
      "Files already downloaded and verified\n",
      "Files already downloaded and verified\n",
      "Training set size: 50000\n",
      "Test set size: 10000\n"
     ]
    }
   ],
   "source": [
    "import torchvision\n",
    "from torchvision import datasets, transforms\n",
    "\n",
    "batchSize=8\n",
    "transform = transforms.Compose([transforms.ToTensor(),\n",
    "                                transforms.Normalize((0.5, 0.5, 0.5), (0.5, 0.5, 0.5))])\n",
    "#Load the training data\n",
    "trainset = datasets.CIFAR10(root='./data', train=True, download=True, transform=transform)\n",
    "\n",
    "trainloader = torch.utils.data.DataLoader(trainset, batch_size=batchSize,shuffle=True)\n",
    "\n",
    "#Load the test data\n",
    "testset = datasets.CIFAR10(root='./data', train=False, download=True, transform=transform)\n",
    "\n",
    "testloader = torch.utils.data.DataLoader(testset, batch_size=batchSize, shuffle=False)\n",
    "\n",
    "classes = ('plane', 'car', 'bird', 'cat', 'deer', 'dog', 'frog', 'horse', 'ship', 'truck')\n",
    "\n",
    "print('Training set size:', len(trainset))\n",
    "print('Test set size:',len(testset))"
   ]
  },
  {
   "cell_type": "markdown",
   "metadata": {},
   "source": [
    "### Plotting the data"
   ]
  },
  {
   "cell_type": "code",
   "execution_count": 40,
   "metadata": {},
   "outputs": [
    {
     "data": {
      "image/png": "[encoded data removed]",
      "text/plain": [
       "<Figure size 640x480 with 1 Axes>"
      ]
     },
     "metadata": {},
     "output_type": "display_data"
    },
    {
     "name": "stdout",
     "output_type": "stream",
     "text": [
      " frog horse  bird  bird   car truck truck truck\n"
     ]
    }
   ],
   "source": [
    "# functions to show an image\n",
    "def imshow(img):\n",
    "    img = img / 2 + 0.5     # unnormalize back to range [0, 1]\n",
    "    npimg = img.numpy()\n",
    "    plt.imshow(np.transpose(npimg, (1, 2, 0))) #rearrange dimensions to numpy format for disply\n",
    "    plt.show()\n",
    "\n",
    "# get some random training images\n",
    "dataiter = iter(trainloader)\n",
    "images, labels = next(dataiter) #Get one batch (8 here)\n",
    "\n",
    "# show images\n",
    "imshow(torchvision.utils.make_grid(images))\n",
    "# print labels\n",
    "print(' '.join('%5s' % classes[labels[j]] for j in range(batchSize)))"
   ]
  },
  {
   "cell_type": "markdown",
   "metadata": {},
   "source": [
    "Now, to show you a new way to create models, instead of using Sequential we can create our classes that inherit from PyTorch's modules class. The code below will create a feed forward CNN that is very similar to that we made before but larger and with some pooling layers.\n",
    "\n"
   ]
  },
  {
   "cell_type": "code",
   "execution_count": 42,
   "metadata": {},
   "outputs": [],
   "source": [
    "class CNN(nn.Module):\n",
    "    def __init__(self):\n",
    "        super(CNN, self).__init__()\n",
    "        self.conv1 = nn.Conv2d( in_channels=3, out_channels=6, kernel_size=5) \n",
    "        self.pool = nn.MaxPool2d(kernel_size=2, stride=2)\n",
    "        self.conv2 = nn.Conv2d(in_channels=6, out_channels=16, kernel_size=5)\n",
    "        self.act = nn.ReLU(),\n",
    "        self.fc1 = nn.Linear(16 * 5 * 5, 120)\n",
    "        self.fc2 = nn.Linear(120, 84)\n",
    "        self.fc3 = nn.Linear(84, 10)\n",
    "\n",
    "    def forward(self, x):\n",
    "        x = self.pool(self.act(self.conv1(x)))\n",
    "        x = self.pool(self.act(self.conv2(x)))\n",
    "        x = x.view(-1, 16 * 5 * 5)\n",
    "        x = F.relu(self.fc1(x))\n",
    "        x = F.relu(self.fc2(x))\n",
    "        x = self.fc3(x)\n",
    "        return x\n",
    "\n",
    "cifar_CNN = CNN()"
   ]
  },
  {
   "cell_type": "markdown",
   "metadata": {},
   "source": [
    "`__init__()` defines the layers.  `forward()` defines the *forward pass* that transform the input to the output.\n",
    "In the `forward` function we see that the convolution operations are always \n",
    "followed by the usual ReLU activation function, and a pooling operation.\n",
    "The pooling operation used is max pooling, so each pooling operation\n",
    "**reduces the width and height of the neurons in the layer by half**.\n",
    "\n",
    "\n",
    "\n",
    "Because we are not adding any zero padding, we end up with `16 * 5 * 5` hidden units\n",
    "after the second convolutional layer (`16` matches the output channel number of `conv2`, `5 * 5` is based on the input dimension `32x32`, see below). These units are then passed to two fully-connected\n",
    "layers, with the usual ReLU activation in between.\n",
    "\n",
    "Notice that the number of channels **grew** in later convolutional layers! However,\n",
    "the number of hidden units in each layer is still reduced because of the convolution and pooling operation:\n",
    "\n",
    "* Initial Image Size: $3 \\times 32 \\times 32 $\n",
    "* After `conv1`: $6 \\times 28 \\times 28$ ($32 \\times 32$ is reduced by `2` on each side)\n",
    "* After Pooling: $6 \\times 14 \\times 14 $ (image size halved)\n",
    "* After `conv2`: $16 \\times 10 \\times 10$ ($14 \\times 14$ is reduced by `2` on each side)\n",
    "* After Pooling: $16 \\times 5 \\times 5 $ (halved)\n",
    "* After `fc1`: $120$\n",
    "* After `fc2`: $84$\n",
    "* After `fc3`: $10$ (**= number of classes**)\n",
    "\n",
    "This pattern of **doubling the number of channels with every pooling / strided convolution**\n",
    "is common in modern convolutional architectures. It is used to avoid loss of too much information within\n",
    "a single reduction in resolution."
   ]
  },
  {
   "cell_type": "markdown",
   "metadata": {},
   "source": [
    "### Question 10\n",
    "\n",
    "Adapt your code from before to use the cifar dataloaders to train the `cifar_CNN` model. Use the corresponding test set to calculate the accuracy of the model. You might find that your accuracy only reaches around 50% but see how well you can improve this. "
   ]
  },
  {
   "cell_type": "markdown",
   "metadata": {},
   "source": [
    "\n",
    "## Additional ideas to explore\n",
    "\n",
    "* Change the [loss function](https://pytorch.org/docs/stable/nn.html#loss-functions) to different choices and compare the results.\n",
    "* Train the network for more passes (epochs) and/or other training settings (e.g., other patch sizes) to study performance variations.\n",
    "* Practice change the CNN architecture (pay attention to the size matching between different layers).\n",
    "* Try on GPU if you have one by following the end of the [the CIFAR10 Pytorch tutorial](https://pytorch.org/tutorials/beginner/blitz/cifar10_tutorial.html#sphx-glr-beginner-blitz-cifar10-tutorial-py).\n",
    "* Try out the AlexNet `torchvision.models.alexnet` and other architectures from `torchvision.models` for image classification\n",
    "* Try out other pytorch computer vision datasets `torchvision.datasets` for image classification. "
   ]
  }
 ],
 "metadata": {
  "kernelspec": {
   "display_name": "neuralODEs",
   "language": "python",
   "name": "python3"
  },
  "language_info": {
   "codemirror_mode": {
    "name": "ipython",
    "version": 3
   },
   "file_extension": ".py",
   "mimetype": "text/x-python",
   "name": "python",
   "nbconvert_exporter": "python",
   "pygments_lexer": "ipython3",
   "version": "3.11.3"
  }
 },
 "nbformat": 4,
 "nbformat_minor": 2
}
